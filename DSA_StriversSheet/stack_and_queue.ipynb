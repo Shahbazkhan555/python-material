{
 "cells": [
  {
   "cell_type": "markdown",
   "id": "cdddcb2f",
   "metadata": {},
   "source": [
    "# 1. Implement a Stack using Array\n",
    "- Note: Stack is a data structure that follows the Last In First Out (LIFO) rule."
   ]
  },
  {
   "cell_type": "markdown",
   "id": "10794881",
   "metadata": {},
   "source": [
    "- push(): Insert the element in the stack.\n",
    "\n",
    "- pop(): Remove and return the topmost element of the stack.\n",
    "\n",
    "- top(): Return the topmost element of the stack\n",
    "\n",
    "- size(): Return the number of remaining elements in the stack."
   ]
  },
  {
   "cell_type": "code",
   "execution_count": 50,
   "id": "f02a82e2",
   "metadata": {},
   "outputs": [],
   "source": [
    "# solution and explaination from take U forward website\n",
    "# time - O(n), space - O(n)\n",
    "\n",
    "\n",
    "class Stack:\n",
    "    \n",
    "    def __init__(self, capacity: int):\n",
    "        # Write your code here.\n",
    "        self.size = capacity\n",
    "        self.arr = [0] * self.size\n",
    "        self.top = -1\n",
    "\n",
    "    def push(self, num: int) -> None:\n",
    "        # Write your code here.\n",
    "        self.top += 1\n",
    "        self.arr[self.top] = num\n",
    "\n",
    "    def pop(self) -> int:\n",
    "        # Write your code here.\n",
    "        data = self.arr[self.top]\n",
    "        self.top -= 1\n",
    "        return data\n",
    "    \n",
    "    def Top(self) -> int:\n",
    "        # Write your code here.\n",
    "        return self.arr[self.top]\n",
    "    \n",
    "    def isEmpty(self) -> int:\n",
    "        # Write your code here.\n",
    "        return self.top == -1\n",
    "    \n",
    "    def isFull(self) -> int:\n",
    "        # Write your code here.\n",
    "        return self.top == self.size\n",
    "    \n",
    "    def Size(self):\n",
    "        return self.top + 1"
   ]
  },
  {
   "cell_type": "code",
   "execution_count": 51,
   "id": "abceda5e",
   "metadata": {},
   "outputs": [],
   "source": [
    "s = Stack(100)"
   ]
  },
  {
   "cell_type": "code",
   "execution_count": 52,
   "id": "82211b78",
   "metadata": {},
   "outputs": [],
   "source": [
    "s.push(1)"
   ]
  },
  {
   "cell_type": "code",
   "execution_count": 53,
   "id": "95ef5e20",
   "metadata": {},
   "outputs": [],
   "source": [
    "s.push(8)"
   ]
  },
  {
   "cell_type": "code",
   "execution_count": 54,
   "id": "3934e255",
   "metadata": {},
   "outputs": [],
   "source": [
    "s.push(4)"
   ]
  },
  {
   "cell_type": "code",
   "execution_count": 49,
   "id": "921cae24",
   "metadata": {},
   "outputs": [
    {
     "data": {
      "text/plain": [
       "4"
      ]
     },
     "execution_count": 49,
     "metadata": {},
     "output_type": "execute_result"
    }
   ],
   "source": [
    "s.pop()"
   ]
  },
  {
   "cell_type": "code",
   "execution_count": 55,
   "id": "2d8a9c39",
   "metadata": {},
   "outputs": [
    {
     "data": {
      "text/plain": [
       "4"
      ]
     },
     "execution_count": 55,
     "metadata": {},
     "output_type": "execute_result"
    }
   ],
   "source": [
    "s.Top()"
   ]
  },
  {
   "cell_type": "code",
   "execution_count": 57,
   "id": "ee3dec30",
   "metadata": {},
   "outputs": [
    {
     "data": {
      "text/plain": [
       "3"
      ]
     },
     "execution_count": 57,
     "metadata": {},
     "output_type": "execute_result"
    }
   ],
   "source": [
    "s.Size()"
   ]
  },
  {
   "cell_type": "code",
   "execution_count": 58,
   "id": "764ff2c5",
   "metadata": {},
   "outputs": [
    {
     "data": {
      "text/plain": [
       "4"
      ]
     },
     "execution_count": 58,
     "metadata": {},
     "output_type": "execute_result"
    }
   ],
   "source": [
    "s.pop()"
   ]
  },
  {
   "cell_type": "code",
   "execution_count": 59,
   "id": "deaaaa93",
   "metadata": {},
   "outputs": [
    {
     "data": {
      "text/plain": [
       "8"
      ]
     },
     "execution_count": 59,
     "metadata": {},
     "output_type": "execute_result"
    }
   ],
   "source": [
    "s.pop()"
   ]
  },
  {
   "cell_type": "code",
   "execution_count": 60,
   "id": "cc202261",
   "metadata": {},
   "outputs": [
    {
     "data": {
      "text/plain": [
       "1"
      ]
     },
     "execution_count": 60,
     "metadata": {},
     "output_type": "execute_result"
    }
   ],
   "source": [
    "s.pop()"
   ]
  },
  {
   "cell_type": "code",
   "execution_count": 61,
   "id": "6fb636e0",
   "metadata": {},
   "outputs": [
    {
     "data": {
      "text/plain": [
       "True"
      ]
     },
     "execution_count": 61,
     "metadata": {},
     "output_type": "execute_result"
    }
   ],
   "source": [
    "s.isEmpty()"
   ]
  },
  {
   "cell_type": "markdown",
   "id": "902236d8",
   "metadata": {},
   "source": [
    "# 2. Implement Queue using Array"
   ]
  },
  {
   "cell_type": "code",
   "execution_count": 62,
   "id": "74a91885",
   "metadata": {},
   "outputs": [],
   "source": [
    "# solution and explaination from take U forward website\n",
    "# Time Complexity:\n",
    "# pop function: O(1)\n",
    "# push function: O(1)\n",
    "# top function: O(1)\n",
    "# size function: O(1)\n",
    "# Space Complexity:\n",
    "# Whole Queue: O(n)\n",
    "# have to take care of many edge cases that i didn't done\n",
    "\n",
    "\n",
    "class Queue:\n",
    "    \n",
    "    def __init__(self, capacity: int):\n",
    "        # Write your code here.\n",
    "        self.size = capacity\n",
    "        self.arr = [0] * self.size\n",
    "        self.end = -1\n",
    "        self.start = 0\n",
    "        \n",
    "\n",
    "    def push(self, num: int) -> None:\n",
    "        # Write your code here.\n",
    "        self.end += 1\n",
    "        self.arr[self.end] = num\n",
    "\n",
    "    def pop(self) -> int:\n",
    "        # Write your code here.\n",
    "        data = self.arr[self.start]\n",
    "        self.start += 1\n",
    "        return data\n",
    "    \n",
    "    def Top(self) -> int:\n",
    "        # Write your code here.\n",
    "        return self.arr[self.start]\n",
    "    \n",
    "    def Size(self):\n",
    "        return (self.end - self.start) + 1"
   ]
  },
  {
   "cell_type": "code",
   "execution_count": 64,
   "id": "60d30996",
   "metadata": {},
   "outputs": [],
   "source": [
    "q = Queue(10)"
   ]
  },
  {
   "cell_type": "code",
   "execution_count": 65,
   "id": "62872a41",
   "metadata": {},
   "outputs": [],
   "source": [
    "q.push(1)"
   ]
  },
  {
   "cell_type": "code",
   "execution_count": 66,
   "id": "07943486",
   "metadata": {},
   "outputs": [],
   "source": [
    "q.push(6)"
   ]
  },
  {
   "cell_type": "code",
   "execution_count": 67,
   "id": "e6391cd8",
   "metadata": {},
   "outputs": [],
   "source": [
    "q.push(9)"
   ]
  },
  {
   "cell_type": "code",
   "execution_count": 68,
   "id": "7167b27d",
   "metadata": {},
   "outputs": [
    {
     "data": {
      "text/plain": [
       "1"
      ]
     },
     "execution_count": 68,
     "metadata": {},
     "output_type": "execute_result"
    }
   ],
   "source": [
    "q.pop()"
   ]
  },
  {
   "cell_type": "code",
   "execution_count": 69,
   "id": "33470653",
   "metadata": {},
   "outputs": [
    {
     "data": {
      "text/plain": [
       "2"
      ]
     },
     "execution_count": 69,
     "metadata": {},
     "output_type": "execute_result"
    }
   ],
   "source": [
    "q.Size()"
   ]
  },
  {
   "cell_type": "code",
   "execution_count": 71,
   "id": "da49ce77",
   "metadata": {},
   "outputs": [
    {
     "data": {
      "text/plain": [
       "6"
      ]
     },
     "execution_count": 71,
     "metadata": {},
     "output_type": "execute_result"
    }
   ],
   "source": [
    "q.Top()"
   ]
  },
  {
   "cell_type": "markdown",
   "id": "719bdc7d",
   "metadata": {},
   "source": [
    "# 3. Implement Stack using Queue\n",
    "- Leetcode(easy) - 225\n",
    "\n",
    "Implement a last-in-first-out (LIFO) stack using only two queues. The implemented stack should support all the functions of a normal stack (push, top, pop, and empty).\n",
    "\n",
    "Implement the MyStack class:\n",
    "\n",
    "- void push(int x) Pushes element x to the top of the stack.\n",
    "- int pop() Removes the element on the top of the stack and returns it.\n",
    "- int top() Returns the element on the top of the stack.\n",
    "- boolean empty() Returns true if the stack is empty, false otherwise.\n",
    "\n",
    "Notes:\n",
    "\n",
    "- You must use only standard operations of a queue, which means that only push to back, peek/pop from front, size and is empty operations are valid.\n",
    "- Depending on your language, the queue may not be supported natively. You may simulate a queue using a list or deque (double-ended queue) as long as you use only a queue's standard operations."
   ]
  },
  {
   "cell_type": "markdown",
   "id": "6f3b0c17",
   "metadata": {},
   "source": [
    "- Input\n",
    "[\"MyStack\", \"push\", \"push\", \"top\", \"pop\", \"empty\"]\n",
    "[[], [1], [2], [], [], []]\n",
    "- Output\n",
    "[null, null, null, 2, 2, false]\n",
    "\n",
    "- Explanation\n",
    "\n",
    "MyStack myStack = new MyStack();\n",
    "\n",
    "myStack.push(1);\n",
    "\n",
    "myStack.push(2);\n",
    "\n",
    "myStack.top(); // return 2\n",
    "\n",
    "myStack.pop(); // return 2\n",
    "\n",
    "myStack.empty(); // return False"
   ]
  },
  {
   "cell_type": "code",
   "execution_count": 11,
   "id": "df735592",
   "metadata": {},
   "outputs": [],
   "source": [
    "# solution from Neetcode\n",
    "# using one queue\n",
    "\n",
    "\n",
    "from collections import deque\n",
    "class MyStack:\n",
    "\n",
    "    def __init__(self):\n",
    "        self.q1 = deque()\n",
    "\n",
    "    def push(self, x: int) -> None:\n",
    "        self.q1.append(x)\n",
    "\n",
    "    def pop(self) -> int:\n",
    "        for i in range(len(self.q1)-1):\n",
    "            self.push(self.q1.popleft())\n",
    "        return self.q1.popleft()\n",
    "        \n",
    "    def top(self) -> int:\n",
    "        if self.q1:\n",
    "            return self.q1[-1]\n",
    "        return None\n",
    "        \n",
    "    def empty(self) -> bool:\n",
    "        return len(self.q1) == 0 "
   ]
  },
  {
   "cell_type": "code",
   "execution_count": 4,
   "id": "6afbe0cc",
   "metadata": {},
   "outputs": [],
   "source": [
    "# answer from geeksforgeeks\n",
    "# using two queues\n",
    "\n",
    "\n",
    "from collections import deque\n",
    "class MyStack:\n",
    "\n",
    "    def __init__(self):\n",
    "        self.q1 = deque()\n",
    "        self.q2 = deque()\n",
    "\n",
    "    def push(self, x: int) -> None:\n",
    "\n",
    "        self.q2.append(x)\n",
    "        \n",
    "        while self.q1:\n",
    "            self.q2.append(self.q1.popleft())\n",
    "\n",
    "        self.q1, self.q2 = self.q2, self.q1\n",
    "\n",
    "    def pop(self) -> int:\n",
    "\n",
    "        if self.q1:\n",
    "            return self.q1.popleft()\n",
    "        \n",
    "    def top(self) -> int:\n",
    "        if self.q1:\n",
    "            return self.q1[0]\n",
    "        return None\n",
    "        \n",
    "    def empty(self) -> bool:\n",
    "        return len(self.q1) == 0 \n",
    "        "
   ]
  },
  {
   "cell_type": "code",
   "execution_count": 5,
   "id": "f1fb2c25",
   "metadata": {},
   "outputs": [],
   "source": [
    "s = MyStack()"
   ]
  },
  {
   "cell_type": "code",
   "execution_count": 6,
   "id": "8bd0aac1",
   "metadata": {},
   "outputs": [],
   "source": [
    "s.push(3)"
   ]
  },
  {
   "cell_type": "code",
   "execution_count": 7,
   "id": "e01a566e",
   "metadata": {},
   "outputs": [],
   "source": [
    "s.push(5)"
   ]
  },
  {
   "cell_type": "code",
   "execution_count": 8,
   "id": "30a71b12",
   "metadata": {},
   "outputs": [
    {
     "data": {
      "text/plain": [
       "5"
      ]
     },
     "execution_count": 8,
     "metadata": {},
     "output_type": "execute_result"
    }
   ],
   "source": [
    "s.pop()"
   ]
  },
  {
   "cell_type": "code",
   "execution_count": 9,
   "id": "b3bc0316",
   "metadata": {},
   "outputs": [
    {
     "data": {
      "text/plain": [
       "3"
      ]
     },
     "execution_count": 9,
     "metadata": {},
     "output_type": "execute_result"
    }
   ],
   "source": [
    "s.top()"
   ]
  },
  {
   "cell_type": "code",
   "execution_count": 10,
   "id": "64521c71",
   "metadata": {},
   "outputs": [
    {
     "data": {
      "text/plain": [
       "False"
      ]
     },
     "execution_count": 10,
     "metadata": {},
     "output_type": "execute_result"
    }
   ],
   "source": [
    "s.empty()"
   ]
  },
  {
   "cell_type": "markdown",
   "id": "abea359c",
   "metadata": {},
   "source": [
    "# 4. Implement Queue using stack\n",
    "- Leetcode(easy) - 232\n",
    "\n",
    "Implement a first in first out (FIFO) queue using only two stacks. The implemented queue should support all the functions of a normal queue (push, peek, pop, and empty).\n",
    "\n",
    "Implement the MyQueue class:\n",
    "\n",
    "- void push(int x) Pushes element x to the back of the queue.\n",
    "- int pop() Removes the element from the front of the queue and returns it.\n",
    "- int peek() Returns the element at the front of the queue.\n",
    "- boolean empty() Returns true if the queue is empty, false otherwise.\n",
    "\n",
    "  Notes:\n",
    "\n",
    "- You must use only standard operations of a stack, which means only push to top, peek/pop from top, size, and is empty operations are valid.\n",
    "- Depending on your language, the stack may not be supported natively. You may simulate a stack using a list or deque (double-ended queue) as long as you use only a stack's standard operations.\n",
    " "
   ]
  },
  {
   "cell_type": "markdown",
   "id": "5a78d9cc",
   "metadata": {},
   "source": [
    "- Input\n",
    "[\"MyQueue\", \"push\", \"push\", \"peek\", \"pop\", \"empty\"]\n",
    "[[], [1], [2], [], [], []]\n",
    "- Output\n",
    "[null, null, null, 1, 1, false]\n",
    "\n",
    "    Explanation\n",
    "\n",
    "MyQueue myQueue = new MyQueue();\n",
    "\n",
    "myQueue.push(1); // queue is: [1]\n",
    "\n",
    "myQueue.push(2); // queue is: [1, 2] (leftmost is front of the queue)\n",
    "\n",
    "myQueue.peek(); // return 1\n",
    "\n",
    "myQueue.pop(); // return 1, queue is [2]\n",
    "\n",
    "myQueue.empty(); // return false"
   ]
  },
  {
   "cell_type": "code",
   "execution_count": null,
   "id": "c02e7109",
   "metadata": {},
   "outputs": [],
   "source": [
    "# solution from gfg\n",
    "# queue using two stacks\n",
    "\n",
    "class MyQueue:\n",
    "\n",
    "    def __init__(self):\n",
    "        self.s1 = []\n",
    "        self.s2 = []\n",
    "\n",
    "    def push(self, x: int) -> None:\n",
    "        while self.s1:\n",
    "            self.s2.append(self.s1[-1])\n",
    "            self.s1.pop()\n",
    "\n",
    "        self.s1.append(x)\n",
    "\n",
    "        while self.s2:\n",
    "            self.s1.append(self.s2[-1])\n",
    "            self.s2.pop()\n",
    "        \n",
    "\n",
    "    def pop(self) -> int:\n",
    "        data = self.s1[-1]\n",
    "        self.s1.pop()\n",
    "        return data\n",
    "\n",
    "    def peek(self) -> int:\n",
    "        return self.s1[-1]\n",
    "\n",
    "    def empty(self) -> bool:\n",
    "        return len(self.s1) == 0\n",
    "        "
   ]
  },
  {
   "cell_type": "code",
   "execution_count": null,
   "id": "995887d1",
   "metadata": {},
   "outputs": [],
   "source": []
  },
  {
   "cell_type": "code",
   "execution_count": null,
   "id": "33eb82df",
   "metadata": {},
   "outputs": [],
   "source": []
  },
  {
   "cell_type": "markdown",
   "id": "644d6b9c",
   "metadata": {},
   "source": [
    "# 5. Valid Parantheses\n",
    "- Leetcode(easy) - 20\n",
    "\n",
    "Given a string s containing just the characters '(', ')', '{', '}', '[' and ']', determine if the input string is valid.\n",
    "\n",
    "An input string is valid if:\n",
    "\n",
    "Open brackets must be closed by the same type of brackets.\n",
    "Open brackets must be closed in the correct order.\n",
    "Every close bracket has a corresponding open bracket of the same type.\n",
    "\n",
    "- Input: s = \"()\"\n",
    "- Output: true"
   ]
  },
  {
   "cell_type": "code",
   "execution_count": null,
   "id": "30582b4b",
   "metadata": {},
   "outputs": [],
   "source": [
    "# solution from NeetCode\n",
    "# time - O(n), space - O(n)\n",
    "\n",
    "\n",
    "class Solution:\n",
    "    def isValid(self, s: str) -> bool:\n",
    "\n",
    "        stack = []\n",
    "        dic = {\"}\":\"{\", \")\":\"(\", \"]\":\"[\" }\n",
    "\n",
    "        for c in s:\n",
    "\n",
    "            if c in dic:\n",
    "\n",
    "                if stack and stack[-1] == dic[c]:\n",
    "                    stack.pop()\n",
    "                else:\n",
    "                    return False\n",
    "            \n",
    "            else:\n",
    "                stack.append(c)\n",
    "\n",
    "        return True if not stack else False\n"
   ]
  },
  {
   "cell_type": "code",
   "execution_count": null,
   "id": "c87bc000",
   "metadata": {},
   "outputs": [],
   "source": []
  },
  {
   "cell_type": "markdown",
   "id": "8052d66d",
   "metadata": {},
   "source": [
    "# 6. Sort a stack\n",
    "- CodeStudio "
   ]
  },
  {
   "cell_type": "code",
   "execution_count": 12,
   "id": "62305f85",
   "metadata": {},
   "outputs": [
    {
     "name": "stdout",
     "output_type": "stream",
     "text": [
      "Sorted numbers are: \n",
      "3 23 31 34 92 98 \n"
     ]
    }
   ],
   "source": [
    "# solution from Gfg\n",
    "# using temp stack to sort\n",
    "\n",
    "\n",
    "\n",
    "# This function return the sorted stack\n",
    "def sortStack ( stack ):\n",
    "    tmpStack = createStack()\n",
    "    while(isEmpty(stack) == False):\n",
    "         \n",
    "        # pop out the first element\n",
    "        tmp = top(stack)\n",
    "        pop(stack)\n",
    " \n",
    "        # while temporary stack is not\n",
    "        # empty and top of stack is\n",
    "        # lesser than temp\n",
    "        while(isEmpty(tmpStack) == False and\n",
    "             int(top(tmpStack)) < int(tmp)):\n",
    "             \n",
    "            # pop from temporary stack and\n",
    "            # push it to the input stack\n",
    "            push(stack,top(tmpStack))\n",
    "            pop(tmpStack)\n",
    " \n",
    "        # push temp in temporary of stack\n",
    "        push(tmpStack,tmp)\n",
    "     \n",
    "    return tmpStack\n",
    " \n",
    "# Below is a complete running\n",
    "# program for testing above\n",
    "# function.\n",
    " \n",
    "# Function to create a stack.\n",
    "# It initializes size of stack\n",
    "# as 0\n",
    "def createStack():\n",
    "    stack = []\n",
    "    return stack\n",
    " \n",
    "# Function to check if\n",
    "# the stack is empty\n",
    "def isEmpty( stack ):\n",
    "    return len(stack) == 0\n",
    " \n",
    "# Function to push an\n",
    "# item to stack\n",
    "def push( stack, item ):\n",
    "    stack.append( item )\n",
    " \n",
    "# Function to get top\n",
    "# item of stack\n",
    "def top( stack ):\n",
    "    p = len(stack)\n",
    "    return stack[p-1]\n",
    " \n",
    "# Function to pop an\n",
    "# item from stack\n",
    "def pop( stack ):\n",
    " \n",
    "    # If stack is empty\n",
    "    # then error\n",
    "    if(isEmpty( stack )):\n",
    "        print(\"Stack Underflow \")\n",
    "        exit(1)\n",
    " \n",
    "    return stack.pop()\n",
    " \n",
    "# Function to print the stack\n",
    "def prints(stack):\n",
    "    for i in range(len(stack)-1, -1, -1):\n",
    "        print(stack[i], end = ' ')\n",
    "    print()\n",
    " \n",
    "# Driver Code\n",
    "stack = createStack()\n",
    "push( stack, str(34) )\n",
    "push( stack, str(3) )\n",
    "push( stack, str(31) )\n",
    "push( stack, str(98) )\n",
    "push( stack, str(92) )\n",
    "push( stack, str(23) )\n",
    " \n",
    "print(\"Sorted numbers are: \")\n",
    "sortedst = sortStack ( stack )\n",
    "prints(sortedst)"
   ]
  },
  {
   "cell_type": "code",
   "execution_count": 17,
   "id": "557fa129",
   "metadata": {},
   "outputs": [
    {
     "name": "stdout",
     "output_type": "stream",
     "text": [
      "0 1\n",
      "1 2\n",
      "2 6\n",
      "3 7\n",
      "4 3\n"
     ]
    }
   ],
   "source": [
    "a = [1,2,6,7,3]\n",
    "for i , n in enumerate(a):\n",
    "    print(i,n)"
   ]
  },
  {
   "cell_type": "markdown",
   "id": "426ac649",
   "metadata": {},
   "source": [
    "# 7. Next greater elment\n",
    "- Leetcodel(easy) - 496\n",
    "\n",
    "The next greater element of some element x in an array is the first greater element that is to the right of x in the same array.\n",
    "\n",
    "You are given two distinct 0-indexed integer arrays nums1 and nums2, where nums1 is a subset of nums2.\n",
    "\n",
    "For each 0 <= i < nums1.length, find the index j such that nums1[i] == nums2[j] and determine the next greater element of nums2[j] in nums2. If there is no next greater element, then the answer for this query is -1.\n",
    "\n",
    "Return an array ans of length nums1.length such that ans[i] is the next greater element as described above.\n",
    "\n",
    "- Input: nums1 = [4,1,2], nums2 = [1,3,4,2]\n",
    "- Output: [-1,3,-1]\n",
    "- Explanation: The next greater element for each value of nums1 is as follows:\n",
    "\n",
    "  4 is underlined in nums2 = [1,3,4,2]. There is no next greater element, so the answer is -1.\n",
    "  \n",
    "  1 is underlined in nums2 = [1,3,4,2]. The next greater element is 3.\n",
    "  \n",
    "  2 is underlined in nums2 = [1,3,4,2]. There is no next greater element, so the answer is -1."
   ]
  },
  {
   "cell_type": "code",
   "execution_count": null,
   "id": "232aaf0d",
   "metadata": {},
   "outputs": [],
   "source": [
    "# solution from Neetcode\n",
    "# runtime - O(n)\n",
    "\n",
    "\n",
    "def nextGreaterElement(self, nums1: List[int], nums2: List[int]) -> List[int]:\n",
    "\n",
    "    dic = { n:i for i, n in enumerate(nums1) }\n",
    "    res = [-1] * len(nums1)\n",
    "\n",
    "    stack = []\n",
    "\n",
    "    for i in range(len(nums2)):\n",
    "\n",
    "        while stack and nums2[i] > stack[-1]:\n",
    "            val = stack.pop()\n",
    "            idx = dic[val]\n",
    "            res[idx] = nums2[i]\n",
    "\n",
    "        if nums2[i] in dic:\n",
    "            stack.append(nums2[i])\n",
    "\n",
    "    return res"
   ]
  },
  {
   "cell_type": "code",
   "execution_count": null,
   "id": "6e0f0630",
   "metadata": {},
   "outputs": [],
   "source": []
  },
  {
   "cell_type": "code",
   "execution_count": 25,
   "id": "63f4abe6",
   "metadata": {},
   "outputs": [],
   "source": [
    "# solution from NeetCode\n",
    "# runtime - O(n^2)\n",
    "\n",
    "\n",
    "def nextGreaterElement(nums1,nums2):\n",
    "\n",
    "    dic = { n:i for i, n in enumerate(nums1) }\n",
    "    res = [-1] * len(nums1)\n",
    "\n",
    "    for i in range(len(nums2)):\n",
    "        if nums2[i] not in dic:\n",
    "            continue\n",
    "\n",
    "        for j in range(i + 1, len(nums2)):\n",
    "            if nums2[j] > nums2[i]:\n",
    "                idx = dic[nums2[i]]\n",
    "                res[idx] = nums2[j]\n",
    "                break\n",
    "\n",
    "    return res\n"
   ]
  },
  {
   "cell_type": "code",
   "execution_count": 26,
   "id": "3527d38e",
   "metadata": {},
   "outputs": [
    {
     "data": {
      "text/plain": [
       "[-1, 3, -1]"
      ]
     },
     "execution_count": 26,
     "metadata": {},
     "output_type": "execute_result"
    }
   ],
   "source": [
    "nums1 = [4,1,2]\n",
    "nums2 = [1,3,4,2]\n",
    "nextGreaterElement(nums1,nums2)"
   ]
  },
  {
   "cell_type": "markdown",
   "id": "04c5b61c",
   "metadata": {},
   "source": [
    "# 8. Next greater element 2\n",
    "- Leetcode(medium) - 503\n",
    "\n",
    "Given a circular integer array nums (i.e., the next element of nums[nums.length - 1] is nums[0]), return the next greater number for every element in nums.\n",
    "\n",
    "The next greater number of a number x is the first greater number to its traversing-order next in the array, which means you could search circularly to find its next greater number. If it doesn't exist, return -1 for this number.\n",
    "\n",
    "- Input: nums = [1,2,1]\n",
    "- Output: [2,-1,2]\n",
    "- Explanation: The first 1's next greater number is 2; \n",
    "\n",
    "The number 2 can't find next greater number. \n",
    "\n",
    "The second 1's next greater number needs to search circularly, which is also 2."
   ]
  },
  {
   "cell_type": "code",
   "execution_count": 2,
   "id": "9da20033",
   "metadata": {},
   "outputs": [],
   "source": [
    "# solution from take U forward website and explaind by take U forward \n",
    "# time - O(2n), space - O(n)\n",
    "\n",
    "\n",
    "def nextGreaterElements(nums):\n",
    "\n",
    "    n = len(nums)\n",
    "    nge = [-1] * n\n",
    "    stack = []\n",
    "\n",
    "    for i in range(2*n-1, -1, -1):\n",
    "\n",
    "        while stack and stack[-1] <= nums[i%n]:\n",
    "            stack.pop()\n",
    "\n",
    "        if i < n:\n",
    "            if stack:\n",
    "                nge[i] = stack[-1]\n",
    "        stack.append(nums[i%n])\n",
    "\n",
    "    return nge"
   ]
  },
  {
   "cell_type": "code",
   "execution_count": 4,
   "id": "4282fd3a",
   "metadata": {},
   "outputs": [
    {
     "data": {
      "text/plain": [
       "[2, -1, 2]"
      ]
     },
     "execution_count": 4,
     "metadata": {},
     "output_type": "execute_result"
    }
   ],
   "source": [
    "nums = [1,2,1]\n",
    "nextGreaterElements(nums)"
   ]
  },
  {
   "cell_type": "markdown",
   "id": "8f9d2bc5",
   "metadata": {},
   "source": [
    "# 9. LRU Cache\n",
    "- Leetcode(medium) - 146\n",
    "\n",
    "Design a data structure that follows the constraints of a Least Recently Used (LRU) cache.\n",
    "\n",
    "Implement the LRUCache class:\n",
    "\n",
    "- LRUCache(int capacity) Initialize the LRU cache with positive size capacity.\n",
    "- int get(int key) Return the value of the key if the key exists, otherwise return -1.\n",
    "- void put(int key, int value) Update the value of the key if the key exists. Otherwise, add the key-value pair to the cache. If the number of keys exceeds the capacity from this operation, evict the least recently used key.\n",
    "\n",
    "The functions get and put must each run in O(1) average time complexity.\n",
    "\n",
    "- Input\n",
    "\n",
    "[\"LRUCache\", \"put\", \"put\", \"get\", \"put\", \"get\", \"put\", \"get\", \"get\", \"get\"]\n",
    "[[2], [1, 1], [2, 2], [1], [3, 3], [2], [4, 4], [1], [3], [4]]\n",
    "- Output\n",
    "\n",
    "[null, null, null, 1, null, -1, null, -1, 3, 4]\n",
    "\n",
    "- Explanation\n",
    "\n",
    "LRUCache lRUCache = new LRUCache(2);\n",
    "\n",
    "lRUCache.put(1, 1); // cache is {1=1}\n",
    "\n",
    "lRUCache.put(2, 2); // cache is {1=1, 2=2}\n",
    "\n",
    "lRUCache.get(1);    // return 1\n",
    "\n",
    "lRUCache.put(3, 3); // LRU key was 2, evicts key 2, cache is {1=1, 3=3}\n",
    "\n",
    "lRUCache.get(2);    // returns -1 (not found)\n",
    "\n",
    "lRUCache.put(4, 4); // LRU key was 1, evicts key 1, cache is {4=4, 3=3}\n",
    "\n",
    "lRUCache.get(1);    // return -1 (not found)\n",
    "\n",
    "lRUCache.get(3);    // return 3\n",
    "\n",
    "lRUCache.get(4);    // return 4\n",
    "\n"
   ]
  },
  {
   "cell_type": "code",
   "execution_count": null,
   "id": "118ba095",
   "metadata": {},
   "outputs": [],
   "source": [
    "# explain from take U forward\n",
    "# java solution from take U forward converted to python by chatgpt\n",
    "\n",
    "class LRUCache:\n",
    "    def __init__(self, capacity):\n",
    "        self.head = self.Node(0, 0)\n",
    "        self.tail = self.Node(0, 0)\n",
    "        self.map = {}\n",
    "        self.capacity = capacity\n",
    "        self.head.next = self.tail\n",
    "        self.tail.prev = self.head\n",
    "\n",
    "    def get(self, key):\n",
    "        if key in self.map:\n",
    "            node = self.map[key]\n",
    "            self.remove(node)\n",
    "            self.insert(node)\n",
    "            return node.value\n",
    "        else:\n",
    "            return -1\n",
    "\n",
    "    def put(self, key, value):\n",
    "        if key in self.map:\n",
    "            self.remove(self.map[key])\n",
    "        if len(self.map) == self.capacity:\n",
    "            self.remove(self.tail.prev)\n",
    "        self.insert(self.Node(key, value))\n",
    "\n",
    "    def remove(self, node):\n",
    "        del self.map[node.key]\n",
    "        node.prev.next = node.next\n",
    "        node.next.prev = node.prev\n",
    "\n",
    "    def insert(self, node):\n",
    "        self.map[node.key] = node\n",
    "        node.next = self.head.next\n",
    "        node.next.prev = node\n",
    "        self.head.next = node\n",
    "        node.prev = self.head\n",
    "\n",
    "    class Node:\n",
    "        def __init__(self, key, value):\n",
    "            self.prev = None\n",
    "            self.next = None\n",
    "            self.key = key\n",
    "            self.value = value"
   ]
  },
  {
   "cell_type": "code",
   "execution_count": null,
   "id": "7be59b38",
   "metadata": {},
   "outputs": [],
   "source": []
  },
  {
   "cell_type": "markdown",
   "id": "b9458f35",
   "metadata": {},
   "source": [
    "# 10. largest Rectangle in histogram\n",
    "- Leetcode(hard) - 84\n",
    "\n",
    "Given an array of integers heights representing the histogram's bar height where the width of each bar is 1, return the area of the largest rectangle in the histogram.\n",
    "\n",
    "- Input: heights = [2,1,5,6,2,3]\n",
    "- Output: 10\n",
    "- Explanation: The above is a histogram where width of each bar is 1.\n",
    "The largest rectangle is shown in the red area, which has an area = 10 units."
   ]
  },
  {
   "cell_type": "code",
   "execution_count": 5,
   "id": "f4857e94",
   "metadata": {},
   "outputs": [],
   "source": [
    "# solution from Neetcode\n",
    "# time \n",
    "\n",
    "\n",
    "def largestRectangleArea(heights):\n",
    "\n",
    "    stack = [] # pair: index, height\n",
    "    maxArea = 0\n",
    "    \n",
    "    for i, h in enumerate(heights):\n",
    "        # storing i in start because i can be changed if greater height appear\n",
    "        start = i \n",
    "\n",
    "        while stack and stack[-1][1] > h:\n",
    "            index, height = stack.pop()\n",
    "            maxArea = max(maxArea, height * (i - index))\n",
    "            start = index\n",
    "\n",
    "        stack.append((start, h))\n",
    "    \n",
    "    # remaind heights in stacks are popping out and comparing area \n",
    "    for i, h in stack:\n",
    "        maxArea = max(maxArea, h * (len(heights) - i))\n",
    "\n",
    "    return maxArea"
   ]
  },
  {
   "cell_type": "code",
   "execution_count": 6,
   "id": "b44a8c4e",
   "metadata": {},
   "outputs": [
    {
     "data": {
      "text/plain": [
       "10"
      ]
     },
     "execution_count": 6,
     "metadata": {},
     "output_type": "execute_result"
    }
   ],
   "source": [
    "heights = [2,1,5,6,2,3]\n",
    "largestRectangleArea(heights)"
   ]
  },
  {
   "cell_type": "markdown",
   "id": "b8edf1c3",
   "metadata": {},
   "source": [
    "# 11. Sliding Window maximum\n",
    "\n",
    "You are given an array of integers nums, there is a sliding window of size k which is moving from the very left of the array to the very right. You can only see the k numbers in the window. Each time the sliding window moves right by one position.\n",
    "\n",
    "Return the max sliding window.\n",
    "\n",
    "- Input: nums = [1,3,-1,-3,5,3,6,7], k = 3\n",
    "- Output: [3,3,5,5,6,7]"
   ]
  },
  {
   "cell_type": "code",
   "execution_count": 5,
   "id": "f76a799b",
   "metadata": {},
   "outputs": [],
   "source": [
    "# solution from neetcode\n",
    "# time o(n), space o(n)\n",
    "\n",
    "import collections\n",
    "def maxSlidingWindow(nums,k):\n",
    "\n",
    "    output = []\n",
    "    q = collections.deque()  # index\n",
    "    l = r = 0\n",
    "    # O(n) O(n)\n",
    "    while r < len(nums):\n",
    "        # pop smaller values from q\n",
    "        while q and nums[q[-1]] < nums[r]:\n",
    "            q.pop()\n",
    "        q.append(r)\n",
    "\n",
    "        # remove left val from window\n",
    "        if l > q[0]:\n",
    "            q.popleft()\n",
    "\n",
    "        if (r + 1) >= k:\n",
    "            output.append(nums[q[0]])\n",
    "            l += 1\n",
    "        r += 1\n",
    "\n",
    "    return output\n"
   ]
  },
  {
   "cell_type": "code",
   "execution_count": 6,
   "id": "f10305e4",
   "metadata": {},
   "outputs": [
    {
     "data": {
      "text/plain": [
       "[3, 3, 5, 5, 6, 7]"
      ]
     },
     "execution_count": 6,
     "metadata": {},
     "output_type": "execute_result"
    }
   ],
   "source": [
    "nums = [1,3,-1,-3,5,3,6,7]\n",
    "k = 3\n",
    "maxSlidingWindow(nums, k)"
   ]
  },
  {
   "cell_type": "code",
   "execution_count": 7,
   "id": "1b56e27d",
   "metadata": {},
   "outputs": [],
   "source": [
    "# solution from GFG\n",
    "# time - O(n*k) => O(n^2) , space - O(n)\n",
    "\n",
    "\n",
    "def maxSlidingWindow(nums, k):\n",
    "\n",
    "    stack = []\n",
    "    maxNum = 0\n",
    "\n",
    "    # this loop will run till len(nums) - k, because after that we will not get any k size sub array\n",
    "    # eg: n = 10, k=3, n-k=7, after 7+1 there will be no existance of k size array \n",
    "    for i in range(len(nums) - k + 1):\n",
    "        maxNum = nums[i]\n",
    "        \n",
    "        # this loop for each size of k and comparing 1st element with the rest\n",
    "        for j in range(1,k):\n",
    "            if nums[i + j] > maxNum:\n",
    "                maxNum = nums[i + j]\n",
    "\n",
    "        stack.append(maxNum)\n",
    "\n",
    "    return stack"
   ]
  },
  {
   "cell_type": "code",
   "execution_count": 8,
   "id": "ca9a3009",
   "metadata": {},
   "outputs": [
    {
     "data": {
      "text/plain": [
       "[3, 3, 5, 5, 6, 7]"
      ]
     },
     "execution_count": 8,
     "metadata": {},
     "output_type": "execute_result"
    }
   ],
   "source": [
    "nums = [1,3,-1,-3,5,3,6,7]\n",
    "k = 3\n",
    "maxSlidingWindow(nums, k)"
   ]
  },
  {
   "cell_type": "markdown",
   "id": "043a3d5f",
   "metadata": {},
   "source": [
    "# 12. Min Stack\n",
    "- Leetcode(medium) - 155\n",
    "\n",
    "Design a stack that supports push, pop, top, and retrieving the minimum element in constant time.\n",
    "\n",
    "Implement the MinStack class:\n",
    "\n",
    "- MinStack() initializes the stack object.\n",
    "- void push(int val) pushes the element val onto the stack.\n",
    "- void pop() removes the element on the top of the stack.\n",
    "- int top() gets the top element of the stack.\n",
    "- int getMin() retrieves the minimum element in the stack.\n",
    "\n",
    "You must implement a solution with O(1) time complexity for each function."
   ]
  },
  {
   "cell_type": "markdown",
   "id": "ae50830e",
   "metadata": {},
   "source": [
    "- Input\n",
    "\n",
    "[\"MinStack\",\"push\",\"push\",\"push\",\"getMin\",\"pop\",\"top\",\"getMin\"]\n",
    "\n",
    "[[],[-2],[0],[-3],[],[],[],[]]\n",
    "\n",
    "- Output\n",
    "\n",
    "[null,null,null,null,-3,null,0,-2]\n",
    "\n",
    "- Explanation\n",
    "\n",
    "MinStack minStack = new MinStack();\n",
    "\n",
    "minStack.push(-2);\n",
    "\n",
    "minStack.push(0);\n",
    "\n",
    "minStack.push(-3);\n",
    "\n",
    "minStack.getMin(); // return -3\n",
    "\n",
    "minStack.pop();\n",
    "\n",
    "minStack.top();    // return 0\n",
    "\n",
    "minStack.getMin(); // return -2"
   ]
  },
  {
   "cell_type": "code",
   "execution_count": null,
   "id": "071cc3e2",
   "metadata": {},
   "outputs": [],
   "source": [
    "# solution from NeetCode\n",
    "# time - O(n)\n",
    "\n",
    "class MinStack:\n",
    "    def __init__(self):\n",
    "        # storing the val in stack\n",
    "        self.stack = []\n",
    "        # storing min value in mistack\n",
    "        self.minStack = []\n",
    "\n",
    "    # pushing given val in stack \n",
    "    # comparing given val and last val in minstack and taking the min val\n",
    "    # appending the min val to the minstack so that we will have track of min val\n",
    "    def push(self, val: int) -> None:\n",
    "        self.stack.append(val)\n",
    "        val = min(val, self.minStack[-1] if self.minStack else val)\n",
    "        self.minStack.append(val)\n",
    "\n",
    "    def pop(self) -> None:\n",
    "        self.stack.pop()\n",
    "        self.minStack.pop()\n",
    "\n",
    "    def top(self) -> int:\n",
    "        return self.stack[-1]\n",
    "\n",
    "    def getMin(self) -> int:\n",
    "        return self.minStack[-1]\n"
   ]
  },
  {
   "cell_type": "code",
   "execution_count": null,
   "id": "d3f5c8b9",
   "metadata": {},
   "outputs": [],
   "source": []
  },
  {
   "cell_type": "markdown",
   "id": "ab9df7d2",
   "metadata": {},
   "source": [
    "# 13. Online Stock Span\n",
    "- Leetcode(medium) - 901\n",
    "\n",
    "Design an algorithm that collects daily price quotes for some stock and returns the span of that stock's price for the current day.\n",
    "\n",
    "The span of the stock's price in one day is the maximum number of consecutive days (starting from that day and going backward) for which the stock price was less than or equal to the price of that day.\n",
    "\n",
    "- For example, if the prices of the stock in the last four days is [7,2,1,2] and the price of the stock today is 2, then the span of today is 4 because starting from today, the price of the stock was less than or equal 2 for 4 consecutive days.\n",
    "\n",
    "- Also, if the prices of the stock in the last four days is [7,34,1,2] and the price of the stock today is 8, then the span of today is 3 because starting from today, the price of the stock was less than or equal 8 for 3 consecutive days.\n",
    "\n",
    "Implement the StockSpanner class:\n",
    "\n",
    "- StockSpanner() Initializes the object of the class.\n",
    "- int next(int price) Returns the span of the stock's price given that today's price is price.\n",
    "\n",
    "\n"
   ]
  },
  {
   "cell_type": "markdown",
   "id": "48d35202",
   "metadata": {},
   "source": [
    "- Input\n",
    "\n",
    "[\"StockSpanner\", \"next\", \"next\", \"next\", \"next\", \"next\", \"next\", \"next\"]\n",
    "\n",
    "[[], [100], [80], [60], [70], [60], [75], [85]]\n",
    "\n",
    "- Output\n",
    "\n",
    "[null, 1, 1, 1, 2, 1, 4, 6]\n",
    "\n",
    "- Explanation\n",
    "\n",
    "StockSpanner stockSpanner = new StockSpanner();\n",
    "\n",
    "stockSpanner.next(100); // return 1\n",
    "\n",
    "stockSpanner.next(80);  // return 1\n",
    "\n",
    "stockSpanner.next(60);  // return 1\n",
    "\n",
    "stockSpanner.next(70);  // return 2\n",
    "\n",
    "stockSpanner.next(60);  // return 1\n",
    "\n",
    "stockSpanner.next(75);  // return 4, because the last 4 prices (including today's price of 75) were less than or equal to today's price.\n",
    "\n",
    "stockSpanner.next(85);  // return 6"
   ]
  },
  {
   "cell_type": "code",
   "execution_count": null,
   "id": "37aa44c3",
   "metadata": {},
   "outputs": [],
   "source": [
    "# solution from NeetCode\n",
    "\n",
    "\n",
    "class StockSpanner:\n",
    "\n",
    "    def __init__(self):\n",
    "        self.stack = []  # pair: (price, span)\n",
    "\n",
    "    def next(self, price: int) -> int:\n",
    "        span = 1\n",
    "        \n",
    "        while self.stack and self.stack[-1][0] <= price:\n",
    "            span += self.stack[-1][1]\n",
    "            self.stack.pop()\n",
    "            \n",
    "        self.stack.append((price, span))\n",
    "        return span\n"
   ]
  },
  {
   "cell_type": "code",
   "execution_count": null,
   "id": "673f1ed5",
   "metadata": {},
   "outputs": [],
   "source": []
  },
  {
   "cell_type": "markdown",
   "id": "0e41b3c1",
   "metadata": {},
   "source": [
    "# 14. Celebrity Problem\n",
    "- Leetcode(medium) - premium(hided)"
   ]
  },
  {
   "cell_type": "markdown",
   "id": "1f39ad33",
   "metadata": {},
   "source": [
    "#### Refer the campusX DSA folder go to the file Stack you'll get the solution"
   ]
  },
  {
   "cell_type": "code",
   "execution_count": null,
   "id": "50e73d22",
   "metadata": {},
   "outputs": [],
   "source": []
  }
 ],
 "metadata": {
  "kernelspec": {
   "display_name": "Python 3",
   "language": "python",
   "name": "python3"
  },
  "language_info": {
   "codemirror_mode": {
    "name": "ipython",
    "version": 3
   },
   "file_extension": ".py",
   "mimetype": "text/x-python",
   "name": "python",
   "nbconvert_exporter": "python",
   "pygments_lexer": "ipython3",
   "version": "3.8.8"
  }
 },
 "nbformat": 4,
 "nbformat_minor": 5
}
