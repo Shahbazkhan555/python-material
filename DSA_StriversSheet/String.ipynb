{
 "cells": [
  {
   "cell_type": "markdown",
   "id": "1e1484a9",
   "metadata": {},
   "source": [
    "# 1. Reverse words in a string\n",
    "- Leetcode(medium) - 151\n",
    "\n",
    "Given an input string s, reverse the order of the words.\n",
    "\n",
    "A word is defined as a sequence of non-space characters. The words in s will be separated by at least one space.\n",
    "\n",
    "Return a string of the words in reverse order concatenated by a single space.\n",
    "\n",
    "Note that s may contain leading or trailing spaces or multiple spaces between two words. The returned string should only have a single space separating the words. Do not include any extra spaces.\n",
    "\n",
    "- Input: s = \"the sky is blue\"\n",
    "- Output: \"blue is sky the\""
   ]
  },
  {
   "cell_type": "code",
   "execution_count": 1,
   "id": "c43e8e2c",
   "metadata": {},
   "outputs": [],
   "source": [
    "def reverseStr(s):\n",
    "    \n",
    "    return \" \".join(s.split()[::-1])"
   ]
  },
  {
   "cell_type": "code",
   "execution_count": 2,
   "id": "e4cd7096",
   "metadata": {},
   "outputs": [
    {
     "data": {
      "text/plain": [
       "'world hello'"
      ]
     },
     "execution_count": 2,
     "metadata": {},
     "output_type": "execute_result"
    }
   ],
   "source": [
    "s = \"  hello world  \"\n",
    "reverseStr(s)"
   ]
  },
  {
   "cell_type": "markdown",
   "id": "5a9033e2",
   "metadata": {},
   "source": [
    "# 2. Longest palindrome substring\n",
    "- Leetcode(medium) - 5\n",
    "\n",
    "Given a string s, return the longest \n",
    "palindromic substring in s.\n",
    "\n",
    "- Input: s = \"babad\"\n",
    "- Output: \"bab\"\n",
    "- Explanation: \"aba\" is also a valid answer."
   ]
  },
  {
   "cell_type": "code",
   "execution_count": 31,
   "id": "4e531497",
   "metadata": {},
   "outputs": [],
   "source": [
    "# solution from NeetCode\n",
    "# runtime - O(n^2), space - O(1)\n",
    "\n",
    "\n",
    "def longestPalindrome(s):\n",
    "\n",
    "    res = \"\"\n",
    "    length = 0\n",
    "\n",
    "    for i in range(len(s)):\n",
    "\n",
    "        # for odd length\n",
    "        l, r = i, i\n",
    "        while l >= 0 and r < len(s) and s[l] == s[r]:\n",
    "            \n",
    "            if (r - l + 1) > length:\n",
    "                res = s[l:r+1]\n",
    "                length = r-l+1\n",
    "\n",
    "            r += 1\n",
    "            l -= 1\n",
    "\n",
    "        # for even length\n",
    "        l, r = i, i+1\n",
    "        while l >= 0 and r < len(s) and s[l] == s[r]:\n",
    "\n",
    "            if (r - l + 1) > length:\n",
    "                res = s[l:r+1]\n",
    "                length = r-l+1\n",
    "\n",
    "            l -= 1\n",
    "            r += 1\n",
    "\n",
    "    return res\n",
    "        "
   ]
  },
  {
   "cell_type": "code",
   "execution_count": 32,
   "id": "67cdd81d",
   "metadata": {},
   "outputs": [
    {
     "data": {
      "text/plain": [
       "'bab'"
      ]
     },
     "execution_count": 32,
     "metadata": {},
     "output_type": "execute_result"
    }
   ],
   "source": [
    "s = \"babad\"\n",
    "longestPalindrome(s)"
   ]
  },
  {
   "cell_type": "code",
   "execution_count": 36,
   "id": "bb874c2e",
   "metadata": {},
   "outputs": [
    {
     "name": "stdout",
     "output_type": "stream",
     "text": [
      "dabab\n"
     ]
    }
   ],
   "source": [
    "# reverse a word\n",
    "\n",
    "s = \"babad\"\n",
    "temp = \"\"\n",
    "for i in range(len(s)):\n",
    "    temp = s[i] + temp\n",
    "print(temp)"
   ]
  },
  {
   "cell_type": "markdown",
   "id": "c829fc1b",
   "metadata": {},
   "source": [
    "# 3. Roman to integer \n",
    "- Leetcode(easy) - 13\n",
    "\n",
    "Roman numerals are represented by seven different symbols: I, V, X, L, C, D and M.\n",
    "\n",
    "Symbol       Value\n",
    "I -> 1, V -> 5, X-> 10, L -> 50, C -> 100, D -> 500, M -> 1000\n",
    "\n",
    "\n",
    "For example, 2 is written as II in Roman numeral, just two ones added together. 12 is written as XII, which is simply X + II. The number 27 is written as XXVII, which is XX + V + II.\n",
    "\n",
    "Roman numerals are usually written largest to smallest from left to right. However, the numeral for four is not IIII. Instead, the number four is written as IV. Because the one is before the five we subtract it making four. The same principle applies to the number nine, which is written as IX. There are six instances where subtraction is used:\n",
    "\n",
    "I can be placed before V (5) and X (10) to make 4 and 9. \n",
    "X can be placed before L (50) and C (100) to make 40 and 90. \n",
    "C can be placed before D (500) and M (1000) to make 400 and 900.\n",
    "Given a roman numeral, convert it to an integer.\n",
    "\n",
    "- Input: s = \"III\"\n",
    "- Output: 3\n",
    "- Explanation: III = 3."
   ]
  },
  {
   "cell_type": "code",
   "execution_count": 40,
   "id": "3e02d6eb",
   "metadata": {},
   "outputs": [],
   "source": [
    "# solution from Neetcode\n",
    "# time - O(n), space - O(1)\n",
    "\n",
    "def romanToInt(s):\n",
    "\n",
    "    dic = {\n",
    "            \"I\": 1,\n",
    "            \"V\": 5,\n",
    "            \"X\": 10,\n",
    "            \"L\": 50,\n",
    "            \"C\": 100,\n",
    "            \"D\": 500,   \n",
    "            \"M\": 1000\n",
    "            }\n",
    "    toInt = 0\n",
    "\n",
    "    for i in range(len(s)):\n",
    "        \n",
    "        # roman letter which is less than its next letter then subtract the roman lettr value esle add\n",
    "        # if i+1< len(s) -> it avoids the index out of range error \n",
    "        if i+1 < len(s) and dic[s[i]] < dic[s[i+1]]:\n",
    "            toInt = toInt - dic[s[i]]\n",
    "        else:\n",
    "            toInt = toInt + dic[s[i]]\n",
    "\n",
    "    return toInt"
   ]
  },
  {
   "cell_type": "code",
   "execution_count": 41,
   "id": "3ea41461",
   "metadata": {},
   "outputs": [
    {
     "data": {
      "text/plain": [
       "3"
      ]
     },
     "execution_count": 41,
     "metadata": {},
     "output_type": "execute_result"
    }
   ],
   "source": [
    "s = \"III\"\n",
    "romanToInt(s)"
   ]
  },
  {
   "cell_type": "markdown",
   "id": "482d6eaf",
   "metadata": {},
   "source": [
    "# 4. Longest common prefix\n",
    "- Leetcode(easy) - 14\n",
    "\n",
    "Write a function to find the longest common prefix string amongst an array of strings.\n",
    "\n",
    "If there is no common prefix, return an empty string \"\".\n",
    "\n",
    "- Input: strs = [\"flower\",\"flow\",\"flight\"]\n",
    "- Output: \"fl\"Input: strs = [\"flower\",\"flow\",\"flight\"]\n",
    "- Output: \"fl\""
   ]
  },
  {
   "cell_type": "code",
   "execution_count": 37,
   "id": "a32045b5",
   "metadata": {},
   "outputs": [],
   "source": [
    "# solution from NeetCode\n",
    "# runtime -> O(n), where n is the no charcters in the list\n",
    "\n",
    "\n",
    "def longestCommonPrefix(strs):\n",
    "\n",
    "    res = \"\"\n",
    "\n",
    "    # iterate all the elements in first string in list(strs)\n",
    "    for i in range(len(strs[0])):\n",
    "\n",
    "        # iterate all the strings in strs\n",
    "        for s in strs:\n",
    "\n",
    "            # i == len(s) -> first string element equal to length of s\n",
    "            # s -> all the string in strs\n",
    "            # eg: first element(flower) length 5 and second element length 3\n",
    "            # i = 4 -> 3rd char of first elemnt and s is now second element whose length is 3 then ther will out of bounds\n",
    "            # hence when i = len(s) stop all the process \n",
    "            if i==len(s) or s[i] != strs[0][i] :\n",
    "                return res\n",
    "\n",
    "        res += strs[0][i]\n",
    "\n",
    "    return res"
   ]
  },
  {
   "cell_type": "code",
   "execution_count": 38,
   "id": "0381b1e5",
   "metadata": {},
   "outputs": [
    {
     "data": {
      "text/plain": [
       "'fl'"
      ]
     },
     "execution_count": 38,
     "metadata": {},
     "output_type": "execute_result"
    }
   ],
   "source": [
    "strs = [\"flower\",\"flow\",\"flight\"]\n",
    "longestCommonPrefix(strs)"
   ]
  },
  {
   "cell_type": "markdown",
   "id": "9aefd746",
   "metadata": {},
   "source": [
    "# 5. Valid Anagram\n",
    "- Leetcode(easy) - 242\n",
    "\n",
    "Given two strings s and t, return true if t is an anagram of s, and false otherwise.\n",
    "\n",
    "An Anagram is a word or phrase formed by rearranging the letters of a different word or phrase, typically using all the original letters exactly once.\n",
    "\n",
    "- Input: s = \"anagram\", t = \"nagaram\"\n",
    "- Output: true"
   ]
  },
  {
   "cell_type": "code",
   "execution_count": 42,
   "id": "44e3d137",
   "metadata": {},
   "outputs": [],
   "source": [
    "# solution from NeetCode\n",
    "# time - O(2n), space - O(n)\n",
    "\n",
    "\n",
    "def isAnagram(s,t):\n",
    "\n",
    "    countS , countT = {}, {}\n",
    "\n",
    "    # if both string length is not same\n",
    "    if len(s) != len(t):\n",
    "        return False\n",
    "\n",
    "    # putting each character of both list in dictionary with count\n",
    "    for i in range(len(s)):\n",
    "\n",
    "        # 1 + countS.get(s[i], 0)-> 1 + previous count of char if char was not exist then 1+0\n",
    "        countS[s[i]] = 1 + countS.get(s[i], 0)\n",
    "        countT[t[i]] = 1 + countT.get(t[i], 0)\n",
    "\n",
    "    # checking every char count in countC with countT\n",
    "    for c in countS:\n",
    "        # countT.get(c, 0)-> if c not in countT then put that char with 0 count\n",
    "        if countS[c] != countT.get(c, 0):\n",
    "            return False\n",
    "\n",
    "    return True"
   ]
  },
  {
   "cell_type": "code",
   "execution_count": 44,
   "id": "502180d8",
   "metadata": {},
   "outputs": [
    {
     "data": {
      "text/plain": [
       "True"
      ]
     },
     "execution_count": 44,
     "metadata": {},
     "output_type": "execute_result"
    }
   ],
   "source": [
    "s = \"anagram\"\n",
    "t = \"nagaram\"\n",
    "isAnagram(s,t)"
   ]
  },
  {
   "cell_type": "code",
   "execution_count": 47,
   "id": "c7b74fbc",
   "metadata": {},
   "outputs": [],
   "source": [
    "# time - nlogn, space - O(1)\n",
    "\n",
    "def isAnagram(s,t):\n",
    "    return sorted(s) == sorted(t)"
   ]
  },
  {
   "cell_type": "code",
   "execution_count": 48,
   "id": "b949e462",
   "metadata": {},
   "outputs": [
    {
     "data": {
      "text/plain": [
       "True"
      ]
     },
     "execution_count": 48,
     "metadata": {},
     "output_type": "execute_result"
    }
   ],
   "source": [
    "s = \"anagram\"\n",
    "t = \"nagaram\"\n",
    "isAnagram(s,t)"
   ]
  },
  {
   "cell_type": "markdown",
   "id": "b9ea6820",
   "metadata": {},
   "source": [
    "# 6. Repeated String Match\n",
    "- Leetcode(medium) - 686\n",
    "\n",
    "Given two strings a and b, return the minimum number of times you should repeat string a so that string b is a substring of it. If it is impossible for b​​​​​​ to be a substring of a after repeating it, return -1.\n",
    "\n",
    "Notice: string \"abc\" repeated 0 times is \"\", repeated 1 time is \"abc\" and repeated 2 times is \"abcabc\".\n",
    "\n",
    "- Input: a = \"abcd\", b = \"cdabcdab\"\n",
    "- Output: 3\n",
    "- Explanation: We return 3 because by repeating a three times \"abcdabcdabcd\", b is a substring of it."
   ]
  },
  {
   "cell_type": "markdown",
   "id": "07a39267",
   "metadata": {},
   "source": [
    "#### approach\n",
    "\n",
    "The function repeatedStringMatch(a, b) takes two strings a and b as input and determines the number of times string a needs to be repeated to make string b a substring of the repeated a. If it is not possible to make b a substring of repeated a, the function returns -1.\n",
    "\n",
    "Here's a brief explanation of the function:\n",
    "\n",
    "- It starts by calculating two values: n, which represents the number of times a needs to be repeated to get as close as possible to the length of b, and m, which is the remaining number of characters in b after the last complete repetition of a.\n",
    "\n",
    "- If there are remaining characters (m is not zero), it means that an additional repetition of a might be needed to include all the characters of b. Therefore, n is incremented by 1.\n",
    "\n",
    "- The function checks if b is a substring of a repeated n times. If it is, it means that a repeated n times can form b as a substring, and the function returns n.\n",
    "\n",
    "- If b is not a substring of a repeated n times, the function checks if it is a substring of a repeated n+1 times. If it is, it means that an additional repetition of a is needed to form b as a substring, and the function returns n+1.\n",
    "\n",
    "- If neither a repeated n times nor a repeated n+1 times can form b as a substring, the function returns -1, indicating that it is not possible to form b by repeating a.\n",
    "\n",
    "The function essentially uses the repetition of string a to check if it can form string b as a substring. If so, it returns the minimum number of repetitions required; otherwise, it returns -1."
   ]
  },
  {
   "cell_type": "markdown",
   "id": "ac111682",
   "metadata": {},
   "source": [
    "#### divmode\n",
    "\n",
    "The expression divmod(len(b), len(a)) in the given code calculates the quotient and remainder of the division of the length of string b by the length of string a.\n",
    "\n",
    "The divmod() function is a built-in Python function that takes two arguments and returns a tuple containing the quotient and remainder of their division. In this case, len(b) represents the length of string b, and len(a) represents the length of string a.\n",
    "\n",
    "For example, if len(b) is 9 and len(a) is 4, divmod(len(b), len(a)) will return the tuple (2, 1), where 2 is the quotient and 1 is the remainder. This means that string b can be divided into 2 complete repetitions of string a with an additional 1 character remaining.\n",
    "\n",
    "In the given code, the values returned by divmod(len(b), len(a)) are assigned to two variables, n and m, respectively. n represents the number of complete repetitions of a needed to get as close as possible to the length of b, and m represents the remaining number of characters in b after the last complete repetition of a."
   ]
  },
  {
   "cell_type": "code",
   "execution_count": null,
   "id": "afcc114f",
   "metadata": {},
   "outputs": [],
   "source": [
    "# solution from a user on leetcode solution section\n",
    "\n",
    "\n",
    "def repeatedStringMatch(self, a: str, b: str) -> int:\n",
    "\n",
    "    # divmode gives tuple of quotient and remainder\n",
    "    # len(b) divided by len(a)\n",
    "    n, m = divmod(len(b), len(a))\n",
    "\n",
    "    # if anything remained after division then increment n by 1\n",
    "    if m:\n",
    "        n = n+1\n",
    "\n",
    "    if b in a*n:\n",
    "        return n\n",
    "\n",
    "    elif b in a*(n+1):\n",
    "        return n+1\n",
    "\n",
    "    else:\n",
    "        return -1"
   ]
  },
  {
   "cell_type": "code",
   "execution_count": null,
   "id": "9bdfee51",
   "metadata": {},
   "outputs": [],
   "source": []
  },
  {
   "cell_type": "markdown",
   "id": "7330d0dd",
   "metadata": {},
   "source": [
    "# 7. Count and Say \n",
    "- Leetcode(medium) - 38\n",
    "\n",
    "The count-and-say sequence is a sequence of digit strings defined by the recursive formula:\n",
    "\n",
    "- countAndSay(1) = \"1\"\n",
    "- countAndSay(n) is the way you would \"say\" the digit string from countAndSay(n-1), which is then converted into a different digit string.\n",
    "\n",
    "To determine how you \"say\" a digit string, split it into the minimal number of substrings such that each substring contains exactly one unique digit. Then for each substring, say the number of digits, then say the digit. Finally, concatenate every said digit.\n",
    "\n",
    "For example, the saying and conversion for digit string \"3322251\":\n",
    "\n",
    "- Input: n = 4\n",
    "- Output: \"1211\"\n",
    "Explanation:\n",
    "- countAndSay(1) = \"1\"\n",
    "- countAndSay(2) = say \"1\" = one 1 = \"11\"\n",
    "- countAndSay(3) = say \"11\" = two 1's = \"21\"\n",
    "- countAndSay(4) = say \"21\" = one 2 + one 1 = \"12\" + \"11\" = \"1211\"\n"
   ]
  },
  {
   "cell_type": "code",
   "execution_count": 51,
   "id": "cf6e5d3d",
   "metadata": {},
   "outputs": [],
   "source": [
    "# solution from a youtuber 'Aman Shrivastava'\n",
    "\n",
    "\n",
    "def countAndSay(n):\n",
    "\n",
    "    '''\n",
    "    1 -> n=1\n",
    "    11 -> n=2\n",
    "    21 -> n=3\n",
    "    1211 -> n=4\n",
    "    111221 -> n=5\n",
    "    312211 -> n=6\n",
    "\n",
    "    '''\n",
    "\n",
    "    # base case for recursion\n",
    "    if n == 1:\n",
    "        return '1'\n",
    "\n",
    "    # going to the base case and saving in prev\n",
    "    # prev will all res in every recursive step starting to end\n",
    "    prev = countAndSay(n-1)\n",
    "    res = \"\"\n",
    "    # count will be 1 because of this condition (prev[i] != prev[i+1])\n",
    "    # eg: 1211 -> if 1 != 2 then 11 which means 1 count is already 1\n",
    "    count = 1\n",
    "\n",
    "    for i in range(len(prev)):\n",
    "\n",
    "        # to over come from range error using i==len(prev)-1\n",
    "        if i == len(prev)-1 or prev[i] != prev[i+1]:\n",
    "            res += str(count) + prev[i]\n",
    "            count = 1\n",
    "        else:\n",
    "            count += 1\n",
    "\n",
    "    return res"
   ]
  },
  {
   "cell_type": "code",
   "execution_count": 52,
   "id": "7a501742",
   "metadata": {},
   "outputs": [
    {
     "data": {
      "text/plain": [
       "'1211'"
      ]
     },
     "execution_count": 52,
     "metadata": {},
     "output_type": "execute_result"
    }
   ],
   "source": [
    "n = 4\n",
    "countAndSay(n)"
   ]
  },
  {
   "cell_type": "code",
   "execution_count": 53,
   "id": "2918a5bc",
   "metadata": {},
   "outputs": [],
   "source": [
    "version1 = \"1.01\"\n",
    "version2 = \"1.001\"\n",
    "v1 = version1.split(\".\")"
   ]
  },
  {
   "cell_type": "code",
   "execution_count": 54,
   "id": "ae731f40",
   "metadata": {},
   "outputs": [
    {
     "data": {
      "text/plain": [
       "['1', '01']"
      ]
     },
     "execution_count": 54,
     "metadata": {},
     "output_type": "execute_result"
    }
   ],
   "source": [
    "v1"
   ]
  },
  {
   "cell_type": "markdown",
   "id": "3ec98747",
   "metadata": {},
   "source": [
    "# 8. Strig to integer (ATOI)\n",
    "- Leetcode(medium) - 8\n",
    "\n",
    "Implement the myAtoi(string s) function, which converts a string to a 32-bit signed integer (similar to C/C++'s atoi function).\n",
    "\n",
    "The algorithm for myAtoi(string s) is as follows:\n",
    "\n",
    "Read in and ignore any leading whitespace.\n",
    "Check if the next character (if not already at the end of the string) is '-' or '+'. Read this character in if it is either. This determines if the final result is negative or positive respectively. Assume the result is positive if neither is present.\n",
    "Read in next the characters until the next non-digit character or the end of the input is reached. The rest of the string is ignored.\n",
    "Convert these digits into an integer (i.e. \"123\" -> 123, \"0032\" -> 32). If no digits were read, then the integer is 0. Change the sign as necessary (from step 2).\n",
    "If the integer is out of the 32-bit signed integer range [-231, 231 - 1], then clamp the integer so that it remains in the range. Specifically, integers less than -231 should be clamped to -231, and integers greater than 231 - 1 should be clamped to 231 - 1.\n",
    "Return the integer as the final result.\n",
    "\n",
    "Note:\n",
    "\n",
    "- Only the space character ' ' is considered a whitespace character.\n",
    "- Do not ignore any characters other than the leading whitespace or the rest of the string after the digits.\n",
    "\n"
   ]
  },
  {
   "cell_type": "markdown",
   "id": "8b8ae13a",
   "metadata": {},
   "source": [
    "- Input: s = \"   -42\"\n",
    "- Output: -42\n",
    "- Explanation:\n",
    "Step 1: \"   -42\" (leading whitespace is read and ignored)\n",
    "            ^\n",
    "Step 2: \"   -42\" ('-' is read, so the result should be negative)\n",
    "             ^\n",
    "Step 3: \"   -42\" (\"42\" is read in)\n",
    "               ^\n",
    "The parsed integer is -42.\n",
    "Since -42 is in the range [-231, 231 - 1], the final result is -42."
   ]
  },
  {
   "cell_type": "code",
   "execution_count": 55,
   "id": "cf014d31",
   "metadata": {},
   "outputs": [],
   "source": [
    "# solution from cracking FAANG (youtuber)\n",
    "# time- O(2n), space - O(1)\n",
    "\n",
    "\n",
    "def myAtoi(s):\n",
    "    \n",
    "    # to remove all the white space, its complexity is O(n)\n",
    "    s = s.strip()\n",
    "    \n",
    "    # if s is empty return 0\n",
    "    if not s:\n",
    "        return 0\n",
    "\n",
    "    i = 0\n",
    "    res = 0\n",
    "    sign = 1\n",
    "    \n",
    "    # checking + and - sign, if - then we'll multiply with the res\n",
    "    if s[i] == \"+\":\n",
    "        i += 1\n",
    "        sign = 1\n",
    "    elif s[i] == \"-\":\n",
    "        i += 1\n",
    "        sign = -1\n",
    "\n",
    "    \n",
    "    while i < len(s):\n",
    "        \n",
    "        # if s[i] is not digit then just break the loop\n",
    "        if not s[i].isdigit():\n",
    "            break\n",
    "        else:\n",
    "            # multiplyting 10 with res so that we can add digit in front of res\n",
    "            res = res*10 + int(s[i])\n",
    "\n",
    "        i += 1\n",
    "\n",
    "    # multiplyin the sign with the res\n",
    "    res *= sign\n",
    "\n",
    "    # this condition is given in the question\n",
    "    if res > 2**31 - 1:\n",
    "        return 2**31 - 1\n",
    "    elif res <= -2**31:\n",
    "        return -2**31\n",
    "    else:\n",
    "        return res\n"
   ]
  },
  {
   "cell_type": "code",
   "execution_count": 56,
   "id": "fdafdb22",
   "metadata": {},
   "outputs": [
    {
     "data": {
      "text/plain": [
       "-42"
      ]
     },
     "execution_count": 56,
     "metadata": {},
     "output_type": "execute_result"
    }
   ],
   "source": [
    "s = \" -42\"\n",
    "myAtoi(s)"
   ]
  },
  {
   "cell_type": "code",
   "execution_count": 57,
   "id": "576529ca",
   "metadata": {},
   "outputs": [
    {
     "data": {
      "text/plain": [
       "4193"
      ]
     },
     "execution_count": 57,
     "metadata": {},
     "output_type": "execute_result"
    }
   ],
   "source": [
    "s = \"4193 with words\"\n",
    "myAtoi(s)"
   ]
  },
  {
   "cell_type": "markdown",
   "id": "ea338717",
   "metadata": {},
   "source": [
    "# 9. Find the Index of the First Occurrence in a String\n",
    "- Leetcode(easy) - 28\n",
    "\n",
    "Given two strings needle and haystack, return the index of the first occurrence of needle in haystack, or -1 if needle is not part of haystack.\n",
    "\n",
    "- Input: haystack = \"sadbutsad\", needle = \"sad\"\n",
    "- Output: 0\n",
    "- Explanation: \"sad\" occurs at index 0 and 6.\n",
    "The first occurrence is at index 0, so we return 0."
   ]
  },
  {
   "cell_type": "code",
   "execution_count": 64,
   "id": "18c33831",
   "metadata": {},
   "outputs": [],
   "source": [
    "# solution from NeetCode\n",
    "# runtime - O(n^2), space - O(1)\n",
    "\n",
    "\n",
    "def strStr(haystack, needle):\n",
    "    \n",
    "    if needle == \"\":\n",
    "        return 0 \n",
    "    \n",
    "    # eg: haystack - hello, needle -ll\n",
    "    # there's no point of searching ll from o because after o there's no other element and need needle has two element\n",
    "    # so we stop at second l. It also avoid index out of range error  \n",
    "    for i in range(len(haystack) + 1 - len(needle)):\n",
    "\n",
    "        for j in range(len(needle)):\n",
    "        \n",
    "            if haystack[i+j] != needle[j]:\n",
    "                break\n",
    "            # if j = 2(len of needle) which means it reached the end of needle so theres a match\n",
    "            # returning the index of haystack from where the needle started\n",
    "            if j == len(needle)-1:\n",
    "                return i\n",
    "\n",
    "    return -1"
   ]
  },
  {
   "cell_type": "code",
   "execution_count": 65,
   "id": "10b1e04c",
   "metadata": {},
   "outputs": [
    {
     "data": {
      "text/plain": [
       "0"
      ]
     },
     "execution_count": 65,
     "metadata": {},
     "output_type": "execute_result"
    }
   ],
   "source": [
    "haystack = \"sadbutsad\"\n",
    "needle = \"sad\"\n",
    "strStr(haystack, needle)"
   ]
  },
  {
   "cell_type": "code",
   "execution_count": 66,
   "id": "777a4c3a",
   "metadata": {},
   "outputs": [
    {
     "data": {
      "text/plain": [
       "-1"
      ]
     },
     "execution_count": 66,
     "metadata": {},
     "output_type": "execute_result"
    }
   ],
   "source": [
    "haystack = \"leetcode\"\n",
    "needle = \"leeto\"\n",
    "strStr(haystack, needle)"
   ]
  },
  {
   "cell_type": "code",
   "execution_count": 61,
   "id": "50dbb39f",
   "metadata": {},
   "outputs": [],
   "source": [
    "# solution from NeetCode\n",
    "# runtime - O(n^2), space - O(1)\n",
    "\n",
    "def strStr(haystack, needle):\n",
    "    \n",
    "    if needle == \"\":\n",
    "        return 0 \n",
    "    \n",
    "    for i in range(len(haystack)+1-len(needle)):\n",
    "        if haystack[i:i+len(needle)] == needle:\n",
    "            return i\n",
    "    return -1"
   ]
  },
  {
   "cell_type": "code",
   "execution_count": 62,
   "id": "d261eb38",
   "metadata": {},
   "outputs": [
    {
     "data": {
      "text/plain": [
       "0"
      ]
     },
     "execution_count": 62,
     "metadata": {},
     "output_type": "execute_result"
    }
   ],
   "source": [
    "haystack = \"sadbutsad\"\n",
    "needle = \"sad\"\n",
    "strStr(haystack, needle)"
   ]
  },
  {
   "cell_type": "code",
   "execution_count": 63,
   "id": "07e75675",
   "metadata": {},
   "outputs": [
    {
     "data": {
      "text/plain": [
       "-1"
      ]
     },
     "execution_count": 63,
     "metadata": {},
     "output_type": "execute_result"
    }
   ],
   "source": [
    "haystack = \"leetcode\"\n",
    "needle = \"leeto\"\n",
    "strStr(haystack, needle)"
   ]
  },
  {
   "cell_type": "markdown",
   "id": "0191366b",
   "metadata": {},
   "source": [
    "# 10. Compare Version Numbers\n",
    "- Neetcode(medium) - 165\n",
    "\n",
    "iven two version numbers, version1 and version2, compare them.\n",
    "\n",
    "Version numbers consist of one or more revisions joined by a dot '.'. Each revision consists of digits and may contain leading zeros. Every revision contains at least one character. Revisions are 0-indexed from left to right, with the leftmost revision being revision 0, the next revision being revision 1, and so on. For example 2.5.33 and 0.1 are valid version numbers.\n",
    "\n",
    "To compare version numbers, compare their revisions in left-to-right order. Revisions are compared using their integer value ignoring any leading zeros. This means that revisions 1 and 001 are considered equal. If a version number does not specify a revision at an index, then treat the revision as 0. For example, version 1.0 is less than version 1.1 because their revision 0s are the same, but their revision 1s are 0 and 1 respectively, and 0 < 1.\n",
    "\n",
    "Return the following:\n",
    "\n",
    "- If version1 < version2, return -1.\n",
    "- If version1 > version2, return 1.\n",
    "- Otherwise, return 0.\n"
   ]
  },
  {
   "cell_type": "markdown",
   "id": "fbab25d6",
   "metadata": {},
   "source": [
    "- Input: version1 = \"1.01\", version2 = \"1.001\"\n",
    "- Output: 0\n",
    "- Explanation: Ignoring leading zeroes, both \"01\" and \"001\" represent the same integer \"1\"."
   ]
  },
  {
   "cell_type": "code",
   "execution_count": 68,
   "id": "237b629a",
   "metadata": {},
   "outputs": [],
   "source": [
    "# solution from Sai Aneesh Malla\n",
    "# time - \n",
    "\n",
    "\n",
    "def compareVersion(version1, version2):\n",
    "\n",
    "    v1 = [int(x) for x in version1.split(\".\")]\n",
    "    v2 = [int(x) for x in version2.split(\".\")]\n",
    "\n",
    "    for i in range(max(len(v1), len(v2))):\n",
    "\n",
    "        if i < len(v1):\n",
    "            version1 = v1[i]\n",
    "        else:\n",
    "            version1 = 0\n",
    "\n",
    "        if i < len(v2):\n",
    "            version2 = v2[i]\n",
    "        else:\n",
    "            version2 = 0\n",
    "\n",
    "        if version1 < version2:\n",
    "            return -1\n",
    "        elif version1 > version2:\n",
    "            return 1\n",
    "    return 0"
   ]
  },
  {
   "cell_type": "code",
   "execution_count": 69,
   "id": "3db4db10",
   "metadata": {},
   "outputs": [
    {
     "name": "stdout",
     "output_type": "stream",
     "text": [
      "v1 1\n",
      "v2 1\n",
      "v1 1\n",
      "v2 1\n"
     ]
    },
    {
     "data": {
      "text/plain": [
       "0"
      ]
     },
     "execution_count": 69,
     "metadata": {},
     "output_type": "execute_result"
    }
   ],
   "source": [
    "version1 = \"1.01\"\n",
    "version2 = \"1.001\"\n",
    "compareVersion(version1, version2)"
   ]
  },
  {
   "cell_type": "markdown",
   "id": "a9ef1c2b",
   "metadata": {},
   "source": [
    "# 11. Minimum characters to be added at front to make string palindrome\n",
    "- GeeksForGeeks - medium\n",
    "\n",
    "Given string str we need to tell minimum characters to be added in front of the string to make string palindrome.\n",
    "\n",
    "- Input  : str = \"ABC\"\n",
    "- Output : 2\n",
    "\n",
    "We can make above string palindrome as \"CBABC\"\n",
    "by adding 'B' and 'C' at front.\n",
    "\n",
    "- Input  : str = \"AACECAAAA\";\n",
    "- Output : 2\n",
    "\n",
    "We can make above string palindrome as AAAACECAAAA\n",
    "by adding two A's at front of string."
   ]
  },
  {
   "cell_type": "code",
   "execution_count": 9,
   "id": "7f137d9c",
   "metadata": {},
   "outputs": [
    {
     "name": "stdout",
     "output_type": "stream",
     "text": [
      "2\n"
     ]
    }
   ],
   "source": [
    "# solution from geeksforgeeks\n",
    "# time - O(n), space - O(1)\n",
    "\n",
    "\n",
    "def addMinChar(str1):\n",
    "    n = len(str1)\n",
    "    start = 0\n",
    "    end = n - 1\n",
    "    res = 0\n",
    "    while start < end:  # While the pointers have not met in the middle of the string\n",
    "        if str1[start] == str1[end]:  # If the characters at the start and end pointers are equal\n",
    "            start += 1  # Move the start pointer to the right\n",
    "            end -= 1  # Move the end pointer to the left\n",
    "        else:\n",
    "            res += 1  # Increment the count of characters to be added\n",
    "            start = 0  # Reset the start pointer to the beginning of the string\n",
    "            end = n - res - 1  # Reset the end pointer to the end of the string with a reduced number of characters\n",
    "    return res  # Return the count of characters to be added\n",
    " \n",
    "    \n",
    "string = \"AACECAAAA\"\n",
    "print(addMinChar(string))"
   ]
  },
  {
   "cell_type": "code",
   "execution_count": 1,
   "id": "f6f7af07",
   "metadata": {},
   "outputs": [],
   "source": [
    "# my asnswere \n",
    "\n",
    "def palindrome(strs):\n",
    "    \n",
    "    i = 0\n",
    "    j = len(strs) - 1\n",
    "    count = 0\n",
    "    \n",
    "    while i <= j:\n",
    "        \n",
    "        if strs[i] != strs[j]:\n",
    "            count += 1\n",
    "            j -= 1\n",
    "        elif strs[i] == strs[j]:\n",
    "            i += 1\n",
    "            j -= 1\n",
    "    return count"
   ]
  },
  {
   "cell_type": "code",
   "execution_count": 4,
   "id": "0a60f6b7",
   "metadata": {},
   "outputs": [
    {
     "data": {
      "text/plain": [
       "2"
      ]
     },
     "execution_count": 4,
     "metadata": {},
     "output_type": "execute_result"
    }
   ],
   "source": [
    "strs = \"AACECAAAA\"\n",
    "palindrome(strs)"
   ]
  },
  {
   "cell_type": "code",
   "execution_count": 6,
   "id": "767a8723",
   "metadata": {},
   "outputs": [
    {
     "data": {
      "text/plain": [
       "3"
      ]
     },
     "execution_count": 6,
     "metadata": {},
     "output_type": "execute_result"
    }
   ],
   "source": [
    "strs = \"BABABAAA\"\n",
    "palindrome(strs)"
   ]
  },
  {
   "cell_type": "code",
   "execution_count": null,
   "id": "9d99dfb7",
   "metadata": {},
   "outputs": [],
   "source": [
    "dd"
   ]
  }
 ],
 "metadata": {
  "kernelspec": {
   "display_name": "Python 3",
   "language": "python",
   "name": "python3"
  },
  "language_info": {
   "codemirror_mode": {
    "name": "ipython",
    "version": 3
   },
   "file_extension": ".py",
   "mimetype": "text/x-python",
   "name": "python",
   "nbconvert_exporter": "python",
   "pygments_lexer": "ipython3",
   "version": "3.8.8"
  }
 },
 "nbformat": 4,
 "nbformat_minor": 5
}
