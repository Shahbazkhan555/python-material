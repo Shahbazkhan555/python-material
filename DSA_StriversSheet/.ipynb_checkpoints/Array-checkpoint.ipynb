{
 "cells": [
  {
   "cell_type": "markdown",
   "id": "484c1709",
   "metadata": {},
   "source": [
    "# 1. Set Matrix Zero\n",
    "Leetcode(medium) - 73\n",
    "\n",
    "Given an m x n integer matrix matrix, if an element is 0, set its entire row and column to 0's.\n",
    "##### You must do it in place.\n",
    "\n",
    "Input: matrix = [[0,1,2,0],[3,4,5,2],[1,3,1,5]]\n",
    "\n",
    "Output: [[0,0,0,0],[0,4,5,0],[0,3,1,0]]"
   ]
  },
  {
   "cell_type": "code",
   "execution_count": 15,
   "id": "8423495b",
   "metadata": {},
   "outputs": [],
   "source": [
    "# in place method by with space complexity O(1)\n",
    "\n",
    "def set_matrix_zero(matrix):\n",
    "    \n",
    "    row_flag = False\n",
    "    col_flag = False\n",
    "    \n",
    "    # checking if first row has zero element\n",
    "    for i in range(0, len(matrix[0])):\n",
    "        if matrix[0][i] == 0:\n",
    "            row_flag = True\n",
    "            \n",
    "    # checking if first col has zero element\n",
    "    for i in range(0, len(matrix)):\n",
    "        if matrix[i][0] == 0:\n",
    "            col_flag = True\n",
    "            \n",
    "    # checking rest of element if zero then respective element of 1st col and 1st row will be zero\n",
    "    for i in range(1, len(matrix)):\n",
    "        for j in range(1, len(matrix[0])):\n",
    "            if matrix[i][j] == 0:\n",
    "                matrix[i][0] = 0\n",
    "                matrix[0][j] = 0\n",
    "                \n",
    "    # with respect to the 1st row element with zero, zerofy the respect row elements\n",
    "    for i in range(1, len(matrix[0])):\n",
    "        if matrix[0][i] == 0:\n",
    "            for j in range(1, len(matrix)):\n",
    "                matrix[j][i] = 0\n",
    "     \n",
    "    # # with respect to the 1st col element with zero, zerofy the respect col elements\n",
    "    for i in range(1, len(matrix)):\n",
    "        if matrix[i][0] == 0:\n",
    "            for j in range(1, len(matrix[0])):\n",
    "                matrix[i][j] = 0\n",
    "    \n",
    "    # if any zero in first row, zerofy all elements of first row\n",
    "    if row_flag:\n",
    "        for i in range(0, len(matrix[0])):\n",
    "            matrix[0][i] = 0\n",
    "    \n",
    "    # if any zero in first col, zerofy all elements of first col\n",
    "    if col_flag:\n",
    "        for i in range(0, len(matrix)):\n",
    "            matrix[i][0] = 0\n",
    "            \n",
    "    return matrix"
   ]
  },
  {
   "cell_type": "code",
   "execution_count": 16,
   "id": "82d92242",
   "metadata": {},
   "outputs": [
    {
     "data": {
      "text/plain": [
       "[[1, 0, 1], [0, 0, 0], [1, 0, 1]]"
      ]
     },
     "execution_count": 16,
     "metadata": {},
     "output_type": "execute_result"
    }
   ],
   "source": [
    "matrix = [[1,1,1],[1,0,1],[1,1,1]]\n",
    "set_matrix_zero(matrix)"
   ]
  },
  {
   "cell_type": "code",
   "execution_count": 17,
   "id": "78041eb2",
   "metadata": {},
   "outputs": [
    {
     "data": {
      "text/plain": [
       "[[0, 0, 0], [0, 0, 0], [0, 0, 0]]"
      ]
     },
     "execution_count": 17,
     "metadata": {},
     "output_type": "execute_result"
    }
   ],
   "source": [
    "mat = [[1,0,1],[0,0,0],[1,0,1]]\n",
    "set_matrix_zero(mat)"
   ]
  },
  {
   "cell_type": "code",
   "execution_count": 18,
   "id": "f9cb61d7",
   "metadata": {},
   "outputs": [
    {
     "data": {
      "text/plain": [
       "[[0, 0, 0], [1, 0, 0], [1, 0, 0]]"
      ]
     },
     "execution_count": 18,
     "metadata": {},
     "output_type": "execute_result"
    }
   ],
   "source": [
    "matr = [[1,0,0],[1,1,1],[1,1,1]]\n",
    "set_matrix_zero(matr)"
   ]
  },
  {
   "cell_type": "markdown",
   "id": "8df26827",
   "metadata": {},
   "source": [
    "# 2. Pascal's Triangle\n",
    "Leetcode(easy) - 118\n",
    "\n",
    "Given an integer numRows, return the first numRows of Pascal's triangle.\n",
    "\n",
    "In Pascal's triangle, each number is the sum of the two numbers directly above it as shown:"
   ]
  },
  {
   "cell_type": "markdown",
   "id": "8022cbd4",
   "metadata": {},
   "source": [
    "Input: numRows = 5\n",
    "\n",
    "Output: [[1],[1,1],[1,2,1],[1,3,3,1],[1,4,6,4,1]]"
   ]
  },
  {
   "cell_type": "code",
   "execution_count": 41,
   "id": "c405b962",
   "metadata": {},
   "outputs": [],
   "source": [
    "# this\n",
    "def pascals_triangle(numRow):\n",
    "    \n",
    "    mat = []\n",
    "    for i in range(0,numRow):\n",
    "        \n",
    "        temp_mat = []\n",
    "        \n",
    "        for j in range(i+1):\n",
    "            if j==0 or j==i:\n",
    "                temp_mat.append(1)\n",
    "            else:\n",
    "                temp_mat.append(mat[i-1][j-1] + mat[i-1][j])\n",
    "                \n",
    "        mat.append(temp_mat)\n",
    "        \n",
    "    return mat"
   ]
  },
  {
   "cell_type": "code",
   "execution_count": 42,
   "id": "65bb1bee",
   "metadata": {},
   "outputs": [
    {
     "data": {
      "text/plain": [
       "[[1], [1, 1], [1, 2, 1], [1, 3, 3, 1], [1, 4, 6, 4, 1]]"
      ]
     },
     "execution_count": 42,
     "metadata": {},
     "output_type": "execute_result"
    }
   ],
   "source": [
    "pascals_triangle(5)"
   ]
  },
  {
   "cell_type": "code",
   "execution_count": 53,
   "id": "c99faa91",
   "metadata": {},
   "outputs": [
    {
     "name": "stdout",
     "output_type": "stream",
     "text": [
      "[[1], [1, 1], [1, 2, 1], [1, 3, 3, 1], [1, 4, 6, 4, 1], [1, 5, 10, 10, 5, 1]]\n",
      "          1  \n",
      "        1  1  \n",
      "      1  2  1  \n",
      "    1  3  3  1  \n",
      "  1  4  6  4  1  \n",
      "1  5  10  10  5  1  \n"
     ]
    }
   ],
   "source": [
    "n = 6\n",
    "mat = []\n",
    "for i in range(0,n):\n",
    "\n",
    "    temp_mat = []\n",
    "\n",
    "    for j in range(i+1):\n",
    "        if j==0 or j==i:\n",
    "            temp_mat.append(1)\n",
    "        else:\n",
    "            temp_mat.append(mat[i-1][j-1] + mat[i-1][j])\n",
    "\n",
    "    mat.append(temp_mat)\n",
    "\n",
    "print(mat)\n",
    "\n",
    "for i in range(0, n):\n",
    "    for j in range(n-i-1):\n",
    "        print(\" \", end=\" \")\n",
    "    for j in range(i+1):\n",
    "        print(mat[i][j], end=\"  \")\n",
    "    print()"
   ]
  },
  {
   "cell_type": "markdown",
   "id": "9d358dec",
   "metadata": {},
   "source": [
    "# 3. Kedanes Algorithm(Maximum Subarray Sum)"
   ]
  },
  {
   "cell_type": "markdown",
   "id": "b290f605",
   "metadata": {},
   "source": [
    "Given an integer array nums, find the \n",
    "subarray\n",
    " with the largest sum, and return its sum."
   ]
  },
  {
   "cell_type": "markdown",
   "id": "a5e095a0",
   "metadata": {},
   "source": [
    "Input: nums = [-2,1,-3,4,-1,2,1,-5,4],\n",
    "Output: 6,\n",
    "Explanation: The subarray [4,-1,2,1] has the largest sum 6.\n",
    "\n",
    "Input: nums = [1],\n",
    "Output: 1,\n",
    "Explanation: The subarray [1] has the largest sum 1.\n",
    "\n",
    "Input: nums = [5,4,-1,7,8],\n",
    "Output: 23,\n",
    "Explanation: The subarray [5,4,-1,7,8] has the largest sum 23."
   ]
  },
  {
   "cell_type": "code",
   "execution_count": 54,
   "id": "ac1e46aa",
   "metadata": {},
   "outputs": [],
   "source": [
    "def maxSubArray(arr):\n",
    "    \n",
    "    max_so_far = 0\n",
    "    current_sum = 0\n",
    "    pointer = 0\n",
    "    start = 0\n",
    "    end = 0\n",
    "    \n",
    "    for i in range(0, len(arr)):\n",
    "        current_sum = current_sum + arr[i]\n",
    "        \n",
    "        if max_so_far < current_sum:\n",
    "            max_so_far = current_sum\n",
    "            start = pointer\n",
    "            end = i\n",
    "            \n",
    "        if current_sum < 0:\n",
    "            pointer = i + 1\n",
    "            \n",
    "    return max_so_far"
   ]
  },
  {
   "cell_type": "code",
   "execution_count": null,
   "id": "1375ed06",
   "metadata": {},
   "outputs": [],
   "source": []
  }
 ],
 "metadata": {
  "kernelspec": {
   "display_name": "Python 3",
   "language": "python",
   "name": "python3"
  },
  "language_info": {
   "codemirror_mode": {
    "name": "ipython",
    "version": 3
   },
   "file_extension": ".py",
   "mimetype": "text/x-python",
   "name": "python",
   "nbconvert_exporter": "python",
   "pygments_lexer": "ipython3",
   "version": "3.8.8"
  }
 },
 "nbformat": 4,
 "nbformat_minor": 5
}
