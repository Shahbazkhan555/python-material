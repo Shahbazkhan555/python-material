{
 "cells": [
  {
   "cell_type": "markdown",
   "id": "dc312e88",
   "metadata": {},
   "source": [
    "# 1. Set Matrix Zero\n",
    "Leetcode(medium) - 73\n",
    "\n",
    "Given an m x n integer matrix matrix, if an element is 0, set its entire row and column to 0's.\n",
    "##### You must do it in place.\n",
    "\n",
    "Input: matrix = [[0,1,2,0],[3,4,5,2],[1,3,1,5]]\n",
    "\n",
    "Output: [[0,0,0,0],[0,4,5,0],[0,3,1,0]]"
   ]
  },
  {
   "cell_type": "code",
   "execution_count": 15,
   "id": "ecaa4b03",
   "metadata": {},
   "outputs": [],
   "source": [
    "# in place method by with space complexity O(1)\n",
    "# solution referred from \"nETSETOS\"\n",
    "\n",
    "def set_matrix_zero(matrix):\n",
    "    \n",
    "    row_flag = False\n",
    "    col_flag = False\n",
    "    \n",
    "    # checking if first row has zero element\n",
    "    for i in range(0, len(matrix[0])):\n",
    "        if matrix[0][i] == 0:\n",
    "            row_flag = True\n",
    "            \n",
    "    # checking if first col has zero element\n",
    "    for i in range(0, len(matrix)):\n",
    "        if matrix[i][0] == 0:\n",
    "            col_flag = True\n",
    "            \n",
    "    # checking rest of element if zero then respective element of 1st col and 1st row will be zero\n",
    "    for i in range(1, len(matrix)):\n",
    "        for j in range(1, len(matrix[0])):\n",
    "            if matrix[i][j] == 0:\n",
    "                matrix[i][0] = 0\n",
    "                matrix[0][j] = 0\n",
    "                \n",
    "    # with respect to the 1st row element with zero, zerofy the respect row elements\n",
    "    for i in range(1, len(matrix[0])):\n",
    "        if matrix[0][i] == 0:\n",
    "            for j in range(1, len(matrix)):\n",
    "                matrix[j][i] = 0\n",
    "     \n",
    "    # # with respect to the 1st col element with zero, zerofy the respect col elements\n",
    "    for i in range(1, len(matrix)):\n",
    "        if matrix[i][0] == 0:\n",
    "            for j in range(1, len(matrix[0])):\n",
    "                matrix[i][j] = 0\n",
    "    \n",
    "    # if any zero in first row, zerofy all elements of first row\n",
    "    if row_flag:\n",
    "        for i in range(0, len(matrix[0])):\n",
    "            matrix[0][i] = 0\n",
    "    \n",
    "    # if any zero in first col, zerofy all elements of first col\n",
    "    if col_flag:\n",
    "        for i in range(0, len(matrix)):\n",
    "            matrix[i][0] = 0\n",
    "            \n",
    "    return matrix"
   ]
  },
  {
   "cell_type": "code",
   "execution_count": 16,
   "id": "794f27d2",
   "metadata": {},
   "outputs": [
    {
     "data": {
      "text/plain": [
       "[[1, 0, 1], [0, 0, 0], [1, 0, 1]]"
      ]
     },
     "execution_count": 16,
     "metadata": {},
     "output_type": "execute_result"
    }
   ],
   "source": [
    "matrix = [[1,1,1],[1,0,1],[1,1,1]]\n",
    "set_matrix_zero(matrix)"
   ]
  },
  {
   "cell_type": "code",
   "execution_count": 17,
   "id": "4f79d78d",
   "metadata": {},
   "outputs": [
    {
     "data": {
      "text/plain": [
       "[[0, 0, 0], [0, 0, 0], [0, 0, 0]]"
      ]
     },
     "execution_count": 17,
     "metadata": {},
     "output_type": "execute_result"
    }
   ],
   "source": [
    "mat = [[1,0,1],[0,0,0],[1,0,1]]\n",
    "set_matrix_zero(mat)"
   ]
  },
  {
   "cell_type": "code",
   "execution_count": 18,
   "id": "bcac39ed",
   "metadata": {},
   "outputs": [
    {
     "data": {
      "text/plain": [
       "[[0, 0, 0], [1, 0, 0], [1, 0, 0]]"
      ]
     },
     "execution_count": 18,
     "metadata": {},
     "output_type": "execute_result"
    }
   ],
   "source": [
    "matr = [[1,0,0],[1,1,1],[1,1,1]]\n",
    "set_matrix_zero(matr)"
   ]
  },
  {
   "cell_type": "markdown",
   "id": "898bc1a5",
   "metadata": {},
   "source": [
    "# 2. Pascal's Triangle\n",
    "Leetcode(easy) - 118\n",
    "\n",
    "Given an integer numRows, return the first numRows of Pascal's triangle.\n",
    "\n",
    "In Pascal's triangle, each number is the sum of the two numbers directly above it as shown:"
   ]
  },
  {
   "cell_type": "markdown",
   "id": "021e9200",
   "metadata": {},
   "source": [
    "Input: numRows = 5\n",
    "\n",
    "Output: [[1],[1,1],[1,2,1],[1,3,3,1],[1,4,6,4,1]]"
   ]
  },
  {
   "cell_type": "code",
   "execution_count": 41,
   "id": "2022b9de",
   "metadata": {},
   "outputs": [],
   "source": [
    "# solution referred from \"Amulya's Academy\"\n",
    "\n",
    "def pascals_triangle(numRow):\n",
    "    \n",
    "    mat = []\n",
    "    for i in range(0,numRow):\n",
    "        \n",
    "        temp_mat = []\n",
    "        \n",
    "        for j in range(i+1):\n",
    "            if j==0 or j==i:\n",
    "                temp_mat.append(1)\n",
    "            else:\n",
    "                temp_mat.append(mat[i-1][j-1] + mat[i-1][j])\n",
    "                \n",
    "        mat.append(temp_mat)\n",
    "        \n",
    "    return mat"
   ]
  },
  {
   "cell_type": "code",
   "execution_count": 42,
   "id": "27a50aa3",
   "metadata": {},
   "outputs": [
    {
     "data": {
      "text/plain": [
       "[[1], [1, 1], [1, 2, 1], [1, 3, 3, 1], [1, 4, 6, 4, 1]]"
      ]
     },
     "execution_count": 42,
     "metadata": {},
     "output_type": "execute_result"
    }
   ],
   "source": [
    "pascals_triangle(5)"
   ]
  },
  {
   "cell_type": "code",
   "execution_count": 53,
   "id": "ed125ed9",
   "metadata": {},
   "outputs": [
    {
     "name": "stdout",
     "output_type": "stream",
     "text": [
      "[[1], [1, 1], [1, 2, 1], [1, 3, 3, 1], [1, 4, 6, 4, 1], [1, 5, 10, 10, 5, 1]]\n",
      "          1  \n",
      "        1  1  \n",
      "      1  2  1  \n",
      "    1  3  3  1  \n",
      "  1  4  6  4  1  \n",
      "1  5  10  10  5  1  \n"
     ]
    }
   ],
   "source": [
    "n = 6\n",
    "mat = []\n",
    "for i in range(0,n):\n",
    "\n",
    "    temp_mat = []\n",
    "\n",
    "    for j in range(i+1):\n",
    "        if j==0 or j==i:\n",
    "            temp_mat.append(1)\n",
    "        else:\n",
    "            temp_mat.append(mat[i-1][j-1] + mat[i-1][j])\n",
    "\n",
    "    mat.append(temp_mat)\n",
    "\n",
    "print(mat)\n",
    "\n",
    "for i in range(0, n):\n",
    "    for j in range(n-i-1):\n",
    "        print(\" \", end=\" \")\n",
    "    for j in range(i+1):\n",
    "        print(mat[i][j], end=\"  \")\n",
    "    print()"
   ]
  },
  {
   "cell_type": "markdown",
   "id": "f340980c",
   "metadata": {},
   "source": [
    "# 3. Kedanes Algorithm(Maximum Subarray Sum)\n",
    "Leetcode(medium) - 53"
   ]
  },
  {
   "cell_type": "markdown",
   "id": "355b5143",
   "metadata": {},
   "source": [
    "Given an integer array nums, find the \n",
    "subarray\n",
    " with the largest sum, and return its sum."
   ]
  },
  {
   "cell_type": "markdown",
   "id": "4125065e",
   "metadata": {},
   "source": [
    "Input: nums = [-2,1,-3,4,-1,2,1,-5,4],\n",
    "Output: 6,\n",
    "Explanation: The subarray [4,-1,2,1] has the largest sum 6.\n",
    "\n",
    "Input: nums = [1],\n",
    "Output: 1,\n",
    "Explanation: The subarray [1] has the largest sum 1.\n",
    "\n",
    "Input: nums = [5,4,-1,7,8],\n",
    "Output: 23,\n",
    "Explanation: The subarray [5,4,-1,7,8] has the largest sum 23."
   ]
  },
  {
   "cell_type": "code",
   "execution_count": 63,
   "id": "838bfd3f",
   "metadata": {},
   "outputs": [],
   "source": [
    "# solution referred from \"nETSETOS\"\n",
    "def maxSubArray(arr):\n",
    "    \n",
    "    max_so_far = 0\n",
    "    current_sum = 0\n",
    "    pointer = 0\n",
    "    start = 0\n",
    "    end = 0\n",
    "    \n",
    "    for i in range(0, len(arr)):\n",
    "        current_sum = current_sum + arr[i]\n",
    "        \n",
    "        if max_so_far < current_sum:\n",
    "            max_so_far = current_sum\n",
    "            start = pointer\n",
    "            end = i\n",
    "            \n",
    "        if current_sum < 0:\n",
    "            current_sum = 0\n",
    "            pointer = i + 1\n",
    "            \n",
    "    print(\"maximum sub array \", arr[start:end+1])\n",
    "    print(\"maximum sum is \", max_so_far)\n",
    "    return"
   ]
  },
  {
   "cell_type": "code",
   "execution_count": 64,
   "id": "872c562e",
   "metadata": {},
   "outputs": [
    {
     "name": "stdout",
     "output_type": "stream",
     "text": [
      "maximum sub array  [4, -1, 2, 1]\n",
      "maximum sum is  6\n"
     ]
    }
   ],
   "source": [
    "nums = [-2,1,-3,4,-1,2,1,-5,4]\n",
    "maxSubArray(nums)"
   ]
  },
  {
   "cell_type": "markdown",
   "id": "595b8970",
   "metadata": {},
   "source": [
    "# 4. Sort Colors (Sort an array of 0’s 1’s 2’s)\n",
    "Leetcode(medium) - 75\n",
    "\n",
    "Given an array nums with n objects colored red, white, or blue, sort them in-place so that objects of the same color are adjacent, with the colors in the order red, white, and blue.\n",
    "\n",
    "We will use the integers 0, 1, and 2 to represent the color red, white, and blue, respectively.\n",
    "\n",
    "You must solve this problem without using the library's sort function.\n",
    "\n",
    "Input: nums = [2,0,2,1,1,0]\n",
    "Output: [0,0,1,1,2,2]"
   ]
  },
  {
   "cell_type": "code",
   "execution_count": 20,
   "id": "e28f96ea",
   "metadata": {},
   "outputs": [],
   "source": [
    "# using bucket sort time complexity is O(n) and space complexity is o(1) because we have to sort it in place order\n",
    "\n",
    "def sortArray(nums):\n",
    "    \n",
    "    left = 0\n",
    "    right = len(nums)-1\n",
    "    # i is a pointer which goes from left to right\n",
    "    i = 0\n",
    "    \n",
    "    def swap(i, j):\n",
    "        temp = nums[i]\n",
    "        nums[i] = nums[j]\n",
    "        nums[j] = temp\n",
    "    \n",
    "    while i <= right:\n",
    "        \n",
    "        if nums[i] == 0:\n",
    "            swap(i, left)\n",
    "            left += 1\n",
    "            \n",
    "        elif nums[i] == 2:\n",
    "            swap(i, right)\n",
    "            right -= 1\n",
    "            i -= 1\n",
    "        \n",
    "        i += 1\n",
    "    \n",
    "    return nums"
   ]
  },
  {
   "cell_type": "code",
   "execution_count": 21,
   "id": "a4ed2d28",
   "metadata": {},
   "outputs": [
    {
     "data": {
      "text/plain": [
       "[0, 0, 1, 1, 2, 2]"
      ]
     },
     "execution_count": 21,
     "metadata": {},
     "output_type": "execute_result"
    }
   ],
   "source": [
    "nums = [2,0,2,1,1,0]\n",
    "sortArray(nums)"
   ]
  },
  {
   "cell_type": "code",
   "execution_count": 22,
   "id": "9ee72836",
   "metadata": {},
   "outputs": [
    {
     "data": {
      "text/plain": [
       "[0, 1, 2]"
      ]
     },
     "execution_count": 22,
     "metadata": {},
     "output_type": "execute_result"
    }
   ],
   "source": [
    "nums = [2,0,1]\n",
    "sortArray(nums)"
   ]
  },
  {
   "cell_type": "code",
   "execution_count": 10,
   "id": "7b0cf31d",
   "metadata": {},
   "outputs": [],
   "source": [
    "# this answer is using bubble sort and complexity is O(n*2)\n",
    "# if we use merge sort and quick sort then complexity is O(nlogn)\n",
    "# using flag to make algorithm adaptive(takes less time when partial sorted array is given)\n",
    "\n",
    "def sortColors(nums):\n",
    "        \n",
    "        # no of iteration = size of array\n",
    "        for i in range(0,len(nums)-1):\n",
    "            \n",
    "            flag = 0\n",
    "            \n",
    "            # checking with first element with every element \n",
    "            for j in range(len(nums)-1-i):\n",
    "\n",
    "                if nums[j] > nums[j+1]:\n",
    "\n",
    "                    nums[j], nums[j+1] = nums[j+1], nums[j]\n",
    "                    \n",
    "                    flag = 1\n",
    "            \n",
    "            if flag == 0:\n",
    "                break\n",
    "\n",
    "        return nums"
   ]
  },
  {
   "cell_type": "code",
   "execution_count": 11,
   "id": "9153bf46",
   "metadata": {},
   "outputs": [
    {
     "data": {
      "text/plain": [
       "[0, 0, 1, 1, 2, 2]"
      ]
     },
     "execution_count": 11,
     "metadata": {},
     "output_type": "execute_result"
    }
   ],
   "source": [
    "nums = [2,0,2,1,1,0]\n",
    "sortColors(nums)"
   ]
  },
  {
   "cell_type": "markdown",
   "id": "dfa80f58",
   "metadata": {},
   "source": [
    "# 5. Best Time to Buy and Sell Stock\n",
    "Leetcode(easy) - 121\n",
    "\n",
    "You are given an array prices where prices[i] is the price of a given stock on the ith day.\n",
    "\n",
    "You want to maximize your profit by choosing a single day to buy one stock and choosing a different day in the future to sell that stock.\n",
    "\n",
    "Return the maximum profit you can achieve from this transaction. If you cannot achieve any profit, return 0.\n",
    "\n",
    "Input: prices = [7,1,5,3,6,4]\n",
    "Output: 5\n",
    "\n",
    "Explanation: Buy on day 2 (price = 1) and sell on day 5 (price = 6), profit = 6-1 = 5.\n",
    "Note that buying on day 2 and selling on day 1 is not allowed because you must buy before you sell."
   ]
  },
  {
   "cell_type": "code",
   "execution_count": 91,
   "id": "c140abc7",
   "metadata": {},
   "outputs": [],
   "source": [
    "# solution refered from \"GeeksforGeeks\"\n",
    "def timeToBuySell(arr):\n",
    "    \n",
    "    buy = arr[0]\n",
    "    sell = 0\n",
    "    max_profit = 0\n",
    "    \n",
    "    for i in range(1, len(arr)):\n",
    "        \n",
    "        if arr[i] < buy:\n",
    "            buy = arr[i]\n",
    "        \n",
    "        elif max_profit < arr[i] - buy:\n",
    "            max_profit = arr[i] -buy\n",
    "            sell = arr[i]\n",
    "            \n",
    "    print(f\"maximum profit {max_profit}\")\n",
    "    print(f\"the stock bought at the cost of {buy} and sold at the cost of {sell}\")"
   ]
  },
  {
   "cell_type": "code",
   "execution_count": 92,
   "id": "82aefd88",
   "metadata": {},
   "outputs": [
    {
     "name": "stdout",
     "output_type": "stream",
     "text": [
      "maximum profit 5\n",
      "the stock bought at the cost of 1 and sold at the cost of 6\n"
     ]
    }
   ],
   "source": [
    "arr = [7,1,5,3,6,4]\n",
    "timeToBuySell(arr)"
   ]
  },
  {
   "cell_type": "markdown",
   "id": "9a0d1930",
   "metadata": {},
   "source": [
    "# 6. Rotate Matrix\n",
    "Leetcod(medium) - 48\n",
    "\n",
    "You are given an n x n 2D matrix representing an image, rotate the image by 90 degrees (clockwise).\n",
    "\n",
    "You have to rotate the image in-place, which means you have to modify the input 2D matrix directly. DO NOT allocate another 2D matrix and do the rotation.\n",
    "\n",
    "Input: matrix = [[1,2,3],[4,5,6],[7,8,9]],\n",
    "Output: [[7,4,1],[8,5,2],[9,6,3]]\n",
    "\n",
    "Input: matrix = [[5,1,9,11],[2,4,8,10],[13,3,6,7],[15,14,12,16]]\n",
    "Output: [[15,13,2,5],[14,3,4,1],[12,6,8,9],[16,7,10,11]]"
   ]
  },
  {
   "cell_type": "code",
   "execution_count": 28,
   "id": "fda5d707",
   "metadata": {},
   "outputs": [],
   "source": [
    "# solution from neetcode\n",
    "\n",
    "def rotateImage(matrix):\n",
    "    left = 0\n",
    "    right = len(matrix[0])-1\n",
    "    \n",
    "    while left <= right:\n",
    "        top = left\n",
    "        bottom = right\n",
    "        \n",
    "        for i in range(right - left):\n",
    "            \n",
    "            # save the top left\n",
    "            topLeft = matrix[top][left+i]\n",
    "            \n",
    "            # move the bottom left into top left\n",
    "            matrix[top][left+i] = matrix[bottom-i][left]\n",
    "            \n",
    "            # move the bottom right to bottom left\n",
    "            matrix[bottom-i][left] = matrix[bottom][right-i]\n",
    "            \n",
    "            # move the top right to bottom right\n",
    "            matrix[bottom][right-i] = matrix[top+i][right]\n",
    "            \n",
    "            # move the top left to top right\n",
    "            matrix[top+i][right] = topLeft\n",
    "        \n",
    "        # going into next inner layer of matrix\n",
    "        left += 1\n",
    "        right -= 1\n",
    "        \n",
    "    return matrix"
   ]
  },
  {
   "cell_type": "code",
   "execution_count": 29,
   "id": "881f2acb",
   "metadata": {},
   "outputs": [
    {
     "data": {
      "text/plain": [
       "[[7, 4, 1], [8, 5, 2], [9, 6, 3]]"
      ]
     },
     "execution_count": 29,
     "metadata": {},
     "output_type": "execute_result"
    }
   ],
   "source": [
    "matrix =[[1,2,3],[4,5,6],[7,8,9]]\n",
    "rotateImage(matrix)"
   ]
  },
  {
   "cell_type": "code",
   "execution_count": 122,
   "id": "4b43101d",
   "metadata": {},
   "outputs": [],
   "source": [
    "# this is my solution to print rotated matrix\n",
    "def rotateMat(matrix):\n",
    "    \n",
    "    for i in range(len(matrix[0])):\n",
    "        for j in range(len(matrix)):\n",
    "            print(matrix[len(matrix)-1-j][i], end=\" \")\n",
    "            \n",
    "        print()"
   ]
  },
  {
   "cell_type": "code",
   "execution_count": 123,
   "id": "a14befbb",
   "metadata": {},
   "outputs": [
    {
     "name": "stdout",
     "output_type": "stream",
     "text": [
      "7 4 1 \n",
      "8 5 2 \n",
      "9 6 3 \n"
     ]
    }
   ],
   "source": [
    "matrix =[[1,2,3],[4,5,6],[7,8,9]]\n",
    "rotateMat(matrix)"
   ]
  },
  {
   "cell_type": "markdown",
   "id": "485e8b81",
   "metadata": {},
   "source": [
    "# 7. Merge two sorted arrays\n",
    "Leetcode(easy) - 88\n"
   ]
  },
  {
   "cell_type": "markdown",
   "id": "1c2e0bb5",
   "metadata": {},
   "source": [
    "You are given two integer arrays nums1 and nums2, sorted in non-decreasing order, and two integers m and n, representing the number of elements in nums1 and nums2 respectively.\n",
    "\n",
    "Merge nums1 and nums2 into a single array sorted in non-decreasing order.\n",
    "\n",
    "The final sorted array should not be returned by the function, but instead be stored inside the array nums1. To accommodate this, nums1 has a length of m + n, where the first m elements denote the elements that should be merged, and the last n elements are set to 0 and should be ignored. nums2 has a length of n.\n",
    "\n",
    "\n",
    "Input: nums1 = [1,2,3,0,0,0], m = 3, nums2 = [2,5,6], n = 3\n",
    "Output: [1,2,2,3,5,6]\n",
    "\n",
    "Explanation: The arrays we are merging are [1,2,3] and [2,5,6].\n",
    "The result of the merge is [1,2,2,3,5,6] with the underlined elements coming from nums1."
   ]
  },
  {
   "cell_type": "code",
   "execution_count": 14,
   "id": "94dbe0e0",
   "metadata": {},
   "outputs": [],
   "source": [
    "# solution from neetcode\n",
    "# we have solve this problem in place order which means time complexity O(n)\n",
    "\n",
    "def mergeArray(nums1, m, nums2, n):\n",
    "    \n",
    "    # last element index of 1st array\n",
    "    lastEnd = m+n-1\n",
    "    \n",
    "    # merging in reverse order\n",
    "    while m>0 and n>0:\n",
    "        \n",
    "        if nums1[m-1] > nums2[n-1]:\n",
    "            # putting element of nums1 to end of the nums1\n",
    "            nums1[lastEnd] = nums1[m-1]\n",
    "            m -= 1\n",
    "            \n",
    "        else:\n",
    "            # putting element of nums2 to end of the nums1\n",
    "            nums1[lastEnd] = nums2[n-1]\n",
    "            n -= 1\n",
    "            \n",
    "        lastEnd -= 1\n",
    "            \n",
    "    while n > 0:\n",
    "        \n",
    "        # if any element remained in nums2 puttin it to nums1\n",
    "        nums1[lastEnd] = nums2[n-1]\n",
    "        lastEnd -= 1\n",
    "        n -= 1\n",
    "    \n",
    "    return nums1\n",
    "            "
   ]
  },
  {
   "cell_type": "code",
   "execution_count": 13,
   "id": "98841084",
   "metadata": {},
   "outputs": [
    {
     "data": {
      "text/plain": [
       "[1, 2, 2, 3, 5, 6]"
      ]
     },
     "execution_count": 13,
     "metadata": {},
     "output_type": "execute_result"
    }
   ],
   "source": [
    "nums1 = [1,2,3,0,0,0]\n",
    "m = 3\n",
    "nums2 = [2,5,6]\n",
    "n = 3\n",
    "mergeArray(nums1,m, nums2, n)"
   ]
  },
  {
   "cell_type": "code",
   "execution_count": 3,
   "id": "19748869",
   "metadata": {},
   "outputs": [],
   "source": [
    "# this solution is the helper funtion for merge sort (campusX)\n",
    "# time complexity O(n), space complexity O(n)\n",
    "\n",
    "def merge(nums1, m, nums2, n):\n",
    "    arr = []\n",
    "    i = 0 \n",
    "    j = 0\n",
    "    while i < m and j < n:\n",
    "\n",
    "        if nums1[i] < nums2[j]:\n",
    "            arr.append(nums1[i])\n",
    "            i += 1\n",
    "\n",
    "        else:\n",
    "            arr.append(nums2[j])\n",
    "            j += 1\n",
    "    \n",
    "    while i < m:\n",
    "        arr.append(nums1[i])\n",
    "        i += 1\n",
    "        \n",
    "    while j < n:\n",
    "        arr.append(nums2[j])\n",
    "        j += 1\n",
    "\n",
    "    return arr"
   ]
  },
  {
   "cell_type": "code",
   "execution_count": 6,
   "id": "baefcda2",
   "metadata": {},
   "outputs": [
    {
     "data": {
      "text/plain": [
       "[1, 2, 2, 3, 5, 6]"
      ]
     },
     "execution_count": 6,
     "metadata": {},
     "output_type": "execute_result"
    }
   ],
   "source": [
    "nums1 = [1,2,3,0,0,0]\n",
    "m = 3\n",
    "nums2 = [2,5,6]\n",
    "n = 3\n",
    "merge(nums1, m, nums2, n)"
   ]
  },
  {
   "cell_type": "code",
   "execution_count": 151,
   "id": "81e93810",
   "metadata": {},
   "outputs": [
    {
     "data": {
      "text/plain": [
       "[1]"
      ]
     },
     "execution_count": 151,
     "metadata": {},
     "output_type": "execute_result"
    }
   ],
   "source": [
    "nums1 = [0]\n",
    "m = 0\n",
    "nums2 = [1]\n",
    "n = 1\n",
    "merge(nums1, m, nums2, n)"
   ]
  },
  {
   "cell_type": "code",
   "execution_count": 8,
   "id": "15bbf037",
   "metadata": {},
   "outputs": [
    {
     "data": {
      "text/plain": [
       "[1, 2, 2, 3, 5, 6]"
      ]
     },
     "execution_count": 8,
     "metadata": {},
     "output_type": "execute_result"
    }
   ],
   "source": [
    "nums1 = [1,2,3,0,0,0]\n",
    "m = 3\n",
    "nums2 = [2,5,6]\n",
    "n = 3\n",
    "merge(nums1, m, nums2, n)\n",
    "#Output: [1,2,2,3,5,6]"
   ]
  },
  {
   "cell_type": "markdown",
   "id": "360009a9",
   "metadata": {},
   "source": [
    "# 8. Find the Duplicate Number\n",
    "Leetcode(medium) - 287\n",
    "\n",
    "Given an array of integers nums containing n + 1 integers where each integer is in the range [1, n] inclusive.\n",
    "\n",
    "There is only one repeated number in nums, return this repeated number.\n",
    "\n",
    "You must solve the problem without modifying the array nums and uses only constant extra space.\n",
    "\n",
    "Input: nums = [1,3,4,2,2],\n",
    "Output: 2\n",
    "\n",
    "Input: nums = [3,1,3,4,2],\n",
    "Output: 3"
   ]
  },
  {
   "cell_type": "code",
   "execution_count": 18,
   "id": "9823967c",
   "metadata": {},
   "outputs": [],
   "source": [
    "# floyd's cycle space complexity is O(1)\n",
    "\n",
    "def duplicateNum(nums):\n",
    "    \n",
    "    slow = 0\n",
    "    fast = 0\n",
    "    \n",
    "    while True:\n",
    "        \n",
    "        slow = nums[slow] # slow will increase by one step\n",
    "        fast = nums[nums[fast]] # fast will increase by 2 steps\n",
    "        if slow == fast:\n",
    "            break\n",
    "    \n",
    "    # after intersection of slow and fast again fast(fast2) is starting from 0\n",
    "    fast2 = 0\n",
    "    \n",
    "    while True:\n",
    "        \n",
    "        slow = nums[slow] # slow will increment by 1 step\n",
    "        fast2 = nums[fast2] # this time fast will increment by 1 step\n",
    "        if slow == fast2:\n",
    "            break\n",
    "            \n",
    "    return slow"
   ]
  },
  {
   "cell_type": "code",
   "execution_count": 19,
   "id": "1e3163fd",
   "metadata": {},
   "outputs": [
    {
     "data": {
      "text/plain": [
       "2"
      ]
     },
     "execution_count": 19,
     "metadata": {},
     "output_type": "execute_result"
    }
   ],
   "source": [
    "nums = [1,3,4,2,2]\n",
    "duplicateNum(nums)"
   ]
  },
  {
   "cell_type": "code",
   "execution_count": 20,
   "id": "b59d29ce",
   "metadata": {},
   "outputs": [
    {
     "data": {
      "text/plain": [
       "3"
      ]
     },
     "execution_count": 20,
     "metadata": {},
     "output_type": "execute_result"
    }
   ],
   "source": [
    "nums = [3,1,3,4,2]\n",
    "duplicateNum(nums)"
   ]
  },
  {
   "cell_type": "code",
   "execution_count": 152,
   "id": "92727f55",
   "metadata": {},
   "outputs": [],
   "source": [
    "# my solution of brute force approach\n",
    "\n",
    "def duplicate(nums):    \n",
    "    \n",
    "    dic = {}\n",
    "\n",
    "    for i in nums:\n",
    "\n",
    "        if i in dic:\n",
    "            return i\n",
    "        else:\n",
    "            dic[i] = None"
   ]
  },
  {
   "cell_type": "code",
   "execution_count": 155,
   "id": "6d435454",
   "metadata": {},
   "outputs": [
    {
     "data": {
      "text/plain": [
       "2"
      ]
     },
     "execution_count": 155,
     "metadata": {},
     "output_type": "execute_result"
    }
   ],
   "source": [
    "nums = [1,3,4,2,2]\n",
    "duplicate(nums)"
   ]
  },
  {
   "cell_type": "markdown",
   "id": "5a32a329",
   "metadata": {},
   "source": [
    "# 9. Repeat and missing number array\n",
    "iterviewbit(medium)\n",
    "\n",
    "You are given a read only array of n integers from 1 to n.\n",
    "\n",
    "Each integer appears exactly once except A which appears twice and B which is missing.\n",
    "\n",
    "Return A and B.\n",
    "\n",
    "Note: Your algorithm should have a linear runtime complexity. Could you implement it without using extra memory?\n",
    "\n",
    "Note that in your output A should precede B.\n",
    "\n",
    "Input:[3 1 2 5 3], \n",
    "Output:[3, 4], \n",
    "A = 3, B = 4"
   ]
  },
  {
   "cell_type": "code",
   "execution_count": 42,
   "id": "4d2069a0",
   "metadata": {},
   "outputs": [],
   "source": [
    "# time complexity O(nlog(n**2))\n",
    "\n",
    "def repeatAndMissing(nums):\n",
    "    \n",
    "    nums.sort()\n",
    "    \n",
    "    for i in range(len(nums)):\n",
    "        for j in range(i+1, len(nums)):\n",
    "            if nums[i] == nums[j]:\n",
    "                print(\"The repeated numbers \", nums[i])\n",
    "                break\n",
    "        \n",
    "    for i in range(1, len(nums)+1):\n",
    "        if i != nums[i-1]:\n",
    "            print(\"The missing number is \", i)\n",
    "            break\n",
    "    \n",
    "    "
   ]
  },
  {
   "cell_type": "code",
   "execution_count": 43,
   "id": "8f4a08a4",
   "metadata": {},
   "outputs": [
    {
     "name": "stdout",
     "output_type": "stream",
     "text": [
      "The repeated numbers  2\n",
      "The missing number is  3\n"
     ]
    }
   ],
   "source": [
    "nums = [1,3,4,2,2]\n",
    "repeatAndMissing(nums)"
   ]
  },
  {
   "cell_type": "markdown",
   "id": "4d2aa844",
   "metadata": {},
   "source": [
    "#### Method 1 (Use Sorting)\n",
    "(all the solutions from geegsforgeeks)\n",
    "\n",
    "Approach: \n",
    "\n",
    "1. Sort the input array.\n",
    "2. Traverse the array and check for missing and repeating."
   ]
  },
  {
   "cell_type": "code",
   "execution_count": 40,
   "id": "7fc5df37",
   "metadata": {},
   "outputs": [],
   "source": [
    "#Time Complexity: O(nLogn)\n",
    "#Auxiliary Space: O(1) (No extra array was used)\n",
    "\n",
    "def repeatAndMissing(arr, n):\n",
    "    \n",
    "    arr.sort()\n",
    "    print(\"The repeating element is\",end=\" \")\n",
    "    for i in range(0, n - 1):\n",
    "        if(arr[i] == arr[i + 1]):\n",
    "            print(arr[i])\n",
    "            break\n",
    "\n",
    "    print(\"and the missing element is\",end=\" \")\n",
    "    for i in range(1, n + 1):\n",
    "        # sorted array => [1,2,3,4,4] and index 0,1,2,3,4\n",
    "        # i=2, if 2 != arr[2-1] ==> 2 != 2\n",
    "        if(i != arr[i - 1]):\n",
    "            print(i)\n",
    "            break"
   ]
  },
  {
   "cell_type": "code",
   "execution_count": 41,
   "id": "c870f3f9",
   "metadata": {},
   "outputs": [
    {
     "name": "stdout",
     "output_type": "stream",
     "text": [
      "The repeating element is 2\n",
      "and the missing element is 3\n"
     ]
    }
   ],
   "source": [
    "nums = [1,3,4,2,2]\n",
    "n = len(nums)\n",
    "repeat(nums, n)"
   ]
  },
  {
   "cell_type": "markdown",
   "id": "45c51688",
   "metadata": {},
   "source": [
    "#### Method 2 (Use count array)\n",
    "Approach: \n",
    "\n",
    "1. Create a temp array temp[] of size n with all initial values as 0.\n",
    "2. Traverse the input array arr[], and do the following for each arr[i] \n",
    "- if(temp[arr[i]-1] == 0), set temp[arr[i]-1] = 1;\n",
    "- if(temp[arr[i]-1] == 1) output “arr[i]” //repeating number\n",
    "3. Traverse temp[] and output ‘i+1’ corresponding to the element of array temp[] having value as 0. (This is the missing number)\n",
    "\n",
    "Note that, we use ‘arr[i]-1’ as the corresponding element to the ‘arr[i]’ in temp[] array, as indexing in an array starts from 0 to n-1 and the input array arr[] has numbers from 1 to n."
   ]
  },
  {
   "cell_type": "code",
   "execution_count": 58,
   "id": "27474105",
   "metadata": {},
   "outputs": [],
   "source": [
    "#Time Complexity: O(n)\n",
    "#Auxiliary Space: O(n)\n",
    "\n",
    "def repeatAndMissing(arr):\n",
    "    n = len(arr)\n",
    "    temp = [0] * n # array of all zero elements\n",
    "    repeatingNum = -1\n",
    "    missingNum = -1\n",
    "    \n",
    "    for i in range(n):\n",
    "        # it will replace 0 with 1 in temp array\n",
    "        temp[arr[i]-1] += 1\n",
    "        if temp[arr[i]-1] > 1:\n",
    "            # when element value is 2 or more means the element of that index is repeated in given array\n",
    "            repeatingNum = arr[i]\n",
    "    \n",
    "    for i in range(n):\n",
    "        # when element in temp array is remained zero that means element of that index is missing \n",
    "        # which means i + 1 (because array=[1,2,3,4,5,6], index = 0,1,2,3,4,5)\n",
    "        if temp[i] == 0:\n",
    "            missingNum = i + 1\n",
    "            \n",
    "    print(\"The repeating number is \", repeatingNum)\n",
    "    print(\"The missing number is \", missingNum)\n",
    "            "
   ]
  },
  {
   "cell_type": "code",
   "execution_count": 60,
   "id": "103ea6bf",
   "metadata": {},
   "outputs": [
    {
     "name": "stdout",
     "output_type": "stream",
     "text": [
      "The repeating number is  3\n",
      "The missing number is  4\n"
     ]
    }
   ],
   "source": [
    "#nums = [1,3,4,2,2]\n",
    "nums = [3,1,2,5,3]\n",
    "repeatAndMissing(nums)"
   ]
  },
  {
   "cell_type": "markdown",
   "id": "58295a3e",
   "metadata": {},
   "source": [
    "#### Method 3 (Use elements as Index and mark the visited places)\n",
    "\n",
    "Approach: \n",
    "    \n",
    "Traverse the array. While traversing, use the absolute value of every element as an index and make the value at this index negative to mark it visited. If something is already marked negative then this is the repeating element. To find the missing, traverse the array again and look for a positive value."
   ]
  },
  {
   "cell_type": "code",
   "execution_count": 47,
   "id": "86a2058f",
   "metadata": {},
   "outputs": [
    {
     "name": "stdout",
     "output_type": "stream",
     "text": [
      "The repeating element is  5\n",
      "and the missing element is  1\n"
     ]
    }
   ],
   "source": [
    "#Time Complexity: O(n)\n",
    "#Auxiliary Space: O(1)\n",
    "\n",
    "def printTwoElements( arr, size):\n",
    "    \n",
    "    for i in range(size):\n",
    "        if arr[abs(arr[i])-1] > 0:\n",
    "            arr[abs(arr[i])-1] = -arr[abs(arr[i])-1]\n",
    "        else:\n",
    "            print(\"The repeating element is \", abs(arr[i]))\n",
    "             \n",
    "    for i in range(size):\n",
    "        if arr[i]>0:\n",
    "            print(\"and the missing element is \", i + 1)\n",
    " \n",
    "# Driver program to test above function \n",
    "arr = [7, 3, 4, 5, 5, 6, 2]\n",
    "n = len(arr)\n",
    "printTwoElements(arr, n)\n",
    " "
   ]
  },
  {
   "cell_type": "markdown",
   "id": "dc1a2fcc",
   "metadata": {},
   "source": [
    "# 10. Merge Intervals\n",
    "- leetcode(medium) - 56\n",
    "\n",
    "- Given an array of intervals where intervals[i] = [starti, endi], merge all overlapping intervals, and return an array of the non-overlapping intervals that cover all the intervals in the input."
   ]
  },
  {
   "cell_type": "markdown",
   "id": "ab360c73",
   "metadata": {},
   "source": [
    "- Input: intervals = [[1,3],[2,6],[8,10],[15,18]]\n",
    "- Output: [[1,6],[8,10],[15,18]]\n",
    "- Explanation: Since intervals [1,3] and [2,6] overlap, merge them into [1,6]."
   ]
  },
  {
   "cell_type": "code",
   "execution_count": 74,
   "id": "6d54f0a7",
   "metadata": {},
   "outputs": [],
   "source": [
    "# solution from neetcode\n",
    "# runtime = O(nlogn)\n",
    "\n",
    "def mergeInterval(interval):\n",
    "    \n",
    "    # sorting array of intervals with respect to 1st element in the interval\n",
    "    intervals.sort(key = lambda i : i[0])\n",
    "    output = [intervals[0]]\n",
    "    \n",
    "    # unpacking the intervals\n",
    "    for first, end in intervals[1:]:\n",
    "        \n",
    "        # end element of last interval\n",
    "        lastEnd = output[-1][1]\n",
    "        \n",
    "        # eg: output=[1,3], i=[2,6]\n",
    "        # if first(2) < lastEnd(3) then merge them\n",
    "        if first <= lastEnd:\n",
    "            output[-1][1] = max(end,lastEnd)\n",
    "            \n",
    "        else:\n",
    "            output.append([first,end])\n",
    "    \n",
    "    return output"
   ]
  },
  {
   "cell_type": "code",
   "execution_count": 75,
   "id": "9f8e6245",
   "metadata": {},
   "outputs": [
    {
     "data": {
      "text/plain": [
       "[[1, 6], [8, 10], [15, 18]]"
      ]
     },
     "execution_count": 75,
     "metadata": {},
     "output_type": "execute_result"
    }
   ],
   "source": [
    "intervals = [[1,3],[2,6],[15,18],[8,10]]\n",
    "mergeInterval(intervals)"
   ]
  },
  {
   "cell_type": "code",
   "execution_count": 67,
   "id": "a88ff953",
   "metadata": {},
   "outputs": [],
   "source": [
    "intervals = [[1,3],[2,6],[15,18],[8,10]]\n",
    "intervals.sort(key = lambda i : i[0])"
   ]
  },
  {
   "cell_type": "code",
   "execution_count": 68,
   "id": "2bbb171d",
   "metadata": {},
   "outputs": [
    {
     "data": {
      "text/plain": [
       "[[1, 3], [2, 6], [8, 10], [15, 18]]"
      ]
     },
     "execution_count": 68,
     "metadata": {},
     "output_type": "execute_result"
    }
   ],
   "source": [
    "intervals"
   ]
  },
  {
   "cell_type": "markdown",
   "id": "a285eea7",
   "metadata": {},
   "source": [
    "# 11. Search in a 2D Matrix\n",
    "- Leetcode(medium) - 74\n",
    "\n",
    "You are given an m x n integer matrix matrix with the following two properties:\n",
    "\n",
    "- Each row is sorted in non-decreasing order.\n",
    "- The first integer of each row is greater than the last integer of the previous row.\n",
    "\n",
    "Given an integer target, return true if target is in matrix or false otherwise.\n",
    "\n",
    "You must write a solution in O(log(m * n)) time complexity.\n",
    "\n",
    "- Input: matrix = [[1,3,5,7],[10,11,16,20],[23,30,34,60]], target = 3\n",
    "- Output: true"
   ]
  },
  {
   "cell_type": "code",
   "execution_count": 109,
   "id": "37aecbb6",
   "metadata": {},
   "outputs": [],
   "source": [
    "# solution from neetcode, runtime - O(logn+logm)\n",
    "# this solution is using binary search\n",
    "\n",
    "def searchInMat(matrxi, target):\n",
    "    \n",
    "    ROW = len(matrix)\n",
    "    COL = len(matrix[0])\n",
    "    \n",
    "    # initializing top and bottom rows\n",
    "    top = 0\n",
    "    bottom = ROW-1\n",
    "    \n",
    "    # Searching for rows of the element to be searched\n",
    "    while top <= bottom:\n",
    "        mid_row = (top+bottom)//2\n",
    "        # if target is greater last element of the row\n",
    "        if target > matrix[mid_row][-1]:\n",
    "            top = mid_row+1\n",
    "        # if target is lesser than 1st element of the row\n",
    "        elif target < matrix[mid_row][0]:\n",
    "            bottom = mid_row-1\n",
    "        else:\n",
    "            # row is found\n",
    "            break\n",
    "    \n",
    "    # if while loop is broke because top<=bottom then return false\n",
    "    if not (top <= bottom):\n",
    "        return False\n",
    "    \n",
    "    # initializing left and right index to find element inside the row\n",
    "    left = 0\n",
    "    right = COL-1\n",
    "    mid_row = (top+bottom)//2\n",
    "    \n",
    "    # searching for element in the row\n",
    "    while left <= right:\n",
    "        mid_col = (left+right)//2\n",
    "        # if target greater than mid element of row then left will become mid+1\n",
    "        if target > matrix[mid_row][mid_col]:\n",
    "            left = mid_col+1\n",
    "        # # if target lesser than mid element of row then right will become mid-1\n",
    "        elif target < matrix[mid_row][mid_col]:\n",
    "            right = mid_col-1\n",
    "        else:\n",
    "            # target is found\n",
    "            return True\n",
    "        \n",
    "    return False"
   ]
  },
  {
   "cell_type": "code",
   "execution_count": 110,
   "id": "043dcfbd",
   "metadata": {},
   "outputs": [
    {
     "data": {
      "text/plain": [
       "True"
      ]
     },
     "execution_count": 110,
     "metadata": {},
     "output_type": "execute_result"
    }
   ],
   "source": [
    "matrix = [[1,3,5,7],[10,11,16,20],[23,30,34,60]]\n",
    "target = 3\n",
    "searchInMat(matrix, target)"
   ]
  },
  {
   "cell_type": "code",
   "execution_count": 111,
   "id": "4987d822",
   "metadata": {},
   "outputs": [
    {
     "data": {
      "text/plain": [
       "False"
      ]
     },
     "execution_count": 111,
     "metadata": {},
     "output_type": "execute_result"
    }
   ],
   "source": [
    "Input: matrix = [[1,3,5,7],[10,11,16,20],[23,30,34,60]]\n",
    "target = 13\n",
    "searchInMat(matrix, target)"
   ]
  },
  {
   "cell_type": "code",
   "execution_count": 112,
   "id": "eea25bae",
   "metadata": {},
   "outputs": [],
   "source": [
    "# My solution, runtime - O(n**2)\n",
    "\n",
    "def searchInMat(matrix, target):\n",
    "    \n",
    "    for i in range(len(matrix)):\n",
    "        for j in range(len(matrix[0])):\n",
    "            if matrix[i][j] == target:\n",
    "                return True\n",
    "    return False"
   ]
  },
  {
   "cell_type": "code",
   "execution_count": 113,
   "id": "d000eaa8",
   "metadata": {},
   "outputs": [
    {
     "data": {
      "text/plain": [
       "True"
      ]
     },
     "execution_count": 113,
     "metadata": {},
     "output_type": "execute_result"
    }
   ],
   "source": [
    "matrix = [[1,3,5,7],[10,11,16,20],[23,30,34,60]]\n",
    "target = 3\n",
    "searchInMat(matrix, target)"
   ]
  },
  {
   "cell_type": "markdown",
   "id": "1ff4e613",
   "metadata": {},
   "source": [
    "# 12. Pow(x,n)\n",
    "- Leetcode(medium) - 50\n",
    "\n",
    "Implement pow(x, n), which calculates x raised to the power n (i.e., xn).\n",
    "\n",
    "- Input: x = 2.00000, n = 10\n",
    "- Output: 1024.00000\n"
   ]
  },
  {
   "cell_type": "markdown",
   "id": "371a0daa",
   "metadata": {},
   "source": [
    "\n",
    "- Input: x = 2.00000, n = -2\n",
    "- Output: 0.25000\n",
    "- Explanation: 2-2 = 1/22 = 1/4 = 0.25"
   ]
  },
  {
   "cell_type": "code",
   "execution_count": 9,
   "id": "1316a080",
   "metadata": {},
   "outputs": [],
   "source": [
    "# optimized solution from Sai Anish Malla\n",
    "# because n is dividing here, runtime is O(logn)\n",
    "\n",
    "def myPow(x, n):\n",
    "    \n",
    "    # when x^0\n",
    "    if n == 0:\n",
    "        return 1\n",
    "    \n",
    "    # when n is negative\n",
    "    elif n < 1:\n",
    "        return myPow(1/x, -n)\n",
    "            \n",
    "    # when n is even \n",
    "    elif n % 2 == 0:\n",
    "        temp = myPow(x, n//2)\n",
    "        return temp * temp\n",
    "    \n",
    "    # when n is odd\n",
    "    else:\n",
    "        temp = myPow(x, n-1)\n",
    "        return x * temp\n"
   ]
  },
  {
   "cell_type": "code",
   "execution_count": 11,
   "id": "bc026cd4",
   "metadata": {},
   "outputs": [
    {
     "data": {
      "text/plain": [
       "0.25"
      ]
     },
     "execution_count": 11,
     "metadata": {},
     "output_type": "execute_result"
    }
   ],
   "source": [
    "myPow(2, -2)"
   ]
  },
  {
   "cell_type": "code",
   "execution_count": 5,
   "id": "6d506030",
   "metadata": {},
   "outputs": [],
   "source": [
    "# my solution of bruteforce, runtime - log(n)\n",
    "\n",
    "def power(x, n):\n",
    "    y = x\n",
    "    for i in range(n-1):\n",
    "        x = x * y\n",
    "        \n",
    "    return x"
   ]
  },
  {
   "cell_type": "code",
   "execution_count": 6,
   "id": "7c34056a",
   "metadata": {},
   "outputs": [
    {
     "data": {
      "text/plain": [
       "1024"
      ]
     },
     "execution_count": 6,
     "metadata": {},
     "output_type": "execute_result"
    }
   ],
   "source": [
    "power(2,10)"
   ]
  },
  {
   "cell_type": "markdown",
   "id": "c3dbcbc1",
   "metadata": {},
   "source": [
    "# 13. Majority Element \n",
    "- Leetcode(easy) - 169\n",
    "\n",
    "Given an array nums of size n, return the majority element.\n",
    "\n",
    "The majority element is the element that appears more than ⌊n / 2⌋ times. You may assume that the majority element always exists in the array.\n",
    "\n",
    "- Input: nums = [3,2,3]\n",
    "- Output: 3\n",
    "\n",
    "- Input: nums = [2,2,1,1,1,2,2]\n",
    "- Output: 2"
   ]
  },
  {
   "cell_type": "code",
   "execution_count": 61,
   "id": "b13b4c91",
   "metadata": {},
   "outputs": [],
   "source": [
    "# solution from neetcode, Moore's voting algorithm\n",
    "# runtime - O(n), space - O(1)\n",
    "\n",
    "def majority(nums):\n",
    "    \n",
    "    count = 0\n",
    "    element = 0 \n",
    "    \n",
    "    for i in nums:\n",
    "        if count == 0:\n",
    "            element = i\n",
    "        count += (1 if i == element else -1)\n",
    "    \n",
    "    return element"
   ]
  },
  {
   "cell_type": "code",
   "execution_count": 62,
   "id": "e06f3463",
   "metadata": {},
   "outputs": [
    {
     "data": {
      "text/plain": [
       "3"
      ]
     },
     "execution_count": 62,
     "metadata": {},
     "output_type": "execute_result"
    }
   ],
   "source": [
    "nums = [3,2,3]\n",
    "majority(nums)"
   ]
  },
  {
   "cell_type": "code",
   "execution_count": 63,
   "id": "ff78a391",
   "metadata": {},
   "outputs": [
    {
     "data": {
      "text/plain": [
       "2"
      ]
     },
     "execution_count": 63,
     "metadata": {},
     "output_type": "execute_result"
    }
   ],
   "source": [
    "nums = [2,2,1,1,1,2,2]\n",
    "majority(nums)"
   ]
  },
  {
   "cell_type": "code",
   "execution_count": 56,
   "id": "3082adb7",
   "metadata": {},
   "outputs": [],
   "source": [
    "# My solution, runtime - O(n), space - O(n)\n",
    "\n",
    "def majority(nums):\n",
    "    \n",
    "    dic = {}\n",
    "    \n",
    "    for i in nums:\n",
    "        if i in dic:\n",
    "            dic[i] += 1\n",
    "        else:\n",
    "            dic[i] = 1\n",
    "            \n",
    "    for key, value in dic.items():\n",
    "        if value > len(nums)//2:\n",
    "            return key"
   ]
  },
  {
   "cell_type": "code",
   "execution_count": 57,
   "id": "76a9d41a",
   "metadata": {},
   "outputs": [
    {
     "data": {
      "text/plain": [
       "3"
      ]
     },
     "execution_count": 57,
     "metadata": {},
     "output_type": "execute_result"
    }
   ],
   "source": [
    "nums = [3,2,3]\n",
    "majority(nums)"
   ]
  },
  {
   "cell_type": "code",
   "execution_count": 58,
   "id": "a1096995",
   "metadata": {},
   "outputs": [
    {
     "data": {
      "text/plain": [
       "2"
      ]
     },
     "execution_count": 58,
     "metadata": {},
     "output_type": "execute_result"
    }
   ],
   "source": [
    "nums = [2,2,1,1,1,2,2]\n",
    "majority(nums)"
   ]
  },
  {
   "cell_type": "markdown",
   "id": "af9d50af",
   "metadata": {},
   "source": [
    "# 14. Majority Element 2\n",
    "- Leetcode(medium) - 229\n",
    "\n",
    "Given an integer array of size n, find all elements that appear more than ⌊ n/3 ⌋ times.\n",
    "\n",
    "- Input: nums = [3,2,3]\n",
    "- Output: [3]"
   ]
  },
  {
   "cell_type": "code",
   "execution_count": 96,
   "id": "6d8ff77c",
   "metadata": {},
   "outputs": [],
   "source": [
    "# solutin from sai anish malla\n",
    "# runtime - O(n), space - O(1)\n",
    "\n",
    "def majority2(nums):\n",
    "    \n",
    "    n = len(nums)\n",
    "    \n",
    "    # if length of array is 0\n",
    "    if not nums:\n",
    "        return []\n",
    "    \n",
    "    count1 = 0\n",
    "    count2 = 0\n",
    "    element1 = None\n",
    "    element2 = None\n",
    "    \n",
    "    for num in nums:\n",
    "        \n",
    "        if element1 == num:\n",
    "            count1 += 1\n",
    "            \n",
    "        elif element2 == num:\n",
    "            count2 += 1\n",
    "        \n",
    "        elif count1 == 0:\n",
    "            element1 = num\n",
    "            count1 += 1\n",
    "        \n",
    "        elif count2 == 0:\n",
    "            element2 = num\n",
    "            count2 += 1\n",
    "        \n",
    "        else:\n",
    "            count1 -= 1\n",
    "            count2 -= 1\n",
    "    \n",
    "    # nums.count(element)=> checking count of element in nums, if greater than n//3 then return element \n",
    "    return [element for element in [element1, element2] if nums.count(element) > n//3]"
   ]
  },
  {
   "cell_type": "code",
   "execution_count": 97,
   "id": "3c304389",
   "metadata": {},
   "outputs": [
    {
     "data": {
      "text/plain": [
       "[3]"
      ]
     },
     "execution_count": 97,
     "metadata": {},
     "output_type": "execute_result"
    }
   ],
   "source": [
    "nums = [3,2,3]\n",
    "majority2(nums)"
   ]
  },
  {
   "cell_type": "code",
   "execution_count": 98,
   "id": "e00b63f9",
   "metadata": {},
   "outputs": [
    {
     "data": {
      "text/plain": [
       "[2, 1]"
      ]
     },
     "execution_count": 98,
     "metadata": {},
     "output_type": "execute_result"
    }
   ],
   "source": [
    "nums = [2,2,1,1,1,2,2]\n",
    "majority2(nums)"
   ]
  },
  {
   "cell_type": "markdown",
   "id": "ec78d3d5",
   "metadata": {},
   "source": [
    "# 15. Unique Paths\n",
    "- Leetcode(medium) - 62\n",
    "\n",
    "There is a robot on an m x n grid. The robot is initially located at the top-left corner (i.e., grid[0][0]). The robot tries to move to the bottom-right corner (i.e., grid[m - 1][n - 1]). The robot can only move either down or right at any point in time.\n",
    "\n",
    "Given the two integers m and n, return the number of possible unique paths that the robot can take to reach the bottom-right corner.\n",
    "\n",
    "The test cases are generated so that the answer will be less than or equal to 2 * 109.\n",
    "\n",
    "- Input: m = 3, n = 7\n",
    "- Output: 28"
   ]
  },
  {
   "cell_type": "markdown",
   "id": "8f9191e7",
   "metadata": {},
   "source": [
    "- Input: m = 3, n = 2\n",
    "- Output: 3\n",
    "- Explanation: From the top-left corner, there are a total of 3 ways to reach the bottom-right corner:\n",
    "1. Right -> Down -> Down\n",
    "2. Down -> Down -> Right\n",
    "3. Down -> Right -> Down"
   ]
  },
  {
   "cell_type": "code",
   "execution_count": 111,
   "id": "830f8665",
   "metadata": {},
   "outputs": [],
   "source": [
    "# solution from neetcode\n",
    "# runtime - O(m * n), space - O(n)\n",
    "\n",
    "def uniquePaths(m, n):\n",
    "    \n",
    "    # creating row of size no. of columns\n",
    "    row = [1] * n\n",
    "    \n",
    "    # traversing all the rows except last row\n",
    "    for i in range(m-1):\n",
    "        # assume this newRow above the row\n",
    "        newRow = [1] * n\n",
    "        \n",
    "        # traversing the colum from 2nd last to 0\n",
    "        for j in range(n-2, -1, -1):\n",
    "            # eg: newRow[5] = newRow[6]+row[5] => newRow[5] = 1+1=2\n",
    "            newRow[j] = newRow[j+1] + row[j]\n",
    "            \n",
    "        # updating the row with newRow\n",
    "        row = newRow\n",
    "        \n",
    "    return row[0]"
   ]
  },
  {
   "cell_type": "code",
   "execution_count": 112,
   "id": "82ccb9ae",
   "metadata": {},
   "outputs": [
    {
     "data": {
      "text/plain": [
       "28"
      ]
     },
     "execution_count": 112,
     "metadata": {},
     "output_type": "execute_result"
    }
   ],
   "source": [
    "m = 3\n",
    "n = 7\n",
    "uniquePaths(m,n)"
   ]
  },
  {
   "cell_type": "markdown",
   "id": "05b28ce0",
   "metadata": {},
   "source": [
    "# 16. Count Inversion\n",
    "- CodeStudio(medium)\n",
    "\n",
    "For a given integer array/lis 'ARR' of size 'N' containing all distinct values, find the toatl number of Inversions that may exist.\n",
    "\n",
    "An inversion is defined for a pair of integers in the array/list when the following two conditions are met.\n",
    "\n",
    "A pair('ARR[i]', 'ARR[i]') is said to be an inversion when:\n",
    "\n",
    "1. 'ARR[i]' > 'ARR[j]'\n",
    "2. 'i' < 'j'\n",
    "\n",
    "where 'i' and 'j' denote the indices ranging from [0, 'N'].\n",
    "\n",
    "- input: nums = [3,2,1]\n",
    "- output: 3 (3 is the number of pairs made)"
   ]
  },
  {
   "cell_type": "markdown",
   "id": "f9e529c7",
   "metadata": {},
   "source": [
    "### Approach\n",
    "- Define a class Solution with a method reversePairs.\n",
    "- Within the reversePairs method, define a function merge_sort which takes in the starting and ending indices of a subarray and returns the count of reverse pairs within that subarray.\n",
    "- If the start index is greater than or equal to the end index, return 0 as there are no reverse pairs in a subarray of length 0 or 1.\n",
    "- Find the middle index of the subarray and recursively call merge_sort on the left and right halves of the subarray. Add the results of these recursive calls to count.\n",
    "- Initialize two pointers i and j to the start of the left and right halves, respectively. While both pointers are within their respective halves, compare the values at i and j. If the value at i is greater than twice the value at j, then increment count by the number of remaining elements in the left half (from i to mid). Increment j to move to the next element in the right half. Otherwise, increment i to move to the next element in the left half.\n",
    "- After counting the reverse pairs, merge the left and right halves of the subarray in sorted order.\n",
    "- Return count after all recursive calls have completed."
   ]
  },
  {
   "cell_type": "code",
   "execution_count": 366,
   "id": "cd290044",
   "metadata": {},
   "outputs": [],
   "source": [
    "# from solution section leetcode, name of person: Marlen09\n",
    "# same solution used in reverse pairs\n",
    "\n",
    "def countInversion(nums):\n",
    "    def merge_sort(start, end):\n",
    "        if start >= end:\n",
    "            return 0\n",
    "        mid = (start + end) // 2\n",
    "        count = merge_sort(start, mid) + merge_sort(mid + 1, end)\n",
    "\n",
    "        # Count the number of reverse pairs between two sorted halves\n",
    "        i = start\n",
    "        j = mid + 1\n",
    "        while i <= mid and j <= end:\n",
    "            if nums[i] > nums[j]:\n",
    "                count += mid - i + 1\n",
    "                j += 1\n",
    "            else:\n",
    "                i += 1\n",
    "\n",
    "        # Merge two sorted halves\n",
    "        nums[start:end + 1] = sorted(nums[start:end + 1])\n",
    "\n",
    "        return count\n",
    "\n",
    "    return merge_sort(0, len(nums) - 1)"
   ]
  },
  {
   "cell_type": "code",
   "execution_count": 368,
   "id": "f8e7a55e",
   "metadata": {},
   "outputs": [
    {
     "data": {
      "text/plain": [
       "5"
      ]
     },
     "execution_count": 368,
     "metadata": {},
     "output_type": "execute_result"
    }
   ],
   "source": [
    "nums = [1, 20, 6, 4, 5]\n",
    "countInversion(nums)"
   ]
  },
  {
   "cell_type": "code",
   "execution_count": 369,
   "id": "28480c99",
   "metadata": {},
   "outputs": [
    {
     "data": {
      "text/plain": [
       "3"
      ]
     },
     "execution_count": 369,
     "metadata": {},
     "output_type": "execute_result"
    }
   ],
   "source": [
    "nums = [3,2,1]\n",
    "countInversion(nums)"
   ]
  },
  {
   "cell_type": "code",
   "execution_count": 351,
   "id": "f9625fe3",
   "metadata": {},
   "outputs": [],
   "source": [
    "# solution from geeksforgeeks and explaination can be refered from takeUforward\n",
    "# runtime - n(logn), space - O(n)\n",
    "\n",
    "\n",
    "def mergeSort(arr, n):\n",
    "    # A temp_arr is created to store\n",
    "    # sorted array in merge function\n",
    "    temp_arr = [0]*n\n",
    "    return _mergeSort(arr, temp_arr, \n",
    "                      0, n - 1)\n",
    "  \n",
    "# This Function will use MergeSort to \n",
    "# count inversions\n",
    "def _mergeSort(arr, temp_arr, left, right):\n",
    "  \n",
    "    # A variable inv_count is used to store\n",
    "    # inversion counts in each recursive call\n",
    "  \n",
    "    inv_count = 0\n",
    "  \n",
    "    # We will make a recursive call if and \n",
    "    # only if we have more than one elements\n",
    "  \n",
    "    if left < right:\n",
    "  \n",
    "        # mid is calculated to divide the array \n",
    "        # into two subarrays\n",
    "        # Floor division is must in case of python\n",
    "  \n",
    "        mid = (left + right)//2\n",
    "  \n",
    "        # It will calculate inversion \n",
    "        # counts in the left subarray\n",
    "        inv_count += _mergeSort(arr, temp_arr, \n",
    "                                left, mid)\n",
    "  \n",
    "        # It will calculate inversion \n",
    "        # counts in right subarray\n",
    "        inv_count += _mergeSort(arr, temp_arr, \n",
    "                                mid + 1, right)\n",
    "  \n",
    "        # It will merge two subarrays in \n",
    "        # a sorted subarray\n",
    "        inv_count += merge(arr, temp_arr, \n",
    "                           left, mid, right)\n",
    "    return inv_count\n",
    "  \n",
    "# This function will merge two subarrays \n",
    "# in a single sorted subarray\n",
    "def merge(arr, temp_arr, left, mid, right):\n",
    "  \n",
    "    # Starting index of left subarray\n",
    "    i = left     \n",
    "  \n",
    "    # Starting index of right subarray\n",
    "    j = mid + 1 \n",
    "  \n",
    "    # Starting index of to be sorted subarray\n",
    "    k = left     \n",
    "    inv_count = 0\n",
    "  \n",
    "    # Conditions are checked to make sure that \n",
    "    # i and j don't exceed their\n",
    "    # subarray limits.\n",
    "  \n",
    "    while i <= mid and j <= right:\n",
    "  \n",
    "        # There will be no inversion if \n",
    "        # arr[i] <= arr[j]\n",
    "        if arr[i] <= arr[j]:\n",
    "            temp_arr[k] = arr[i]\n",
    "            k += 1\n",
    "            i += 1\n",
    "        else:\n",
    "  \n",
    "            # Inversion will occur.\n",
    "            temp_arr[k] = arr[j]\n",
    "            inv_count += (mid-i + 1)\n",
    "            k += 1\n",
    "            j += 1\n",
    "  \n",
    "    # Copy the remaining elements of left \n",
    "    # subarray into temporary array\n",
    "    while i <= mid:\n",
    "        temp_arr[k] = arr[i]\n",
    "        k += 1\n",
    "        i += 1\n",
    "  \n",
    "    # Copy the remaining elements of right \n",
    "    # subarray into temporary array\n",
    "    while j <= right:\n",
    "        temp_arr[k] = arr[j]\n",
    "        k += 1\n",
    "        j += 1\n",
    "  \n",
    "    # Copy the sorted subarray into \n",
    "    # Original array\n",
    "    for loop_var in range(left, right + 1):\n",
    "        arr[loop_var] = temp_arr[loop_var]\n",
    "          \n",
    "    return inv_count"
   ]
  },
  {
   "cell_type": "code",
   "execution_count": 352,
   "id": "e1705b0c",
   "metadata": {},
   "outputs": [
    {
     "name": "stdout",
     "output_type": "stream",
     "text": [
      "Number of inversions are 5\n"
     ]
    }
   ],
   "source": [
    "arr = [1, 20, 6, 4, 5]\n",
    "n = len(arr)\n",
    "result = mergeSort(arr, n)\n",
    "print(\"Number of inversions are\", result)"
   ]
  },
  {
   "cell_type": "code",
   "execution_count": 115,
   "id": "6a54b019",
   "metadata": {},
   "outputs": [],
   "source": [
    "# Brute force solution\n",
    "# runtime - O(n^2), space - O(1)\n",
    "\n",
    "def countInversion(arr):\n",
    "    \n",
    "    count = 0\n",
    "    \n",
    "    for i in range(len(arr)):\n",
    "        \n",
    "        for j in range(i+1, len(arr)):\n",
    "            \n",
    "            if arr[i] > arr[j]:\n",
    "                count += 1\n",
    "    \n",
    "    return count"
   ]
  },
  {
   "cell_type": "code",
   "execution_count": 348,
   "id": "2f18faf7",
   "metadata": {},
   "outputs": [
    {
     "data": {
      "text/plain": [
       "3"
      ]
     },
     "execution_count": 348,
     "metadata": {},
     "output_type": "execute_result"
    }
   ],
   "source": [
    "nums = [3,2,1]\n",
    "countInversion(nums)"
   ]
  },
  {
   "cell_type": "code",
   "execution_count": 349,
   "id": "c98cc803",
   "metadata": {},
   "outputs": [
    {
     "data": {
      "text/plain": [
       "8"
      ]
     },
     "execution_count": 349,
     "metadata": {},
     "output_type": "execute_result"
    }
   ],
   "source": [
    "nums = [5,3,2,4,1]\n",
    "countInversion(nums)"
   ]
  },
  {
   "cell_type": "markdown",
   "id": "9ba9e66c",
   "metadata": {},
   "source": [
    "# 17. Reverse Pairs\n",
    "- Leetcode(hard) - 493\n",
    "\n",
    "Given an integer array nums, return the number of reverse pairs in the array.\n",
    "\n",
    "A reverse pair is a pair (i, j) where:\n",
    "\n",
    "- 0 <= i < j < nums.length and\n",
    "- nums[i] > 2 * nums[j]."
   ]
  },
  {
   "cell_type": "markdown",
   "id": "0f0d7f4a",
   "metadata": {},
   "source": [
    "- Input: nums = [1,3,2,3,1]\n",
    "- Output: 2\n",
    "- Explanation: The reverse pairs are:\n",
    "(1, 4) --> nums[1] = 3, nums[4] = 1, 3 > 2 * 1\n",
    "(3, 4) --> nums[3] = 3, nums[4] = 1, 3 > 2 * 1"
   ]
  },
  {
   "cell_type": "markdown",
   "id": "366191dd",
   "metadata": {},
   "source": [
    "### Approach\n",
    "- Define a class Solution with a method reversePairs.\n",
    "- Within the reversePairs method, define a function merge_sort which takes in the starting and ending indices of a subarray and returns the count of reverse pairs within that subarray.\n",
    "- If the start index is greater than or equal to the end index, return 0 as there are no reverse pairs in a subarray of length 0 or 1.\n",
    "- Find the middle index of the subarray and recursively call merge_sort on the left and right halves of the subarray. Add the results of these recursive calls to count.\n",
    "- Initialize two pointers i and j to the start of the left and right halves, respectively. While both pointers are within their respective halves, compare the values at i and j. If the value at i is greater than twice the value at j, then increment count by the number of remaining elements in the left half (from i to mid). Increment j to move to the next element in the right half. Otherwise, increment i to move to the next element in the left half.\n",
    "- After counting the reverse pairs, merge the left and right halves of the subarray in sorted order.\n",
    "- Return count after all recursive calls have completed."
   ]
  },
  {
   "cell_type": "code",
   "execution_count": 362,
   "id": "0406a88a",
   "metadata": {},
   "outputs": [],
   "source": [
    "# from solution section leetcode, name of person: Marlen09\n",
    "# runtime - nlogn\n",
    "\n",
    "def reversePairs(nums):\n",
    "    def merge_sort(start, end):\n",
    "        if start >= end:\n",
    "            return 0\n",
    "        mid = (start + end) // 2\n",
    "        count = merge_sort(start, mid) + merge_sort(mid + 1, end)\n",
    "\n",
    "        # Count the number of reverse pairs between two sorted halves\n",
    "        i = start\n",
    "        j = mid + 1\n",
    "        while i <= mid and j <= end:\n",
    "            if nums[i] > 2 * nums[j]:\n",
    "                count += mid - i + 1\n",
    "                j += 1\n",
    "            else:\n",
    "                i += 1\n",
    "\n",
    "        # Merge two sorted halves\n",
    "        nums[start:end + 1] = sorted(nums[start:end + 1])\n",
    "\n",
    "        return count\n",
    "\n",
    "    return merge_sort(0, len(nums) - 1)"
   ]
  },
  {
   "cell_type": "code",
   "execution_count": 363,
   "id": "eec3e86e",
   "metadata": {},
   "outputs": [
    {
     "data": {
      "text/plain": [
       "2"
      ]
     },
     "execution_count": 363,
     "metadata": {},
     "output_type": "execute_result"
    }
   ],
   "source": [
    "nums = [1,3,2,3,1]\n",
    "reversePairs(nums)"
   ]
  },
  {
   "cell_type": "code",
   "execution_count": 364,
   "id": "563140ac",
   "metadata": {},
   "outputs": [
    {
     "data": {
      "text/plain": [
       "3"
      ]
     },
     "execution_count": 364,
     "metadata": {},
     "output_type": "execute_result"
    }
   ],
   "source": [
    "nums = [2,4,3,5,1]\n",
    "reversePairs(nums)"
   ]
  },
  {
   "cell_type": "markdown",
   "id": "fab622e6",
   "metadata": {},
   "source": [
    "\n",
    "# 18. Two Sum \n",
    "Leetcode(easy) - 1\n",
    "\n",
    "Given an array of integers nums and an integer target, return indices of the two numbers such that they add up to target.\n",
    "\n",
    "You may assume that each input would have exactly one solution, and you may not use the same element twice.\n",
    "\n",
    "You can return the answer in any order.\n",
    "\n",
    "- Input: nums = [2,7,11,15], target = 9\n",
    "- Output: [0,1]\n",
    "- Explanation: Because nums[0] + nums[1] == 9, we return [0, 1].\n"
   ]
  },
  {
   "cell_type": "code",
   "execution_count": 212,
   "id": "793efe2a",
   "metadata": {},
   "outputs": [],
   "source": [
    "# solution from NeetCode\n",
    "# runtime - O(n), space - O(n)\n",
    "\n",
    "def twoSum(nums, target):\n",
    "    \n",
    "    hashMap = {}\n",
    "    \n",
    "    for i, num in enumerate(nums):\n",
    "        \n",
    "        # z = x + y => x = z - y\n",
    "        # x=other_num, z=target, y=num\n",
    "        other_num = target - num\n",
    "        \n",
    "        # if z in hashMap return index of z and index of num\n",
    "        if other_num in hashMap:\n",
    "            \n",
    "            return [hashMap[other_num], i]\n",
    "        \n",
    "        # if z not in hashMap insert num as key and index of num as i\n",
    "        hashMap[num] = i"
   ]
  },
  {
   "cell_type": "code",
   "execution_count": 213,
   "id": "5b08cf20",
   "metadata": {},
   "outputs": [
    {
     "data": {
      "text/plain": [
       "[0, 1]"
      ]
     },
     "execution_count": 213,
     "metadata": {},
     "output_type": "execute_result"
    }
   ],
   "source": [
    "nums = [2,7,11,15]\n",
    "target = 9\n",
    "twoSum(nums, target)"
   ]
  },
  {
   "cell_type": "code",
   "execution_count": 214,
   "id": "cc531e1e",
   "metadata": {},
   "outputs": [
    {
     "data": {
      "text/plain": [
       "[1, 2]"
      ]
     },
     "execution_count": 214,
     "metadata": {},
     "output_type": "execute_result"
    }
   ],
   "source": [
    "nums = [3,2,4]\n",
    "target = 6\n",
    "twoSum(nums, target)"
   ]
  },
  {
   "cell_type": "code",
   "execution_count": 172,
   "id": "84a9545b",
   "metadata": {},
   "outputs": [],
   "source": [
    "# Brute force solution \n",
    "# runtime - O(n^2), space - O(1)\n",
    "\n",
    "def twoSum(nums, target):\n",
    "    \n",
    "    for i in range(len(nums)):\n",
    "        for j in range(i+1, len(nums)):\n",
    "            if nums[i] + nums[j] == target:\n",
    "                return [i,j]"
   ]
  },
  {
   "cell_type": "code",
   "execution_count": 173,
   "id": "3479a027",
   "metadata": {},
   "outputs": [
    {
     "data": {
      "text/plain": [
       "[0, 1]"
      ]
     },
     "execution_count": 173,
     "metadata": {},
     "output_type": "execute_result"
    }
   ],
   "source": [
    "nums = [2,7,11,15]\n",
    "target = 9\n",
    "twoSum(nums, target)"
   ]
  },
  {
   "cell_type": "code",
   "execution_count": 174,
   "id": "0948440e",
   "metadata": {},
   "outputs": [
    {
     "data": {
      "text/plain": [
       "[1, 2]"
      ]
     },
     "execution_count": 174,
     "metadata": {},
     "output_type": "execute_result"
    }
   ],
   "source": [
    "nums = [3,2,4]\n",
    "target = 6\n",
    "twoSum(nums, target)"
   ]
  },
  {
   "cell_type": "markdown",
   "id": "ab24a9e2",
   "metadata": {},
   "source": [
    "# 19. Two Sum 2 (input array is sorted)\n",
    "- Leetcode(medium) - 167\n",
    "\n",
    "Given a 1-indexed array of integers numbers that is already sorted in non-decreasing order, find two numbers such that they add up to a specific target number. Let these two numbers be numbers[index1] and numbers[index2] where 1 <= index1 < index2 <= numbers.length.\n",
    "\n",
    "Return the indices of the two numbers, index1 and index2, added by one as an integer array [index1, index2] of length 2.\n",
    "\n",
    "The tests are generated such that there is exactly one solution. You may not use the same element twice.\n",
    "\n",
    "Your solution must use only constant extra space.\n",
    "\n",
    "- Input: numbers = [2,7,11,15], target = 9\n",
    "- Output: [1,2]\n",
    "- Explanation: The sum of 2 and 7 is 9. Therefore, index1 = 1, index2 = 2. We return [1, 2]."
   ]
  },
  {
   "cell_type": "code",
   "execution_count": 227,
   "id": "be7ab9ca",
   "metadata": {},
   "outputs": [],
   "source": [
    "# solution from NeetCode\n",
    "# runtime - O(n), space - O(1)\n",
    "\n",
    "def twoSum2(numbers, target):\n",
    "    \n",
    "    # keeping two pointer one at start and one at end because it is a sorted array\n",
    "    i = 0\n",
    "    j = len(numbers) - 1\n",
    "    \n",
    "    while i < j:\n",
    "\n",
    "        if numbers[i] + numbers[j] > target:\n",
    "            # decrementing right index because its previous index value will always lesser\n",
    "            j -= 1\n",
    "            \n",
    "        elif numbers[i] + numbers[j] < target:\n",
    "            # incerementing the the left index because its next index values will always be greater\n",
    "            i += 1\n",
    "        else:\n",
    "            # in the question the index is starting from 1\n",
    "            return [i+1,j+1]"
   ]
  },
  {
   "cell_type": "code",
   "execution_count": 228,
   "id": "8fed1e4b",
   "metadata": {},
   "outputs": [
    {
     "data": {
      "text/plain": [
       "[1, 2]"
      ]
     },
     "execution_count": 228,
     "metadata": {},
     "output_type": "execute_result"
    }
   ],
   "source": [
    "numbers = [2,7,11,15]\n",
    "target = 9\n",
    "twoSum2(numbers, target)"
   ]
  },
  {
   "cell_type": "markdown",
   "id": "462db12f",
   "metadata": {},
   "source": [
    "# 20. Three Sum \n",
    "- Leetcode(medium) - 15\n",
    "\n",
    "Given an integer array nums, return all the triplets [nums[i], nums[j], nums[k]] such that i != j, i != k, and j != k, and nums[i] + nums[j] + nums[k] == 0.\n",
    "\n",
    "Notice that the solution set must not contain duplicate triplets.\n",
    "\n",
    "- Input: nums = [-1,0,1,2,-1,-4]\n",
    "- Output: [[-1,-1,2],[-1,0,1]]\n",
    "- Explanation: \n",
    "nums[0] + nums[1] + nums[2] = (-1) + 0 + 1 = 0.\n",
    "nums[1] + nums[2] + nums[4] = 0 + 1 + (-1) = 0.\n",
    "nums[0] + nums[3] + nums[4] = (-1) + 2 + (-1) = 0.\n",
    "The distinct triplets are [-1,0,1] and [-1,-1,2].\n",
    "Notice that the order of the output and the order of the triplets does not matter."
   ]
  },
  {
   "cell_type": "code",
   "execution_count": 252,
   "id": "2b6b4dd4",
   "metadata": {},
   "outputs": [],
   "source": [
    "# solution from neetcode\n",
    "# runtime - O(n^2), space - O(n)\n",
    "\n",
    "def threeSum(nums):\n",
    "    \n",
    "    nums.sort()\n",
    "    res = []\n",
    "    \n",
    "    for i, num in enumerate(nums):\n",
    "        \n",
    "        # avoid the num which is equal to the previous num to avoid duplicates\n",
    "        if i > 0 and num == nums[i-1]:\n",
    "            continue\n",
    "            \n",
    "        left = i+1\n",
    "        right = len(nums) - 1\n",
    "\n",
    "        while left < right:\n",
    "\n",
    "            total = num + nums[left] + nums[right]\n",
    "\n",
    "            if total > 0:\n",
    "                right -= 1\n",
    "\n",
    "            elif total < 0:\n",
    "                left += 1\n",
    "\n",
    "            else:\n",
    "                res.append([num,nums[left],nums[right]])\n",
    "                left += 1\n",
    "                \n",
    "                # increasing left to avoid duplicates\n",
    "                while nums[left] == nums[left-1] and left < right:\n",
    "                    left += 1\n",
    "\n",
    "    return res"
   ]
  },
  {
   "cell_type": "code",
   "execution_count": 253,
   "id": "918b7f23",
   "metadata": {},
   "outputs": [
    {
     "data": {
      "text/plain": [
       "[[-1, -1, 2], [-1, 0, 1]]"
      ]
     },
     "execution_count": 253,
     "metadata": {},
     "output_type": "execute_result"
    }
   ],
   "source": [
    "nums = [-1,0,1,2,-1,-4]\n",
    "threeSum(nums)"
   ]
  },
  {
   "cell_type": "markdown",
   "id": "1abbbb7c",
   "metadata": {},
   "source": [
    "# 21. Longest Consecutive Sequence\n",
    "- Leetcode(medium) - 128\n",
    "\n",
    "Given an unsorted array of integers nums, return the length of the longest consecutive elements sequence.\n",
    "\n",
    "You must write an algorithm that runs in O(n) time.\n",
    "\n",
    "- Input: nums = [100,4,200,1,3,2]\n",
    "- Output: 4\n",
    "- Explanation: The longest consecutive elements sequence is [1, 2, 3, 4]. Therefore its length is 4."
   ]
  },
  {
   "cell_type": "code",
   "execution_count": 273,
   "id": "c3762047",
   "metadata": {},
   "outputs": [],
   "source": [
    "# solution from NeetCode \n",
    "# runtime - O(n), space - O(n)\n",
    "\n",
    "def longSeq(nums):\n",
    "    \n",
    "    # set is used to store the unique items and in sorted way\n",
    "    setNums = set(nums)\n",
    "    longest = 0\n",
    "    \n",
    "    for n in nums:\n",
    "        \n",
    "        # finding the (n-1) number in setNum if not present then start counting length \n",
    "        if (n-1) not in setNums:\n",
    "            \n",
    "            length = 0 \n",
    "            \n",
    "            # until consecutive number is present increment length\n",
    "            while (n+length) in setNums:\n",
    "                \n",
    "                length += 1\n",
    "                \n",
    "            # if longest is less than length replace longest value with length\n",
    "            longest = max(longest, length)\n",
    "            \n",
    "    return longest"
   ]
  },
  {
   "cell_type": "code",
   "execution_count": 274,
   "id": "7863e0ac",
   "metadata": {},
   "outputs": [
    {
     "data": {
      "text/plain": [
       "4"
      ]
     },
     "execution_count": 274,
     "metadata": {},
     "output_type": "execute_result"
    }
   ],
   "source": [
    "nums = [100,4,200,1,3,2]\n",
    "longSeq(nums)"
   ]
  },
  {
   "cell_type": "code",
   "execution_count": 275,
   "id": "848226fa",
   "metadata": {},
   "outputs": [
    {
     "data": {
      "text/plain": [
       "9"
      ]
     },
     "execution_count": 275,
     "metadata": {},
     "output_type": "execute_result"
    }
   ],
   "source": [
    "nums = [0,3,7,2,5,8,4,6,0,1]\n",
    "longSeq(nums)"
   ]
  },
  {
   "cell_type": "markdown",
   "id": "25a6e5f8",
   "metadata": {},
   "source": [
    "# 22. Four sum\n",
    "- Leetcode(medium) - 18\n",
    "\n",
    "Given an array nums of n integers, return an array of all the unique quadruplets [nums[a], nums[b], nums[c], nums[d]] such that:\n",
    "\n",
    "0 <= a, b, c, d < n\n",
    "a, b, c, and d are distinct.\n",
    "nums[a] + nums[b] + nums[c] + nums[d] == target\n",
    "You may return the answer in any order.\n",
    "\n",
    "- Input: nums = [1,0,-1,0,-2,2], target = 0\n",
    "- Output: [[-2,-1,1,2],[-2,0,0,2],[-1,0,0,1]]"
   ]
  },
  {
   "cell_type": "code",
   "execution_count": 324,
   "id": "3357eac4",
   "metadata": {},
   "outputs": [],
   "source": [
    "# solution from take U forward\n",
    "# runtime = O(n^3)\n",
    "\n",
    "def fourSum(nums, target):\n",
    "    \n",
    "    nums.sort()\n",
    "    res = []\n",
    "    \n",
    "    for i in range(len(nums) - 3):\n",
    "        # avoid duplicates for num1\n",
    "        if i > 0 and nums[i] == nums[i-1]:\n",
    "            continue\n",
    "            \n",
    "        for j in range(i+1, len(nums) -2):\n",
    "            # avoid duplicates for num2\n",
    "            if j > i+1 and nums[j] == nums[j-1]:\n",
    "                continue\n",
    "            \n",
    "            left = j+1\n",
    "            right = len(nums) - 1\n",
    "            \n",
    "            while left < right:\n",
    "                total = nums[i] + nums[j] + nums[left] + nums[right]\n",
    "                \n",
    "                if total == target:\n",
    "                    res.append([nums[i], nums[j], nums[left], nums[right]])\n",
    "                    # avoid duplicates for num3 and num4\n",
    "                    while left < right and nums[left] == nums[left+1]:\n",
    "                        left += 1\n",
    "                    while left < right and nums[right] == nums[right-1]:\n",
    "                        right -= 1\n",
    "                    left += 1\n",
    "                    right -= 1\n",
    "                elif total < target:\n",
    "                    left += 1\n",
    "                else:\n",
    "                    right -= 1\n",
    "                    \n",
    "    return res"
   ]
  },
  {
   "cell_type": "code",
   "execution_count": 325,
   "id": "20146987",
   "metadata": {},
   "outputs": [
    {
     "data": {
      "text/plain": [
       "[[-2, -1, 1, 2], [-2, 0, 0, 2], [-1, 0, 0, 1]]"
      ]
     },
     "execution_count": 325,
     "metadata": {},
     "output_type": "execute_result"
    }
   ],
   "source": [
    "nums = [1,0,-1,0,-2,2]\n",
    "target = 0\n",
    "fourSum(nums, target)"
   ]
  },
  {
   "cell_type": "code",
   "execution_count": 320,
   "id": "891a3619",
   "metadata": {},
   "outputs": [
    {
     "data": {
      "text/plain": [
       "[[2, 2, 2, 2]]"
      ]
     },
     "execution_count": 320,
     "metadata": {},
     "output_type": "execute_result"
    }
   ],
   "source": [
    "nums = [2,2,2,2,2]\n",
    "target = 8\n",
    "fourSum(nums, target)"
   ]
  },
  {
   "cell_type": "markdown",
   "id": "06e0d583",
   "metadata": {},
   "source": [
    "# 23. Longest sub-array with sum k\n",
    "- geeksforgeeks - medium\n",
    "\n",
    "Given an array arr[] of size n containing integers. The problem is to find the length of the longest sub-array having sum equal to the given value k.\n",
    "\n",
    "- Input: arr[] = { 10, 5, 2, 7, 1, 9 }, k = 15\n",
    "- Output: 4\n",
    "- Explanation: The sub-array is {5, 2, 7, 1}.\n",
    "\n",
    "- Input: arr[] = {-5, 8, -14, 2, 4, 12}, k = -5\n",
    "- Output: 5"
   ]
  },
  {
   "cell_type": "code",
   "execution_count": 4,
   "id": "14034529",
   "metadata": {},
   "outputs": [],
   "source": [
    "# solution from geeksforgeeks and explained by take u forward\n",
    "# runtime - O(n), space - O(n)\n",
    "\n",
    "\n",
    "def longArr(arr, N, K):\n",
    "    \n",
    "    mydict = {}\n",
    "    maxLen = 0\n",
    "    Sum = 0\n",
    "    \n",
    "    for i in range(N):\n",
    "        \n",
    "        Sum += arr[i]\n",
    "        \n",
    "        # counting the lenght from starting to end\n",
    "        if Sum == k:\n",
    "            maxLen = i+1\n",
    "            \n",
    "        # x = (x-k) + k\n",
    "        # sum-k => x-k\n",
    "        # if sum-k in dict then take index and subract by current index  we'll get length\n",
    "        elif (Sum-k) in mydict:\n",
    "            maxLen = max(maxLen, i - mydict[Sum-k])\n",
    "            \n",
    "        if Sum not in mydict:\n",
    "            mydict[Sum] = i\n",
    "    \n",
    "    return maxLen"
   ]
  },
  {
   "cell_type": "code",
   "execution_count": 5,
   "id": "6ec6837c",
   "metadata": {},
   "outputs": [
    {
     "data": {
      "text/plain": [
       "4"
      ]
     },
     "execution_count": 5,
     "metadata": {},
     "output_type": "execute_result"
    }
   ],
   "source": [
    "arr = [ 10, 5, 2, 7, 1, 9 ]\n",
    "n = len(arr)\n",
    "k = 15\n",
    "longArr(arr, n, k)"
   ]
  },
  {
   "cell_type": "code",
   "execution_count": 343,
   "id": "682b0e8d",
   "metadata": {},
   "outputs": [
    {
     "data": {
      "text/plain": [
       "4"
      ]
     },
     "execution_count": 343,
     "metadata": {},
     "output_type": "execute_result"
    }
   ],
   "source": [
    "arr = [10, 5, 2, 7, 1, 9]\n",
    "n = len(arr)\n",
    "k = 15\n",
    "longArr(arr,n,k)"
   ]
  },
  {
   "cell_type": "code",
   "execution_count": 344,
   "id": "b2f8f137",
   "metadata": {},
   "outputs": [
    {
     "data": {
      "text/plain": [
       "5"
      ]
     },
     "execution_count": 344,
     "metadata": {},
     "output_type": "execute_result"
    }
   ],
   "source": [
    "arr = [-5, 8, -14, 2, 4, 12]\n",
    "n = len(arr)\n",
    "k = -5\n",
    "longArr(arr,n, k)"
   ]
  },
  {
   "cell_type": "code",
   "execution_count": 335,
   "id": "671d1d8c",
   "metadata": {},
   "outputs": [],
   "source": [
    "# bruteforce approach from gfg expalined by take U forward\n",
    "# runtime - O(n^2), space - O(1)\n",
    "\n",
    "def longArr(arr, N, K):\n",
    "   \n",
    "    # Variable to store the answer\n",
    "    maxlength = 0\n",
    " \n",
    "    for i in range(0,N):\n",
    " \n",
    "        # Variable to store sum of subarrays\n",
    "        Sum = 0\n",
    " \n",
    "        for j in range(i,N):\n",
    " \n",
    "            # Storing sum of subarrays\n",
    "            Sum += arr[j]\n",
    " \n",
    "            # if Sum equals K\n",
    "            if (Sum == K):\n",
    " \n",
    "                # Update maxLength\n",
    "                maxlength = max(maxlength, j - i + 1)\n",
    " \n",
    "    # Return the maximum length\n",
    "    return maxlength\n",
    " \n",
    "\n"
   ]
  },
  {
   "cell_type": "code",
   "execution_count": 336,
   "id": "6406f57c",
   "metadata": {},
   "outputs": [
    {
     "data": {
      "text/plain": [
       "4"
      ]
     },
     "execution_count": 336,
     "metadata": {},
     "output_type": "execute_result"
    }
   ],
   "source": [
    "arr = [ 10, 5, 2, 7, 1, 9 ]\n",
    "n = len(arr)\n",
    "k = 15\n",
    "longArr(arr, n, k)"
   ]
  },
  {
   "cell_type": "code",
   "execution_count": 338,
   "id": "42394903",
   "metadata": {},
   "outputs": [
    {
     "data": {
      "text/plain": [
       "5"
      ]
     },
     "execution_count": 338,
     "metadata": {},
     "output_type": "execute_result"
    }
   ],
   "source": [
    "arr = [-5, 8, -14, 2, 4, 12]\n",
    "n = len(arr)\n",
    "k = -5\n",
    "longArr(arr,n, k)"
   ]
  },
  {
   "cell_type": "markdown",
   "id": "ebe60788",
   "metadata": {},
   "source": [
    "# 24. Subarray with given XOR\n",
    "- interviewbit(medium)\n",
    "\n",
    "Given an array of integers A and an integer B.\n",
    "\n",
    "Find the total number of subarrays having bitwise XOR of all elements equals to B.\n",
    "\n",
    "The first argument given is the integer array A.\n",
    "\n",
    "The second argument given is integer B.\n",
    "\n",
    "Return the total number of subarrays having bitwise XOR equals to B.\n",
    "\n",
    "- Input 1:\n",
    "\n",
    " A = [4, 2, 2, 6, 4]\n",
    " B = 6\n",
    " \n",
    "- Output 1:\n",
    "\n",
    " 4\n",
    " "
   ]
  },
  {
   "cell_type": "code",
   "execution_count": 12,
   "id": "86cd6cc4",
   "metadata": {},
   "outputs": [],
   "source": [
    "# this is not an optimal solution it's a better solution. runtime - O(n^2)\n",
    "# solution from take U forward\n",
    "# XOR => means when input is same output is false, when input are dituingish the output is True\n",
    "\n",
    "def subXor(arr, b):\n",
    "    \n",
    "    subArray = 0\n",
    "    \n",
    "    for i in range(len(arr)):\n",
    "        \n",
    "        sumXor = 0\n",
    "        \n",
    "        for j in range(i, len(arr)):\n",
    "            \n",
    "            sumXor = sumXor ^ arr[j]\n",
    "            \n",
    "            if sumXor == b:\n",
    "                \n",
    "                subArray += 1\n",
    "                \n",
    "    return subArray"
   ]
  },
  {
   "cell_type": "code",
   "execution_count": 13,
   "id": "cb97c12e",
   "metadata": {},
   "outputs": [
    {
     "data": {
      "text/plain": [
       "4"
      ]
     },
     "execution_count": 13,
     "metadata": {},
     "output_type": "execute_result"
    }
   ],
   "source": [
    "A = [4, 2, 2, 6, 4] \n",
    "B = 6\n",
    "subXor(A, B)"
   ]
  },
  {
   "cell_type": "markdown",
   "id": "0b6845d5",
   "metadata": {},
   "source": [
    "# 25 . Longest substrings  without repeating characters\n",
    "- Leetcode(medium) - 3\n",
    "\n",
    "Given a string s, find the length of the longest \n",
    "substring\n",
    " without repeating characters.\n",
    " \n",
    "- Input: s = \"abcabcbb\"\n",
    "- Output: 3\n",
    "- Explanation: The answer is \"abc\", with the length of 3.\n",
    "\n",
    "- Input: s = \"bbbbb\"\n",
    "- Output: 1\n",
    "- Explanation: The answer is \"b\", with the length of 1."
   ]
  },
  {
   "cell_type": "code",
   "execution_count": 34,
   "id": "f894c2d8",
   "metadata": {},
   "outputs": [],
   "source": [
    "def substring(string):\n",
    "    \n",
    "    # to store char with index\n",
    "    d = {}\n",
    "    # l-left pointer of substring, r-right pointer of substring, res-lenght of the longest substring withou repeating char\n",
    "    l, r, res = 0, 0, 0\n",
    "    \n",
    "    while r < len(string):\n",
    "        \n",
    "        if string[r] in d:\n",
    "            # if the char present before the duplicate cahrs then it will include duplicate char again\n",
    "            # hence checking the left index and char index which is max take that as l\n",
    "            l = max(l, d[string[r]] + 1)\n",
    "        \n",
    "        d[string[r]] = r\n",
    "        # r-l + 1 => l=0, r=5, l-r=5, but total char is 6=> 0,1,2,3,4,5,6 this is why adding +1\n",
    "        res = max(res, r-l + 1)\n",
    "        r += 1\n",
    "    \n",
    "    return res"
   ]
  },
  {
   "cell_type": "code",
   "execution_count": 35,
   "id": "c55633a2",
   "metadata": {},
   "outputs": [
    {
     "data": {
      "text/plain": [
       "3"
      ]
     },
     "execution_count": 35,
     "metadata": {},
     "output_type": "execute_result"
    }
   ],
   "source": [
    "s = \"abcabcbb\"\n",
    "substring(s)"
   ]
  },
  {
   "cell_type": "code",
   "execution_count": 36,
   "id": "71df16c0",
   "metadata": {},
   "outputs": [
    {
     "data": {
      "text/plain": [
       "1"
      ]
     },
     "execution_count": 36,
     "metadata": {},
     "output_type": "execute_result"
    }
   ],
   "source": [
    "s = \"bbbbbb\"\n",
    "substring(s)"
   ]
  },
  {
   "cell_type": "markdown",
   "id": "f1d5a39f",
   "metadata": {},
   "source": [
    "# 26. Remove Duplicates from sorted array\n",
    "- Leetcode(easy) - 26\n",
    "\n",
    "Given an integer array nums sorted in non-decreasing order, remove the duplicates in-place such that each unique element appears only once. The relative order of the elements should be kept the same. Then return the number of unique elements in nums.\n",
    "\n",
    "Consider the number of unique elements of nums to be k, to get accepted, you need to do the following things:\n",
    "\n",
    "Change the array nums such that the first k elements of nums contain the unique elements in the order they were present in nums initially. The remaining elements of nums are not important as well as the size of nums.\n",
    "Return k.\n",
    "\n",
    "- Input: nums = [1,1,2]\n",
    "- Output: 2, nums = [1,2,_]\n",
    "- Explanation: Your function should return k = 2, with the first two elements of nums being 1 and 2 respectively.\n",
    "- It does not matter what you leave beyond the returned k (hence they are underscores)."
   ]
  },
  {
   "cell_type": "code",
   "execution_count": 13,
   "id": "2e7ef51d",
   "metadata": {},
   "outputs": [],
   "source": [
    "# solution from NeetCode\n",
    "# runtime - O(n), space - O(1)\n",
    "\n",
    "\n",
    "# we are using two pointer method\n",
    "def removeDup(nums):\n",
    "    \n",
    "    # left will start from 1 because 1st element in sorted array will always remain in its place because its the smallest one\n",
    "    left = 1\n",
    "    \n",
    "    # the right will iterate throug out the length of array(nums)\n",
    "    for right in range(1, len(nums)):\n",
    "        \n",
    "        # if num and previous num is not equal means thats a different number\n",
    "        # that different number replace the number at nums[left] and increment left by 1\n",
    "        if nums[right] != nums[right - 1]:\n",
    "            nums[left] = nums[right]\n",
    "            left += 1\n",
    "            \n",
    "    # printing array is not require\n",
    "    print(nums)\n",
    "    \n",
    "    # left is the count of total unique number in an array\n",
    "    return left"
   ]
  },
  {
   "cell_type": "code",
   "execution_count": 14,
   "id": "16b2f1f1",
   "metadata": {},
   "outputs": [
    {
     "name": "stdout",
     "output_type": "stream",
     "text": [
      "[1, 2, 2]\n"
     ]
    },
    {
     "data": {
      "text/plain": [
       "2"
      ]
     },
     "execution_count": 14,
     "metadata": {},
     "output_type": "execute_result"
    }
   ],
   "source": [
    "nums = [1,2,2]\n",
    "removeDup(nums)"
   ]
  },
  {
   "cell_type": "code",
   "execution_count": 15,
   "id": "45e72954",
   "metadata": {},
   "outputs": [
    {
     "name": "stdout",
     "output_type": "stream",
     "text": [
      "[0, 1, 2, 3, 4, 2, 2, 3, 3, 4]\n"
     ]
    },
    {
     "data": {
      "text/plain": [
       "5"
      ]
     },
     "execution_count": 15,
     "metadata": {},
     "output_type": "execute_result"
    }
   ],
   "source": [
    "nums = [0,0,1,1,1,2,2,3,3,4]\n",
    "removeDup(nums)"
   ]
  },
  {
   "cell_type": "markdown",
   "id": "a07d3eed",
   "metadata": {},
   "source": [
    "# 27. Max consecutive one's\n",
    "- Leetcode(easy) - 485\n",
    "\n",
    "Given a binary array nums, return the maximum number of consecutive 1's in the array.\n",
    "\n",
    "- Input: nums = [1,1,0,1,1,1]\n",
    "- Output: 3\n",
    "- Explanation: The first two digits or the last three digits are consecutive 1s. The maximum number of consecutive 1s is 3."
   ]
  },
  {
   "cell_type": "code",
   "execution_count": 16,
   "id": "8de0cdac",
   "metadata": {},
   "outputs": [],
   "source": [
    "# solution from take U forward\n",
    "# runtime-O(n), space-O(1)\n",
    "\n",
    "def maxOnes(nums):\n",
    "    \n",
    "    length = 0\n",
    "    maxi = 0\n",
    "    \n",
    "    for i in range(len(nums)):\n",
    "        \n",
    "        if nums[i] == 1:\n",
    "            length += 1 \n",
    "        else:\n",
    "            length = 0\n",
    "            \n",
    "        maxi = max(maxi, length)\n",
    "    \n",
    "    return maxi"
   ]
  },
  {
   "cell_type": "code",
   "execution_count": 17,
   "id": "a44393a5",
   "metadata": {},
   "outputs": [
    {
     "data": {
      "text/plain": [
       "3"
      ]
     },
     "execution_count": 17,
     "metadata": {},
     "output_type": "execute_result"
    }
   ],
   "source": [
    "nums = [1,1,0,1,1,1]\n",
    "maxOnes(nums)"
   ]
  },
  {
   "cell_type": "code",
   "execution_count": 18,
   "id": "4c1a3aa6",
   "metadata": {},
   "outputs": [
    {
     "data": {
      "text/plain": [
       "2"
      ]
     },
     "execution_count": 18,
     "metadata": {},
     "output_type": "execute_result"
    }
   ],
   "source": [
    "nums = [1,0,1,1,0,1]\n",
    "maxOnes(nums)"
   ]
  },
  {
   "cell_type": "markdown",
   "id": "afe5b108",
   "metadata": {},
   "source": [
    "# 28. Trapping rain water \n",
    "- Leetcode(hard) - 42\n",
    "\n",
    "Given n non-negative integers representing an elevation map where the width of each bar is 1, compute how much water it can trap after raining.\n",
    "\n",
    "- Input: height = [0,1,0,2,1,0,1,3,2,1,2,1]\n",
    "- Output: 6\n",
    "- Explanation: The above elevation map (black section) is represented by array [0,1,0,2,1,0,1,3,2,1,2,1]. In this case, 6 units of rain water (blue section) are being trapped."
   ]
  },
  {
   "cell_type": "code",
   "execution_count": 29,
   "id": "0a6f6a82",
   "metadata": {},
   "outputs": [],
   "source": [
    "# solution from NeetCode\n",
    "# runtime - O(n) , space - O(1)\n",
    "\n",
    "# using two pointer approach from two end\n",
    "def waterTrap( height):\n",
    "\n",
    "    left = 0\n",
    "    right = len(height) - 1\n",
    "\n",
    "    leftMax , rightMax = height[left], height[right]\n",
    "    res = 0\n",
    "\n",
    "    while left < right:\n",
    "        \n",
    "        if leftMax < rightMax:\n",
    "            left += 1\n",
    "            leftMax = max(leftMax, height[left])\n",
    "            res += leftMax - height[left]\n",
    "\n",
    "        else:\n",
    "            right -= 1\n",
    "            rightMax = max(rightMax, height[right])\n",
    "            res += rightMax - height[right]\n",
    "\n",
    "    return res"
   ]
  },
  {
   "cell_type": "code",
   "execution_count": 30,
   "id": "bf0e1358",
   "metadata": {},
   "outputs": [
    {
     "data": {
      "text/plain": [
       "6"
      ]
     },
     "execution_count": 30,
     "metadata": {},
     "output_type": "execute_result"
    }
   ],
   "source": [
    "height = [0,1,0,2,1,0,1,3,2,1,2,1]\n",
    "waterTrap(height)"
   ]
  },
  {
   "cell_type": "code",
   "execution_count": 31,
   "id": "0aa2449e",
   "metadata": {},
   "outputs": [
    {
     "data": {
      "text/plain": [
       "9"
      ]
     },
     "execution_count": 31,
     "metadata": {},
     "output_type": "execute_result"
    }
   ],
   "source": [
    "height = [4,2,0,3,2,5]\n",
    "waterTrap(height)"
   ]
  }
 ],
 "metadata": {
  "kernelspec": {
   "display_name": "Python 3 (ipykernel)",
   "language": "python",
   "name": "python3"
  },
  "language_info": {
   "codemirror_mode": {
    "name": "ipython",
    "version": 3
   },
   "file_extension": ".py",
   "mimetype": "text/x-python",
   "name": "python",
   "nbconvert_exporter": "python",
   "pygments_lexer": "ipython3",
   "version": "3.8.16"
  }
 },
 "nbformat": 4,
 "nbformat_minor": 5
}
