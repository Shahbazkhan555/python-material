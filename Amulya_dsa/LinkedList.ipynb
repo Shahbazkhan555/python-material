{
 "cells": [
  {
   "cell_type": "code",
   "execution_count": 2,
   "id": "13f54cf8",
   "metadata": {},
   "outputs": [],
   "source": [
    "class node:\n",
    "    def __init__(self, data):\n",
    "        self.data = data\n",
    "        self.ref = None\n",
    "\n",
    "class LinkedList:\n",
    "    def __init__(self):\n",
    "        self.head = None\n",
    "        \n",
    "    def PrintLL(self):\n",
    "        if self.head == None:\n",
    "            print(\"LinkedList is empty\")\n",
    "        else:\n",
    "            n = self.head\n",
    "            while n is not None:\n",
    "                print(n.data)\n",
    "                n = n.ref"
   ]
  },
  {
   "cell_type": "code",
   "execution_count": 3,
   "id": "f97f4e6f",
   "metadata": {},
   "outputs": [
    {
     "name": "stdout",
     "output_type": "stream",
     "text": [
      "LinkedList is empty\n"
     ]
    }
   ],
   "source": [
    "LL1 = LinkedList()\n",
    "LL1.PrintLL()"
   ]
  },
  {
   "cell_type": "code",
   "execution_count": 5,
   "id": "a90370fe",
   "metadata": {},
   "outputs": [],
   "source": [
    "class Node:\n",
    "    def __init__(self,data):\n",
    "        self.data = data\n",
    "        self.ref = None\n",
    "    \n",
    "class LinkedList:\n",
    "    def __init__(self):\n",
    "        self.head = None\n",
    "        \n",
    "    def printLL(self):\n",
    "        if self.head == None:\n",
    "            print(\"LinkedList is empty\")\n",
    "        else:\n",
    "            n = self.head\n",
    "            while n != None:\n",
    "                print(n.data)\n",
    "                n = n.ref\n",
    "        \n",
    "    def add_begin(self,data):\n",
    "        new_node = Node(data)\n",
    "        new_node.ref = self.head\n",
    "        self.head = new_node\n",
    "\n",
    "        "
   ]
  },
  {
   "cell_type": "code",
   "execution_count": 8,
   "id": "6fbb903e",
   "metadata": {},
   "outputs": [
    {
     "name": "stdout",
     "output_type": "stream",
     "text": [
      "LinkedList is empty\n",
      "20\n",
      "10\n"
     ]
    }
   ],
   "source": [
    "LL1 = LinkedList()\n",
    "LL1.printLL()\n",
    "LL1.add_begin(10)\n",
    "LL1.add_begin(20)\n",
    "LL1.printLL()"
   ]
  },
  {
   "cell_type": "code",
   "execution_count": 10,
   "id": "831010ca",
   "metadata": {},
   "outputs": [],
   "source": [
    "class Node:\n",
    "    def __init__(self,data):\n",
    "        self.data = data\n",
    "        self.ref = None\n",
    "    \n",
    "class LinkedList:\n",
    "    def __init__(self):\n",
    "        self.head = None\n",
    "        \n",
    "    def printLL(self):\n",
    "        if self.head == None:\n",
    "            print(\"LinkedList is empty\")\n",
    "        else:\n",
    "            n = self.head\n",
    "            while n is not None:\n",
    "                print(n.data)\n",
    "                n = n.ref\n",
    "                \n",
    "    def add_begin(self,data):\n",
    "        new_node = Node(data)\n",
    "        new_node.ref = self.head\n",
    "        self.head = new_node\n",
    "        \n",
    "    def add_end(self,data):\n",
    "        new_node = Node(data)\n",
    "        if self.head==None:\n",
    "            self.head = new_node\n",
    "        else:\n",
    "            n = self.head\n",
    "            while n.ref is not None:\n",
    "                n = n.ref\n",
    "            n.ref = new_node\n",
    "            \n",
    "    "
   ]
  },
  {
   "cell_type": "code",
   "execution_count": 12,
   "id": "1faa64eb",
   "metadata": {},
   "outputs": [
    {
     "name": "stdout",
     "output_type": "stream",
     "text": [
      "20\n",
      "10\n",
      "100\n"
     ]
    }
   ],
   "source": [
    "LL1 = LinkedList()\n",
    "LL1.add_begin(10)\n",
    "LL1.add_end(100)\n",
    "LL1.add_begin(20)\n",
    "LL1.printLL()"
   ]
  },
  {
   "cell_type": "code",
   "execution_count": 15,
   "id": "bfcec169",
   "metadata": {},
   "outputs": [],
   "source": [
    "class Node:\n",
    "    def __init__(self,data):\n",
    "        self.data = data\n",
    "        self.ref = None\n",
    "class LinkedList:\n",
    "    def __init__(self):\n",
    "        self.head = None  \n",
    "    def printLL(self):\n",
    "        if self.head == None:\n",
    "            print(\"Linked List is empty\")\n",
    "        else:\n",
    "            n = self.head\n",
    "            while n is not None:\n",
    "                print(n.data)\n",
    "                n = n.ref\n",
    "    def add_begin(self,data):\n",
    "        new_node = Node(data)\n",
    "        new_node.ref = self.head\n",
    "        self.head = new_node\n",
    "    def add_end(self, data):\n",
    "        new_node = Node(data)\n",
    "        if self.head == None:\n",
    "            self.head = new_node\n",
    "        else:\n",
    "            n = self.head\n",
    "            while n.ref is not None:\n",
    "                n = n.ref\n",
    "            n.ref = new_node\n",
    "    def add_after(self,data,x):\n",
    "        n = self.head\n",
    "        while n is not None:\n",
    "            if x==n.data:\n",
    "                break\n",
    "            n = n.ref\n",
    "        if n is None:\n",
    "            print(\"node is not present in the linked list\")\n",
    "        else:\n",
    "            new_node = Node(data)\n",
    "            new_node.ref = n.ref\n",
    "            n.ref = new_node"
   ]
  },
  {
   "cell_type": "code",
   "execution_count": 20,
   "id": "9ec02c3d",
   "metadata": {},
   "outputs": [
    {
     "name": "stdout",
     "output_type": "stream",
     "text": [
      "19\n",
      "100\n",
      "11\n",
      "7\n"
     ]
    }
   ],
   "source": [
    "LL1 = LinkedList()\n",
    "LL1.add_begin(11)\n",
    "LL1.add_begin(19)\n",
    "LL1.add_end(7)\n",
    "LL1.add_after(100,19)\n",
    "LL1.printLL()"
   ]
  },
  {
   "cell_type": "code",
   "execution_count": 80,
   "id": "57bd8d9c",
   "metadata": {},
   "outputs": [],
   "source": [
    "class Node:\n",
    "    def __init__(self,data):\n",
    "        self.data = data\n",
    "        self.ref = None\n",
    "class LinkedList:\n",
    "    def __init__(self):\n",
    "        self.head = None\n",
    "    def printLL(self):\n",
    "        if self.head == None:\n",
    "            print(\"Linked List is empty\")\n",
    "        n = self.head\n",
    "        while n is not None:\n",
    "            print(n.data)\n",
    "            n = n.ref\n",
    "    def add_begin(self,data):\n",
    "        new_node = Node(data)\n",
    "        new_node.ref = self.head\n",
    "        self.head = new_node\n",
    "    def add_end(self,data):\n",
    "        new_node = Node(data)\n",
    "        if self.head is None:\n",
    "            self.head = new_node\n",
    "        n = self.head\n",
    "        while n.ref is not None:\n",
    "            n = n.ref\n",
    "        n.ref = new_node\n",
    "    def add_after(self,data,x):\n",
    "        n = self.head\n",
    "        while n is not None:\n",
    "            if x==n.data:\n",
    "                break\n",
    "            n = n.ref\n",
    "        if n is None:\n",
    "            print(\"Node is not present in the LinkedList\")\n",
    "        else:\n",
    "            new_node = Node(data)\n",
    "            new_node.ref = n.ref\n",
    "            n.ref = new_node\n",
    "    def add_before(self,data,x):\n",
    "        if self.head is None:\n",
    "            print(\"Linked List is empty\")\n",
    "            return\n",
    "        if self.head.data==x:\n",
    "            new_node = Node(data)\n",
    "            new_node.ref = self.head\n",
    "            self.head = new_node\n",
    "            return\n",
    "        else:\n",
    "            n = self.head\n",
    "            while n.ref is not None:\n",
    "                if n.ref.data==x:\n",
    "                    break\n",
    "                n = n.ref\n",
    "        if n.ref is None:\n",
    "            print(\"Node is not present in the Linked List\")\n",
    "        else:\n",
    "            new_node = Node(data)\n",
    "            new_node.ref = n.ref\n",
    "            n.ref = new_node\n",
    "    def delete_begin(self):\n",
    "        if self.head is None:\n",
    "            print(\"Linked List is empty so we cant delete at begin\")\n",
    "        else:\n",
    "            self.head = self.head.ref\n",
    "    def delete_end(self):\n",
    "        if self.head is None:\n",
    "            print(\"Linked List is empty so we can't delete at end\")\n",
    "        else:\n",
    "            n = self.head\n",
    "            while n.ref.ref is not None:\n",
    "                n = n.ref\n",
    "            n.ref = None\n",
    "    def delete_by_value(self,x):\n",
    "        if self.head is None:\n",
    "            print(\"Linked List is empty so we can't delete\")\n",
    "        elif self.head.data==x:\n",
    "            self.head = self.head.ref\n",
    "            return\n",
    "        n = self.head\n",
    "        while n.ref is not None:\n",
    "            if n.ref.data==x:\n",
    "                break\n",
    "            n = n.ref\n",
    "        if n.ref is None:\n",
    "            print(\"Node is not found\")\n",
    "        else:\n",
    "            n.ref = n.ref.ref"
   ]
  },
  {
   "cell_type": "markdown",
   "id": "1a1d7e46",
   "metadata": {},
   "source": [
    "Add before"
   ]
  },
  {
   "cell_type": "code",
   "execution_count": 44,
   "id": "6d892017",
   "metadata": {},
   "outputs": [
    {
     "name": "stdout",
     "output_type": "stream",
     "text": [
      "100\n",
      "11\n"
     ]
    }
   ],
   "source": [
    "LL1 = LinkedList()\n",
    "LL1.add_begin(11)\n",
    "LL1.add_before(100,11)\n",
    "LL1.printLL()"
   ]
  },
  {
   "cell_type": "code",
   "execution_count": 45,
   "id": "99d5a72b",
   "metadata": {},
   "outputs": [
    {
     "name": "stdout",
     "output_type": "stream",
     "text": [
      "100\n",
      "200\n",
      "11\n"
     ]
    }
   ],
   "source": [
    "LL1 = LinkedList()\n",
    "LL1.add_begin(11)\n",
    "LL1.add_before(100,11)\n",
    "LL1.add_before(200,11)\n",
    "LL1.printLL()"
   ]
  },
  {
   "cell_type": "code",
   "execution_count": 46,
   "id": "8194537f",
   "metadata": {},
   "outputs": [
    {
     "name": "stdout",
     "output_type": "stream",
     "text": [
      "Linked List is empty\n",
      "Linked List is empty\n"
     ]
    }
   ],
   "source": [
    "LL1 = LinkedList()\n",
    "LL1.add_before(100,11)\n",
    "LL1.printLL()"
   ]
  },
  {
   "cell_type": "markdown",
   "id": "83c631d3",
   "metadata": {},
   "source": [
    "Delete at begin"
   ]
  },
  {
   "cell_type": "code",
   "execution_count": 55,
   "id": "6f3dd2ab",
   "metadata": {},
   "outputs": [
    {
     "name": "stdout",
     "output_type": "stream",
     "text": [
      "11\n",
      "7\n"
     ]
    }
   ],
   "source": [
    "LL1 = LinkedList()\n",
    "LL1.add_begin(11)\n",
    "LL1.add_begin(19)\n",
    "LL1.add_end(7)\n",
    "LL1.delete_begin()\n",
    "LL1.printLL()"
   ]
  },
  {
   "cell_type": "code",
   "execution_count": 53,
   "id": "829e7a14",
   "metadata": {},
   "outputs": [
    {
     "name": "stdout",
     "output_type": "stream",
     "text": [
      "7\n"
     ]
    }
   ],
   "source": [
    "LL1.delete_begin()\n",
    "LL1.printLL()"
   ]
  },
  {
   "cell_type": "code",
   "execution_count": 64,
   "id": "a898b18c",
   "metadata": {},
   "outputs": [
    {
     "name": "stdout",
     "output_type": "stream",
     "text": [
      "Linked List is empty so we cant delete\n",
      "Linked List is empty\n"
     ]
    }
   ],
   "source": [
    "LL1 = LinkedList()\n",
    "LL1.delete_begin()\n",
    "LL1.printLL()"
   ]
  },
  {
   "cell_type": "markdown",
   "id": "34f93d90",
   "metadata": {},
   "source": [
    "Delete at end"
   ]
  },
  {
   "cell_type": "code",
   "execution_count": 73,
   "id": "cf257ac9",
   "metadata": {},
   "outputs": [
    {
     "name": "stdout",
     "output_type": "stream",
     "text": [
      "30\n",
      "20\n"
     ]
    }
   ],
   "source": [
    "LL1  = LinkedList()\n",
    "LL1.add_begin(10)\n",
    "LL1.add_begin(20)\n",
    "LL1.add_begin(30)\n",
    "LL1.delete_end()\n",
    "LL1.printLL()"
   ]
  },
  {
   "cell_type": "markdown",
   "id": "89ea75e7",
   "metadata": {},
   "source": [
    "Delete by any value"
   ]
  },
  {
   "cell_type": "code",
   "execution_count": 83,
   "id": "7a701cb9",
   "metadata": {},
   "outputs": [
    {
     "name": "stdout",
     "output_type": "stream",
     "text": [
      "30\n",
      "20\n"
     ]
    }
   ],
   "source": [
    "LL1  = LinkedList()\n",
    "LL1.add_begin(10)\n",
    "LL1.add_begin(20)\n",
    "LL1.add_begin(30)\n",
    "LL1.delete_by_value(10)\n",
    "LL1.printLL()"
   ]
  },
  {
   "cell_type": "code",
   "execution_count": 84,
   "id": "3d342b94",
   "metadata": {},
   "outputs": [
    {
     "name": "stdout",
     "output_type": "stream",
     "text": [
      "Node is not found\n",
      "30\n",
      "20\n",
      "10\n"
     ]
    }
   ],
   "source": [
    "LL1  = LinkedList()\n",
    "LL1.add_begin(10)\n",
    "LL1.add_begin(20)\n",
    "LL1.add_begin(30)\n",
    "LL1.delete_by_value(50)\n",
    "LL1.printLL()"
   ]
  },
  {
   "cell_type": "markdown",
   "id": "b5c6a44f",
   "metadata": {},
   "source": [
    "## Doubly Linked List"
   ]
  },
  {
   "cell_type": "code",
   "execution_count": 55,
   "id": "172f2105",
   "metadata": {},
   "outputs": [],
   "source": [
    "class Node:\n",
    "    def __init__(self,data):\n",
    "        self.data = data\n",
    "        self.nref = None\n",
    "        self.pref = None\n",
    "class DoublyLL:\n",
    "    def __init__(self):\n",
    "        self.head = None\n",
    "    def printLL(self):\n",
    "        if self.head is None:\n",
    "            print(\"Linked List is empty\")\n",
    "        else:\n",
    "            n = self.head\n",
    "            while n is not None:\n",
    "                print(n.data,\"-->\",end=\" \")\n",
    "                n = n.nref\n",
    "    def printLL_reverse(self):\n",
    "        print()\n",
    "        if self.head is None:\n",
    "            print(\"Linked List is empty\")\n",
    "        else:\n",
    "            n = self.head\n",
    "            while n.nref is not None:\n",
    "                n = n.nref\n",
    "            while n is not None:\n",
    "                print(n.data,\"-->\",end=\" \")\n",
    "                n = n.pref\n",
    "    def add_begin(self,data):\n",
    "        new_node = Node(data)\n",
    "        if self.head is None:\n",
    "            self.head = new_node\n",
    "        else:\n",
    "            new_node.nref = self.head\n",
    "            self.head.pref = new_node\n",
    "            self.head = new_node\n",
    "    def add_end(self,data):\n",
    "        new_node = Node(data)\n",
    "        if self.head is None:\n",
    "            self.head = new_node\n",
    "        else:\n",
    "            n = self.head\n",
    "            while n.nref is not None:\n",
    "                n = n.nref\n",
    "            n.nref = new_node\n",
    "            new_node.pref = n\n",
    "    def add_after(self,data,x):\n",
    "        if self.head is None:\n",
    "            print(\"Linked List empty so we can't add element\")\n",
    "        else:\n",
    "            n = self.head\n",
    "            while n is not None:\n",
    "                if x==n.data:\n",
    "                    break\n",
    "                n = n.nref\n",
    "            if n is None:\n",
    "                print(\"the given Node is not found\")\n",
    "            else:\n",
    "                new_node = Node(data)\n",
    "                new_node.nref = n.nref\n",
    "                new_node.pref = n\n",
    "                n.nref = new_node\n",
    "    def add_after(self,data,x):\n",
    "        if self.head is None:\n",
    "            print(\"Doubly Linked List is empty\")\n",
    "        else:\n",
    "            n = self.head\n",
    "            while n is not None:\n",
    "                if x==n.data:\n",
    "                    break\n",
    "                n = n.nref\n",
    "            if n is None:\n",
    "                print(\"Node is not found\")\n",
    "            else:\n",
    "                new_node = Node(data)\n",
    "                new_node.nref = n.nref\n",
    "                new_node.pref = n\n",
    "                if n.nref is not None:\n",
    "                    n.nref.pref = new_node\n",
    "                n.nref = new_node\n",
    "    def add_before(self,data,x):\n",
    "        if self.head is None:\n",
    "            print(\"Doubly Linked List is empty\")\n",
    "        else:\n",
    "            n = self.head\n",
    "            while n is not None:\n",
    "                if x==n.data:\n",
    "                    break\n",
    "                n = n.nref\n",
    "            if n is None:\n",
    "                print(\"Node is not found\")\n",
    "            else:\n",
    "                new_node = Node(data)\n",
    "                new_node.pref = n.pref\n",
    "                new_node.nref = n\n",
    "                if n.pref is not None:\n",
    "                    n.pref.nref = new_node\n",
    "                else:\n",
    "                    self.head = new_node\n",
    "                n.pref = new_node\n",
    "    def delete_begin(self):\n",
    "        if self.head is None:\n",
    "            print(\"Doubly LInked List is empty\")\n",
    "        elif self.head.nref is None:\n",
    "            self.head = None\n",
    "        else:\n",
    "            self.head = self.head.nref\n",
    "            self.head.pref = None\n",
    "    def delete_end(self):\n",
    "        if self.head is None:\n",
    "            print(\"Doubly Linked List is empty\")\n",
    "        elif self.head.nref is None:\n",
    "            self.head = None\n",
    "        else:\n",
    "            n = self.head\n",
    "            while n.nref.nref is not None:\n",
    "                n = n.nref\n",
    "            n.nref = None\n",
    "    def delete_by_value(self,x):\n",
    "        if self.head is None:\n",
    "            print(\"Doubly Linked List is empty\")\n",
    "            return\n",
    "        if self.head.nref is None:\n",
    "            if x==self.head.data:\n",
    "                self.head = None\n",
    "            else:\n",
    "                print(\"Node is not found\")\n",
    "            return\n",
    "        if x==self.head.data:\n",
    "            self.head = self.head.nref\n",
    "            self.head.pref = None\n",
    "            return\n",
    "        n = self.head\n",
    "        while n.nref is not None:\n",
    "            if x==n.data:\n",
    "                break\n",
    "            n = n.nref\n",
    "        if n.nref is None:\n",
    "            if x==n.data:\n",
    "                n.pref.nref = None\n",
    "            else:\n",
    "                print(\"Node is not found\")\n",
    "        else:\n",
    "            n.pref.nref = n.nref\n",
    "            n.nref.pref = n.pref"
   ]
  },
  {
   "cell_type": "code",
   "execution_count": 17,
   "id": "80038e8a",
   "metadata": {},
   "outputs": [
    {
     "name": "stdout",
     "output_type": "stream",
     "text": [
      "Linked List is empty\n"
     ]
    }
   ],
   "source": [
    "DLL = DoublyLL()\n",
    "DLL.printLL()"
   ]
  },
  {
   "cell_type": "code",
   "execution_count": 9,
   "id": "32cde2b5",
   "metadata": {},
   "outputs": [
    {
     "name": "stdout",
     "output_type": "stream",
     "text": [
      "Linked List is empty\n"
     ]
    }
   ],
   "source": [
    "DLL.printLL_reverse()"
   ]
  },
  {
   "cell_type": "markdown",
   "id": "23c7a32d",
   "metadata": {},
   "source": [
    "Adding element at the end and at the begining of the Linked List"
   ]
  },
  {
   "cell_type": "code",
   "execution_count": 14,
   "id": "e7a8f409",
   "metadata": {},
   "outputs": [
    {
     "name": "stdout",
     "output_type": "stream",
     "text": [
      "20 --> 10 --> 30 --> \n",
      "30 --> 10 --> 20 --> "
     ]
    }
   ],
   "source": [
    "DLL = DoublyLL()\n",
    "DLL.add_begin(10)\n",
    "DLL.add_begin(20)\n",
    "DLL.add_end(30)\n",
    "DLL.printLL()\n",
    "DLL.printLL_reverse()"
   ]
  },
  {
   "cell_type": "markdown",
   "id": "c8a75d4f",
   "metadata": {},
   "source": [
    "Adding the element after and before the given element in the Linked List"
   ]
  },
  {
   "cell_type": "code",
   "execution_count": 19,
   "id": "4d6a0dac",
   "metadata": {},
   "outputs": [
    {
     "name": "stdout",
     "output_type": "stream",
     "text": [
      "10 --> 100 --> 20 --> \n",
      "20 --> 100 --> 10 --> "
     ]
    }
   ],
   "source": [
    "DLL = DoublyLL()\n",
    "DLL.add_begin(10)\n",
    "DLL.add_end(20)\n",
    "DLL.add_after(100,10)\n",
    "DLL.printLL()\n",
    "DLL.printLL_reverse()"
   ]
  },
  {
   "cell_type": "code",
   "execution_count": 20,
   "id": "afc37a3e",
   "metadata": {},
   "outputs": [
    {
     "name": "stdout",
     "output_type": "stream",
     "text": [
      "10 --> 20 --> 100 --> \n",
      "100 --> 20 --> 10 --> "
     ]
    }
   ],
   "source": [
    "DLL = DoublyLL()\n",
    "DLL.add_begin(10)\n",
    "DLL.add_end(20)\n",
    "DLL.add_after(100,20)\n",
    "DLL.printLL()\n",
    "DLL.printLL_reverse()"
   ]
  },
  {
   "cell_type": "code",
   "execution_count": 21,
   "id": "1bdece26",
   "metadata": {},
   "outputs": [
    {
     "name": "stdout",
     "output_type": "stream",
     "text": [
      "10 --> 100 --> 20 --> \n",
      "20 --> 100 --> 10 --> "
     ]
    }
   ],
   "source": [
    "DLL = DoublyLL()\n",
    "DLL.add_begin(10)\n",
    "DLL.add_end(20)\n",
    "DLL.add_before(100,20)\n",
    "DLL.printLL()\n",
    "DLL.printLL_reverse()"
   ]
  },
  {
   "cell_type": "code",
   "execution_count": 22,
   "id": "49ff3ce0",
   "metadata": {},
   "outputs": [
    {
     "name": "stdout",
     "output_type": "stream",
     "text": [
      "Doubly Linked List is empty\n",
      "Linked List is empty\n",
      "\n",
      "Linked List is empty\n"
     ]
    }
   ],
   "source": [
    "DLL = DoublyLL()\n",
    "DLL.add_before(100,20)\n",
    "DLL.printLL()\n",
    "DLL.printLL_reverse()"
   ]
  },
  {
   "cell_type": "markdown",
   "id": "e64ae415",
   "metadata": {},
   "source": [
    "Delete the element at the begin and end of the Linked List"
   ]
  },
  {
   "cell_type": "code",
   "execution_count": 56,
   "id": "eb885cd0",
   "metadata": {},
   "outputs": [
    {
     "name": "stdout",
     "output_type": "stream",
     "text": [
      "30 --> 20 --> 10 --> "
     ]
    }
   ],
   "source": [
    "DLL = DoublyLL()\n",
    "DLL.add_begin(10)\n",
    "DLL.add_begin(20)\n",
    "DLL.add_begin(30)\n",
    "DLL.printLL()"
   ]
  },
  {
   "cell_type": "code",
   "execution_count": 28,
   "id": "d3004186",
   "metadata": {},
   "outputs": [
    {
     "name": "stdout",
     "output_type": "stream",
     "text": [
      "20 --> 10 --> "
     ]
    }
   ],
   "source": [
    "DLL = DoublyLL()\n",
    "DLL.add_begin(10)\n",
    "DLL.add_begin(20)\n",
    "DLL.add_begin(30)\n",
    "DLL.delete_begin()\n",
    "DLL.printLL()"
   ]
  },
  {
   "cell_type": "code",
   "execution_count": 40,
   "id": "b1ab430b",
   "metadata": {},
   "outputs": [
    {
     "name": "stdout",
     "output_type": "stream",
     "text": [
      "30 --> 20 --> "
     ]
    }
   ],
   "source": [
    "DLL = DoublyLL()\n",
    "DLL.add_begin(10)\n",
    "DLL.add_begin(20)\n",
    "DLL.add_begin(30)\n",
    "DLL.delete_end()\n",
    "DLL.printLL()"
   ]
  },
  {
   "cell_type": "code",
   "execution_count": 60,
   "id": "661790fc",
   "metadata": {},
   "outputs": [
    {
     "name": "stdout",
     "output_type": "stream",
     "text": [
      "Node is not found\n",
      "30 --> 20 --> 10 --> "
     ]
    }
   ],
   "source": [
    "DLL = DoublyLL()\n",
    "DLL.add_begin(10)\n",
    "DLL.add_begin(20)\n",
    "DLL.add_begin(30)\n",
    "DLL.delete_by_value(23)\n",
    "DLL.printLL()"
   ]
  },
  {
   "cell_type": "markdown",
   "id": "7ac4d17b",
   "metadata": {},
   "source": [
    "### Practice of Linked List"
   ]
  },
  {
   "cell_type": "code",
   "execution_count": null,
   "id": "186889e3",
   "metadata": {},
   "outputs": [],
   "source": [
    "class Node:\n",
    "    def __init__(self,data):\n",
    "        self.data = data\n",
    "        self.ref = None\n",
    "class LinkedList:\n",
    "    def __init__(self):\n",
    "        self.head = None\n",
    "    def printLL(self):\n",
    "        if self.head is None:\n",
    "            print(\"Linked List is empty\")\n",
    "        else:\n",
    "            n = self.head\n",
    "            while n is not None:\n",
    "                print(n.data)\n",
    "                n = n.ref\n",
    "    def add_begin(self,data):\n",
    "        new_node = Node(data)\n",
    "        if self.head is None:\n",
    "            self.head = new_node\n",
    "        else:\n",
    "            new_node.ref = self.head.ref\n",
    "            self.head = new_node\n",
    "            \n",
    "            "
   ]
  }
 ],
 "metadata": {
  "kernelspec": {
   "display_name": "Python 3 (ipykernel)",
   "language": "python",
   "name": "python3"
  },
  "language_info": {
   "codemirror_mode": {
    "name": "ipython",
    "version": 3
   },
   "file_extension": ".py",
   "mimetype": "text/x-python",
   "name": "python",
   "nbconvert_exporter": "python",
   "pygments_lexer": "ipython3",
   "version": "3.8.16"
  }
 },
 "nbformat": 4,
 "nbformat_minor": 5
}
