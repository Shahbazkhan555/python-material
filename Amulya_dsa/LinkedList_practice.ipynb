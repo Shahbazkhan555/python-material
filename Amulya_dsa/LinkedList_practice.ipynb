{
 "cells": [
  {
   "cell_type": "code",
   "execution_count": 5,
   "id": "30041c38",
   "metadata": {},
   "outputs": [],
   "source": [
    "# creating an empty linkedlist\n",
    "class Node:\n",
    "    def __init__(self,data):\n",
    "        self.data = data\n",
    "        self.ref = None\n",
    "        \n",
    "class LinkedList:\n",
    "    def __init__(self):\n",
    "        self.head = None\n",
    "        \n",
    "    def printLL(self):\n",
    "        if self.head == None:\n",
    "            print(\"LinkedList is empty\")\n",
    "        else:\n",
    "            n = self.head\n",
    "            while n != None:\n",
    "                print(n.data)\n",
    "                n = n.ref\n",
    "    "
   ]
  },
  {
   "cell_type": "code",
   "execution_count": 6,
   "id": "a1dc95e9",
   "metadata": {},
   "outputs": [
    {
     "name": "stdout",
     "output_type": "stream",
     "text": [
      "LinkedList is empty\n"
     ]
    }
   ],
   "source": [
    "LL1 = LinkedList()\n",
    "LL1.printLL()"
   ]
  },
  {
   "cell_type": "code",
   "execution_count": 7,
   "id": "bf0d47b4",
   "metadata": {},
   "outputs": [],
   "source": [
    "# adding a node to the begining of a LinkedList\n",
    "class Node:\n",
    "    def __init__(self,data):\n",
    "        self.data = data\n",
    "        self.ref = None\n",
    "        \n",
    "class LinkedList:\n",
    "    \n",
    "    def __init__(self):\n",
    "        self.head = None\n",
    "        \n",
    "    def printLL(self):\n",
    "        if self.head == None:\n",
    "            print(\"LinkedList is empty\")\n",
    "        else:\n",
    "            n = self.head\n",
    "            while n != None:\n",
    "                print(n.data)\n",
    "                n = n.ref\n",
    "                \n",
    "    def add_begin(self,data):\n",
    "        new_node = Node(data)\n",
    "        new_node.ref = self.head\n",
    "        self.head = new_node"
   ]
  },
  {
   "cell_type": "code",
   "execution_count": 9,
   "id": "42f8b2ba",
   "metadata": {},
   "outputs": [],
   "source": [
    "LL = LinkedList()"
   ]
  },
  {
   "cell_type": "code",
   "execution_count": 10,
   "id": "0f3a5f09",
   "metadata": {},
   "outputs": [
    {
     "name": "stdout",
     "output_type": "stream",
     "text": [
      "LinkedList is empty\n"
     ]
    }
   ],
   "source": [
    "LL.printLL()"
   ]
  },
  {
   "cell_type": "code",
   "execution_count": 11,
   "id": "4c65ff71",
   "metadata": {},
   "outputs": [],
   "source": [
    "LL.add_begin(3)"
   ]
  },
  {
   "cell_type": "code",
   "execution_count": 13,
   "id": "fbb83002",
   "metadata": {},
   "outputs": [
    {
     "name": "stdout",
     "output_type": "stream",
     "text": [
      "3\n"
     ]
    }
   ],
   "source": [
    "LL.printLL()"
   ]
  },
  {
   "cell_type": "code",
   "execution_count": null,
   "id": "13ca1efa",
   "metadata": {},
   "outputs": [],
   "source": []
  },
  {
   "cell_type": "code",
   "execution_count": 49,
   "id": "ccbfb713",
   "metadata": {},
   "outputs": [],
   "source": [
    "# adding a node at the end of the LinkedList\n",
    "class Node:\n",
    "    def __init__(self, data):\n",
    "        self.data = data\n",
    "        self.ref = None\n",
    "        \n",
    "class LinkedList:\n",
    "    def __init__(self):\n",
    "        self.head = None\n",
    "        \n",
    "    def printLL(self):\n",
    "        if self.head == None:\n",
    "            print(\"LinkedList is empty\")\n",
    "        else:\n",
    "            n = self.head\n",
    "            while n != None:\n",
    "                print(n.data)\n",
    "                n = n.ref\n",
    "    \n",
    "    def add_begin(self,data):\n",
    "        new_node = Node(data)\n",
    "        new_node.ref = self.head\n",
    "        self.head = new_node\n",
    "        \n",
    "    def add_end(self,data):\n",
    "        new_node = Node(data)\n",
    "        if self.head == None:\n",
    "            self.head = new_node\n",
    "        else:\n",
    "            n = self.head\n",
    "            while n.ref is not None:\n",
    "                n = n.ref\n",
    "            n.ref = new_node\n",
    "\n",
    "            "
   ]
  },
  {
   "cell_type": "code",
   "execution_count": 50,
   "id": "74801f64",
   "metadata": {},
   "outputs": [],
   "source": [
    "LL = LinkedList()"
   ]
  },
  {
   "cell_type": "code",
   "execution_count": 51,
   "id": "9614537e",
   "metadata": {},
   "outputs": [
    {
     "name": "stdout",
     "output_type": "stream",
     "text": [
      "LinkedList is empty\n"
     ]
    }
   ],
   "source": [
    "LL.printLL()"
   ]
  },
  {
   "cell_type": "code",
   "execution_count": 52,
   "id": "84e3e608",
   "metadata": {},
   "outputs": [],
   "source": [
    "LL.add_begin(23)"
   ]
  },
  {
   "cell_type": "code",
   "execution_count": 53,
   "id": "494c8fbc",
   "metadata": {},
   "outputs": [],
   "source": [
    "LL.add_begin(49)"
   ]
  },
  {
   "cell_type": "code",
   "execution_count": 54,
   "id": "16376e7d",
   "metadata": {},
   "outputs": [
    {
     "name": "stdout",
     "output_type": "stream",
     "text": [
      "49\n",
      "23\n"
     ]
    }
   ],
   "source": [
    "LL.printLL()"
   ]
  },
  {
   "cell_type": "code",
   "execution_count": 55,
   "id": "87dae955",
   "metadata": {},
   "outputs": [],
   "source": [
    "LL.add_end(60)"
   ]
  },
  {
   "cell_type": "code",
   "execution_count": 56,
   "id": "3c79332b",
   "metadata": {
    "scrolled": true
   },
   "outputs": [
    {
     "name": "stdout",
     "output_type": "stream",
     "text": [
      "49\n",
      "23\n",
      "60\n"
     ]
    }
   ],
   "source": [
    "LL.printLL()"
   ]
  },
  {
   "cell_type": "code",
   "execution_count": 40,
   "id": "dd69ede3",
   "metadata": {},
   "outputs": [],
   "source": [
    "class Node:\n",
    "    def __init__(self,data):\n",
    "        self.data = data\n",
    "        self.ref = None\n",
    "        \n",
    "class LinkedList:\n",
    "    def __init__(self):\n",
    "        self.head = None\n",
    "        \n",
    "    def printLL(self):\n",
    "        if self.head is None:\n",
    "            print(\"LinkedList is empty\")\n",
    "        else:\n",
    "            n = self.head\n",
    "            while n != None:\n",
    "                print(n.data)\n",
    "                n = n.ref\n",
    "                \n",
    "    def add_begin(self,data):\n",
    "        new_node = Node(data)\n",
    "        new_node.ref = self.head\n",
    "        self.head = new_node\n",
    "        \n",
    "    def add_end(self,data):\n",
    "        new_node = Node(data)\n",
    "        if self.head == None:\n",
    "            self.head = new_node\n",
    "        else:\n",
    "            n = self.head\n",
    "            while n.ref != None:\n",
    "                print(n.data)\n",
    "                n = n.ref\n",
    "                print(n.data)\n",
    "            n.ref = new_node\n",
    "            \n",
    "    def add_after(self, data, x):\n",
    "        n = self.head\n",
    "        while n.ref != None:\n",
    "            if x==n.data:\n",
    "                break\n",
    "            n = n.ref\n",
    "            print(n.ref)\n",
    "        if n is None:\n",
    "            print(x, \" is not in the LinkedList\")\n",
    "        else:\n",
    "            new_node = Node(data)\n",
    "            new_node.ref = n.ref\n",
    "            n.ref = new_node"
   ]
  },
  {
   "cell_type": "code",
   "execution_count": 41,
   "id": "70ffc478",
   "metadata": {},
   "outputs": [],
   "source": [
    "LL = LinkedList()"
   ]
  },
  {
   "cell_type": "code",
   "execution_count": 42,
   "id": "94b32bb5",
   "metadata": {},
   "outputs": [],
   "source": [
    "LL.add_begin(1)"
   ]
  },
  {
   "cell_type": "code",
   "execution_count": 43,
   "id": "6105583c",
   "metadata": {},
   "outputs": [],
   "source": [
    "LL.add_begin(3)"
   ]
  },
  {
   "cell_type": "code",
   "execution_count": 44,
   "id": "8c7cefe1",
   "metadata": {},
   "outputs": [
    {
     "name": "stdout",
     "output_type": "stream",
     "text": [
      "3\n",
      "1\n"
     ]
    }
   ],
   "source": [
    "LL.printLL()"
   ]
  },
  {
   "cell_type": "code",
   "execution_count": 45,
   "id": "4310c611",
   "metadata": {},
   "outputs": [
    {
     "name": "stdout",
     "output_type": "stream",
     "text": [
      "3\n",
      "1\n"
     ]
    }
   ],
   "source": [
    "LL.add_end(5)"
   ]
  },
  {
   "cell_type": "code",
   "execution_count": 46,
   "id": "118a81a5",
   "metadata": {},
   "outputs": [
    {
     "name": "stdout",
     "output_type": "stream",
     "text": [
      "3\n",
      "1\n",
      "5\n"
     ]
    }
   ],
   "source": [
    "LL.printLL()"
   ]
  },
  {
   "cell_type": "code",
   "execution_count": 47,
   "id": "d4102681",
   "metadata": {},
   "outputs": [
    {
     "name": "stdout",
     "output_type": "stream",
     "text": [
      "<__main__.Node object at 0x0000018C201D9B20>\n"
     ]
    }
   ],
   "source": [
    "LL.add_after(100,1)"
   ]
  },
  {
   "cell_type": "code",
   "execution_count": 48,
   "id": "22e63cda",
   "metadata": {},
   "outputs": [
    {
     "name": "stdout",
     "output_type": "stream",
     "text": [
      "3\n",
      "1\n",
      "100\n",
      "5\n"
     ]
    }
   ],
   "source": [
    "LL.printLL()"
   ]
  },
  {
   "cell_type": "code",
   "execution_count": 50,
   "id": "69f08a35",
   "metadata": {},
   "outputs": [],
   "source": [
    "class Node:\n",
    "    def __init__(self,data):\n",
    "        self.data = data\n",
    "        self.ref = None\n",
    "        \n",
    "class LinkedList:\n",
    "    def __init__(self):\n",
    "        self.head = None\n",
    "        \n",
    "    def printLL(self):\n",
    "        if self.head is None:\n",
    "            print(\"LinkedList is empty\")\n",
    "        else:\n",
    "            n = self.head\n",
    "            while n != None:\n",
    "                print(n.data)\n",
    "                n = n.ref\n",
    "                \n",
    "    def add_begin(self,data):\n",
    "        new_node = Node(data)\n",
    "        new_node.ref = self.head\n",
    "        self.head = new_node\n",
    "        \n",
    "    def add_end(self,data):\n",
    "        new_node = Node(data)\n",
    "        if self.head == None:\n",
    "            self.head = new_node\n",
    "        else:\n",
    "            n = self.head\n",
    "            while n.ref != None:\n",
    "                n = n.ref\n",
    "            n.ref = new_node\n",
    "            \n",
    "    def add_after(self, data, x):\n",
    "        n = self.head\n",
    "        while n.ref != None:\n",
    "            if x==n.data:\n",
    "                break\n",
    "            n = n.ref\n",
    "        if n is None:\n",
    "            print(x, \" is not in the LinkedList\")\n",
    "        else:\n",
    "            new_node = Node(data)\n",
    "            new_node.ref = n.ref\n",
    "            n.ref = new_node\n",
    "    \n",
    "    def add_before(self, data, x):\n",
    "        if self.head == None:\n",
    "            print(f\"LinkedList is empty can't add before {x} element\")\n",
    "        n = self.head\n",
    "        if self.head.data == x:\n",
    "            new_node = Node(data)\n",
    "            new_node.ref = self.head.ref\n",
    "            self.head = new_node\n",
    "        while n.ref != None:\n",
    "            if n.ref.data == x:\n",
    "                break\n",
    "            n = n.ref\n",
    "        if n.ref is None:\n",
    "            print(f\"{x} is not present in the LinkedList\")\n",
    "        else:\n",
    "            new_node = Node(data)\n",
    "            new_node.ref = n.ref\n",
    "            n.ref = new_node"
   ]
  },
  {
   "cell_type": "code",
   "execution_count": 51,
   "id": "b4885243",
   "metadata": {},
   "outputs": [],
   "source": [
    "LL = LinkedList()"
   ]
  },
  {
   "cell_type": "code",
   "execution_count": 52,
   "id": "a1dc648e",
   "metadata": {},
   "outputs": [],
   "source": [
    "LL.add_begin(2)\n",
    "LL.add_begin(8)\n",
    "LL.add_begin(4)"
   ]
  },
  {
   "cell_type": "code",
   "execution_count": 53,
   "id": "bca85f19",
   "metadata": {},
   "outputs": [
    {
     "name": "stdout",
     "output_type": "stream",
     "text": [
      "4\n",
      "8\n",
      "2\n"
     ]
    }
   ],
   "source": [
    "LL.printLL()"
   ]
  },
  {
   "cell_type": "code",
   "execution_count": 55,
   "id": "ad5f8585",
   "metadata": {},
   "outputs": [],
   "source": [
    "LL.add_before(100,2)"
   ]
  },
  {
   "cell_type": "code",
   "execution_count": 56,
   "id": "b8c8b576",
   "metadata": {},
   "outputs": [
    {
     "name": "stdout",
     "output_type": "stream",
     "text": [
      "4\n",
      "8\n",
      "100\n",
      "2\n"
     ]
    }
   ],
   "source": [
    "LL.printLL()"
   ]
  },
  {
   "cell_type": "code",
   "execution_count": 29,
   "id": "10106b86",
   "metadata": {},
   "outputs": [],
   "source": [
    "class Node:\n",
    "    def __init__(self,data):\n",
    "        self.data = data\n",
    "        self.ref = None\n",
    "        \n",
    "class LinkedList:\n",
    "    def __init__(self):\n",
    "        self.head = None\n",
    "        \n",
    "    def printLL(self):\n",
    "        if self.head == None:\n",
    "            print(\"LinkedList is empty\")\n",
    "        else:\n",
    "            n = self.head\n",
    "            while n != None:\n",
    "                print(n.data)\n",
    "                n = n.ref\n",
    "                \n",
    "    def add_begin(self,data):\n",
    "        new_node = Node(data)\n",
    "        new_node.ref = self.head\n",
    "        self.head = new_node\n",
    "        \n",
    "    def add_end(self,data):\n",
    "        if self.head is None:\n",
    "            new_node = Node(data)\n",
    "            self.head = new_node\n",
    "        else:\n",
    "            n = self.head\n",
    "            while n.ref is not None:\n",
    "                n = n.ref\n",
    "            new_node = Node(data)\n",
    "            n.ref = new_node\n",
    "            \n",
    "    def add_after(self,data,x):\n",
    "        new_node = Node(data)\n",
    "        if self.head is None:\n",
    "            print(\"the LinkedList is empty\")\n",
    "        if self.head.data == x:\n",
    "            new_node.ref = self.head.ref\n",
    "            self.head = new_node\n",
    "        n = self.head\n",
    "        while n.ref is not None:\n",
    "            if n.data == x:\n",
    "                break\n",
    "            n = n.ref\n",
    "        if n is None:\n",
    "            print(f\"{x} is not present in the LinkedList\")\n",
    "        else:\n",
    "            new_node.ref = n.ref\n",
    "            n.ref = new_node\n",
    "            \n",
    "    def add_before(self,data,x):\n",
    "        new_node = Node(data)\n",
    "        if self.head.data == x:\n",
    "            new_node.ref = self.head.ref\n",
    "            self.head = new_node\n",
    "        n = self.head\n",
    "        while n.ref != None:\n",
    "            if n.ref.data == x:\n",
    "                break\n",
    "            n = n.ref\n",
    "        if n.ref is None:\n",
    "            print(f\"{x} is not present in the LinkedList\")\n",
    "        else:\n",
    "            new_node.ref = n.ref\n",
    "            n.ref = new_node\n",
    "            \n",
    "    def delete_begin(self):\n",
    "        if self.head is None:\n",
    "            print(\"Linked is empty\")\n",
    "        else:\n",
    "            self.head = self.head.ref\n",
    "            \n",
    "    def delete_end(self):\n",
    "        if self.head is None:\n",
    "            print(\"LL is empty\")\n",
    "        n = self.head\n",
    "        while n.ref.ref != None:\n",
    "            n = n.ref\n",
    "        n.ref = None\n",
    "        \n",
    "    def delete_by_value(self,x):\n",
    "        if self.head is None:\n",
    "            print(\"LinkedList is empty\")\n",
    "        if self.head.data == x:\n",
    "            self.head.ref = self.head\n",
    "            return\n",
    "        n = self.head\n",
    "        while n.ref != None:\n",
    "            if n.ref.data == x:\n",
    "                break\n",
    "            n = n.ref\n",
    "        if n.ref is None:\n",
    "            (f\"{x} is not found in LinkedList\")\n",
    "        else:\n",
    "            n.ref = n.ref.ref\n",
    "            "
   ]
  },
  {
   "cell_type": "code",
   "execution_count": 30,
   "id": "1170ef64",
   "metadata": {},
   "outputs": [],
   "source": [
    "LL = LinkedList()"
   ]
  },
  {
   "cell_type": "code",
   "execution_count": 31,
   "id": "74e5babe",
   "metadata": {},
   "outputs": [],
   "source": [
    "LL.add_begin(2)"
   ]
  },
  {
   "cell_type": "code",
   "execution_count": 32,
   "id": "9e588372",
   "metadata": {},
   "outputs": [],
   "source": [
    "LL.add_begin(6)"
   ]
  },
  {
   "cell_type": "code",
   "execution_count": 33,
   "id": "746044f2",
   "metadata": {},
   "outputs": [
    {
     "name": "stdout",
     "output_type": "stream",
     "text": [
      "6\n",
      "2\n"
     ]
    }
   ],
   "source": [
    "LL.printLL()"
   ]
  },
  {
   "cell_type": "code",
   "execution_count": 34,
   "id": "4deba054",
   "metadata": {},
   "outputs": [],
   "source": [
    "LL.add_end(10)"
   ]
  },
  {
   "cell_type": "code",
   "execution_count": 35,
   "id": "c2a46c86",
   "metadata": {},
   "outputs": [
    {
     "name": "stdout",
     "output_type": "stream",
     "text": [
      "6\n",
      "2\n",
      "10\n"
     ]
    }
   ],
   "source": [
    "LL.printLL()"
   ]
  },
  {
   "cell_type": "code",
   "execution_count": 36,
   "id": "43c00836",
   "metadata": {},
   "outputs": [],
   "source": [
    "LL.add_after(100,10)"
   ]
  },
  {
   "cell_type": "code",
   "execution_count": 37,
   "id": "89a3bcdc",
   "metadata": {},
   "outputs": [
    {
     "name": "stdout",
     "output_type": "stream",
     "text": [
      "6\n",
      "2\n",
      "10\n",
      "100\n"
     ]
    }
   ],
   "source": [
    "LL.printLL()"
   ]
  },
  {
   "cell_type": "code",
   "execution_count": 38,
   "id": "7ca6d39a",
   "metadata": {},
   "outputs": [],
   "source": [
    "LL.add_before(33,10)"
   ]
  },
  {
   "cell_type": "code",
   "execution_count": 39,
   "id": "d3fdf60c",
   "metadata": {
    "scrolled": true
   },
   "outputs": [
    {
     "name": "stdout",
     "output_type": "stream",
     "text": [
      "6\n",
      "2\n",
      "33\n",
      "10\n",
      "100\n"
     ]
    }
   ],
   "source": [
    "LL.printLL()"
   ]
  },
  {
   "cell_type": "code",
   "execution_count": 40,
   "id": "8360839b",
   "metadata": {},
   "outputs": [],
   "source": [
    "LL.delete_begin()"
   ]
  },
  {
   "cell_type": "code",
   "execution_count": 41,
   "id": "6bd7e184",
   "metadata": {},
   "outputs": [
    {
     "name": "stdout",
     "output_type": "stream",
     "text": [
      "2\n",
      "33\n",
      "10\n",
      "100\n"
     ]
    }
   ],
   "source": [
    "LL.printLL()"
   ]
  },
  {
   "cell_type": "code",
   "execution_count": 42,
   "id": "f353d945",
   "metadata": {},
   "outputs": [],
   "source": [
    "LL.delete_end()"
   ]
  },
  {
   "cell_type": "code",
   "execution_count": 43,
   "id": "017c5492",
   "metadata": {},
   "outputs": [
    {
     "name": "stdout",
     "output_type": "stream",
     "text": [
      "2\n",
      "33\n",
      "10\n"
     ]
    }
   ],
   "source": [
    "LL.printLL()"
   ]
  },
  {
   "cell_type": "code",
   "execution_count": 44,
   "id": "95fc9eb1",
   "metadata": {},
   "outputs": [],
   "source": [
    "LL.delete_by_value(33)"
   ]
  },
  {
   "cell_type": "code",
   "execution_count": 45,
   "id": "ec2583be",
   "metadata": {},
   "outputs": [
    {
     "name": "stdout",
     "output_type": "stream",
     "text": [
      "2\n",
      "10\n"
     ]
    }
   ],
   "source": [
    "LL.printLL()"
   ]
  },
  {
   "cell_type": "markdown",
   "id": "e065021f",
   "metadata": {},
   "source": [
    "# Doubly LinkedList"
   ]
  },
  {
   "cell_type": "code",
   "execution_count": 153,
   "id": "e25ed2e6",
   "metadata": {},
   "outputs": [],
   "source": [
    "# traversing, adding node to begin and to the end of the Doubly LinkedList\n",
    "\n",
    "class Node:\n",
    "    def __init__(self,data):\n",
    "        self.data = data\n",
    "        self.nref = None\n",
    "        self.pref = None\n",
    "        \n",
    "class DoublyLL:\n",
    "    def __init__(self):\n",
    "        self.head = None\n",
    "        \n",
    "    def printLL(self):\n",
    "        if self.head is None:\n",
    "            print(\"DoublyLL is empty\")\n",
    "        else:\n",
    "            n = self.head\n",
    "            while n != None:\n",
    "                print(n.data,  \"-->\", end=\" \")\n",
    "                n = n.nref\n",
    "        \n",
    "    def reverse_printLL(self):\n",
    "        if self.head == None:\n",
    "            print(\"DoublyLL is None\")\n",
    "        else:\n",
    "            n = self.head\n",
    "            while n.nref != None:\n",
    "                n = n.nref\n",
    "            while n != None:\n",
    "                print(n.data, \"-->\", end=\" \")\n",
    "                n = n.pref\n",
    "    \n",
    "    def add_begin(self,data):\n",
    "        new_node = Node(data)\n",
    "        if self.head is None:\n",
    "            self.head = new_node\n",
    "        else:\n",
    "            new_node.nref = self.head\n",
    "            self.head.pref = new_node\n",
    "            self.head = new_node\n",
    "            \n",
    "    def add_end(self,data):\n",
    "        new_node = Node(data);\n",
    "        if self.head is None:\n",
    "            self.head = new_node\n",
    "        n = self.head\n",
    "        while n.nref != None:\n",
    "            n = n.nref\n",
    "        n.nref = new_node\n",
    "        new_node.pref = n\n",
    "        \n",
    "    def add_after(self,data,x):\n",
    "        if self.head is None:\n",
    "            print(\"DoublyLL is empty\")\n",
    "        n = self.head\n",
    "        while n != None:\n",
    "            if n.data == x:\n",
    "                break\n",
    "            n = n.nref\n",
    "        if n is None:\n",
    "            print(f\"{x} not found in DoublyLL\")\n",
    "        else:\n",
    "            new_node = Node(data)\n",
    "            new_node.nref = n.nref\n",
    "            n.nref = new_node\n",
    "            new_node.pref = n\n",
    "            \n",
    "    def add_before(self,data,x):\n",
    "        if self.head is None:\n",
    "            print(\"DoublyLL is empty\")\n",
    "        n = self.head\n",
    "        while n is not None:\n",
    "            if n.data == x:\n",
    "                break\n",
    "            n = n.nref\n",
    "        if n is None:\n",
    "            print(f\"{x} not found in the DoublyLL\")\n",
    "        else:\n",
    "            new_node = Node(data)\n",
    "            new_node.pref = n.pref\n",
    "            new_node.nref = n\n",
    "            if n.pref is not None:\n",
    "                n.pref.nref = new_node\n",
    "            else:\n",
    "                self.head = new_node\n",
    "            n.pref = new_node\n",
    "    \n",
    "    def delete_begin(self):\n",
    "        if self.head is None:\n",
    "            print(\"DLL is empty\")\n",
    "        elif self.head.nref is None:\n",
    "            self.head = None\n",
    "        else:\n",
    "            self.head = self.head.nref\n",
    "            self.head.pref = None\n",
    "            \n",
    "    def delete_end(self):\n",
    "        if self.head is None:\n",
    "            print(\"Doubly Linked List is empty\")\n",
    "        elif self.head.nref is None:\n",
    "            self.head = None\n",
    "        else:\n",
    "            n = self.head\n",
    "            while n.nref.nref is not None:\n",
    "                n = n.nref\n",
    "            n.nref = None\n",
    "        \n",
    "    def delte_by_value(self, x):\n",
    "        if self.head is None:\n",
    "            print(\"Doubly Linked List is empty\")\n",
    "            return\n",
    "        if self.head.nref is None:\n",
    "            if x==self.head.data:\n",
    "                self.head = None\n",
    "            else:\n",
    "                print(\"Node is not found\")\n",
    "            return\n",
    "        if x==self.head.data:\n",
    "            self.head = self.head.nref\n",
    "            self.head.pref = None\n",
    "            return\n",
    "        n = self.head\n",
    "        while n is not None:\n",
    "            if x==n.data:\n",
    "                break\n",
    "            n = n.nref\n",
    "        if n is None:\n",
    "            print(f\"{x} is not found in the DoublyLL\")\n",
    "        else:\n",
    "            n.pref.nref = n.nref\n",
    "            n.nref.pref = n.pref"
   ]
  },
  {
   "cell_type": "code",
   "execution_count": 154,
   "id": "3e2efbe0",
   "metadata": {},
   "outputs": [],
   "source": [
    "DLL = DoublyLL()"
   ]
  },
  {
   "cell_type": "code",
   "execution_count": 155,
   "id": "0b64dfb0",
   "metadata": {},
   "outputs": [],
   "source": [
    "DLL.add_begin(1)"
   ]
  },
  {
   "cell_type": "code",
   "execution_count": 156,
   "id": "3c26e0ca",
   "metadata": {},
   "outputs": [],
   "source": [
    "DLL.add_begin(2)\n",
    "DLL.add_begin(3)"
   ]
  },
  {
   "cell_type": "code",
   "execution_count": 157,
   "id": "626fa088",
   "metadata": {},
   "outputs": [
    {
     "name": "stdout",
     "output_type": "stream",
     "text": [
      "3 --> 2 --> 1 --> "
     ]
    }
   ],
   "source": [
    "DLL.printLL()"
   ]
  },
  {
   "cell_type": "code",
   "execution_count": 158,
   "id": "cefbc090",
   "metadata": {},
   "outputs": [
    {
     "name": "stdout",
     "output_type": "stream",
     "text": [
      "1 --> 2 --> 3 --> "
     ]
    }
   ],
   "source": [
    "DLL.reverse_printLL()"
   ]
  },
  {
   "cell_type": "code",
   "execution_count": 159,
   "id": "0dee8659",
   "metadata": {},
   "outputs": [],
   "source": [
    "DLL.add_end(2)"
   ]
  },
  {
   "cell_type": "code",
   "execution_count": 160,
   "id": "862cd8e1",
   "metadata": {},
   "outputs": [
    {
     "name": "stdout",
     "output_type": "stream",
     "text": [
      "3 --> 2 --> 1 --> 2 --> "
     ]
    }
   ],
   "source": [
    "DLL.printLL()"
   ]
  },
  {
   "cell_type": "code",
   "execution_count": 161,
   "id": "f1295035",
   "metadata": {},
   "outputs": [],
   "source": [
    "DLL.add_after(10,1)"
   ]
  },
  {
   "cell_type": "code",
   "execution_count": 162,
   "id": "98b9ec4d",
   "metadata": {},
   "outputs": [
    {
     "name": "stdout",
     "output_type": "stream",
     "text": [
      "3 --> 2 --> 1 --> 10 --> 2 --> "
     ]
    }
   ],
   "source": [
    "DLL.printLL()"
   ]
  },
  {
   "cell_type": "code",
   "execution_count": 163,
   "id": "4d23bca5",
   "metadata": {},
   "outputs": [],
   "source": [
    "DLL.add_before(12,10)"
   ]
  },
  {
   "cell_type": "code",
   "execution_count": 164,
   "id": "1a18c05e",
   "metadata": {},
   "outputs": [
    {
     "name": "stdout",
     "output_type": "stream",
     "text": [
      "3 --> 2 --> 1 --> 12 --> 10 --> 2 --> "
     ]
    }
   ],
   "source": [
    "DLL.printLL()"
   ]
  },
  {
   "cell_type": "code",
   "execution_count": 165,
   "id": "8ee11567",
   "metadata": {},
   "outputs": [],
   "source": [
    "DLL.delete_begin()"
   ]
  },
  {
   "cell_type": "code",
   "execution_count": 166,
   "id": "3bcc2fe7",
   "metadata": {},
   "outputs": [
    {
     "name": "stdout",
     "output_type": "stream",
     "text": [
      "2 --> 1 --> 12 --> 10 --> 2 --> "
     ]
    }
   ],
   "source": [
    "DLL.printLL()"
   ]
  },
  {
   "cell_type": "code",
   "execution_count": 167,
   "id": "97d41450",
   "metadata": {},
   "outputs": [],
   "source": [
    "DLL.delete_end()"
   ]
  },
  {
   "cell_type": "code",
   "execution_count": 168,
   "id": "0104989f",
   "metadata": {},
   "outputs": [
    {
     "name": "stdout",
     "output_type": "stream",
     "text": [
      "2 --> 1 --> 12 --> 10 --> "
     ]
    }
   ],
   "source": [
    "DLL.printLL()"
   ]
  },
  {
   "cell_type": "code",
   "execution_count": 170,
   "id": "524e818d",
   "metadata": {},
   "outputs": [],
   "source": [
    "DLL.delte_by_value(12)"
   ]
  },
  {
   "cell_type": "code",
   "execution_count": 171,
   "id": "f00e50af",
   "metadata": {},
   "outputs": [
    {
     "name": "stdout",
     "output_type": "stream",
     "text": [
      "2 --> 1 --> 10 --> "
     ]
    }
   ],
   "source": [
    "DLL.printLL()"
   ]
  },
  {
   "cell_type": "code",
   "execution_count": null,
   "id": "d864fc19",
   "metadata": {},
   "outputs": [],
   "source": []
  }
 ],
 "metadata": {
  "kernelspec": {
   "display_name": "Python 3",
   "language": "python",
   "name": "python3"
  },
  "language_info": {
   "codemirror_mode": {
    "name": "ipython",
    "version": 3
   },
   "file_extension": ".py",
   "mimetype": "text/x-python",
   "name": "python",
   "nbconvert_exporter": "python",
   "pygments_lexer": "ipython3",
   "version": "3.8.8"
  }
 },
 "nbformat": 4,
 "nbformat_minor": 5
}
