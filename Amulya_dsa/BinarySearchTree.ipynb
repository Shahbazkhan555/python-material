{
 "cells": [
  {
   "cell_type": "code",
   "execution_count": null,
   "id": "5d664686",
   "metadata": {},
   "outputs": [],
   "source": []
  },
  {
   "cell_type": "markdown",
   "id": "2995e4d1",
   "metadata": {},
   "source": [
    "### Initializing the Binary Search Tree class"
   ]
  },
  {
   "cell_type": "code",
   "execution_count": 6,
   "id": "caec3207",
   "metadata": {},
   "outputs": [],
   "source": [
    "class BST:\n",
    "    \n",
    "    def __init__(self,key):\n",
    "        self.key = key\n",
    "        self.lchild = None\n",
    "        self.rchild = None\n",
    "        "
   ]
  },
  {
   "cell_type": "code",
   "execution_count": 7,
   "id": "d5d2cbab",
   "metadata": {},
   "outputs": [],
   "source": [
    "root = BST(10)"
   ]
  },
  {
   "cell_type": "code",
   "execution_count": 9,
   "id": "92abc650",
   "metadata": {},
   "outputs": [
    {
     "name": "stdout",
     "output_type": "stream",
     "text": [
      "<__main__.BST object at 0x0000020F29A3C5B0>\n",
      "10\n",
      "None\n",
      "None\n"
     ]
    }
   ],
   "source": [
    "print(root)\n",
    "print(root.key)\n",
    "print(root.lchild)\n",
    "print(root.rchild)"
   ]
  },
  {
   "cell_type": "code",
   "execution_count": 10,
   "id": "beb55bcd",
   "metadata": {},
   "outputs": [],
   "source": [
    "root.lchild = BST(5)"
   ]
  },
  {
   "cell_type": "code",
   "execution_count": 13,
   "id": "336f2e83",
   "metadata": {},
   "outputs": [
    {
     "name": "stdout",
     "output_type": "stream",
     "text": [
      "<__main__.BST object at 0x0000020F29A3C5B0>\n",
      "10\n",
      "<__main__.BST object at 0x0000020F29A442B0>\n",
      "None\n"
     ]
    }
   ],
   "source": [
    "print(root)\n",
    "print(root.key)\n",
    "print(root.lchild)\n",
    "print(root.rchild)"
   ]
  },
  {
   "cell_type": "code",
   "execution_count": 16,
   "id": "7339cc51",
   "metadata": {},
   "outputs": [
    {
     "name": "stdout",
     "output_type": "stream",
     "text": [
      "5\n",
      "None\n",
      "None\n"
     ]
    }
   ],
   "source": [
    "print(root.lchild.key)\n",
    "print(root.lchild.lchild)\n",
    "print(root.lchild.rchild)"
   ]
  },
  {
   "cell_type": "markdown",
   "id": "760f89d4",
   "metadata": {},
   "source": [
    "### Insertion"
   ]
  },
  {
   "cell_type": "code",
   "execution_count": 17,
   "id": "5ee7d2fe",
   "metadata": {},
   "outputs": [],
   "source": [
    "class BST:\n",
    "    \n",
    "    def __init__(self,key):\n",
    "        self.key = key\n",
    "        self.lchild = None\n",
    "        self.rchild = None\n",
    "        \n",
    "        \n",
    "    def insert(self, data):\n",
    "        \n",
    "        # if the key is empty\n",
    "        if self.key is None:\n",
    "            self.key = data\n",
    "            return \n",
    "        \n",
    "        # if key is eqaul to the given data (ignoring the duplicate value)\n",
    "        if self.key == data:\n",
    "            return\n",
    "        \n",
    "        if self.key > data:\n",
    "            \n",
    "            # if data is less than key check in the left side \n",
    "            if self.lchild:\n",
    "                self.lchild.insert(data)\n",
    "            else:\n",
    "                # if lchild is None then create node at lchild\n",
    "                self.lchild = BST(data)\n",
    "                \n",
    "        else:\n",
    "            \n",
    "            # if data is greater than key check in the right side\n",
    "            if self.rchild:\n",
    "                self.rchild.insert(data)\n",
    "            else:\n",
    "                # if rchild is None then create a node in rchild\n",
    "                self.rchild = BST(data)"
   ]
  },
  {
   "cell_type": "code",
   "execution_count": 18,
   "id": "3a5c6aa0",
   "metadata": {},
   "outputs": [],
   "source": [
    "root = BST(None)"
   ]
  },
  {
   "cell_type": "code",
   "execution_count": 19,
   "id": "57aa8a95",
   "metadata": {},
   "outputs": [],
   "source": [
    "root.insert(5)"
   ]
  },
  {
   "cell_type": "code",
   "execution_count": 22,
   "id": "d8647ed4",
   "metadata": {},
   "outputs": [
    {
     "name": "stdout",
     "output_type": "stream",
     "text": [
      "5\n",
      "None\n",
      "None\n"
     ]
    }
   ],
   "source": [
    "print(root.key)\n",
    "print(root.lchild) # node is not present\n",
    "print(root.rchild) # node is not present"
   ]
  },
  {
   "cell_type": "code",
   "execution_count": 23,
   "id": "31b79a25",
   "metadata": {},
   "outputs": [],
   "source": [
    "lst = [1,3,4,5,6,7,8]\n",
    "for i in lst:\n",
    "    root.insert(i)"
   ]
  },
  {
   "cell_type": "code",
   "execution_count": 26,
   "id": "fe9bcd39",
   "metadata": {},
   "outputs": [
    {
     "name": "stdout",
     "output_type": "stream",
     "text": [
      "5\n",
      "<__main__.BST object at 0x0000020F29B2B7F0>\n"
     ]
    }
   ],
   "source": [
    "print(root.key)\n",
    "print(root.lchild) # node is already present in lchild"
   ]
  },
  {
   "cell_type": "markdown",
   "id": "1d48b121",
   "metadata": {},
   "source": [
    "### creating search funciton"
   ]
  },
  {
   "cell_type": "code",
   "execution_count": 27,
   "id": "3c8d4c21",
   "metadata": {},
   "outputs": [],
   "source": [
    "class BST:\n",
    "    \n",
    "    def __init__(self,key):\n",
    "        \n",
    "        self.key = key\n",
    "        self.lchild = None\n",
    "        self.rchild = None\n",
    "        \n",
    "        \n",
    "    def insert(self,data):\n",
    "        \n",
    "        if self.key is None:\n",
    "            self.key = data\n",
    "            return\n",
    "        \n",
    "        if self.key == data:\n",
    "            return\n",
    "        \n",
    "        if data < self.key:\n",
    "            \n",
    "            if self.lchild:\n",
    "                self.lchild.insert(data)\n",
    "            else:\n",
    "                self.lchild = BST(data)\n",
    "                \n",
    "        else:\n",
    "            \n",
    "            if self.rchild:\n",
    "                self.rchild.insert(data)\n",
    "            else:\n",
    "                self.rchild = BST(data)\n",
    "                \n",
    "                \n",
    "    def search(self, data):\n",
    "        \n",
    "        if self.key == data:\n",
    "            print(\"node is present\")\n",
    "            return \n",
    "        \n",
    "        if data < self.key:\n",
    "            \n",
    "            if self.lchild:\n",
    "                self.lchild.search(data)\n",
    "            else:\n",
    "                # if the self.lchild is None and still finding for the given node\n",
    "                print(\"Node is not present\")\n",
    "                \n",
    "        else:\n",
    "            \n",
    "            if self.rchild:\n",
    "                self.rchild.search(data)\n",
    "            else:\n",
    "                # if the self.rchild is None and still finding for the given node\n",
    "                print(\"Node is not present\")"
   ]
  },
  {
   "cell_type": "code",
   "execution_count": 28,
   "id": "c22840a3",
   "metadata": {},
   "outputs": [],
   "source": [
    "root = BST(10)"
   ]
  },
  {
   "cell_type": "code",
   "execution_count": 29,
   "id": "db220c24",
   "metadata": {},
   "outputs": [],
   "source": [
    "lst = [1,3,4,5,6,7,8]\n",
    "for i in lst:\n",
    "    root.insert(i)"
   ]
  },
  {
   "cell_type": "code",
   "execution_count": 30,
   "id": "95008d09",
   "metadata": {},
   "outputs": [
    {
     "name": "stdout",
     "output_type": "stream",
     "text": [
      "node is present\n"
     ]
    }
   ],
   "source": [
    "root.search(5)"
   ]
  },
  {
   "cell_type": "code",
   "execution_count": 31,
   "id": "ad640469",
   "metadata": {},
   "outputs": [
    {
     "name": "stdout",
     "output_type": "stream",
     "text": [
      "Node is not found\n"
     ]
    }
   ],
   "source": [
    "root.search(9)"
   ]
  },
  {
   "cell_type": "markdown",
   "id": "6b68c0c0",
   "metadata": {},
   "source": [
    "### Traversing (Preorder, Inorder, Postorder)"
   ]
  },
  {
   "cell_type": "code",
   "execution_count": 36,
   "id": "d0d45998",
   "metadata": {},
   "outputs": [],
   "source": [
    "class BST:\n",
    "    \n",
    "    def __init__(self, key):\n",
    "        \n",
    "        self.key = key\n",
    "        self.lchild = None\n",
    "        self.rchild = None\n",
    "        \n",
    "        \n",
    "    def insert(self, data):\n",
    "        \n",
    "        if self.key is None:\n",
    "            self.key = data\n",
    "            return \n",
    "        \n",
    "        if self.key == data:\n",
    "            return \n",
    "        \n",
    "        if data < self.key:\n",
    "            \n",
    "            if self.lchild:\n",
    "                self.lchild.insert(data)\n",
    "            else:\n",
    "                self.lchild = BST(data)\n",
    "                \n",
    "        else:\n",
    "            \n",
    "            if self.rchild:\n",
    "                self.rchild.insert(data)\n",
    "            else:\n",
    "                self.rchild = BST(data)\n",
    "                \n",
    "                \n",
    "    def search(self, data):\n",
    "        \n",
    "        if self.key == data:\n",
    "            print(\"Node is present\")\n",
    "            return\n",
    "        \n",
    "        if data < self.key:\n",
    "            \n",
    "            if self.lchild:\n",
    "                self.lchild.search(data)\n",
    "            else:\n",
    "                print(\"Node is not present\")\n",
    "                \n",
    "        else:\n",
    "            \n",
    "            if self.rchild:\n",
    "                self.rchild.search(data)\n",
    "            else:\n",
    "                print(\"Node is not present\")\n",
    "                \n",
    "                \n",
    "    def preorder(self):\n",
    "        \n",
    "        print(self.key, end=\" \")\n",
    "        \n",
    "        if self.lchild:\n",
    "            self.lchild.preorder()\n",
    "            \n",
    "        if self.rchild:\n",
    "            self.rchild.preorder()\n",
    "            \n",
    "            \n",
    "    def inorder(self):\n",
    "        \n",
    "        if self.lchild:\n",
    "            self.lchild.inorder()\n",
    "        \n",
    "        print(self.key, end=\" \")\n",
    "        \n",
    "        if self.rchild:\n",
    "            self.rchild.inorder()\n",
    "            \n",
    "            \n",
    "    def postorder(self):\n",
    "        \n",
    "        if self.lchild:\n",
    "            self.lchild.postorder()\n",
    "            \n",
    "        if self.rchild:\n",
    "            self.rchild.postorder()\n",
    "            \n",
    "        print(self.key, end=\" \")"
   ]
  },
  {
   "cell_type": "code",
   "execution_count": 37,
   "id": "0420fdc3",
   "metadata": {},
   "outputs": [],
   "source": [
    "root = BST(10)\n",
    "lst = [6,3,1,6,98,3,7]"
   ]
  },
  {
   "cell_type": "code",
   "execution_count": 38,
   "id": "94287472",
   "metadata": {},
   "outputs": [],
   "source": [
    "for i in lst:\n",
    "    root.insert(i)"
   ]
  },
  {
   "cell_type": "code",
   "execution_count": 41,
   "id": "c46d7c5c",
   "metadata": {},
   "outputs": [
    {
     "name": "stdout",
     "output_type": "stream",
     "text": [
      "Preorder\n",
      "10 6 3 1 7 98 \n",
      "Inorder\n",
      "1 3 6 7 10 98 \n",
      "Postorder\n",
      "1 3 7 6 98 10 "
     ]
    }
   ],
   "source": [
    "print(\"Preorder\")\n",
    "root.preorder()\n",
    "print()\n",
    "print(\"Inorder\")\n",
    "root.inorder()\n",
    "print()\n",
    "print(\"Postorder\")\n",
    "root.postorder()"
   ]
  },
  {
   "cell_type": "markdown",
   "id": "44d42ee5",
   "metadata": {},
   "source": [
    "### Deleting a Node"
   ]
  },
  {
   "cell_type": "code",
   "execution_count": 45,
   "id": "29ebbfd6",
   "metadata": {},
   "outputs": [],
   "source": [
    "class BST:\n",
    "    \n",
    "    def __init__(self, key):\n",
    "        \n",
    "        self.key = key\n",
    "        self.lchild = None\n",
    "        self.rchild = None\n",
    "        \n",
    "    \n",
    "    def insert(self, data):\n",
    "        \n",
    "        if self.key == None:\n",
    "            self.key = data\n",
    "            return\n",
    "        \n",
    "        if self.key == data:\n",
    "            return\n",
    "        \n",
    "        if data < self.key:\n",
    "            \n",
    "            if self.lchild:\n",
    "                self.lchild.insert(data)\n",
    "            else:\n",
    "                self.lchild = BST(data)\n",
    "                \n",
    "        else:\n",
    "            \n",
    "            if self.rchild:\n",
    "                self.rchild.insert(data)\n",
    "            else:\n",
    "                self.rchild = BST(data)\n",
    "                \n",
    "                \n",
    "    def search(self, data):\n",
    "        \n",
    "        if self.key == None:\n",
    "            print(\"The Tree is empty\")\n",
    "            return\n",
    "        \n",
    "        if self.key == data:\n",
    "            print(\"The Node is present\")\n",
    "            return\n",
    "            \n",
    "        if data < self.key:\n",
    "            \n",
    "            if self.lchild:\n",
    "                self.lchild.search(data)\n",
    "            else:\n",
    "                print(\"Node is not present\")\n",
    "                \n",
    "        else:\n",
    "            \n",
    "            if self.rchild:\n",
    "                self.rchild.search(data)\n",
    "            else:\n",
    "                print(\"Node is not present\")\n",
    "                \n",
    "                \n",
    "    def preorder(self):\n",
    "        \n",
    "        print(self.key, end=\" \")\n",
    "        \n",
    "        if self.lchild:\n",
    "            self.lchild.preorder()\n",
    "            \n",
    "        if self.rchild:\n",
    "            self.rchild.preorder()\n",
    "            \n",
    "            \n",
    "    def inorder(self):\n",
    "        \n",
    "        if self.lchild:\n",
    "            self.lchild.inorder()\n",
    "            \n",
    "        print(self.key, end=\" \")\n",
    "        \n",
    "        if self.rchild:\n",
    "            self.rchild.inorder()\n",
    "        \n",
    "        \n",
    "    def postorder(self):\n",
    "        \n",
    "        if self.lchild:\n",
    "            self.lchild.postorder()\n",
    "            \n",
    "        if self.rchild:\n",
    "            self.rchild.postorder()\n",
    "            \n",
    "        print(self.key, end=\" \")\n",
    "        \n",
    "        \n",
    "    def delete(self, data):\n",
    "        \n",
    "        if self.key == None:\n",
    "            print(\"The Tree is empty\")\n",
    "            \n",
    "        if data < self.key:\n",
    "            \n",
    "            if self.lchild:\n",
    "                self.lchild = self.lchild.delete(data)\n",
    "            else:\n",
    "                print(\"Given Node is not present\")\n",
    "                \n",
    "        elif data > self.key:\n",
    "            \n",
    "            if self.rchild:\n",
    "                self.rchild = self.rchild.delete(data)\n",
    "            else:\n",
    "                print(\"Given Node is not present\")\n",
    "                \n",
    "        else:\n",
    "            \n",
    "            if self.lchild is None:\n",
    "                temp = self.rchild\n",
    "                self.key = None\n",
    "                return temp\n",
    "            if self.rchild is None:\n",
    "                temp = self.lchild\n",
    "                self.key = None\n",
    "                return temp\n",
    "            \n",
    "            node = self.rchild\n",
    "            while node.lchild:\n",
    "                node = node.lchild\n",
    "            self.key = node.key\n",
    "            self.rchild = self.rchild.delete(node.key)\n",
    "            \n",
    "        return self"
   ]
  },
  {
   "cell_type": "code",
   "execution_count": 46,
   "id": "bc4c6f6d",
   "metadata": {},
   "outputs": [],
   "source": [
    "root = BST(10)"
   ]
  },
  {
   "cell_type": "code",
   "execution_count": 47,
   "id": "2c9f3146",
   "metadata": {},
   "outputs": [
    {
     "name": "stdout",
     "output_type": "stream",
     "text": [
      "Before deleting\n",
      "10 6 3 1 7 98 \n",
      "after deleting\n",
      "10 7 3 1 98 "
     ]
    }
   ],
   "source": [
    "lst = [6,3,1,6,98,3,7]\n",
    "for i in lst:\n",
    "    root.insert(i)\n",
    "    \n",
    "print(\"Before deleting\")\n",
    "root.preorder()\n",
    "print()\n",
    "\n",
    "root.delete(6)\n",
    "print(\"after deleting\")\n",
    "root.preorder()"
   ]
  },
  {
   "cell_type": "code",
   "execution_count": null,
   "id": "70207283",
   "metadata": {},
   "outputs": [],
   "source": []
  }
 ],
 "metadata": {
  "kernelspec": {
   "display_name": "Python 3",
   "language": "python",
   "name": "python3"
  },
  "language_info": {
   "codemirror_mode": {
    "name": "ipython",
    "version": 3
   },
   "file_extension": ".py",
   "mimetype": "text/x-python",
   "name": "python",
   "nbconvert_exporter": "python",
   "pygments_lexer": "ipython3",
   "version": "3.8.8"
  }
 },
 "nbformat": 4,
 "nbformat_minor": 5
}
