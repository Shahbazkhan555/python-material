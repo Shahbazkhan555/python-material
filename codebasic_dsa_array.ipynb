{
 "cells": [
  {
   "cell_type": "markdown",
   "id": "0ac771e2",
   "metadata": {},
   "source": [
    "1.Let us say your expense for every month are listed below,\n",
    "\n",
    " January - 2200\n",
    " February - 2350\n",
    " March - 2600\n",
    " April - 2130\n",
    " May - 2190\n",
    " \n",
    " Create a list to store these monthly expenses and using that find out"
   ]
  },
  {
   "cell_type": "markdown",
   "id": "3f7b6e16",
   "metadata": {},
   "source": [
    "1. In Feb, how many dollars you spent extra compare to January?\n",
    "2. Find out your total expense in first quarter (first three months) of the year.\n",
    "3. Find out if you spent exactly 2000 dollars in any month\n",
    "4. June month just finished and your expense is 1980 dollar. Add this item to our monthly expense list\n",
    "5. You returned an item that you bought in a month of April and\n",
    "got a refund of 200$. Make a correction to your monthly expense list\n",
    "based on this"
   ]
  },
  {
   "cell_type": "code",
   "execution_count": 1,
   "id": "dec60d20",
   "metadata": {},
   "outputs": [],
   "source": [
    "monthly_expenses = [2200,2350,2600,2130,2190]"
   ]
  },
  {
   "cell_type": "code",
   "execution_count": 4,
   "id": "99649d84",
   "metadata": {},
   "outputs": [
    {
     "data": {
      "text/plain": [
       "150"
      ]
     },
     "execution_count": 4,
     "metadata": {},
     "output_type": "execute_result"
    }
   ],
   "source": [
    "jan_feb_difference = monthly_expenses[1] - monthly_expenses[0]\n",
    "jan_feb_difference"
   ]
  },
  {
   "cell_type": "code",
   "execution_count": 18,
   "id": "6d99a3d4",
   "metadata": {},
   "outputs": [],
   "source": [
    "quarter_expense = monthly_expenses[1] + monthly_expenses[0]+ monthly_expenses[2]"
   ]
  },
  {
   "cell_type": "code",
   "execution_count": 20,
   "id": "957cf87c",
   "metadata": {},
   "outputs": [
    {
     "data": {
      "text/plain": [
       "7150"
      ]
     },
     "execution_count": 20,
     "metadata": {},
     "output_type": "execute_result"
    }
   ],
   "source": [
    "quarter_expense"
   ]
  },
  {
   "cell_type": "code",
   "execution_count": 30,
   "id": "3f5ddb7c",
   "metadata": {},
   "outputs": [
    {
     "name": "stdout",
     "output_type": "stream",
     "text": [
      "False\n",
      "False\n",
      "False\n",
      "False\n",
      "False\n"
     ]
    }
   ],
   "source": [
    "for i in monthly_expenses:\n",
    "    if i==2000:\n",
    "        print(True)\n",
    "    else:\n",
    "        print(False)"
   ]
  },
  {
   "cell_type": "code",
   "execution_count": 31,
   "id": "9a3746da",
   "metadata": {},
   "outputs": [],
   "source": [
    "monthly_expenses.append(1980)"
   ]
  },
  {
   "cell_type": "code",
   "execution_count": 40,
   "id": "9637638b",
   "metadata": {},
   "outputs": [
    {
     "data": {
      "text/plain": [
       "2130"
      ]
     },
     "execution_count": 40,
     "metadata": {},
     "output_type": "execute_result"
    }
   ],
   "source": [
    "monthly_expenses.pop(4)"
   ]
  },
  {
   "cell_type": "code",
   "execution_count": 34,
   "id": "74b0a441",
   "metadata": {},
   "outputs": [
    {
     "data": {
      "text/plain": [
       "1930"
      ]
     },
     "execution_count": 34,
     "metadata": {},
     "output_type": "execute_result"
    }
   ],
   "source": [
    "monthly_expenses.pop()"
   ]
  },
  {
   "cell_type": "code",
   "execution_count": 41,
   "id": "50768ca6",
   "metadata": {},
   "outputs": [
    {
     "data": {
      "text/plain": [
       "[2200, 2350, 2600, 1930, 2190, 1980]"
      ]
     },
     "execution_count": 41,
     "metadata": {},
     "output_type": "execute_result"
    }
   ],
   "source": [
    "monthly_expenses"
   ]
  },
  {
   "cell_type": "markdown",
   "id": "669f7e6b",
   "metadata": {},
   "source": [
    "2.You have a list of your favourite marvel super heros.\n",
    "\n",
    "heros=['spider man','thor','hulk','iron man','captain america']"
   ]
  },
  {
   "cell_type": "markdown",
   "id": "d51fe79f",
   "metadata": {},
   "source": [
    "1. Length of the list\n",
    "2. Add 'black panther' at the end of this list\n",
    "3. You realize that you need to add 'black panther' after 'hulk',\n",
    "   so remove it from the list first and then add it after 'hulk'\n",
    "4. Now you don't like thor and hulk because they get angry easily :)\n",
    "   So you want to remove thor and hulk from list and replace them with doctor strange (because he is cool).\n",
    "   Do that with one line of code.\n",
    "5. Sort the heros list in alphabetical order (Hint. Use dir() functions to list down all functions available in list)"
   ]
  },
  {
   "cell_type": "code",
   "execution_count": 42,
   "id": "52b16920",
   "metadata": {},
   "outputs": [],
   "source": [
    "heros=['spider man','thor','hulk','iron man','captain america']"
   ]
  },
  {
   "cell_type": "code",
   "execution_count": 43,
   "id": "7e574d4e",
   "metadata": {},
   "outputs": [
    {
     "data": {
      "text/plain": [
       "5"
      ]
     },
     "execution_count": 43,
     "metadata": {},
     "output_type": "execute_result"
    }
   ],
   "source": [
    "len(heros)"
   ]
  },
  {
   "cell_type": "code",
   "execution_count": 47,
   "id": "c87ad4ac",
   "metadata": {},
   "outputs": [],
   "source": [
    "heros.append(\"black panther\")"
   ]
  },
  {
   "cell_type": "code",
   "execution_count": 48,
   "id": "652d916e",
   "metadata": {},
   "outputs": [
    {
     "data": {
      "text/plain": [
       "['spider man', 'thor', 'hulk', 'iron man', 'captain america', 'black panther']"
      ]
     },
     "execution_count": 48,
     "metadata": {},
     "output_type": "execute_result"
    }
   ],
   "source": [
    "heros"
   ]
  },
  {
   "cell_type": "code",
   "execution_count": 49,
   "id": "a3c4bd6e",
   "metadata": {},
   "outputs": [],
   "source": [
    "heros.insert(3,heros.pop())"
   ]
  },
  {
   "cell_type": "code",
   "execution_count": 59,
   "id": "d7aee998",
   "metadata": {},
   "outputs": [],
   "source": [
    "heros=['spider man', 'thor', 'hulk', 'black panther', 'iron man', 'captain america']"
   ]
  },
  {
   "cell_type": "code",
   "execution_count": 51,
   "id": "df63105f",
   "metadata": {},
   "outputs": [],
   "source": []
  },
  {
   "cell_type": "code",
   "execution_count": 69,
   "id": "8ea0a7b2",
   "metadata": {},
   "outputs": [
    {
     "data": {
      "text/plain": [
       "['spider man',\n",
       " 'doctor strange',\n",
       " 'doctor strange',\n",
       " 'iron man',\n",
       " 'captain america']"
      ]
     },
     "execution_count": 69,
     "metadata": {},
     "output_type": "execute_result"
    }
   ],
   "source": [
    "heros"
   ]
  },
  {
   "cell_type": "code",
   "execution_count": 60,
   "id": "7b4ead2a",
   "metadata": {},
   "outputs": [
    {
     "data": {
      "text/plain": [
       "'thor'"
      ]
     },
     "execution_count": 60,
     "metadata": {},
     "output_type": "execute_result"
    }
   ],
   "source": [
    "heros.pop(1)"
   ]
  },
  {
   "cell_type": "code",
   "execution_count": 61,
   "id": "24cc8324",
   "metadata": {},
   "outputs": [
    {
     "data": {
      "text/plain": [
       "'black panther'"
      ]
     },
     "execution_count": 61,
     "metadata": {},
     "output_type": "execute_result"
    }
   ],
   "source": [
    "heros.pop(2)"
   ]
  },
  {
   "cell_type": "code",
   "execution_count": 66,
   "id": "f6f031b1",
   "metadata": {},
   "outputs": [],
   "source": [
    "heros.insert(2,\"doctor strange\")"
   ]
  },
  {
   "cell_type": "code",
   "execution_count": 72,
   "id": "9e91c553",
   "metadata": {},
   "outputs": [],
   "source": [
    "heros.sort()"
   ]
  },
  {
   "cell_type": "code",
   "execution_count": 73,
   "id": "a4a8e1a1",
   "metadata": {},
   "outputs": [
    {
     "data": {
      "text/plain": [
       "['captain america',\n",
       " 'doctor strange',\n",
       " 'doctor strange',\n",
       " 'iron man',\n",
       " 'spider man']"
      ]
     },
     "execution_count": 73,
     "metadata": {},
     "output_type": "execute_result"
    }
   ],
   "source": [
    "heros"
   ]
  },
  {
   "cell_type": "markdown",
   "id": "406285d1",
   "metadata": {},
   "source": [
    "3.Create a list of all odd numbers between 1 and a max number. Max number is something you need to take from a user using input() function"
   ]
  },
  {
   "cell_type": "code",
   "execution_count": 94,
   "id": "a358a0ab",
   "metadata": {},
   "outputs": [
    {
     "name": "stdout",
     "output_type": "stream",
     "text": [
      "enter the max number: 9\n",
      "[1, 3, 5, 7, 9]\n"
     ]
    }
   ],
   "source": [
    "max_num = int(input(\"enter the max number: \"))\n",
    "lst = []\n",
    "for i in range(1,max_num+1):\n",
    "    if i%2!=0:\n",
    "        lst.append(i)\n",
    "print(lst)"
   ]
  },
  {
   "cell_type": "code",
   "execution_count": 98,
   "id": "8fe3da9e",
   "metadata": {},
   "outputs": [],
   "source": [
    "def twoNumberSum(array,targetSum):\n",
    "    lst = []\n",
    "    for i in range(len(array)):\n",
    "        for j in range(i+1,len(array)):\n",
    "            if array[i]+array[j]==targetSum:\n",
    "                lst.append(array[i])\n",
    "                lst.append(array[j])\n",
    "    return lst"
   ]
  },
  {
   "cell_type": "code",
   "execution_count": 99,
   "id": "2c56a48c",
   "metadata": {},
   "outputs": [
    {
     "data": {
      "text/plain": [
       "[11, -1]"
      ]
     },
     "execution_count": 99,
     "metadata": {},
     "output_type": "execute_result"
    }
   ],
   "source": [
    "array = [3,5,-4,8,11,1,-1,6]\n",
    "targetSum = 10\n",
    "twoNumberSum(array,targetSum)"
   ]
  },
  {
   "cell_type": "code",
   "execution_count": 198,
   "id": "7ab375fc",
   "metadata": {},
   "outputs": [],
   "source": [
    "array = [3,5,-4,8,11,1,-1,6,5]\n",
    "targetSum = 10\n"
   ]
  },
  {
   "cell_type": "code",
   "execution_count": 183,
   "id": "09b9c77e",
   "metadata": {},
   "outputs": [],
   "source": [
    "def isValidSubsequence(array,sequence):\n",
    "    lst = []\n",
    "    for i in range(len(sequence)):\n",
    "        if sequence[i] in array:\n",
    "                lst.append(sequence[i])\n",
    "    print(sorted(lst))\n",
    "    print(sorted(sequence))\n",
    "    return sorted(lst) == sorted(sequence)"
   ]
  },
  {
   "cell_type": "code",
   "execution_count": 184,
   "id": "f17b5753",
   "metadata": {},
   "outputs": [],
   "source": [
    "array = [1, 1, 1, 1, 1]\n",
    "sequence = [1, 1, 1]"
   ]
  },
  {
   "cell_type": "code",
   "execution_count": 185,
   "id": "104aa307",
   "metadata": {},
   "outputs": [
    {
     "name": "stdout",
     "output_type": "stream",
     "text": [
      "[1]\n",
      "[1, 1, 1]\n"
     ]
    },
    {
     "data": {
      "text/plain": [
       "False"
      ]
     },
     "execution_count": 185,
     "metadata": {},
     "output_type": "execute_result"
    }
   ],
   "source": [
    "isValidSubsequence(array,sequence)"
   ]
  },
  {
   "cell_type": "code",
   "execution_count": 191,
   "id": "b562c8cc",
   "metadata": {},
   "outputs": [],
   "source": [
    "def isValidSubsequence(array,sequence):\n",
    "    lst = []\n",
    "    for i in range(len(sequence)):\n",
    "        if sequence[i] in array:\n",
    "            if sequence[i] not in lst:\n",
    "                lst.append(sequence[i])\n",
    "    for i in lst:"
   ]
  },
  {
   "cell_type": "code",
   "execution_count": 215,
   "id": "53a61c8c",
   "metadata": {},
   "outputs": [
    {
     "data": {
      "text/plain": [
       "False"
      ]
     },
     "execution_count": 215,
     "metadata": {},
     "output_type": "execute_result"
    }
   ],
   "source": [
    "array = [5, 1, 22, 25, -1, 8,6, 10]\n",
    "sequence = [1, 6, 10]\n",
    "isValidSubsequence(array,sequence)"
   ]
  },
  {
   "cell_type": "code",
   "execution_count": 205,
   "id": "82e7e177",
   "metadata": {},
   "outputs": [],
   "source": [
    "def isValidSubsequence(array,sequence):\n",
    "    arrIdx = 0\n",
    "    seqIdx = 0\n",
    "    while arrIdx < len(array) and seqIdx < len(sequence):\n",
    "        if array[arrIdx] == sequence[seqIdx]:\n",
    "            print(array[arrIdx])\n",
    "            print(sequence[seqIdx])\n",
    "            seqIdx += 1\n",
    "        arrIdx += 1\n",
    "    return seqIdx == len(sequence)"
   ]
  },
  {
   "cell_type": "code",
   "execution_count": 214,
   "id": "3858f5ea",
   "metadata": {},
   "outputs": [],
   "source": [
    "def isValidSubsequence(array, sequence):\n",
    "    seqIdx = 0\n",
    "    for value in array:\n",
    "        if seqIdx==len(array):\n",
    "            break\n",
    "        if sequence[seqIdx] == value:\n",
    "            seqIdx+=1\n",
    "        return seqIdx==len(sequence)"
   ]
  },
  {
   "cell_type": "code",
   "execution_count": 216,
   "id": "88a69516",
   "metadata": {},
   "outputs": [],
   "source": [
    "array = [5, 1, 22, 25, -1, 8,6, 10]"
   ]
  },
  {
   "cell_type": "code",
   "execution_count": 220,
   "id": "27273bac",
   "metadata": {},
   "outputs": [],
   "source": [
    "array= sorted(array)"
   ]
  },
  {
   "cell_type": "code",
   "execution_count": 224,
   "id": "ce03d828",
   "metadata": {},
   "outputs": [
    {
     "data": {
      "text/plain": [
       "[-1, 1, 5, 6, 8, 10, 22, 25]"
      ]
     },
     "execution_count": 224,
     "metadata": {},
     "output_type": "execute_result"
    }
   ],
   "source": [
    "array"
   ]
  },
  {
   "cell_type": "code",
   "execution_count": 229,
   "id": "6ad8c9f7",
   "metadata": {},
   "outputs": [],
   "source": [
    "def sortedSquaredArray(array):\n",
    "    lst = []\n",
    "    for value in array:\n",
    "        temp = value**2\n",
    "        lst.append(temp)\n",
    "    return sorted(lst)"
   ]
  },
  {
   "cell_type": "code",
   "execution_count": 230,
   "id": "6f341497",
   "metadata": {},
   "outputs": [
    {
     "data": {
      "text/plain": [
       "[1, 4]"
      ]
     },
     "execution_count": 230,
     "metadata": {},
     "output_type": "execute_result"
    }
   ],
   "source": [
    "array = [-2, -1]\n",
    "sortedSquaredArray(array)"
   ]
  },
  {
   "cell_type": "code",
   "execution_count": 241,
   "id": "4eb69a25",
   "metadata": {},
   "outputs": [],
   "source": [
    "def isValidSubsequence(array, sequence):\n",
    "    # Write your code here.\n",
    "    arrIdx = 0\n",
    "    seqIdx = 0\n",
    "    while arrIdx < len(array) and seqIdx < len(sequence):\n",
    "        if array[arrIdx] == sequence[seqIdx]:\n",
    "            seqIdx += 1\n",
    "        arrIdx += 1\n",
    "    return seqIdx == len(sequence)"
   ]
  },
  {
   "cell_type": "code",
   "execution_count": 243,
   "id": "7e62a7d4",
   "metadata": {},
   "outputs": [
    {
     "data": {
      "text/plain": [
       "False"
      ]
     },
     "execution_count": 243,
     "metadata": {},
     "output_type": "execute_result"
    }
   ],
   "source": [
    "array= [5, 1, 22, 25, 6, -1, 8, 10],\n",
    "sequence= [1, 6, -1, 5]\n",
    "isValidSubsequence(array, sequence)"
   ]
  },
  {
   "cell_type": "code",
   "execution_count": 244,
   "id": "84b4b145",
   "metadata": {},
   "outputs": [
    {
     "data": {
      "text/plain": [
       "False"
      ]
     },
     "execution_count": 244,
     "metadata": {},
     "output_type": "execute_result"
    }
   ],
   "source": [
    "array=[5, 1, 22, 25, 6, -1, 8, 10],\n",
    "sequence=[4, 5, 1, 22, 25, 6, -1, 8, 10]\n",
    "isValidSubsequence(array, sequence)"
   ]
  },
  {
   "cell_type": "code",
   "execution_count": 251,
   "id": "4c809dce",
   "metadata": {},
   "outputs": [],
   "source": [
    "def sortedSquaredArray(array):\n",
    "    # Write your code here.\n",
    "    lst = []\n",
    "    for value in array:\n",
    "        temp = value**2\n",
    "        lst.append(temp)\n",
    "    return sorted(lst)"
   ]
  },
  {
   "cell_type": "code",
   "execution_count": 252,
   "id": "f5f13b91",
   "metadata": {},
   "outputs": [
    {
     "data": {
      "text/plain": [
       "[1, 4, 9, 25, 36, 64, 81]"
      ]
     },
     "execution_count": 252,
     "metadata": {},
     "output_type": "execute_result"
    }
   ],
   "source": [
    "array = [1, 2, 3, 5, 6, 8, 9]\n",
    "sortedSquaredArray(array)"
   ]
  },
  {
   "cell_type": "code",
   "execution_count": 247,
   "id": "d8382d41",
   "metadata": {},
   "outputs": [],
   "source": [
    "sorted_squares = [0 for _ in array]"
   ]
  },
  {
   "cell_type": "code",
   "execution_count": 248,
   "id": "27c663eb",
   "metadata": {},
   "outputs": [
    {
     "data": {
      "text/plain": [
       "[0, 0, 0, 0, 0, 0, 0]"
      ]
     },
     "execution_count": 248,
     "metadata": {},
     "output_type": "execute_result"
    }
   ],
   "source": [
    "sorted_squares\n"
   ]
  },
  {
   "cell_type": "code",
   "execution_count": null,
   "id": "9b60640c",
   "metadata": {},
   "outputs": [],
   "source": []
  }
 ],
 "metadata": {
  "kernelspec": {
   "display_name": "Python 3",
   "language": "python",
   "name": "python3"
  },
  "language_info": {
   "codemirror_mode": {
    "name": "ipython",
    "version": 3
   },
   "file_extension": ".py",
   "mimetype": "text/x-python",
   "name": "python",
   "nbconvert_exporter": "python",
   "pygments_lexer": "ipython3",
   "version": "3.8.8"
  }
 },
 "nbformat": 4,
 "nbformat_minor": 5
}
