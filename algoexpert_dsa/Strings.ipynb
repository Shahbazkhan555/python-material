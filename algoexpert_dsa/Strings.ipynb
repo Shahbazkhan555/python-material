{
 "cells": [
  {
   "cell_type": "code",
   "execution_count": 1,
   "id": "b9822943",
   "metadata": {},
   "outputs": [],
   "source": [
    "def isPalindrome(string):\n",
    "    if len(string)<2:\n",
    "        return True\n",
    "    rev_string = \"\"\n",
    "    for i in range(len(string)):\n",
    "        rev_string = string[i] + rev_string\n",
    "    return rev_string==string"
   ]
  },
  {
   "cell_type": "code",
   "execution_count": 11,
   "id": "815916d0",
   "metadata": {},
   "outputs": [
    {
     "data": {
      "text/plain": [
       "True"
      ]
     },
     "execution_count": 11,
     "metadata": {},
     "output_type": "execute_result"
    }
   ],
   "source": [
    "string = 'mom'\n",
    "isPalindrome(string)"
   ]
  },
  {
   "cell_type": "code",
   "execution_count": 9,
   "id": "b7e530a0",
   "metadata": {},
   "outputs": [],
   "source": [
    "def isPalindrome(string):\n",
    "    return string[::-1]==string"
   ]
  },
  {
   "cell_type": "code",
   "execution_count": 8,
   "id": "07da4fde",
   "metadata": {},
   "outputs": [
    {
     "data": {
      "text/plain": [
       "'tdsa'"
      ]
     },
     "execution_count": 8,
     "metadata": {},
     "output_type": "execute_result"
    }
   ],
   "source": [
    "string[::-1]"
   ]
  },
  {
   "cell_type": "code",
   "execution_count": null,
   "id": "a0b19ea9",
   "metadata": {},
   "outputs": [],
   "source": []
  }
 ],
 "metadata": {
  "kernelspec": {
   "display_name": "Python 3",
   "language": "python",
   "name": "python3"
  },
  "language_info": {
   "codemirror_mode": {
    "name": "ipython",
    "version": 3
   },
   "file_extension": ".py",
   "mimetype": "text/x-python",
   "name": "python",
   "nbconvert_exporter": "python",
   "pygments_lexer": "ipython3",
   "version": "3.7.10"
  }
 },
 "nbformat": 4,
 "nbformat_minor": 5
}
