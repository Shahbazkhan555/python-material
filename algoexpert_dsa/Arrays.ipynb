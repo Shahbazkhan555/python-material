{
 "cells": [
  {
   "cell_type": "code",
   "execution_count": 25,
   "id": "96f646c4",
   "metadata": {},
   "outputs": [
    {
     "data": {
      "text/plain": [
       "'k1'"
      ]
     },
     "execution_count": 25,
     "metadata": {},
     "output_type": "execute_result"
    }
   ],
   "source": [
    "v = list(dic.values())\n",
    "k = list(dic.keys())\n",
    "k[v.index(max(v))]"
   ]
  },
  {
   "cell_type": "code",
   "execution_count": 18,
   "id": "710f21d9",
   "metadata": {},
   "outputs": [],
   "source": [
    "def tournamentWinner(competitions, results):\n",
    "    dic = {}\n",
    "    for i in range(len(results)):\n",
    "        if results[i]==0:\n",
    "            dic[competitions[i][1]] += 3\n",
    "            \n",
    "            \n",
    "    return dic"
   ]
  },
  {
   "cell_type": "code",
   "execution_count": 43,
   "id": "902c121f",
   "metadata": {},
   "outputs": [],
   "source": [
    "def nonConstructibleChange(coins):\n",
    "    change = 0\n",
    "    coins = sorted(coins)\n",
    "    for i in range(len(coins)):\n",
    "        if coins[i] <= change + 1:\n",
    "            change = change + coins[i]\n",
    "        else:\n",
    "            return change+1"
   ]
  },
  {
   "cell_type": "code",
   "execution_count": 50,
   "id": "e16d6de0",
   "metadata": {},
   "outputs": [
    {
     "data": {
      "text/plain": [
       "6"
      ]
     },
     "execution_count": 50,
     "metadata": {},
     "output_type": "execute_result"
    }
   ],
   "source": [
    "coins = [1, 1, 1, 1, 1]\n",
    "nonConstructibleChange(coins)"
   ]
  },
  {
   "cell_type": "code",
   "execution_count": 49,
   "id": "880b2c5d",
   "metadata": {},
   "outputs": [],
   "source": [
    "def nonConstructibleChange(coins):\n",
    "    change = 0\n",
    "    coins = sorted(coins)\n",
    "    for coin in coins:\n",
    "        if coin <= change + 1:\n",
    "            change = change + coin\n",
    "        else:\n",
    "            return change+1\n",
    "    return change+1"
   ]
  },
  {
   "cell_type": "code",
   "execution_count": 37,
   "id": "1665ece4",
   "metadata": {},
   "outputs": [],
   "source": [
    "coins = [1, 5, 1, 1, 1, 10, 15, 20, 100]\n",
    "coins.sort()"
   ]
  },
  {
   "cell_type": "code",
   "execution_count": 22,
   "id": "83f67b4b",
   "metadata": {},
   "outputs": [
    {
     "data": {
      "text/plain": [
       "[[-8, 2, 6], [-8, 3, 5], [-6, 1, 5]]"
      ]
     },
     "execution_count": 22,
     "metadata": {},
     "output_type": "execute_result"
    }
   ],
   "source": [
    "array = [12, 3, 1, 2, -6, 5, -8, 6]\n",
    "targetSum = 0\n",
    "threeNumberSum(array,targetSum)"
   ]
  },
  {
   "cell_type": "code",
   "execution_count": 21,
   "id": "9921cbaf",
   "metadata": {},
   "outputs": [],
   "source": [
    "def threeNumberSum(array, targetSum):\n",
    "    array.sort()\n",
    "    lst = []\n",
    "    for i in range(len(array)):\n",
    "        for j in range(i+1, len(array)):\n",
    "            for k in range(j+1, len(array)):\n",
    "                row = None\n",
    "                if array[i]+array[j]+array[k]==targetSum:\n",
    "                    row = [array[i],array[j],array[k]]\n",
    "                if row is not None:\n",
    "                    lst.append(row)\n",
    "    return lst"
   ]
  },
  {
   "cell_type": "code",
   "execution_count": null,
   "id": "b261544c",
   "metadata": {},
   "outputs": [],
   "source": []
  },
  {
   "cell_type": "code",
   "execution_count": 19,
   "id": "363431ab",
   "metadata": {},
   "outputs": [],
   "source": [
    "def threeNumberSum(array,targetSum):\n",
    "    array.sort()\n",
    "    lst = []\n",
    "    for i in range(len(array)-2):\n",
    "        cs=array[i]\n",
    "        left=i+1\n",
    "        right=len(array)-1\n",
    "        while left<right:\n",
    "            if cs+array[left]+array[right]==targetSum:\n",
    "                lst.append([cs,array[left],array[right]])\n",
    "                left = left+1\n",
    "                right = right-1\n",
    "            elif cs+array[left]+array[right]<targetSum:\n",
    "                left = left+1\n",
    "            elif cs+array[left]+array[right]>targetSum:\n",
    "                right = right-1\n",
    "    return lst"
   ]
  },
  {
   "cell_type": "code",
   "execution_count": null,
   "id": "1d81e78d",
   "metadata": {},
   "outputs": [],
   "source": [
    "array = [12, 3, 1, 2, -6, 5, -8, 6]\n",
    "targetSum = 0\n",
    "threeNumberSum(array,targetSum)"
   ]
  },
  {
   "cell_type": "code",
   "execution_count": null,
   "id": "5514ce81",
   "metadata": {},
   "outputs": [],
   "source": []
  },
  {
   "cell_type": "code",
   "execution_count": 50,
   "id": "630efe17",
   "metadata": {},
   "outputs": [],
   "source": [
    "def smallestDifference(arrayone, arraytwo):\n",
    "    lst = []\n",
    "    difference = sum(arrayOne)+sum(arrayTwo)\n",
    "    for value1 in arrayOne:\n",
    "        for value2 in arrayTwo:\n",
    "            if (abs(value1-value2) <difference):\n",
    "                lst = [value1,value2]\n",
    "                difference = abs(value1-value2)\n",
    "    return lst"
   ]
  },
  {
   "cell_type": "code",
   "execution_count": 2,
   "id": "241444fe",
   "metadata": {},
   "outputs": [
    {
     "data": {
      "text/plain": [
       "[28, 26]"
      ]
     },
     "execution_count": 2,
     "metadata": {},
     "output_type": "execute_result"
    }
   ],
   "source": [
    "arrayOne= [-1, 5, 10, 20, 28, 3]\n",
    "arrayTwo= [26, 134, 135, 15, 67898]\n",
    "smallestDifference(arrayOne,arrayTwo)"
   ]
  },
  {
   "cell_type": "code",
   "execution_count": 46,
   "id": "c7431413",
   "metadata": {},
   "outputs": [
    {
     "data": {
      "text/plain": [
       "392"
      ]
     },
     "execution_count": 46,
     "metadata": {},
     "output_type": "execute_result"
    }
   ],
   "source": []
  },
  {
   "cell_type": "code",
   "execution_count": 1,
   "id": "e3496849",
   "metadata": {},
   "outputs": [],
   "source": [
    "def smallestDifference(arrayOne, arrayTwo):\n",
    "    arrayOne.sort()\n",
    "    arrayTwo.sort()\n",
    "    oneIdx = 0\n",
    "    twoIdx = 0\n",
    "    difference = float(\"inf\")\n",
    "    smallestPair = []\n",
    "    while oneIdx<len(arrayOne) and twoIdx<len(arrayTwo):\n",
    "        first = arrayOne[oneIdx]\n",
    "        second = arrayTwo[twoIdx]\n",
    "        if first < second:\n",
    "            current = second-first\n",
    "            oneIdx += 1\n",
    "        elif second < first:\n",
    "            current = first-second\n",
    "            twoIdx += 1\n",
    "        else:\n",
    "            return [first,second]\n",
    "        if current < difference:\n",
    "            difference = current\n",
    "            smallestPair = [first,second]\n",
    "    return smallestPair"
   ]
  },
  {
   "cell_type": "code",
   "execution_count": null,
   "id": "313b06bd",
   "metadata": {},
   "outputs": [],
   "source": []
  },
  {
   "cell_type": "code",
   "execution_count": 12,
   "id": "4f413f96",
   "metadata": {},
   "outputs": [],
   "source": [
    "def moveElement(array,toMove):\n",
    "    for i in range(len(array)-1):\n",
    "        if array[i]==toMove:\n",
    "                temp=array[i]\n",
    "                array[i]=array[i+1]\n",
    "                array[i+1]= temp\n",
    "    return array"
   ]
  },
  {
   "cell_type": "code",
   "execution_count": 13,
   "id": "562fb041",
   "metadata": {},
   "outputs": [
    {
     "data": {
      "text/plain": [
       "[1, 2, 2, 2, 3, 4, 2, 2]"
      ]
     },
     "execution_count": 13,
     "metadata": {},
     "output_type": "execute_result"
    }
   ],
   "source": [
    "array= [2, 1, 2, 2, 2, 3, 4, 2]\n",
    "toMove= 2\n",
    "moveElement(array,toMove)"
   ]
  },
  {
   "cell_type": "code",
   "execution_count": 5,
   "id": "c7ad8d61",
   "metadata": {},
   "outputs": [],
   "source": [
    "def moveElement(array,toMove):\n",
    "    i = 0\n",
    "    j = len(array)-1\n",
    "    \n",
    "    while i<j:\n",
    "        while i<j and array[j]==toMove:\n",
    "            j = j-1\n",
    "        if array[i]==toMove:\n",
    "            array[i], array[j] = array[j], array[i]\n",
    "        i = i+1\n",
    "    return array"
   ]
  },
  {
   "cell_type": "code",
   "execution_count": 8,
   "id": "a6600e54",
   "metadata": {},
   "outputs": [],
   "source": [
    "def moveElement(array, toMove):\n",
    "    # Write your code here.\n",
    "    i = 0\n",
    "    j = len(array)-1\n",
    "    while i<j:\n",
    "        while i<j and array[j] == toMove:\n",
    "            j -= 1\n",
    "        if array[i] == toMove:\n",
    "            array[i], array[j] = array[j], array[i]\n",
    "        i += 1\n",
    "    return array"
   ]
  },
  {
   "cell_type": "code",
   "execution_count": 27,
   "id": "d075632d",
   "metadata": {},
   "outputs": [],
   "source": [
    "def isMonotonic(array):\n",
    "    if len(array) < 2:\n",
    "        return True\n",
    "    decreasing = False\n",
    "    if (array[0] >= array[1]):\n",
    "        decreasing = True\n",
    "    for i in range(len(array)-1):\n",
    "        if ((array[i] < array[i+1]) and decreasing==True) or (array[i]>array[i+1] and decreasing==False):\n",
    "            return False\n",
    "    return True"
   ]
  },
  {
   "cell_type": "code",
   "execution_count": 28,
   "id": "c21703e0",
   "metadata": {},
   "outputs": [
    {
     "data": {
      "text/plain": [
       "False"
      ]
     },
     "execution_count": 28,
     "metadata": {},
     "output_type": "execute_result"
    }
   ],
   "source": [
    "array = [1, 1, 2, 3, 4, 5, 5, 5, 6, 7, 8, 8, 9, 10, 11]\n",
    "isMonotonic(array)"
   ]
  },
  {
   "cell_type": "code",
   "execution_count": 17,
   "id": "7c8142ed",
   "metadata": {},
   "outputs": [],
   "source": [
    "def monotonic(array):\n",
    "    if array[0] < array[1]:\n",
    "        i = 0\n",
    "        while i < len(array)-1:\n",
    "            if array[i] > array[i+1]:\n",
    "                return False\n",
    "            i += 1\n",
    "        return True\n",
    "    if array[0] > array[1]:\n",
    "        j = 0\n",
    "        while j < len(array)-1:\n",
    "            if array[j] < array[j+1]:\n",
    "                return False\n",
    "            j += 1\n",
    "        return True\n",
    "    \n",
    "    return True\n",
    "        "
   ]
  },
  {
   "cell_type": "code",
   "execution_count": 20,
   "id": "3f02b2e8",
   "metadata": {},
   "outputs": [
    {
     "data": {
      "text/plain": [
       "True"
      ]
     },
     "execution_count": 20,
     "metadata": {},
     "output_type": "execute_result"
    }
   ],
   "source": [
    "monotonic([1,1,2,3,4,5,6,4])"
   ]
  },
  {
   "cell_type": "code",
   "execution_count": 8,
   "id": "39b75c18",
   "metadata": {},
   "outputs": [],
   "source": [
    "def is_monotonic(array):\n",
    "    increasing = True\n",
    "    decreasing = True\n",
    "    \n",
    "    for i in range(1, len(array)):\n",
    "        if array[i] < array[i-1]:\n",
    "            increasing = False\n",
    "        if array[i] > array[i-1]:\n",
    "            decreasing = False\n",
    "    return increasing or decreasing"
   ]
  },
  {
   "cell_type": "code",
   "execution_count": 9,
   "id": "858aaf2e",
   "metadata": {},
   "outputs": [
    {
     "data": {
      "text/plain": [
       "True"
      ]
     },
     "execution_count": 9,
     "metadata": {},
     "output_type": "execute_result"
    }
   ],
   "source": [
    "is_monotonic([-1,-5,-10,-1100,-1102,-9001])"
   ]
  },
  {
   "cell_type": "code",
   "execution_count": null,
   "id": "0a82070d",
   "metadata": {},
   "outputs": [],
   "source": []
  }
 ],
 "metadata": {
  "kernelspec": {
   "display_name": "Python 3",
   "language": "python",
   "name": "python3"
  },
  "language_info": {
   "codemirror_mode": {
    "name": "ipython",
    "version": 3
   },
   "file_extension": ".py",
   "mimetype": "text/x-python",
   "name": "python",
   "nbconvert_exporter": "python",
   "pygments_lexer": "ipython3",
   "version": "3.8.8"
  }
 },
 "nbformat": 4,
 "nbformat_minor": 5
}
