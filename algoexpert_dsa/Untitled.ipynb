{
 "cells": [
  {
   "cell_type": "code",
   "execution_count": 13,
   "id": "60bab7b7",
   "metadata": {},
   "outputs": [],
   "source": [
    "def two_num_sum(lst, target):\n",
    "    sum_num = []\n",
    "    for i in range(len(lst)):\n",
    "        for j in range(i+1,len(lst)):\n",
    "            if lst[i]+lst[j] == target:\n",
    "                sum_num.append((i,j))\n",
    "    return sum_num"
   ]
  },
  {
   "cell_type": "code",
   "execution_count": 14,
   "id": "6ea9975c",
   "metadata": {},
   "outputs": [
    {
     "data": {
      "text/plain": [
       "[(4, 6)]"
      ]
     },
     "execution_count": 14,
     "metadata": {},
     "output_type": "execute_result"
    }
   ],
   "source": [
    "two_num_sum([5,3,-4,8,11,1,-1,6], 10)"
   ]
  },
  {
   "cell_type": "code",
   "execution_count": 36,
   "id": "bae1eb0e",
   "metadata": {},
   "outputs": [],
   "source": [
    "def two_num_sum(lst, target):\n",
    "    dic = {}\n",
    "    for i in lst:\n",
    "        other_num = target - i\n",
    "        if other_num in dic:\n",
    "            return [other_num, i]\n",
    "        else:\n",
    "            dic[i]=True\n",
    "    return []"
   ]
  },
  {
   "cell_type": "code",
   "execution_count": 38,
   "id": "71de9e79",
   "metadata": {},
   "outputs": [
    {
     "data": {
      "text/plain": [
       "[11, -1]"
      ]
     },
     "execution_count": 38,
     "metadata": {},
     "output_type": "execute_result"
    }
   ],
   "source": [
    "two_num_sum([5,3,-4,8,11,1,-1,6], 10)"
   ]
  },
  {
   "cell_type": "code",
   "execution_count": 53,
   "id": "89e62983",
   "metadata": {},
   "outputs": [
    {
     "data": {
      "text/plain": [
       "True"
      ]
     },
     "execution_count": 53,
     "metadata": {},
     "output_type": "execute_result"
    }
   ],
   "source": [
    "validate_subsequenc([5,1,22,25,6,-1,8,10], [1,6,-1,10])"
   ]
  },
  {
   "cell_type": "code",
   "execution_count": 48,
   "id": "35cea95c",
   "metadata": {},
   "outputs": [
    {
     "data": {
      "text/plain": [
       "[-1, 1, 5, 6, 8, 10, 22, 25]"
      ]
     },
     "execution_count": 48,
     "metadata": {},
     "output_type": "execute_result"
    }
   ],
   "source": [
    "a =[5,1,22,25,6,-1,8,10]\n",
    "sorted(a)\n"
   ]
  },
  {
   "cell_type": "code",
   "execution_count": 49,
   "id": "f76240f8",
   "metadata": {},
   "outputs": [],
   "source": [
    "def validate_subsequenc(array, sequence):\n",
    "    array.sort()\n",
    "    lst = []\n",
    "    for i in sequence:\n",
    "        if i in array:\n",
    "            lst.append(i)\n",
    "    return sorted(lst) == sorted(sequence)\n",
    "   "
   ]
  },
  {
   "cell_type": "code",
   "execution_count": 57,
   "id": "2840226a",
   "metadata": {},
   "outputs": [],
   "source": [
    "def validate_subsequenc(array, sequence):\n",
    "    seqIdx = 0\n",
    "    for i in array:\n",
    "        if seqIdx == len(sequence):\n",
    "            break\n",
    "        if i in sequence:\n",
    "            seqIdx += 1\n",
    "    return seqIdx == len(sequence)"
   ]
  },
  {
   "cell_type": "code",
   "execution_count": 58,
   "id": "f55d453d",
   "metadata": {},
   "outputs": [
    {
     "data": {
      "text/plain": [
       "False"
      ]
     },
     "execution_count": 58,
     "metadata": {},
     "output_type": "execute_result"
    }
   ],
   "source": [
    "validate_subsequenc([5,1,22,25,6,-1,8,10], [1,6,-1,0])"
   ]
  },
  {
   "cell_type": "code",
   "execution_count": 61,
   "id": "0c9cb3eb",
   "metadata": {},
   "outputs": [],
   "source": [
    "def sort_square(array):\n",
    "    lst = []\n",
    "    for num in array:\n",
    "        lst.append(num*num)\n",
    "    return lst"
   ]
  },
  {
   "cell_type": "code",
   "execution_count": 62,
   "id": "72832414",
   "metadata": {},
   "outputs": [
    {
     "data": {
      "text/plain": [
       "[1, 4, 9, 16, 25, 36]"
      ]
     },
     "execution_count": 62,
     "metadata": {},
     "output_type": "execute_result"
    }
   ],
   "source": [
    "sort_square([1,2,3,4,5,6])"
   ]
  },
  {
   "cell_type": "code",
   "execution_count": 3,
   "id": "8043f9ac",
   "metadata": {},
   "outputs": [],
   "source": [
    "def non_const(coins):\n",
    "    coins.sort()\n",
    "    change = 0\n",
    "    for coin in coins:\n",
    "        if coin > change + 1:\n",
    "            return change+1\n",
    "        change = change + coin\n",
    "    return change + 1\n"
   ]
  },
  {
   "cell_type": "code",
   "execution_count": 4,
   "id": "e5f97c05",
   "metadata": {},
   "outputs": [
    {
     "data": {
      "text/plain": [
       "20"
      ]
     },
     "execution_count": 4,
     "metadata": {},
     "output_type": "execute_result"
    }
   ],
   "source": [
    "non_const([5,7,1,1,2,3,22])"
   ]
  },
  {
   "cell_type": "code",
   "execution_count": 38,
   "id": "b01b0b34",
   "metadata": {},
   "outputs": [],
   "source": [
    "def three_num_sum(array, target):\n",
    "    array.sort()\n",
    "    lst = []\n",
    "    for i in range(len(array)):\n",
    "        for j in range(i+1, len(array)):\n",
    "            for k in range(j+1, len(array)):\n",
    "                if array[i]+array[j]+array[k] == target:\n",
    "                    lst.append([array[i],array[j],array[k]])\n",
    "    return lst"
   ]
  },
  {
   "cell_type": "code",
   "execution_count": 42,
   "id": "bff07e8a",
   "metadata": {},
   "outputs": [
    {
     "data": {
      "text/plain": [
       "[[-8, 2, 6], [-8, 3, 5], [-6, 1, 5]]"
      ]
     },
     "execution_count": 42,
     "metadata": {},
     "output_type": "execute_result"
    }
   ],
   "source": [
    "three_num_sum([12,3,1,2,-6,5,-8,6], 0)"
   ]
  },
  {
   "cell_type": "code",
   "execution_count": 44,
   "id": "391e1b37",
   "metadata": {},
   "outputs": [],
   "source": [
    "def three_sum(array, target):\n",
    "    array.sort()\n",
    "    triplets = []\n",
    "    for i in range(len(array)-2):\n",
    "        left = i + 1\n",
    "        right = len(array)-1\n",
    "        while left < right:\n",
    "            current_sum = array[left]+array[right]+array[i]\n",
    "            if current_sum == target:\n",
    "                triplets.append([array[left],array[right],array[i]])\n",
    "                left += 1\n",
    "                right -= 1\n",
    "            elif current_sum < target:\n",
    "                left += 1\n",
    "            elif current_sum > target:\n",
    "                right -= 1\n",
    "    return triplets\n",
    "                "
   ]
  },
  {
   "cell_type": "code",
   "execution_count": 45,
   "id": "fb7327eb",
   "metadata": {},
   "outputs": [
    {
     "data": {
      "text/plain": [
       "[[2, 6, -8], [3, 5, -8], [1, 5, -6]]"
      ]
     },
     "execution_count": 45,
     "metadata": {},
     "output_type": "execute_result"
    }
   ],
   "source": [
    "three_sum([12,3,1,2,-6,5,-8,6], 0)"
   ]
  },
  {
   "cell_type": "code",
   "execution_count": 71,
   "id": "b797821c",
   "metadata": {},
   "outputs": [],
   "source": [
    "def small_difference(array1, array2):\n",
    "    diff = []\n",
    "    less = sum(array1) + sum(array2) # can also use float('inf')\n",
    "    for i in array1:\n",
    "        for j in array2:\n",
    "            if abs(i-j) < less:\n",
    "                less = abs(i-j)\n",
    "                diff = [i,j]\n",
    "    return diff, less"
   ]
  },
  {
   "cell_type": "code",
   "execution_count": 72,
   "id": "f3c3328a",
   "metadata": {},
   "outputs": [
    {
     "data": {
      "text/plain": [
       "([28, 26], 2)"
      ]
     },
     "execution_count": 72,
     "metadata": {},
     "output_type": "execute_result"
    }
   ],
   "source": [
    "small_difference([-1, 5, 10, 20, 28, 3], [26, 134, 135, 15, 17])"
   ]
  },
  {
   "cell_type": "code",
   "execution_count": 69,
   "id": "27dfaf51",
   "metadata": {},
   "outputs": [],
   "source": [
    "def smallestDifference(arrayOne, arrayTwo):\n",
    "    arrayOne.sort()\n",
    "    arrayTwo.sort()\n",
    "    oneIdx = 0\n",
    "    twoIdx = 0\n",
    "    difference = float(\"inf\")\n",
    "    smallestPair = []\n",
    "    while oneIdx<len(arrayOne) and twoIdx<len(arrayTwo):\n",
    "        first = arrayOne[oneIdx]\n",
    "        second = arrayTwo[twoIdx]\n",
    "        if first < second:\n",
    "            current = second-first\n",
    "            oneIdx += 1\n",
    "        elif second < first:\n",
    "            current = first-second\n",
    "            twoIdx += 1\n",
    "        else:\n",
    "            return [first,second]\n",
    "        if current < difference:\n",
    "            difference = current\n",
    "            smallestPair = [first,second]\n",
    "    return smallestPair"
   ]
  },
  {
   "cell_type": "code",
   "execution_count": 67,
   "id": "0aad2f96",
   "metadata": {},
   "outputs": [],
   "source": []
  },
  {
   "cell_type": "code",
   "execution_count": 70,
   "id": "78b1a639",
   "metadata": {},
   "outputs": [
    {
     "data": {
      "text/plain": [
       "[28, 26]"
      ]
     },
     "execution_count": 70,
     "metadata": {},
     "output_type": "execute_result"
    }
   ],
   "source": [
    "smallestDifference([-1, 5, 10, 20, 28, 3], [26, 134, 135, 15, 17])"
   ]
  },
  {
   "cell_type": "code",
   "execution_count": 73,
   "id": "c75c92fa",
   "metadata": {},
   "outputs": [],
   "source": [
    "def move_elemnt(array, num):\n",
    "    \n",
    "    for i in range(len(array)-1):\n",
    "        if array[i] == num:\n",
    "            temp = array[i]\n",
    "            array[i] = array[i+1]\n",
    "            array[i+1] = temp\n",
    "            \n",
    "    return array\n",
    "        "
   ]
  },
  {
   "cell_type": "code",
   "execution_count": 79,
   "id": "2a505e9f",
   "metadata": {},
   "outputs": [],
   "source": [
    "array = [2,1,2,2,2,3,4,2]\n",
    "target = 2"
   ]
  },
  {
   "cell_type": "code",
   "execution_count": 80,
   "id": "4eca1fc8",
   "metadata": {
    "scrolled": true
   },
   "outputs": [
    {
     "data": {
      "text/plain": [
       "[1, 2, 2, 2, 3, 4, 2, 2]"
      ]
     },
     "execution_count": 80,
     "metadata": {},
     "output_type": "execute_result"
    }
   ],
   "source": [
    "move_elemnt(array, target)"
   ]
  },
  {
   "cell_type": "code",
   "execution_count": 89,
   "id": "98de18ab",
   "metadata": {},
   "outputs": [],
   "source": [
    "def move_element(array, toMove):\n",
    "    i = 0\n",
    "    j = len(array)-1\n",
    "    \n",
    "    while i<j:\n",
    "        while i<j and array[j] == toMove:\n",
    "            j -= 1\n",
    "        if array[i] == toMove:\n",
    "            array[i], array[j] = array[j],array[i]\n",
    "        i += 1\n",
    "    return array"
   ]
  },
  {
   "cell_type": "code",
   "execution_count": 90,
   "id": "34abe1bf",
   "metadata": {},
   "outputs": [
    {
     "data": {
      "text/plain": [
       "[1, 4, 3, 2, 2, 2, 2, 2]"
      ]
     },
     "execution_count": 90,
     "metadata": {},
     "output_type": "execute_result"
    }
   ],
   "source": [
    "move_element(array, target)"
   ]
  },
  {
   "cell_type": "code",
   "execution_count": null,
   "id": "de83ffd7",
   "metadata": {},
   "outputs": [],
   "source": []
  }
 ],
 "metadata": {
  "kernelspec": {
   "display_name": "Python 3",
   "language": "python",
   "name": "python3"
  },
  "language_info": {
   "codemirror_mode": {
    "name": "ipython",
    "version": 3
   },
   "file_extension": ".py",
   "mimetype": "text/x-python",
   "name": "python",
   "nbconvert_exporter": "python",
   "pygments_lexer": "ipython3",
   "version": "3.8.8"
  }
 },
 "nbformat": 4,
 "nbformat_minor": 5
}
