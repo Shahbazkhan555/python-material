{
 "cells": [
  {
   "cell_type": "code",
   "execution_count": 2,
   "id": "d14e99cb",
   "metadata": {},
   "outputs": [
    {
     "name": "stdout",
     "output_type": "stream",
     "text": [
      "Hello, World!\n"
     ]
    }
   ],
   "source": [
    "print('Hello, World!')"
   ]
  },
  {
   "cell_type": "code",
   "execution_count": 5,
   "id": "3d228cbc",
   "metadata": {},
   "outputs": [
    {
     "name": "stdout",
     "output_type": "stream",
     "text": [
      "Enter an integer: 78\n",
      "You entered the number  78\n"
     ]
    }
   ],
   "source": [
    "num = int(input('Enter an integer: '))\n",
    "print('You entered the number ',num)"
   ]
  },
  {
   "cell_type": "code",
   "execution_count": 7,
   "id": "8a4c17d1",
   "metadata": {},
   "outputs": [
    {
     "name": "stdout",
     "output_type": "stream",
     "text": [
      "Enter a number to add: 5\n",
      "Enter another number to add: 12\n",
      "The added result is  17\n"
     ]
    }
   ],
   "source": [
    "num1 = int(input('Enter a number to add: '))\n",
    "num2 = int(input('Enter another number to add: '))\n",
    "print('The added result is ',num1+num2)"
   ]
  },
  {
   "cell_type": "code",
   "execution_count": 13,
   "id": "237dffd2",
   "metadata": {},
   "outputs": [
    {
     "name": "stdout",
     "output_type": "stream",
     "text": [
      "Enter a number to be divided: 19\n",
      "Enter another number to divided by: 4\n",
      "The quotient is  4.75\n",
      "The remainder is  3\n"
     ]
    }
   ],
   "source": [
    "divisor = int(input('Enter a number to be divided: '))\n",
    "dividend = int(input('Enter another number to divided by: '))\n",
    "print('The quotient is ',divisor/dividend)\n",
    "print('The remainder is ',divisor%dividend)"
   ]
  },
  {
   "cell_type": "code",
   "execution_count": 14,
   "id": "a2ba8fce",
   "metadata": {},
   "outputs": [
    {
     "name": "stdout",
     "output_type": "stream",
     "text": [
      "The size of an integer is  28\n",
      "The size of a floating point number is  24\n",
      "The size of a character is  54\n"
     ]
    }
   ],
   "source": [
    "import sys\n",
    "num = 56\n",
    "float_num = 3.2\n",
    "char = 'Kriti'\n",
    "print('The size of an integer is ',sys.getsizeof(num))\n",
    "print('The size of a floating point number is ',sys.getsizeof(float_num))\n",
    "print('The size of a character is ',sys.getsizeof(char))"
   ]
  },
  {
   "cell_type": "code",
   "execution_count": 16,
   "id": "9ac5f51b",
   "metadata": {},
   "outputs": [
    {
     "name": "stdout",
     "output_type": "stream",
     "text": [
      "Numbers before swapping are: a:10 and b:25\n",
      "Numbers after swapping are: a:25 and b:10\n"
     ]
    }
   ],
   "source": [
    "a = 10\n",
    "b = 25\n",
    "print(f'Numbers before swapping are: a:{a} and b:{b}')\n",
    "a,b = b,a\n",
    "print(f'Numbers after swapping are: a:{a} and b:{b}')"
   ]
  },
  {
   "cell_type": "code",
   "execution_count": 3,
   "id": "5a37a7cd",
   "metadata": {},
   "outputs": [
    {
     "name": "stdout",
     "output_type": "stream",
     "text": [
      "before swapping \n",
      "x: 10, y: 34\n",
      "after swapping \n",
      "x: 34, y: 10\n"
     ]
    }
   ],
   "source": [
    "x = 10\n",
    "y = 34\n",
    "print(f\"before swapping \\nx: {x}, y: {y}\")\n",
    "x = x+y\n",
    "y = x-y\n",
    "x = x-y\n",
    "print(f\"after swapping \\nx: {x}, y: {y}\")"
   ]
  },
  {
   "cell_type": "code",
   "execution_count": 4,
   "id": "7bf4ac04",
   "metadata": {},
   "outputs": [
    {
     "data": {
      "text/plain": [
       "107"
      ]
     },
     "execution_count": 4,
     "metadata": {},
     "output_type": "execute_result"
    }
   ],
   "source": [
    "char = 'k'\n",
    "asci = ord(char)\n",
    "asci"
   ]
  },
  {
   "cell_type": "code",
   "execution_count": 6,
   "id": "7247a614",
   "metadata": {},
   "outputs": [
    {
     "data": {
      "text/plain": [
       "'k'"
      ]
     },
     "execution_count": 6,
     "metadata": {},
     "output_type": "execute_result"
    }
   ],
   "source": [
    "chr(107)"
   ]
  },
  {
   "cell_type": "code",
   "execution_count": 7,
   "id": "269ad619",
   "metadata": {},
   "outputs": [
    {
     "data": {
      "text/plain": [
       "\"'k'\""
      ]
     },
     "execution_count": 7,
     "metadata": {},
     "output_type": "execute_result"
    }
   ],
   "source": [
    "ascii('k')"
   ]
  },
  {
   "cell_type": "code",
   "execution_count": 8,
   "id": "3cb9ce2c",
   "metadata": {},
   "outputs": [
    {
     "name": "stdout",
     "output_type": "stream",
     "text": [
      "Enter a number to multiply: 6\n",
      "Enter another number to multiply: 5\n",
      "The product is  30\n"
     ]
    }
   ],
   "source": [
    "num1 = int(input('Enter a number to multiply: '))\n",
    "num2 = int(input('Enter another number to multiply: '))\n",
    "print('The product is ',num1*num2)"
   ]
  },
  {
   "cell_type": "code",
   "execution_count": 11,
   "id": "496b7807",
   "metadata": {},
   "outputs": [
    {
     "name": "stdout",
     "output_type": "stream",
     "text": [
      "Enter a number to check if it is even or odd: 80\n",
      "The entered integer is even\n"
     ]
    }
   ],
   "source": [
    "num = int(input('Enter a number to check if it is even or odd: '))\n",
    "if num % 2 == 0:\n",
    "    print('The entered integer is even')\n",
    "else:\n",
    "    print('Its an odd number')"
   ]
  },
  {
   "cell_type": "code",
   "execution_count": 19,
   "id": "5b60845a",
   "metadata": {},
   "outputs": [
    {
     "name": "stdout",
     "output_type": "stream",
     "text": [
      "Enter a character: a\n",
      "a is vowel\n"
     ]
    }
   ],
   "source": [
    "char = input('Enter a character: ')\n",
    "if char in ('a','e','i','o','u'):\n",
    "    print(f'{char} is vowel')\n",
    "else:\n",
    "    print('Consonant')"
   ]
  },
  {
   "cell_type": "code",
   "execution_count": 22,
   "id": "9c1f1cdf",
   "metadata": {},
   "outputs": [
    {
     "name": "stdout",
     "output_type": "stream",
     "text": [
      "Enter a character: O\n",
      "O is vowel\n"
     ]
    }
   ],
   "source": [
    "char = input('Enter a character: ')\n",
    "if char in 'aeiouAEIOU':\n",
    "    print(f'{char} is vowel')\n",
    "else:\n",
    "    print('Consonant')"
   ]
  },
  {
   "cell_type": "code",
   "execution_count": 24,
   "id": "ab75880e",
   "metadata": {},
   "outputs": [
    {
     "name": "stdout",
     "output_type": "stream",
     "text": [
      "Number 1: 4\n",
      "Number 2: 56\n",
      "Number 3: 431\n",
      "431\n"
     ]
    }
   ],
   "source": [
    "num1 = int(input('Number 1: '))\n",
    "num2 = int(input('Number 2: '))\n",
    "num3 = int(input('Number 3: '))\n",
    "print(max(num1,num2,num3))"
   ]
  },
  {
   "cell_type": "code",
   "execution_count": null,
   "id": "d4d0f5da",
   "metadata": {},
   "outputs": [],
   "source": [
    "import math\n",
    "a = int(input())\n",
    "b = int(input())\n",
    "c = int(input())\n",
    "d = b**2 - 4*a*c\n",
    "sqrt_d = math.sqrt(abs(d))\n",
    "if d>0:\n",
    "    print('Roots are real and distinct')\n",
    "    print('The roots are:'(-b+sqrt_d)/2*a, (-b-sqrt_d)/2*a )\n",
    "elif d==0:\n",
    "    print('Roots are equal')\n",
    "    print('The roots are:'-b/(2*a))\n",
    "else:\n",
    "    print('Roots are complex')\n",
    "    print(-b/(2*a),\"+ i\",sqrt_d)\n",
    "    print(-b/(2*a),\"- i\",sqrt_d)"
   ]
  },
  {
   "cell_type": "code",
   "execution_count": 14,
   "id": "0fd80d0b",
   "metadata": {},
   "outputs": [
    {
     "name": "stdout",
     "output_type": "stream",
     "text": [
      "Enter a number upto which fibonacci series to be displayed: 100\n",
      "0\n",
      "1\n",
      "1\n",
      "2\n",
      "3\n",
      "5\n",
      "8\n",
      "13\n",
      "21\n",
      "34\n",
      "55\n",
      "89\n"
     ]
    }
   ],
   "source": [
    "num = int(input('Enter a number upto which fibonacci series to be displayed: '))\n",
    "a = 0\n",
    "b = 1\n",
    "while a <= num:\n",
    "    print(a)\n",
    "    temp = a\n",
    "    a = b\n",
    "    b = temp+a"
   ]
  },
  {
   "cell_type": "code",
   "execution_count": 15,
   "id": "4e2941bc",
   "metadata": {},
   "outputs": [
    {
     "name": "stdout",
     "output_type": "stream",
     "text": [
      "Enter a number upto which fibonacci series to be displayed: 6\n",
      "0\n",
      "1\n",
      "1\n",
      "2\n",
      "3\n",
      "5\n"
     ]
    }
   ],
   "source": [
    "num = int(input('Enter a number upto which fibonacci series to be displayed: '))\n",
    "a = 0\n",
    "b = 1\n",
    "for i in range(num):\n",
    "    print(a)\n",
    "    temp = a\n",
    "    a = b\n",
    "    b = temp+a"
   ]
  },
  {
   "cell_type": "code",
   "execution_count": 22,
   "id": "0affa82e",
   "metadata": {},
   "outputs": [
    {
     "name": "stdout",
     "output_type": "stream",
     "text": [
      "Enter a 1st number to find the HCF of: 60\n",
      "Enter a 2nd number to find the HCF of: 48\n",
      "The HCF of the provided numbers is :  12\n"
     ]
    }
   ],
   "source": [
    "num1 = int(input('Enter a 1st number to find the HCF of: '))\n",
    "num2 = int(input('Enter a 2nd number to find the HCF of: '))\n",
    "lst = []\n",
    "for i in range(1,min(num1,num2)):\n",
    "    if (num1%i == 0) and (num2%i == 0):\n",
    "        lst.append(i)\n",
    "        \n",
    "print('The HCF of the provided numbers is : ',max(lst))\n"
   ]
  },
  {
   "cell_type": "code",
   "execution_count": 33,
   "id": "c4c56b7c",
   "metadata": {},
   "outputs": [
    {
     "name": "stdout",
     "output_type": "stream",
     "text": [
      "Enter a 1st number to find the LCM of: 15\n",
      "Enter a 2nd number to find the LCM of: 25\n",
      "75\n"
     ]
    }
   ],
   "source": [
    "num1 = int(input('Enter a 1st number to find the LCM of: '))\n",
    "num2 = int(input('Enter a 2nd number to find the LCM of: '))\n",
    "large = max(num1,num2)\n",
    "while True:\n",
    "    if large%num1 == 0 and large%num2 == 0:\n",
    "        lcm = large\n",
    "        break\n",
    "    large += 1\n",
    "print(lcm)"
   ]
  },
  {
   "cell_type": "code",
   "execution_count": 34,
   "id": "565b2dad",
   "metadata": {},
   "outputs": [
    {
     "name": "stdout",
     "output_type": "stream",
     "text": [
      "Enter a decimal number to multiply: 1.2\n",
      "Enter another decimal number to multiply: 0.3\n",
      "The product is  0.36\n"
     ]
    }
   ],
   "source": [
    "num1 = float(input('Enter a decimal number to multiply: '))\n",
    "num2 = float(input('Enter another decimal number to multiply: '))\n",
    "print('The product is ',num1*num2)"
   ]
  },
  {
   "cell_type": "code",
   "execution_count": 36,
   "id": "eda1b9d0",
   "metadata": {},
   "outputs": [
    {
     "name": "stdout",
     "output_type": "stream",
     "text": [
      "Enter a number to be reversed: 1234\n",
      "4321\n"
     ]
    }
   ],
   "source": [
    "num = str(input('Enter a number to be reversed: '))\n",
    "print(num[::-1])"
   ]
  },
  {
   "cell_type": "code",
   "execution_count": 39,
   "id": "7d03f8c8",
   "metadata": {},
   "outputs": [],
   "source": [
    "def rev_num(num):\n",
    "    rev = 0\n",
    "    while num != 0:\n",
    "        rem = num % 10\n",
    "        rev = rev*10 + rem\n",
    "        num = num // 10\n",
    "    return rev"
   ]
  },
  {
   "cell_type": "code",
   "execution_count": 40,
   "id": "69ec50bf",
   "metadata": {},
   "outputs": [
    {
     "data": {
      "text/plain": [
       "902365"
      ]
     },
     "execution_count": 40,
     "metadata": {},
     "output_type": "execute_result"
    }
   ],
   "source": [
    "rev_num(563209)"
   ]
  },
  {
   "cell_type": "code",
   "execution_count": 41,
   "id": "3ef0da5f",
   "metadata": {},
   "outputs": [],
   "source": [
    "def add_num(num):\n",
    "    total = 0\n",
    "    for i in range(num+1):\n",
    "        total += i\n",
    "    return total"
   ]
  },
  {
   "cell_type": "code",
   "execution_count": 42,
   "id": "661a53d9",
   "metadata": {},
   "outputs": [
    {
     "data": {
      "text/plain": [
       "55"
      ]
     },
     "execution_count": 42,
     "metadata": {},
     "output_type": "execute_result"
    }
   ],
   "source": [
    "add_num(10)"
   ]
  },
  {
   "cell_type": "code",
   "execution_count": 43,
   "id": "a18f663b",
   "metadata": {},
   "outputs": [
    {
     "name": "stdout",
     "output_type": "stream",
     "text": [
      "Enter the power of a number to calculate: 3\n",
      "Enter the exponent of a number to calculate: 2\n",
      "The result is  8\n"
     ]
    }
   ],
   "source": [
    "num1 = int(input('Enter the power of a number to calculate: '))\n",
    "num2 = int(input('Enter the exponent of a number to calculate: '))\n",
    "print('The result is ',num2**num1)"
   ]
  },
  {
   "cell_type": "code",
   "execution_count": 44,
   "id": "3a22622c",
   "metadata": {},
   "outputs": [],
   "source": [
    "def power(a,b):\n",
    "    return a**b"
   ]
  },
  {
   "cell_type": "code",
   "execution_count": 45,
   "id": "e93e999d",
   "metadata": {},
   "outputs": [
    {
     "data": {
      "text/plain": [
       "625"
      ]
     },
     "execution_count": 45,
     "metadata": {},
     "output_type": "execute_result"
    }
   ],
   "source": [
    "power(5,4)"
   ]
  },
  {
   "cell_type": "code",
   "execution_count": 46,
   "id": "14810db8",
   "metadata": {},
   "outputs": [
    {
     "data": {
      "text/plain": [
       "625"
      ]
     },
     "execution_count": 46,
     "metadata": {},
     "output_type": "execute_result"
    }
   ],
   "source": [
    "pow(5,4)"
   ]
  },
  {
   "cell_type": "code",
   "execution_count": 54,
   "id": "0c5179b1",
   "metadata": {},
   "outputs": [
    {
     "name": "stdout",
     "output_type": "stream",
     "text": [
      "Enter the exponent of a number to calculate: 5\n",
      "Enter the power of a number to calculate: 4\n",
      "625\n"
     ]
    }
   ],
   "source": [
    "num1 = int(input('Enter the exponent of a number to calculate: '))\n",
    "num2 = int(input('Enter the power of a number to calculate: '))\n",
    "res = 1\n",
    "for i in range(num2,0,-1):\n",
    "    res *= num1\n",
    "print(res)"
   ]
  },
  {
   "cell_type": "code",
   "execution_count": 61,
   "id": "782d33bc",
   "metadata": {},
   "outputs": [
    {
     "name": "stdout",
     "output_type": "stream",
     "text": [
      "Enter a number to calculate the sum of its digits: 54367\n",
      "25\n"
     ]
    }
   ],
   "source": [
    "num = int(input('Enter a number to calculate the sum of its digits: '))\n",
    "length = len(list(str(num)))\n",
    "total = 0\n",
    "for i in range(length):\n",
    "    rem = num%10\n",
    "    total += rem\n",
    "    num = num//10\n",
    "\n",
    "print(total)"
   ]
  },
  {
   "cell_type": "code",
   "execution_count": 66,
   "id": "d928d832",
   "metadata": {},
   "outputs": [
    {
     "name": "stdout",
     "output_type": "stream",
     "text": [
      "Enter a number to check whether its palindrome or not: 12321\n",
      "The provided number is palindrome\n"
     ]
    }
   ],
   "source": [
    "num = int(input('Enter a number to check whether its palindrome or not: '))\n",
    "dig = num\n",
    "rev = 0\n",
    "while num != 0:\n",
    "    rem = num%10\n",
    "    rev = rev*10 + rem\n",
    "    num = num//10\n",
    "if rev==dig:\n",
    "    print('The provided number is palindrome')\n",
    "else:\n",
    "    print('Not palindrome, try again')"
   ]
  },
  {
   "cell_type": "code",
   "execution_count": 71,
   "id": "5e8a2fa5",
   "metadata": {},
   "outputs": [],
   "source": [
    "def palindrome(num):\n",
    "    if num == int(str(num)[::-1]):\n",
    "        print('The provided number is palindrome')\n",
    "    else:\n",
    "        print('Not palindrome')"
   ]
  },
  {
   "cell_type": "code",
   "execution_count": 72,
   "id": "a72cd362",
   "metadata": {},
   "outputs": [
    {
     "name": "stdout",
     "output_type": "stream",
     "text": [
      "Not palindrome\n"
     ]
    }
   ],
   "source": [
    "palindrome(2314)"
   ]
  },
  {
   "cell_type": "code",
   "execution_count": 73,
   "id": "45663ab2",
   "metadata": {},
   "outputs": [
    {
     "name": "stdout",
     "output_type": "stream",
     "text": [
      "The provided number is palindrome\n"
     ]
    }
   ],
   "source": [
    "palindrome(4132314)"
   ]
  },
  {
   "cell_type": "code",
   "execution_count": 101,
   "id": "452c1a8e",
   "metadata": {},
   "outputs": [],
   "source": [
    "def prime_num(num):\n",
    "    if num > 1:\n",
    "        for i in range(2,num):\n",
    "            if num%i == 0 :\n",
    "                print('It is not a prime number')\n",
    "                break\n",
    "        else:\n",
    "            print('it is prime')\n",
    "    else:\n",
    "        print('it is not prime')"
   ]
  },
  {
   "cell_type": "code",
   "execution_count": 102,
   "id": "b4461c9e",
   "metadata": {},
   "outputs": [
    {
     "name": "stdout",
     "output_type": "stream",
     "text": [
      "It is not a prime number\n"
     ]
    }
   ],
   "source": [
    "prime_num(9)"
   ]
  },
  {
   "cell_type": "code",
   "execution_count": 103,
   "id": "cf671097",
   "metadata": {},
   "outputs": [
    {
     "name": "stdout",
     "output_type": "stream",
     "text": [
      "it is prime\n"
     ]
    }
   ],
   "source": [
    "prime_num(11)"
   ]
  },
  {
   "cell_type": "code",
   "execution_count": 104,
   "id": "df505757",
   "metadata": {},
   "outputs": [
    {
     "name": "stdout",
     "output_type": "stream",
     "text": [
      "it is not prime\n"
     ]
    }
   ],
   "source": [
    "prime_num(1)"
   ]
  },
  {
   "cell_type": "code",
   "execution_count": 107,
   "id": "6c5b5d48",
   "metadata": {},
   "outputs": [
    {
     "name": "stdout",
     "output_type": "stream",
     "text": [
      "Enter the point of start checking for primes: 2\n",
      "Enter the last point to check for primes: 30\n",
      "2\n",
      "3\n",
      "5\n",
      "7\n",
      "11\n",
      "13\n",
      "17\n",
      "19\n",
      "23\n",
      "29\n"
     ]
    }
   ],
   "source": [
    "start = int(input('Enter the point of start checking for primes: '))\n",
    "stop = int(input('Enter the last point to check for primes: '))\n",
    "for i in range(start,stop+1):\n",
    "    if i > 1:\n",
    "        for j in range(2,i):\n",
    "            if i%j == 0:\n",
    "                break\n",
    "        else:\n",
    "            print(i)"
   ]
  },
  {
   "cell_type": "code",
   "execution_count": 111,
   "id": "d0016ff2",
   "metadata": {},
   "outputs": [
    {
     "data": {
      "text/plain": [
       "153"
      ]
     },
     "execution_count": 111,
     "metadata": {},
     "output_type": "execute_result"
    }
   ],
   "source": [
    "1**3 + 5**3 + 3**3"
   ]
  },
  {
   "cell_type": "code",
   "execution_count": 114,
   "id": "8b2369cd",
   "metadata": {},
   "outputs": [],
   "source": [
    "def armstrong_num(num):\n",
    "    total = 0\n",
    "    res = num\n",
    "    length = len(str(num))\n",
    "    while num > 0:\n",
    "        dig = num%10\n",
    "        total += dig**length\n",
    "        num = num//10\n",
    "    if total == res:\n",
    "        print(num,' is an armstrong number')"
   ]
  },
  {
   "cell_type": "code",
   "execution_count": 116,
   "id": "8bfa3a30",
   "metadata": {},
   "outputs": [],
   "source": [
    "armstrong_num(154)"
   ]
  },
  {
   "cell_type": "code",
   "execution_count": 129,
   "id": "6270d2c1",
   "metadata": {},
   "outputs": [],
   "source": [
    "def factors(num):\n",
    "    for i in range(1,num+1):\n",
    "        if num%i == 0:\n",
    "            print(i)"
   ]
  },
  {
   "cell_type": "code",
   "execution_count": 130,
   "id": "03d762f4",
   "metadata": {},
   "outputs": [
    {
     "name": "stdout",
     "output_type": "stream",
     "text": [
      "1\n",
      "2\n",
      "5\n",
      "10\n"
     ]
    }
   ],
   "source": [
    "factors(10)"
   ]
  },
  {
   "cell_type": "code",
   "execution_count": 132,
   "id": "40b6fdf1",
   "metadata": {},
   "outputs": [],
   "source": [
    "def calculator(num1,operator,num2):\n",
    "    if operator == '+':\n",
    "        print(num1+num2)\n",
    "    elif operator == '-':\n",
    "        print(num1-num2)\n",
    "    elif operator == '*':\n",
    "        print(num1*num2)\n",
    "    else:\n",
    "        print(num1/num2)"
   ]
  },
  {
   "cell_type": "code",
   "execution_count": 134,
   "id": "bdcb6461",
   "metadata": {},
   "outputs": [
    {
     "ename": "SyntaxError",
     "evalue": "invalid syntax (<ipython-input-134-514a6dbf3cda>, line 1)",
     "output_type": "error",
     "traceback": [
      "\u001b[1;36m  File \u001b[1;32m\"<ipython-input-134-514a6dbf3cda>\"\u001b[1;36m, line \u001b[1;32m1\u001b[0m\n\u001b[1;33m    def calculator(15,'+',5)\u001b[0m\n\u001b[1;37m                   ^\u001b[0m\n\u001b[1;31mSyntaxError\u001b[0m\u001b[1;31m:\u001b[0m invalid syntax\n"
     ]
    }
   ],
   "source": [
    "def calculator(15,'+',5)"
   ]
  },
  {
   "cell_type": "code",
   "execution_count": 137,
   "id": "aa855d5f",
   "metadata": {},
   "outputs": [
    {
     "name": "stdout",
     "output_type": "stream",
     "text": [
      "Select operation to be performed - \n",
      "1. Add\n",
      "2. Subtract\n",
      "3. Multiply\n",
      "4. Divide\n",
      "\n",
      "Select operation from 1,2,3,4: 3\n",
      "Enter a 1st number to perform the action on: 12\n",
      "Enter a 2nd number to perform the action on: 60\n",
      "12 * 60 =  720\n"
     ]
    }
   ],
   "source": [
    "def add(num1,num2):\n",
    "    return num1+num2\n",
    "\n",
    "def subtract(num1,num2):\n",
    "    return num1 - num2\n",
    "\n",
    "def multiply(num1,num2):\n",
    "    return num1*num2\n",
    "\n",
    "def divide(num1,num2):\n",
    "    return num1/num2\n",
    "\n",
    "print('Select operation to be performed - \\n'\n",
    "     '1. Add\\n'\n",
    "     '2. Subtract\\n'\n",
    "     '3. Multiply\\n'\n",
    "     '4. Divide\\n')\n",
    "select = int(input('Select operation from 1,2,3,4: '))\n",
    "num1 = int(input('Enter a 1st number to perform the action on: '))\n",
    "num2 = int(input('Enter a 2nd number to perform the action on: '))\n",
    "\n",
    "if select == 1:\n",
    "    print(f'{num1} + {num2} = ',add(num1,num2))\n",
    "elif select == 2:\n",
    "    print(f'{num1} - {num2} = ',subtract(num1,num2))\n",
    "elif select == 3:\n",
    "    print(f'{num1} * {num2} = ',multiply(num1,num2))\n",
    "elif select == 4:\n",
    "    print(f'{num1} / {num2} = ',divide(num1,num2))\n",
    "else:\n",
    "    print('Invalid input')"
   ]
  },
  {
   "cell_type": "code",
   "execution_count": 153,
   "id": "63cc7f1e",
   "metadata": {},
   "outputs": [
    {
     "name": "stdout",
     "output_type": "stream",
     "text": [
      "****\n",
      "*  *\n",
      "****\n",
      "*  *\n",
      "*  *\n",
      "*  *\n"
     ]
    }
   ],
   "source": [
    "for row in range(6):\n",
    "    for col in range(4):\n",
    "        if ((col==0 or col==3) and row != 0) or ((row==0) or (row==2) and (col>0 and col<3)):\n",
    "            print('*', end='')\n",
    "        else:\n",
    "            print(end=' ')\n",
    "    print()"
   ]
  },
  {
   "cell_type": "code",
   "execution_count": 158,
   "id": "af056ecf",
   "metadata": {},
   "outputs": [],
   "source": [
    "def char_freq(char):\n",
    "    freq = {}\n",
    "    for i in char:\n",
    "        if i in freq:\n",
    "            freq[i] += 1\n",
    "        else: \n",
    "            freq[i] = 1\n",
    "    return freq"
   ]
  },
  {
   "cell_type": "code",
   "execution_count": 159,
   "id": "e99a1dce",
   "metadata": {},
   "outputs": [
    {
     "data": {
      "text/plain": [
       "{'m': 2, 'o': 1}"
      ]
     },
     "execution_count": 159,
     "metadata": {},
     "output_type": "execute_result"
    }
   ],
   "source": [
    "char_freq(\"mom\")"
   ]
  },
  {
   "cell_type": "code",
   "execution_count": 160,
   "id": "59eb8b36",
   "metadata": {},
   "outputs": [],
   "source": [
    "def find_type(char):\n",
    "    dic = {'vowels':0,'consonants':0,'digits':0,'whitespaces':0}\n",
    "    for i in char:\n",
    "        if i in 'aeiouAEIOU':\n",
    "            dic['vowels'] += 1\n",
    "        elif i in '1234567890':\n",
    "            dic['digits'] += 1\n",
    "        elif i in ' ':\n",
    "            dic['whitespaces'] += 1\n",
    "        else:\n",
    "            dic['consonants'] += 1\n",
    "    return dic"
   ]
  },
  {
   "cell_type": "code",
   "execution_count": 161,
   "id": "51962f37",
   "metadata": {},
   "outputs": [
    {
     "data": {
      "text/plain": [
       "{'vowels': 4, 'consonants': 5, 'digits': 5, 'whitespaces': 1}"
      ]
     },
     "execution_count": 161,
     "metadata": {},
     "output_type": "execute_result"
    }
   ],
   "source": [
    "find_type('vuduowa123 83hd')"
   ]
  },
  {
   "cell_type": "code",
   "execution_count": 162,
   "id": "b4ea5f50",
   "metadata": {},
   "outputs": [],
   "source": [
    "def find_type(string):\n",
    "    vowels = 0\n",
    "    consonants = 0\n",
    "    special_char = 0\n",
    "    digits = 0\n",
    "    \n",
    "    for i in range(0,len(string)):\n",
    "        ch = string[i]\n",
    "        if ( (ch >= 'a' and ch <= 'z') or\n",
    "             (ch >= 'A' and ch <= 'Z') ):\n",
    "            if (ch == 'a' or ch == 'e' or ch == 'i'\n",
    "                        or ch == 'o' or ch == 'u'):\n",
    "                vowels += 1\n",
    "            else:\n",
    "                consonants += 1\n",
    "        elif ch>=\"0\" and ch<=\"9\":\n",
    "            digits += 1\n",
    "        else:\n",
    "            special_char += 1\n",
    "    print(f\"vowels = {vowels} \\nconsonants = {consonants} \\nspecial_char = {special_char} \\ndigits = {digits}\")"
   ]
  },
  {
   "cell_type": "code",
   "execution_count": 163,
   "id": "723eaab3",
   "metadata": {},
   "outputs": [
    {
     "name": "stdout",
     "output_type": "stream",
     "text": [
      "vowels = 3 \n",
      "consonants = 6 \n",
      "special_char = 1 \n",
      "digits = 5\n"
     ]
    }
   ],
   "source": [
    "find_type('vuduowA123 83hd')"
   ]
  },
  {
   "cell_type": "code",
   "execution_count": 174,
   "id": "71e8ec92",
   "metadata": {},
   "outputs": [],
   "source": [
    "def find_alphabets(string):\n",
    "    char = ''\n",
    "    for i in string:\n",
    "        if ((i>='a') and (i<='z')) or ((i>='A') and (i<='Z')):\n",
    "            char = char + i\n",
    "    return char"
   ]
  },
  {
   "cell_type": "code",
   "execution_count": 175,
   "id": "ff658c94",
   "metadata": {},
   "outputs": [
    {
     "data": {
      "text/plain": [
       "'programiz'"
      ]
     },
     "execution_count": 175,
     "metadata": {},
     "output_type": "execute_result"
    }
   ],
   "source": [
    "find_alphabets('p2r\"o@gram84iz./')"
   ]
  },
  {
   "cell_type": "code",
   "execution_count": 176,
   "id": "b74ad100",
   "metadata": {},
   "outputs": [],
   "source": [
    "def string_length(string):\n",
    "    length = 0\n",
    "    for i in string:\n",
    "        length += 1\n",
    "    return length"
   ]
  },
  {
   "cell_type": "code",
   "execution_count": 177,
   "id": "151dce08",
   "metadata": {},
   "outputs": [
    {
     "data": {
      "text/plain": [
       "5"
      ]
     },
     "execution_count": 177,
     "metadata": {},
     "output_type": "execute_result"
    }
   ],
   "source": [
    "string_length('kriti')"
   ]
  },
  {
   "cell_type": "code",
   "execution_count": 183,
   "id": "aef0c406",
   "metadata": {},
   "outputs": [
    {
     "name": "stdout",
     "output_type": "stream",
     "text": [
      "Enter the first string to join: Krit\n",
      "Enter the second string to join: Sara\n",
      "Krit  Sara\n",
      "Krit Sara\n"
     ]
    }
   ],
   "source": [
    "str1 = input('Enter the first string to join: ')\n",
    "str2 = input('Enter the second string to join: ')\n",
    "print(str1,'',str2)\n",
    "print(' '.join([str1,str2]))"
   ]
  },
  {
   "cell_type": "code",
   "execution_count": 186,
   "id": "7134c875",
   "metadata": {},
   "outputs": [],
   "source": [
    "def following_alphabet(char):\n",
    "    str_replace = ''\n",
    "    for i in char:\n",
    "        if i == 'z':\n",
    "            str_replace += chr(97)\n",
    "        else:\n",
    "            str_replace += chr(ord(i)+1)\n",
    "    return str_replace"
   ]
  },
  {
   "cell_type": "code",
   "execution_count": 187,
   "id": "d557cc3b",
   "metadata": {},
   "outputs": [
    {
     "data": {
      "text/plain": [
       "'Lsjuj'"
      ]
     },
     "execution_count": 187,
     "metadata": {},
     "output_type": "execute_result"
    }
   ],
   "source": [
    "following_alphabet('Kriti')"
   ]
  },
  {
   "cell_type": "code",
   "execution_count": 188,
   "id": "a97fbd1b",
   "metadata": {},
   "outputs": [],
   "source": [
    "def number_of_words(sentence):\n",
    "    lst = sentence.split()\n",
    "    return len(lst)"
   ]
  },
  {
   "cell_type": "code",
   "execution_count": 189,
   "id": "185ddcdc",
   "metadata": {},
   "outputs": [
    {
     "data": {
      "text/plain": [
       "5"
      ]
     },
     "execution_count": 189,
     "metadata": {},
     "output_type": "execute_result"
    }
   ],
   "source": [
    "number_of_words('hi shabaz how are you')"
   ]
  },
  {
   "cell_type": "code",
   "execution_count": 191,
   "id": "b83b13cd",
   "metadata": {},
   "outputs": [],
   "source": [
    "def numbr_of_words(sentence):\n",
    "    words = 1\n",
    "    for i in sentence:\n",
    "        if i == ' ':\n",
    "            words += 1\n",
    "    return words"
   ]
  },
  {
   "cell_type": "code",
   "execution_count": 192,
   "id": "5ba1675c",
   "metadata": {},
   "outputs": [
    {
     "data": {
      "text/plain": [
       "5"
      ]
     },
     "execution_count": 192,
     "metadata": {},
     "output_type": "execute_result"
    }
   ],
   "source": [
    "numbr_of_words('hi shabaz how are you')"
   ]
  },
  {
   "cell_type": "code",
   "execution_count": 197,
   "id": "5cc90cc3",
   "metadata": {},
   "outputs": [],
   "source": [
    "def caps_first(string):\n",
    "    string = string.split()\n",
    "    for i in string:\n",
    "        print(i.capitalize(), end=\" \")"
   ]
  },
  {
   "cell_type": "code",
   "execution_count": 198,
   "id": "cf1c82a3",
   "metadata": {},
   "outputs": [
    {
     "name": "stdout",
     "output_type": "stream",
     "text": [
      "I Wanna Eat Something "
     ]
    }
   ],
   "source": [
    "caps_first(\"i wanna eat something\")"
   ]
  },
  {
   "cell_type": "code",
   "execution_count": 202,
   "id": "a4a7c531",
   "metadata": {},
   "outputs": [
    {
     "name": "stdout",
     "output_type": "stream",
     "text": [
      "Kriti Sarawgi \n"
     ]
    }
   ],
   "source": [
    "s = 'kriti sarawgi'\n",
    "t = ''\n",
    "for i in s.split():\n",
    "    t += (i.capitalize()+' ')\n",
    "print(t)"
   ]
  },
  {
   "cell_type": "code",
   "execution_count": 203,
   "id": "bfc200ef",
   "metadata": {},
   "outputs": [],
   "source": [
    "def largest_word(string):\n",
    "    length = 0\n",
    "    word = ''\n",
    "    for i in string.split():\n",
    "        if len(i) > length:\n",
    "            length = len(i)\n",
    "            word = i\n",
    "    return word,length"
   ]
  },
  {
   "cell_type": "code",
   "execution_count": 204,
   "id": "72327782",
   "metadata": {},
   "outputs": [
    {
     "data": {
      "text/plain": [
       "('sarawgi', 7)"
      ]
     },
     "execution_count": 204,
     "metadata": {},
     "output_type": "execute_result"
    }
   ],
   "source": [
    "largest_word('kriti sarawgi')"
   ]
  },
  {
   "cell_type": "code",
   "execution_count": 208,
   "id": "e5b73a22",
   "metadata": {},
   "outputs": [
    {
     "name": "stdout",
     "output_type": "stream",
     "text": [
      "Kriti Sarawgi\n"
     ]
    }
   ],
   "source": [
    "s = 'kriti sarawgi'\n",
    "lst = [word[0].upper() + word[1:] for word in s.split()]\n",
    "print(' '.join(lst))"
   ]
  },
  {
   "cell_type": "code",
   "execution_count": null,
   "id": "4e49865a",
   "metadata": {},
   "outputs": [],
   "source": []
  },
  {
   "cell_type": "code",
   "execution_count": null,
   "id": "5277940d",
   "metadata": {},
   "outputs": [],
   "source": []
  }
 ],
 "metadata": {
  "kernelspec": {
   "display_name": "Python 3",
   "language": "python",
   "name": "python3"
  },
  "language_info": {
   "codemirror_mode": {
    "name": "ipython",
    "version": 3
   },
   "file_extension": ".py",
   "mimetype": "text/x-python",
   "name": "python",
   "nbconvert_exporter": "python",
   "pygments_lexer": "ipython3",
   "version": "3.8.8"
  }
 },
 "nbformat": 4,
 "nbformat_minor": 5
}
