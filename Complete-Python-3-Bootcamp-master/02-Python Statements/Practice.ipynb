{
 "cells": [
  {
   "cell_type": "code",
   "execution_count": 1,
   "id": "b1a64bbd",
   "metadata": {},
   "outputs": [
    {
     "name": "stdout",
     "output_type": "stream",
     "text": [
      "wrong window\n"
     ]
    }
   ],
   "source": [
    "x = False\n",
    "\n",
    "if x:\n",
    "    print('x is true')\n",
    "else:\n",
    "    print('wrong window')"
   ]
  },
  {
   "cell_type": "code",
   "execution_count": 2,
   "id": "a1aaf8ec",
   "metadata": {},
   "outputs": [
    {
     "name": "stdout",
     "output_type": "stream",
     "text": [
      "hey kriti!\n"
     ]
    }
   ],
   "source": [
    "name = 'kriti'\n",
    "\n",
    "if name == 'shaa':\n",
    "    print('hey shaa!')\n",
    "elif name == 'kriti':\n",
    "    print(f'hey {name}!')\n",
    "else:\n",
    "    print('whats your name?')"
   ]
  },
  {
   "cell_type": "code",
   "execution_count": 3,
   "id": "720ae6c1",
   "metadata": {},
   "outputs": [
    {
     "name": "stdout",
     "output_type": "stream",
     "text": [
      "1\n",
      "2\n",
      "6\n",
      "7\n",
      "k\n",
      "s\n",
      "3\n"
     ]
    }
   ],
   "source": [
    "list1 = [1,2,6,7,'k','s',3]\n",
    "\n",
    "for num in list1:\n",
    "    print(num)"
   ]
  },
  {
   "cell_type": "code",
   "execution_count": 4,
   "id": "95329bbf",
   "metadata": {},
   "outputs": [
    {
     "name": "stdout",
     "output_type": "stream",
     "text": [
      "Odd number: 1\n",
      "This number is even: 2\n",
      "Odd number: 3\n",
      "This number is even: 4\n",
      "This number is even: 56\n",
      "This number is even: 78\n",
      "This number is even: 54\n",
      "This number is even: 100\n"
     ]
    }
   ],
   "source": [
    "even = [1,2,3,4,56,78,54,100]\n",
    "\n",
    "for num in even:\n",
    "    if num % 2 == 0:\n",
    "        print(f'This number is even: {num}')\n",
    "    else:\n",
    "        print(f'Odd number: {num}')"
   ]
  },
  {
   "cell_type": "code",
   "execution_count": 8,
   "id": "09762550",
   "metadata": {},
   "outputs": [
    {
     "name": "stdout",
     "output_type": "stream",
     "text": [
      "55\n"
     ]
    }
   ],
   "source": [
    "list2 = [1,2,3,4,5,6,7,8,9,10]\n",
    "list_sum = 0\n",
    "\n",
    "for num in list2:\n",
    "    list_sum += num\n",
    "    \n",
    "print(list_sum)"
   ]
  },
  {
   "cell_type": "code",
   "execution_count": 9,
   "id": "037a5563",
   "metadata": {},
   "outputs": [
    {
     "name": "stdout",
     "output_type": "stream",
     "text": [
      "H\n",
      "e\n",
      "y\n",
      "!\n",
      " \n",
      "K\n",
      "r\n",
      "i\n",
      "t\n",
      "i\n",
      ".\n"
     ]
    }
   ],
   "source": [
    "for letter in 'Hey! Kriti.':\n",
    "    print(letter)"
   ]
  },
  {
   "cell_type": "code",
   "execution_count": 10,
   "id": "18c1fbe2",
   "metadata": {},
   "outputs": [
    {
     "name": "stdout",
     "output_type": "stream",
     "text": [
      "2\n",
      "k\n",
      "5\n",
      "lo\n"
     ]
    }
   ],
   "source": [
    "tup = (2,'k',5,'lo')\n",
    "\n",
    "for num in tup:\n",
    "    print(num)"
   ]
  },
  {
   "cell_type": "code",
   "execution_count": 11,
   "id": "d05c117d",
   "metadata": {},
   "outputs": [
    {
     "name": "stdout",
     "output_type": "stream",
     "text": [
      "(2, 4)\n",
      "(6, 'kitty')\n",
      "(10, 12)\n"
     ]
    }
   ],
   "source": [
    "list2 = [(2,4),(6,'kitty'),(10,12)]\n",
    "\n",
    "for num in list2:\n",
    "    print(num)"
   ]
  },
  {
   "cell_type": "code",
   "execution_count": 12,
   "id": "a59c068f",
   "metadata": {},
   "outputs": [
    {
     "name": "stdout",
     "output_type": "stream",
     "text": [
      "4\n",
      "kitty\n",
      "12\n"
     ]
    }
   ],
   "source": [
    "for (c1,c2) in list2:\n",
    "    print(c2)"
   ]
  },
  {
   "cell_type": "code",
   "execution_count": 14,
   "id": "37b23ad8",
   "metadata": {},
   "outputs": [
    {
     "name": "stdout",
     "output_type": "stream",
     "text": [
      "6\n",
      "9\n",
      "22\n"
     ]
    }
   ],
   "source": [
    "list3 = [(2,4),(6,3),(10,12)]\n",
    "for (c1,c2) in list3:\n",
    "    print(c1+c2)"
   ]
  },
  {
   "cell_type": "code",
   "execution_count": 15,
   "id": "60d9ea2b",
   "metadata": {},
   "outputs": [
    {
     "name": "stdout",
     "output_type": "stream",
     "text": [
      "k1\n",
      "k2\n",
      "k3\n"
     ]
    }
   ],
   "source": [
    "d = {'k1':1,'k2':2,'k3':3}\n",
    "for values in d:\n",
    "    print(values)"
   ]
  },
  {
   "cell_type": "code",
   "execution_count": 16,
   "id": "039b0a9b",
   "metadata": {},
   "outputs": [
    {
     "name": "stdout",
     "output_type": "stream",
     "text": [
      "('k1', 1)\n",
      "('k2', 2)\n",
      "('k3', 3)\n"
     ]
    }
   ],
   "source": [
    "d = {'k1':1,'k2':2,'k3':3}\n",
    "for values in d.items():\n",
    "    print(values)"
   ]
  },
  {
   "cell_type": "code",
   "execution_count": 17,
   "id": "af67153b",
   "metadata": {},
   "outputs": [
    {
     "name": "stdout",
     "output_type": "stream",
     "text": [
      "1\n",
      "2\n",
      "3\n"
     ]
    }
   ],
   "source": [
    "d = {'k1':1,'k2':2,'k3':3}\n",
    "for (k,v) in d.items():\n",
    "    print(v)"
   ]
  },
  {
   "cell_type": "code",
   "execution_count": 18,
   "id": "c7cc6ff8",
   "metadata": {},
   "outputs": [
    {
     "data": {
      "text/plain": [
       "[('k1', 1), ('k2', 2), ('k3', 3)]"
      ]
     },
     "execution_count": 18,
     "metadata": {},
     "output_type": "execute_result"
    }
   ],
   "source": [
    "list(d.items())"
   ]
  },
  {
   "cell_type": "code",
   "execution_count": 19,
   "id": "a219e9e6",
   "metadata": {},
   "outputs": [
    {
     "data": {
      "text/plain": [
       "['k1', 'k2', 'k3']"
      ]
     },
     "execution_count": 19,
     "metadata": {},
     "output_type": "execute_result"
    }
   ],
   "source": [
    "list(d.keys())"
   ]
  },
  {
   "cell_type": "code",
   "execution_count": 20,
   "id": "0bb880f7",
   "metadata": {},
   "outputs": [
    {
     "data": {
      "text/plain": [
       "[1, 2, 3]"
      ]
     },
     "execution_count": 20,
     "metadata": {},
     "output_type": "execute_result"
    }
   ],
   "source": [
    "sorted(d.values())"
   ]
  },
  {
   "cell_type": "code",
   "execution_count": 21,
   "id": "512b64af",
   "metadata": {},
   "outputs": [
    {
     "data": {
      "text/plain": [
       "<function list.reverse()>"
      ]
     },
     "execution_count": 21,
     "metadata": {},
     "output_type": "execute_result"
    }
   ],
   "source": [
    "sorted(d.values()).reverse"
   ]
  },
  {
   "cell_type": "code",
   "execution_count": 26,
   "id": "0c06e3f1",
   "metadata": {},
   "outputs": [
    {
     "name": "stdout",
     "output_type": "stream",
     "text": [
      "x is currently at: 0\n",
      " x is lesser than 5 so adding one to it\n",
      "x is currently at: 1\n",
      " x is lesser than 5 so adding one to it\n",
      "x is currently at: 2\n",
      " x is lesser than 5 so adding one to it\n",
      "x is currently at: 3\n",
      " x is lesser than 5 so adding one to it\n",
      "x is currently at: 4\n",
      " x is lesser than 5 so adding one to it\n",
      "Áll done!\n"
     ]
    }
   ],
   "source": [
    "x = 0\n",
    "\n",
    "while x < 5:\n",
    "    print(f'x is currently at: {x}')\n",
    "    print(f' x is lesser than 5 so adding one to it')\n",
    "    x += 1\n",
    "\n",
    "else:\n",
    "    print('Áll done!')"
   ]
  },
  {
   "cell_type": "code",
   "execution_count": 27,
   "id": "9f32b8a4",
   "metadata": {},
   "outputs": [
    {
     "name": "stdout",
     "output_type": "stream",
     "text": [
      "x is currently at: 0\n",
      " x is lesser than 5 so adding one to it\n",
      "x is currently at: 1\n",
      " x is lesser than 5 so adding one to it\n",
      "Breaking it as x equals 2\n"
     ]
    }
   ],
   "source": [
    "x = 0\n",
    "\n",
    "while x < 5:\n",
    "    print(f'x is currently at: {x}')\n",
    "    print(f' x is lesser than 5 so adding one to it')\n",
    "    x += 1\n",
    "    if x == 2:\n",
    "        print('Breaking it as x equals 2')\n",
    "        break"
   ]
  },
  {
   "cell_type": "code",
   "execution_count": 28,
   "id": "6c98faf9",
   "metadata": {},
   "outputs": [
    {
     "name": "stdout",
     "output_type": "stream",
     "text": [
      "x is currently at: 0\n",
      " x is lesser than 5 so adding one to it\n",
      "continuing\n",
      "x is currently at: 1\n",
      " x is lesser than 5 so adding one to it\n",
      "x equals 2\n",
      "x is currently at: 2\n",
      " x is lesser than 5 so adding one to it\n",
      "continuing\n",
      "x is currently at: 3\n",
      " x is lesser than 5 so adding one to it\n",
      "continuing\n",
      "x is currently at: 4\n",
      " x is lesser than 5 so adding one to it\n",
      "continuing\n"
     ]
    }
   ],
   "source": [
    "x = 0\n",
    "\n",
    "while x < 5:\n",
    "    print(f'x is currently at: {x}')\n",
    "    print(f' x is lesser than 5 so adding one to it')\n",
    "    x += 1\n",
    "    if x == 2:\n",
    "        print('x equals 2')\n",
    "    else:\n",
    "        print('continuing')\n",
    "        continue\n",
    "    "
   ]
  },
  {
   "cell_type": "code",
   "execution_count": 29,
   "id": "895b3e77",
   "metadata": {},
   "outputs": [
    {
     "name": "stdout",
     "output_type": "stream",
     "text": [
      "x is currently at: 0\n",
      " x is lesser than 5 so adding one to it\n",
      "continuing\n",
      "x is currently at: 1\n",
      " x is lesser than 5 so adding one to it\n",
      "x equals 2\n"
     ]
    }
   ],
   "source": [
    "x = 0\n",
    "\n",
    "while x < 5:\n",
    "    print(f'x is currently at: {x}')\n",
    "    print(f' x is lesser than 5 so adding one to it')\n",
    "    x += 1\n",
    "    if x == 2:\n",
    "        print('x equals 2')\n",
    "        break\n",
    "    else:\n",
    "        print('continuing')\n",
    "        continue"
   ]
  },
  {
   "cell_type": "code",
   "execution_count": 30,
   "id": "c878e71a",
   "metadata": {},
   "outputs": [
    {
     "data": {
      "text/plain": [
       "[0, 1, 2, 3, 4, 5]"
      ]
     },
     "execution_count": 30,
     "metadata": {},
     "output_type": "execute_result"
    }
   ],
   "source": [
    "list(range(0,6))"
   ]
  },
  {
   "cell_type": "code",
   "execution_count": 31,
   "id": "586ba929",
   "metadata": {},
   "outputs": [
    {
     "data": {
      "text/plain": [
       "[0,\n",
       " 5,\n",
       " 10,\n",
       " 15,\n",
       " 20,\n",
       " 25,\n",
       " 30,\n",
       " 35,\n",
       " 40,\n",
       " 45,\n",
       " 50,\n",
       " 55,\n",
       " 60,\n",
       " 65,\n",
       " 70,\n",
       " 75,\n",
       " 80,\n",
       " 85,\n",
       " 90,\n",
       " 95,\n",
       " 100]"
      ]
     },
     "execution_count": 31,
     "metadata": {},
     "output_type": "execute_result"
    }
   ],
   "source": [
    "list(range(0,101,5))"
   ]
  },
  {
   "cell_type": "code",
   "execution_count": 34,
   "id": "0577bac7",
   "metadata": {},
   "outputs": [
    {
     "name": "stdout",
     "output_type": "stream",
     "text": [
      "Letter S is at index: 0\n",
      "Letter a is at index: 1\n",
      "Letter r is at index: 2\n",
      "Letter a is at index: 3\n",
      "Letter w is at index: 4\n",
      "Letter g is at index: 5\n",
      "Letter i is at index: 6\n"
     ]
    }
   ],
   "source": [
    "for i,letter in enumerate('Sarawgi'):\n",
    "    print(f'Letter {letter} is at index: {i}')"
   ]
  },
  {
   "cell_type": "code",
   "execution_count": 35,
   "id": "9b346687",
   "metadata": {},
   "outputs": [],
   "source": [
    "list1 = ['k','r','i']\n",
    "list2 = [99,18,'May']"
   ]
  },
  {
   "cell_type": "code",
   "execution_count": 37,
   "id": "41e93b7f",
   "metadata": {},
   "outputs": [
    {
     "data": {
      "text/plain": [
       "[('k', 99), ('r', 18), ('i', 'May')]"
      ]
     },
     "execution_count": 37,
     "metadata": {},
     "output_type": "execute_result"
    }
   ],
   "source": [
    "list(zip(list1,list2))"
   ]
  },
  {
   "cell_type": "code",
   "execution_count": 38,
   "id": "7742918c",
   "metadata": {},
   "outputs": [
    {
     "name": "stdout",
     "output_type": "stream",
     "text": [
      "Letter k is at index: 99\n",
      "Letter r is at index: 18\n",
      "Letter i is at index: May\n"
     ]
    }
   ],
   "source": [
    "for k,v in zip(list1,list2):\n",
    "    print(f'Letter {k} is at index: {v}')"
   ]
  },
  {
   "cell_type": "code",
   "execution_count": 39,
   "id": "2d0a707a",
   "metadata": {},
   "outputs": [
    {
     "data": {
      "text/plain": [
       "True"
      ]
     },
     "execution_count": 39,
     "metadata": {},
     "output_type": "execute_result"
    }
   ],
   "source": [
    "'i' in ['k','r','i']"
   ]
  },
  {
   "cell_type": "code",
   "execution_count": 40,
   "id": "2949a063",
   "metadata": {},
   "outputs": [
    {
     "data": {
      "text/plain": [
       "True"
      ]
     },
     "execution_count": 40,
     "metadata": {},
     "output_type": "execute_result"
    }
   ],
   "source": [
    "'i' in list1"
   ]
  },
  {
   "cell_type": "code",
   "execution_count": 41,
   "id": "9ea75c1e",
   "metadata": {},
   "outputs": [
    {
     "data": {
      "text/plain": [
       "False"
      ]
     },
     "execution_count": 41,
     "metadata": {},
     "output_type": "execute_result"
    }
   ],
   "source": [
    "1 in list1"
   ]
  },
  {
   "cell_type": "code",
   "execution_count": 43,
   "id": "cbf1f0ad",
   "metadata": {},
   "outputs": [
    {
     "data": {
      "text/plain": [
       "True"
      ]
     },
     "execution_count": 43,
     "metadata": {},
     "output_type": "execute_result"
    }
   ],
   "source": [
    "'iSara' not in list1"
   ]
  },
  {
   "cell_type": "code",
   "execution_count": 44,
   "id": "33eb29ce",
   "metadata": {},
   "outputs": [
    {
     "data": {
      "text/plain": [
       "False"
      ]
     },
     "execution_count": 44,
     "metadata": {},
     "output_type": "execute_result"
    }
   ],
   "source": [
    "'i' not in list1"
   ]
  },
  {
   "cell_type": "code",
   "execution_count": 46,
   "id": "bbf32f88",
   "metadata": {},
   "outputs": [
    {
     "data": {
      "text/plain": [
       "18"
      ]
     },
     "execution_count": 46,
     "metadata": {},
     "output_type": "execute_result"
    }
   ],
   "source": [
    "list3 = [99,18,32]\n",
    "min(list3)\n"
   ]
  },
  {
   "cell_type": "code",
   "execution_count": 47,
   "id": "f829bffe",
   "metadata": {},
   "outputs": [
    {
     "data": {
      "text/plain": [
       "99"
      ]
     },
     "execution_count": 47,
     "metadata": {},
     "output_type": "execute_result"
    }
   ],
   "source": [
    "max(list3)"
   ]
  },
  {
   "cell_type": "code",
   "execution_count": 48,
   "id": "2c1a46bb",
   "metadata": {},
   "outputs": [],
   "source": [
    "from random import shuffle"
   ]
  },
  {
   "cell_type": "code",
   "execution_count": 49,
   "id": "a92ac7db",
   "metadata": {},
   "outputs": [],
   "source": [
    "shuffle(list3)"
   ]
  },
  {
   "cell_type": "code",
   "execution_count": 51,
   "id": "25a3a017",
   "metadata": {},
   "outputs": [
    {
     "data": {
      "text/plain": [
       "[18, 32, 99]"
      ]
     },
     "execution_count": 51,
     "metadata": {},
     "output_type": "execute_result"
    }
   ],
   "source": [
    "list3"
   ]
  },
  {
   "cell_type": "code",
   "execution_count": 52,
   "id": "87441287",
   "metadata": {},
   "outputs": [],
   "source": [
    "shuffle(list3)"
   ]
  },
  {
   "cell_type": "code",
   "execution_count": 53,
   "id": "d2c1a5cf",
   "metadata": {},
   "outputs": [
    {
     "data": {
      "text/plain": [
       "[18, 99, 32]"
      ]
     },
     "execution_count": 53,
     "metadata": {},
     "output_type": "execute_result"
    }
   ],
   "source": [
    "list3"
   ]
  },
  {
   "cell_type": "code",
   "execution_count": 54,
   "id": "03796d18",
   "metadata": {},
   "outputs": [],
   "source": [
    "from random import randint"
   ]
  },
  {
   "cell_type": "code",
   "execution_count": 55,
   "id": "2012535e",
   "metadata": {},
   "outputs": [
    {
     "data": {
      "text/plain": [
       "67"
      ]
     },
     "execution_count": 55,
     "metadata": {},
     "output_type": "execute_result"
    }
   ],
   "source": [
    "randint(18,99)"
   ]
  },
  {
   "cell_type": "code",
   "execution_count": 56,
   "id": "633ecc3d",
   "metadata": {},
   "outputs": [
    {
     "data": {
      "text/plain": [
       "34"
      ]
     },
     "execution_count": 56,
     "metadata": {},
     "output_type": "execute_result"
    }
   ],
   "source": [
    "randint(18,99)"
   ]
  },
  {
   "cell_type": "code",
   "execution_count": 57,
   "id": "72d4edad",
   "metadata": {},
   "outputs": [
    {
     "name": "stdout",
     "output_type": "stream",
     "text": [
      "Enter your name: Kriti\n"
     ]
    },
    {
     "data": {
      "text/plain": [
       "'Kriti'"
      ]
     },
     "execution_count": 57,
     "metadata": {},
     "output_type": "execute_result"
    }
   ],
   "source": [
    "input('Enter your name: ')"
   ]
  },
  {
   "cell_type": "code",
   "execution_count": 59,
   "id": "e0034b25",
   "metadata": {},
   "outputs": [
    {
     "name": "stdout",
     "output_type": "stream",
     "text": [
      "Enter your age please - 23\n"
     ]
    },
    {
     "data": {
      "text/plain": [
       "'23'"
      ]
     },
     "execution_count": 59,
     "metadata": {},
     "output_type": "execute_result"
    }
   ],
   "source": [
    "input('Enter your age please - ')"
   ]
  },
  {
   "cell_type": "code",
   "execution_count": 60,
   "id": "99587f6a",
   "metadata": {},
   "outputs": [],
   "source": [
    "lst = [x for x in 'KRITI']"
   ]
  },
  {
   "cell_type": "code",
   "execution_count": 62,
   "id": "72d58f6d",
   "metadata": {},
   "outputs": [
    {
     "data": {
      "text/plain": [
       "['K', 'R', 'I', 'T', 'I']"
      ]
     },
     "execution_count": 62,
     "metadata": {},
     "output_type": "execute_result"
    }
   ],
   "source": [
    "lst"
   ]
  },
  {
   "cell_type": "code",
   "execution_count": 65,
   "id": "9c6c4c5d",
   "metadata": {},
   "outputs": [],
   "source": [
    "square = [x**2 for x in range(0,11)]"
   ]
  },
  {
   "cell_type": "code",
   "execution_count": 66,
   "id": "64dc08aa",
   "metadata": {},
   "outputs": [
    {
     "data": {
      "text/plain": [
       "[0, 1, 4, 9, 16, 25, 36, 49, 64, 81, 100]"
      ]
     },
     "execution_count": 66,
     "metadata": {},
     "output_type": "execute_result"
    }
   ],
   "source": [
    "square"
   ]
  },
  {
   "cell_type": "code",
   "execution_count": 67,
   "id": "4a7335a0",
   "metadata": {},
   "outputs": [],
   "source": [
    "even = [x for x in range(0,11) if x % 2 == 0]"
   ]
  },
  {
   "cell_type": "code",
   "execution_count": 68,
   "id": "7977ab12",
   "metadata": {},
   "outputs": [
    {
     "data": {
      "text/plain": [
       "[0, 2, 4, 6, 8, 10]"
      ]
     },
     "execution_count": 68,
     "metadata": {},
     "output_type": "execute_result"
    }
   ],
   "source": [
    "even"
   ]
  },
  {
   "cell_type": "code",
   "execution_count": 69,
   "id": "17c52853",
   "metadata": {},
   "outputs": [],
   "source": [
    "odd = [x for x in range(0,11) if x % 2 != 0]"
   ]
  },
  {
   "cell_type": "code",
   "execution_count": 70,
   "id": "211c30c4",
   "metadata": {},
   "outputs": [
    {
     "data": {
      "text/plain": [
       "[1, 3, 5, 7, 9]"
      ]
     },
     "execution_count": 70,
     "metadata": {},
     "output_type": "execute_result"
    }
   ],
   "source": [
    "odd"
   ]
  },
  {
   "cell_type": "code",
   "execution_count": 71,
   "id": "c1f157d6",
   "metadata": {},
   "outputs": [],
   "source": [
    "celsius = [0,10,20.1,34.5]\n",
    "\n",
    "farhenheit = [((9/5)*temp + 32) for temp in celsius ]"
   ]
  },
  {
   "cell_type": "code",
   "execution_count": 72,
   "id": "91163b78",
   "metadata": {},
   "outputs": [
    {
     "data": {
      "text/plain": [
       "[32.0, 50.0, 68.18, 94.1]"
      ]
     },
     "execution_count": 72,
     "metadata": {},
     "output_type": "execute_result"
    }
   ],
   "source": [
    "farhenheit"
   ]
  },
  {
   "cell_type": "code",
   "execution_count": 73,
   "id": "c4780033",
   "metadata": {},
   "outputs": [],
   "source": [
    "lst = [x*10 for x in [x**2 for x in range(0,11)]]"
   ]
  },
  {
   "cell_type": "code",
   "execution_count": 74,
   "id": "004f5542",
   "metadata": {},
   "outputs": [
    {
     "data": {
      "text/plain": [
       "[0, 10, 40, 90, 160, 250, 360, 490, 640, 810, 1000]"
      ]
     },
     "execution_count": 74,
     "metadata": {},
     "output_type": "execute_result"
    }
   ],
   "source": [
    "lst"
   ]
  },
  {
   "cell_type": "markdown",
   "id": "f65e4f0a",
   "metadata": {},
   "source": [
    "Use for, .split(), and if to create a Statement that will print out words that start with 's':"
   ]
  },
  {
   "cell_type": "code",
   "execution_count": 76,
   "id": "c2bd756a",
   "metadata": {},
   "outputs": [
    {
     "name": "stdout",
     "output_type": "stream",
     "text": [
      "start\n",
      "s\n",
      "sentence\n"
     ]
    }
   ],
   "source": [
    "st = 'Print only the words that start with s in this sentence'\n",
    "\n",
    "for i in st.split():\n",
    "    if i[0] == 's':\n",
    "        print(i)"
   ]
  },
  {
   "cell_type": "markdown",
   "id": "ec00b4e9",
   "metadata": {},
   "source": [
    "Use range() to print all the even numbers from 0 to 10."
   ]
  },
  {
   "cell_type": "code",
   "execution_count": 77,
   "id": "98d565d9",
   "metadata": {},
   "outputs": [
    {
     "data": {
      "text/plain": [
       "[0, 2, 4, 6, 8, 10]"
      ]
     },
     "execution_count": 77,
     "metadata": {},
     "output_type": "execute_result"
    }
   ],
   "source": [
    "list(range(0,11,2))"
   ]
  },
  {
   "cell_type": "markdown",
   "id": "3f028f85",
   "metadata": {},
   "source": [
    "Use a List Comprehension to create a list of all numbers between 1 and 50 that are divisible by 3."
   ]
  },
  {
   "cell_type": "code",
   "execution_count": 78,
   "id": "92ae4c51",
   "metadata": {},
   "outputs": [],
   "source": [
    "lst = [x for x in range(1,51) if x % 3 == 0]"
   ]
  },
  {
   "cell_type": "code",
   "execution_count": 79,
   "id": "4b96c3e7",
   "metadata": {},
   "outputs": [
    {
     "data": {
      "text/plain": [
       "[3, 6, 9, 12, 15, 18, 21, 24, 27, 30, 33, 36, 39, 42, 45, 48]"
      ]
     },
     "execution_count": 79,
     "metadata": {},
     "output_type": "execute_result"
    }
   ],
   "source": [
    "lst"
   ]
  },
  {
   "cell_type": "markdown",
   "id": "4df8fecb",
   "metadata": {},
   "source": [
    "Go through the string below and if the length of a word is even print \"even!\""
   ]
  },
  {
   "cell_type": "code",
   "execution_count": 86,
   "id": "138f259b",
   "metadata": {},
   "outputs": [
    {
     "name": "stdout",
     "output_type": "stream",
     "text": [
      "len of word is even\n",
      "len of in is even\n",
      "len of this is even\n",
      "len of sentence is even\n",
      "len of that is even\n",
      "len of an is even\n",
      "len of even is even\n",
      "len of number is even\n",
      "len of of is even\n"
     ]
    }
   ],
   "source": [
    "st = 'Print every word in this sentence that has an even number of letters'\n",
    "\n",
    "for i in st.split():\n",
    "    if len(i) % 2 == 0:\n",
    "        print(f'len of {i} is even')"
   ]
  },
  {
   "cell_type": "markdown",
   "id": "f8e32d8c",
   "metadata": {},
   "source": [
    "Write a program that prints the integers from 1 to 100. But for multiples of three print \"Fizz\" instead of the number, and for the multiples of five print \"Buzz\". For numbers which are multiples of both three and five print \"FizzBuzz\".}"
   ]
  },
  {
   "cell_type": "code",
   "execution_count": 90,
   "id": "d238bf7d",
   "metadata": {},
   "outputs": [
    {
     "name": "stdout",
     "output_type": "stream",
     "text": [
      "1\n",
      "2\n",
      "Fizz\n",
      "4\n",
      "Buzz\n",
      "Fizz\n",
      "7\n",
      "8\n",
      "Fizz\n",
      "Buzz\n",
      "11\n",
      "Fizz\n",
      "13\n",
      "14\n",
      "FizzBuzz\n",
      "16\n",
      "17\n",
      "Fizz\n",
      "19\n",
      "Buzz\n",
      "Fizz\n",
      "22\n",
      "23\n",
      "Fizz\n",
      "Buzz\n",
      "26\n",
      "Fizz\n",
      "28\n",
      "29\n",
      "FizzBuzz\n",
      "31\n",
      "32\n",
      "Fizz\n",
      "34\n",
      "Buzz\n",
      "Fizz\n",
      "37\n",
      "38\n",
      "Fizz\n",
      "Buzz\n",
      "41\n",
      "Fizz\n",
      "43\n",
      "44\n",
      "FizzBuzz\n",
      "46\n",
      "47\n",
      "Fizz\n",
      "49\n",
      "Buzz\n",
      "Fizz\n",
      "52\n",
      "53\n",
      "Fizz\n",
      "Buzz\n",
      "56\n",
      "Fizz\n",
      "58\n",
      "59\n",
      "FizzBuzz\n",
      "61\n",
      "62\n",
      "Fizz\n",
      "64\n",
      "Buzz\n",
      "Fizz\n",
      "67\n",
      "68\n",
      "Fizz\n",
      "Buzz\n",
      "71\n",
      "Fizz\n",
      "73\n",
      "74\n",
      "FizzBuzz\n",
      "76\n",
      "77\n",
      "Fizz\n",
      "79\n",
      "Buzz\n",
      "Fizz\n",
      "82\n",
      "83\n",
      "Fizz\n",
      "Buzz\n",
      "86\n",
      "Fizz\n",
      "88\n",
      "89\n",
      "FizzBuzz\n",
      "91\n",
      "92\n",
      "Fizz\n",
      "94\n",
      "Buzz\n",
      "Fizz\n",
      "97\n",
      "98\n",
      "Fizz\n",
      "Buzz\n"
     ]
    }
   ],
   "source": [
    "x = 1\n",
    "\n",
    "while x < 101:\n",
    "    if (x % 3 == 0) and (x % 5 == 0):\n",
    "        print('FizzBuzz')\n",
    "    elif (x % 3 == 0):\n",
    "        print('Fizz')\n",
    "    elif (x % 5 == 0):\n",
    "        print('Buzz')\n",
    "    else:\n",
    "        print(x)\n",
    "    x += 1"
   ]
  },
  {
   "cell_type": "markdown",
   "id": "3f301e2a",
   "metadata": {},
   "source": [
    "Use List Comprehension to create a list of the first letters of every word in the string below:"
   ]
  },
  {
   "cell_type": "code",
   "execution_count": 95,
   "id": "c74cf3e5",
   "metadata": {},
   "outputs": [
    {
     "name": "stdout",
     "output_type": "stream",
     "text": [
      "C\n",
      "a\n",
      "l\n",
      "o\n",
      "t\n",
      "f\n",
      "l\n",
      "o\n",
      "e\n",
      "w\n",
      "i\n",
      "t\n",
      "s\n"
     ]
    }
   ],
   "source": [
    "st = 'Create a list of the first letters of every word in this string'\n",
    "for i in st.split():\n",
    "    print(i[0])"
   ]
  },
  {
   "cell_type": "code",
   "execution_count": 98,
   "id": "cf152aa0",
   "metadata": {},
   "outputs": [
    {
     "data": {
      "text/plain": [
       "['C', 'a', 'l', 'o', 't', 'f', 'l', 'o', 'e', 'w', 'i', 't', 's']"
      ]
     },
     "execution_count": 98,
     "metadata": {},
     "output_type": "execute_result"
    }
   ],
   "source": [
    "lst = [x[0] for x in st.split()]\n",
    "lst"
   ]
  },
  {
   "cell_type": "code",
   "execution_count": null,
   "id": "337200d0",
   "metadata": {},
   "outputs": [],
   "source": []
  }
 ],
 "metadata": {
  "kernelspec": {
   "display_name": "Python 3",
   "language": "python",
   "name": "python3"
  },
  "language_info": {
   "codemirror_mode": {
    "name": "ipython",
    "version": 3
   },
   "file_extension": ".py",
   "mimetype": "text/x-python",
   "name": "python",
   "nbconvert_exporter": "python",
   "pygments_lexer": "ipython3",
   "version": "3.8.8"
  }
 },
 "nbformat": 4,
 "nbformat_minor": 5
}
