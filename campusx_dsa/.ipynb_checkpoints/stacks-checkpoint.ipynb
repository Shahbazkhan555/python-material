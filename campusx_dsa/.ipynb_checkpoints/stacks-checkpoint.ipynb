{
 "cells": [
  {
   "cell_type": "markdown",
   "id": "a2d29aa8",
   "metadata": {},
   "source": [
    "# Stacks"
   ]
  },
  {
   "cell_type": "markdown",
   "id": "84ef2542",
   "metadata": {},
   "source": [
    "#### stacks is a datastructure which uses a technique called LIFO (Last in First Out). it can be construct using LinkedList or Array."
   ]
  },
  {
   "cell_type": "markdown",
   "id": "7c58726d",
   "metadata": {},
   "source": [
    "#### operations in Stackts\n",
    "1. Push => adding element on the top\n",
    "2. Pop => removing element from the top\n",
    "3. Peak => what is the top element\n",
    "4. Isempty => whether stack is empty or not\n",
    "5. size => number of item in Stack"
   ]
  },
  {
   "cell_type": "markdown",
   "id": "74c36586",
   "metadata": {},
   "source": [
    "### Implementing in Stack using LinkedList"
   ]
  },
  {
   "cell_type": "code",
   "execution_count": 88,
   "id": "807dfe85",
   "metadata": {},
   "outputs": [],
   "source": [
    "class Node:\n",
    "    def __init__(self,data):\n",
    "        self.data = data\n",
    "        self.next = None\n",
    "        \n",
    "        \n",
    "class Stack:\n",
    "    \n",
    "    def __init__(self):\n",
    "        self.top = None\n",
    "    \n",
    "    def traverse(self):\n",
    "        n = self.top\n",
    "        while n != None:\n",
    "            print(n.data)\n",
    "            n = n.next\n",
    "            \n",
    "    def push(self,data):\n",
    "        new_node = Node(data)\n",
    "        new_node.next = self.top\n",
    "        self.top = new_node\n",
    "    \n",
    "    def isEmpty(self):\n",
    "        return self.top == None\n",
    "    \n",
    "    def peek(self):\n",
    "        if self.isEmpty():\n",
    "            return \"Stack is empty\"\n",
    "        return self.top.data\n",
    "    \n",
    "    def pop(self):\n",
    "        if self.top == None:\n",
    "            print(\"Stack is empty\")\n",
    "        self.top = self.top.next\n",
    "        \n",
    "    def size(self):\n",
    "        n = self.top\n",
    "        counter = 0\n",
    "        while n != None:\n",
    "            counter += 1\n",
    "            n = n.next\n",
    "        return counter"
   ]
  },
  {
   "cell_type": "code",
   "execution_count": null,
   "id": "d9d37d0c",
   "metadata": {},
   "outputs": [],
   "source": []
  },
  {
   "cell_type": "code",
   "execution_count": 89,
   "id": "3ebe8e77",
   "metadata": {},
   "outputs": [],
   "source": [
    "s = Stack()"
   ]
  },
  {
   "cell_type": "code",
   "execution_count": 91,
   "id": "56002d54",
   "metadata": {},
   "outputs": [
    {
     "data": {
      "text/plain": [
       "True"
      ]
     },
     "execution_count": 91,
     "metadata": {},
     "output_type": "execute_result"
    }
   ],
   "source": [
    "s.isEmpty()"
   ]
  },
  {
   "cell_type": "code",
   "execution_count": 92,
   "id": "72db1ade",
   "metadata": {},
   "outputs": [],
   "source": [
    "s.push(3)\n",
    "s.push(4)\n",
    "s.push(5)"
   ]
  },
  {
   "cell_type": "code",
   "execution_count": 93,
   "id": "0e7f98e1",
   "metadata": {},
   "outputs": [
    {
     "data": {
      "text/plain": [
       "False"
      ]
     },
     "execution_count": 93,
     "metadata": {},
     "output_type": "execute_result"
    }
   ],
   "source": [
    "s.isEmpty()"
   ]
  },
  {
   "cell_type": "code",
   "execution_count": 85,
   "id": "65290b62",
   "metadata": {},
   "outputs": [
    {
     "name": "stdout",
     "output_type": "stream",
     "text": [
      "5 4 3 "
     ]
    }
   ],
   "source": [
    "s.traverse()"
   ]
  },
  {
   "cell_type": "code",
   "execution_count": null,
   "id": "9d5a73d2",
   "metadata": {},
   "outputs": [],
   "source": []
  },
  {
   "cell_type": "code",
   "execution_count": 86,
   "id": "db52a1b3",
   "metadata": {},
   "outputs": [
    {
     "data": {
      "text/plain": [
       "5"
      ]
     },
     "execution_count": 86,
     "metadata": {},
     "output_type": "execute_result"
    }
   ],
   "source": [
    "s.peek()"
   ]
  },
  {
   "cell_type": "code",
   "execution_count": 77,
   "id": "db39bd7d",
   "metadata": {},
   "outputs": [],
   "source": [
    "s.pop()"
   ]
  },
  {
   "cell_type": "code",
   "execution_count": 87,
   "id": "46865f69",
   "metadata": {},
   "outputs": [
    {
     "data": {
      "text/plain": [
       "<bound method Stack.traverse of <__main__.Stack object at 0x0000024CE2BE5DC0>>"
      ]
     },
     "execution_count": 87,
     "metadata": {},
     "output_type": "execute_result"
    }
   ],
   "source": [
    "s.traverse"
   ]
  },
  {
   "cell_type": "code",
   "execution_count": null,
   "id": "72db0e1b",
   "metadata": {},
   "outputs": [],
   "source": []
  }
 ],
 "metadata": {
  "kernelspec": {
   "display_name": "Python 3",
   "language": "python",
   "name": "python3"
  },
  "language_info": {
   "codemirror_mode": {
    "name": "ipython",
    "version": 3
   },
   "file_extension": ".py",
   "mimetype": "text/x-python",
   "name": "python",
   "nbconvert_exporter": "python",
   "pygments_lexer": "ipython3",
   "version": "3.8.8"
  }
 },
 "nbformat": 4,
 "nbformat_minor": 5
}
