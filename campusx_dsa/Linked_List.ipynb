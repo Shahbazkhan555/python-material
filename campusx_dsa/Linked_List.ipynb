{
 "cells": [
  {
   "cell_type": "code",
   "execution_count": 1,
   "metadata": {
    "id": "3IdNglXYQi7z"
   },
   "outputs": [],
   "source": [
    "class Node:\n",
    "\n",
    "    def __init__(self,value):\n",
    "        self.data = value\n",
    "        self.next = None"
   ]
  },
  {
   "cell_type": "code",
   "execution_count": 2,
   "metadata": {
    "id": "_zNaH474Q840"
   },
   "outputs": [],
   "source": [
    "a = Node(1)\n",
    "b = Node(2)\n",
    "c = Node(3)"
   ]
  },
  {
   "cell_type": "code",
   "execution_count": 3,
   "metadata": {
    "colab": {
     "base_uri": "https://localhost:8080/"
    },
    "id": "h6ilPlrARD4_",
    "outputId": "e2379320-b1b9-4700-df0d-7ea957c3a6b8"
   },
   "outputs": [
    {
     "name": "stdout",
     "output_type": "stream",
     "text": [
      "3\n"
     ]
    }
   ],
   "source": [
    "print(c.data)"
   ]
  },
  {
   "cell_type": "code",
   "execution_count": 4,
   "metadata": {
    "id": "P7uiJH95RJBg"
   },
   "outputs": [],
   "source": [
    "a.next = b\n",
    "b.next = c"
   ]
  },
  {
   "cell_type": "code",
   "execution_count": 5,
   "metadata": {
    "colab": {
     "base_uri": "https://localhost:8080/"
    },
    "id": "HHST4ARXRnC0",
    "outputId": "3d6d2278-93c5-467f-fa88-c767aa4149a1"
   },
   "outputs": [
    {
     "name": "stdout",
     "output_type": "stream",
     "text": [
      "None\n"
     ]
    }
   ],
   "source": [
    "print(c.next)"
   ]
  },
  {
   "cell_type": "code",
   "execution_count": 6,
   "metadata": {
    "colab": {
     "base_uri": "https://localhost:8080/"
    },
    "id": "uEZs2eLQR7Xf",
    "outputId": "944a8020-c2fa-448d-b5f2-0f624385f7ff"
   },
   "outputs": [
    {
     "data": {
      "text/plain": [
       "140592106307024"
      ]
     },
     "execution_count": 6,
     "metadata": {},
     "output_type": "execute_result"
    }
   ],
   "source": [
    "int(0x7fde268dfdd0)"
   ]
  },
  {
   "cell_type": "code",
   "execution_count": 7,
   "metadata": {
    "id": "5iNlAQR3R91c"
   },
   "outputs": [],
   "source": [
    "class Node:\n",
    "\n",
    "    def __init__(self,value):\n",
    "        self.data = value\n",
    "        self.next = None"
   ]
  },
  {
   "cell_type": "code",
   "execution_count": 8,
   "metadata": {
    "id": "RzuzauLNScVg"
   },
   "outputs": [],
   "source": [
    "class LinkedList:\n",
    "\n",
    "    def __init__(self):\n",
    "\n",
    "        # Empty Linked List\n",
    "        self.head = None\n",
    "        # no of nodes in the LL\n",
    "        self.n = 0\n",
    "\n",
    "    def __len__(self):\n",
    "        return self.n\n",
    "\n",
    "    def insert_head(self,value):\n",
    "\n",
    "        # new node\n",
    "        new_node = Node(value)\n",
    "\n",
    "        # create connection\n",
    "        new_node.next = self.head\n",
    "\n",
    "        # reassign head\n",
    "        self.head = new_node\n",
    "\n",
    "        # increment n\n",
    "        self.n = self.n + 1\n",
    "\n",
    "    def __str__(self):\n",
    "\n",
    "        curr = self.head\n",
    "\n",
    "        result = ''\n",
    "\n",
    "        while curr != None:\n",
    "            result = result + str(curr.data) + '->'\n",
    "            curr = curr.next\n",
    "\n",
    "        return result[:-2]\n",
    "\n",
    "    def append(self,value):\n",
    "\n",
    "        new_node = Node(value)\n",
    "\n",
    "        if self.head == None:\n",
    "          # empty\n",
    "            self.head = new_node\n",
    "            self.n = self.n + 1\n",
    "            return\n",
    "\n",
    "        curr = self.head\n",
    "\n",
    "        while curr.next != None:\n",
    "            curr = curr.next\n",
    "\n",
    "        # you are at the last node\n",
    "        curr.next = new_node\n",
    "        self.n = self.n + 1\n",
    "\n",
    "    def insert_after(self,after,value):\n",
    "\n",
    "        new_node = Node(value)\n",
    "\n",
    "        curr = self.head\n",
    "\n",
    "        while curr != None:\n",
    "            if curr.data == after:\n",
    "                break\n",
    "            curr = curr.next\n",
    "\n",
    "        if curr != None:\n",
    "            new_node.next = curr.next\n",
    "            curr.next = new_node\n",
    "            self.n = self.n + 1\n",
    "        else:\n",
    "            return 'Item not found'\n",
    "\n",
    "    def clear(self):\n",
    "        self.head = None\n",
    "        self.n = 0\n",
    "\n",
    "    def delete_head(self):\n",
    "\n",
    "        if self.head == None:\n",
    "            # empty\n",
    "            return 'Empty LL'\n",
    "\n",
    "        self.head = self.head.next\n",
    "        self.n = self.n - 1\n",
    "\n",
    "    def pop(self):\n",
    "\n",
    "        if self.head == None:\n",
    "            # empty\n",
    "            return 'Empty LL'\n",
    "\n",
    "        curr = self.head\n",
    "\n",
    "        # kya linked list me 1 item hai?\n",
    "        if curr.next == None:\n",
    "            # head hi hoga(delete from head)\n",
    "            return self.delete_head()\n",
    "\n",
    "\n",
    "        while curr.next.next != None:\n",
    "            curr = curr.next\n",
    "\n",
    "        # curr -> 2nd last node\n",
    "        curr.next = None\n",
    "        self.n = self.n - 1\n",
    "\n",
    "    def remove(self,value):\n",
    "\n",
    "        if self.head == None:\n",
    "            return 'Empty LL'\n",
    "\n",
    "        if self.head.data == value:\n",
    "            # you want to remove the head node\n",
    "            return self.delete_head()\n",
    "\n",
    "        curr = self.head\n",
    "\n",
    "        while curr.next != None:\n",
    "            if curr.next.data == value:\n",
    "                break\n",
    "            curr = curr.next\n",
    "\n",
    "        # 2 cases item mil gaya\n",
    "        # item nai mila\n",
    "        if curr.next == None:\n",
    "            # item nai mila\n",
    "            return 'Not Found'\n",
    "        else:\n",
    "            curr.next = curr.next.next\n",
    "            self.n = self.n - 1\n",
    "            \n",
    "    def search(self,item):\n",
    "\n",
    "        curr = self.head\n",
    "        pos = 0\n",
    "\n",
    "        while curr != None:\n",
    "            if curr.data == item:\n",
    "                return pos\n",
    "            curr = curr.next\n",
    "            pos = pos + 1\n",
    "\n",
    "        return 'Not Found'\n",
    "\n",
    "    def __getitem__(self,index):\n",
    "\n",
    "        curr = self.head\n",
    "        pos = 0\n",
    "\n",
    "        while curr != None:\n",
    "            if pos == index:\n",
    "                return curr.data\n",
    "            curr = curr.next\n",
    "            pos = pos + 1\n",
    "\n",
    "        return 'IndexError'\n",
    "\n",
    "\n",
    "    \n",
    "\n",
    "    \n",
    "\n",
    "    "
   ]
  },
  {
   "cell_type": "code",
   "execution_count": 9,
   "metadata": {
    "id": "gWf5rFdZS-3p"
   },
   "outputs": [],
   "source": [
    "L = LinkedList()"
   ]
  },
  {
   "cell_type": "code",
   "execution_count": 10,
   "metadata": {
    "id": "Z5yMPIzQTCZr"
   },
   "outputs": [],
   "source": [
    "L.insert_head(1)\n",
    "L.append(2)\n",
    "L.append(3)\n",
    "L.delete_head()\n",
    "L.insert_head(4)"
   ]
  },
  {
   "cell_type": "code",
   "execution_count": 11,
   "metadata": {
    "colab": {
     "base_uri": "https://localhost:8080/"
    },
    "id": "4HQ9RdjSTEhX",
    "outputId": "65cf9986-4a61-418b-b0fe-814b286b5224"
   },
   "outputs": [
    {
     "name": "stdout",
     "output_type": "stream",
     "text": [
      "4->2->3\n"
     ]
    }
   ],
   "source": [
    "print(L)"
   ]
  },
  {
   "cell_type": "code",
   "execution_count": 12,
   "metadata": {
    "colab": {
     "base_uri": "https://localhost:8080/",
     "height": 35
    },
    "id": "YbwkHMAJVH0Y",
    "outputId": "17e981b8-26f5-4cb0-94f4-0f407c41005f"
   },
   "outputs": [
    {
     "data": {
      "text/plain": [
       "'IndexError'"
      ]
     },
     "execution_count": 12,
     "metadata": {},
     "output_type": "execute_result"
    }
   ],
   "source": [
    "L[4]"
   ]
  },
  {
   "cell_type": "code",
   "execution_count": 13,
   "metadata": {
    "colab": {
     "base_uri": "https://localhost:8080/"
    },
    "id": "Sgp2ql-PYYJw",
    "outputId": "3355ea8e-5f0f-4021-ffed-d1487fc72a7e"
   },
   "outputs": [
    {
     "name": "stdout",
     "output_type": "stream",
     "text": [
      "4->2->3\n"
     ]
    }
   ],
   "source": [
    "print(L)"
   ]
  },
  {
   "cell_type": "markdown",
   "metadata": {},
   "source": [
    "#### difference between Array and LinkedList"
   ]
  },
  {
   "cell_type": "markdown",
   "metadata": {},
   "source": [
    "1. Array => deleting and inserting is O(n) => Used for read heavy\n",
    "2. LinkedList => traversing and indexing O(n) => Used for write heavy\n"
   ]
  },
  {
   "cell_type": "markdown",
   "metadata": {
    "id": "3Ur3zrkDcoiI"
   },
   "source": [
    "##### 1. Write a function where head and it's next reference is given to it. print the number 1234321 if linkedlist contains 12345 only"
   ]
  },
  {
   "cell_type": "code",
   "execution_count": null,
   "metadata": {},
   "outputs": [],
   "source": [
    "def func(head):\n",
    "    if head == None:\n",
    "        return\n",
    "    if head.next.next != None:\n",
    "        print(head.data, end=\" \")\n",
    "        func(head.next)\n",
    "    print(head.data, end=\" \")"
   ]
  },
  {
   "cell_type": "code",
   "execution_count": null,
   "metadata": {},
   "outputs": [],
   "source": []
  },
  {
   "cell_type": "markdown",
   "metadata": {},
   "source": [
    "#### 2. Write a python program to replace a maximum value in a linked list with the given value"
   ]
  },
  {
   "cell_type": "code",
   "execution_count": 30,
   "metadata": {},
   "outputs": [],
   "source": [
    "class Node:\n",
    "    def __init__(self,data):\n",
    "        self.data = data\n",
    "        self.next = None\n",
    "class LinkedList:\n",
    "    def __init__(self):\n",
    "        self.head = None\n",
    "    def printLL(self):\n",
    "        if self.head == None:\n",
    "            print(\"LinkedList is empty\")\n",
    "        else:\n",
    "            n = self.head\n",
    "            while n != None:\n",
    "                print(n.data, \" \", end=\" \")\n",
    "                n = n.next\n",
    "    def add_begin(self,data):\n",
    "        new_node = Node(data)\n",
    "        new_node.next = self.head\n",
    "        self.head = new_node\n",
    "        \n",
    "    def replace_by_value(self,data):\n",
    "        max = self.head\n",
    "        n = self.head\n",
    "        while n != None:\n",
    "            if n.data > max.data:\n",
    "                max = n\n",
    "            n = n.next\n",
    "        max.data = data\n",
    "        "
   ]
  },
  {
   "cell_type": "code",
   "execution_count": 31,
   "metadata": {},
   "outputs": [],
   "source": [
    "LL = LinkedList()"
   ]
  },
  {
   "cell_type": "code",
   "execution_count": 32,
   "metadata": {},
   "outputs": [],
   "source": [
    "LL.add_begin(1)\n",
    "LL.add_begin(2)"
   ]
  },
  {
   "cell_type": "code",
   "execution_count": 33,
   "metadata": {},
   "outputs": [
    {
     "name": "stdout",
     "output_type": "stream",
     "text": [
      "4   3   2   1   "
     ]
    }
   ],
   "source": [
    "LL.add_begin(3)\n",
    "LL.add_begin(4)\n",
    "LL.printLL()"
   ]
  },
  {
   "cell_type": "code",
   "execution_count": 36,
   "metadata": {},
   "outputs": [],
   "source": [
    "LL.replace_by_value(6)"
   ]
  },
  {
   "cell_type": "code",
   "execution_count": 37,
   "metadata": {},
   "outputs": [
    {
     "name": "stdout",
     "output_type": "stream",
     "text": [
      "6   3   2   1   "
     ]
    }
   ],
   "source": [
    "LL.printLL()"
   ]
  },
  {
   "cell_type": "markdown",
   "metadata": {},
   "source": [
    "#### 3. Sum all the items in the odd index position in the LinkedList"
   ]
  },
  {
   "cell_type": "code",
   "execution_count": 41,
   "metadata": {},
   "outputs": [],
   "source": [
    "class Node:\n",
    "    def __init__(self,data):\n",
    "        self.data = data\n",
    "        self.next = None\n",
    "class LinkedList:\n",
    "    def __init__(self):\n",
    "        self.head = None\n",
    "    def printLL(self):\n",
    "        if self.head == None:\n",
    "            print(\"LinkedList is empty\")\n",
    "        else:\n",
    "            n = self.head\n",
    "            while n != None:\n",
    "                print(n.data, \" \", end=\" \")\n",
    "                n = n.next\n",
    "    def add_begin(self,data):\n",
    "        new_node = Node(data)\n",
    "        new_node.next = self.head\n",
    "        self.head = new_node\n",
    "        \n",
    "    def sum_odd(self):\n",
    "        n = self.head\n",
    "        counter = 0\n",
    "        result = 0\n",
    "        while n != None:\n",
    "            if counter % 2 != 0:\n",
    "                result = result + n.data\n",
    "            counter += 1\n",
    "            n = n.next\n",
    "        return result"
   ]
  },
  {
   "cell_type": "code",
   "execution_count": 44,
   "metadata": {},
   "outputs": [
    {
     "name": "stdout",
     "output_type": "stream",
     "text": [
      "5   3   2   10   "
     ]
    }
   ],
   "source": [
    "LL = LinkedList()\n",
    "LL.add_begin(10)\n",
    "LL.add_begin(2)\n",
    "LL.add_begin(3)\n",
    "LL.add_begin(5)\n",
    "LL.printLL()"
   ]
  },
  {
   "cell_type": "code",
   "execution_count": 45,
   "metadata": {},
   "outputs": [
    {
     "data": {
      "text/plain": [
       "13"
      ]
     },
     "execution_count": 45,
     "metadata": {},
     "output_type": "execute_result"
    }
   ],
   "source": [
    "LL.sum_odd()"
   ]
  },
  {
   "cell_type": "markdown",
   "metadata": {},
   "source": [
    "#### 4. Write a python program to reverse a LinkedList containing integer data (inplace reversal)"
   ]
  },
  {
   "cell_type": "code",
   "execution_count": 5,
   "metadata": {},
   "outputs": [],
   "source": [
    "class Node:\n",
    "    def __init__(self,data):\n",
    "        self.data = data\n",
    "        self.next = None\n",
    "class LinkedList:\n",
    "    def __init__(self):\n",
    "        self.head = None\n",
    "    def printLL(self):\n",
    "        if self.head == None:\n",
    "            print(\"LinkedList is empty\")\n",
    "        else:\n",
    "            n = self.head\n",
    "            while n!= None:\n",
    "                print(n.data, end=\" \")\n",
    "                n = n.next\n",
    "    def add_begin(self,data):\n",
    "        new_node = Node(data)\n",
    "        new_node.next = self.head\n",
    "        self.head = new_node\n",
    "        \n",
    "    def reverseLL(self):\n",
    "        prev_node = None\n",
    "        curr_node = self.head\n",
    "        \n",
    "        while curr_node != None:\n",
    "            # changing the node reference\n",
    "            next_node = curr_node.next\n",
    "            curr_node.next = prev_node\n",
    "            # incrementing prev and curr nodes\n",
    "            prev_node = curr_node\n",
    "            curr_node = next_node\n",
    "        \n",
    "        # prev_node having the value of curr_node hence making this as a head node\n",
    "        self.head = prev_node"
   ]
  },
  {
   "cell_type": "code",
   "execution_count": 6,
   "metadata": {},
   "outputs": [
    {
     "name": "stdout",
     "output_type": "stream",
     "text": [
      "7 5 3 "
     ]
    }
   ],
   "source": [
    "LL = LinkedList()\n",
    "LL.add_begin(3)\n",
    "LL.add_begin(5)\n",
    "LL.add_begin(7)\n",
    "LL.printLL()"
   ]
  },
  {
   "cell_type": "code",
   "execution_count": 7,
   "metadata": {},
   "outputs": [],
   "source": [
    "LL.reverseLL()"
   ]
  },
  {
   "cell_type": "code",
   "execution_count": 8,
   "metadata": {},
   "outputs": [
    {
     "name": "stdout",
     "output_type": "stream",
     "text": [
      "3 5 7 "
     ]
    }
   ],
   "source": [
    "LL.printLL()"
   ]
  },
  {
   "cell_type": "code",
   "execution_count": 67,
   "metadata": {},
   "outputs": [],
   "source": [
    "# just printing the node reversely\n",
    "\n",
    "class Node:\n",
    "    def __init__(self,data):\n",
    "        self.data = data\n",
    "        self.next = None\n",
    "class LinkedList:\n",
    "    def __init__(self):\n",
    "        self.head = None\n",
    "    def printLL(self):\n",
    "        if self.head == None:\n",
    "            print(\"LinkedList is empty\")\n",
    "        else:\n",
    "            n = self.head\n",
    "            while n!= None:\n",
    "                print(n.data, end=\" \")\n",
    "                n = n.next\n",
    "    def add_begin(self,data):\n",
    "        new_node = Node(data)\n",
    "        new_node.next = self.head\n",
    "        self.head = new_node\n",
    "        \n",
    "    def reverseLL(self):\n",
    "        if self.head == None:\n",
    "            print(\"LL is empty\")\n",
    "        result = \"\"\n",
    "        n = self.head\n",
    "        while n!= None:\n",
    "            result = str(n.data) +\" \"+ result\n",
    "            n = n.next\n",
    "        return result"
   ]
  },
  {
   "cell_type": "code",
   "execution_count": 68,
   "metadata": {},
   "outputs": [
    {
     "name": "stdout",
     "output_type": "stream",
     "text": [
      "7 5 3 "
     ]
    }
   ],
   "source": [
    "LL = LinkedList()\n",
    "LL.add_begin(3)\n",
    "LL.add_begin(5)\n",
    "LL.add_begin(7)\n",
    "LL.printLL()"
   ]
  },
  {
   "cell_type": "code",
   "execution_count": 69,
   "metadata": {},
   "outputs": [
    {
     "data": {
      "text/plain": [
       "'3 5 7 '"
      ]
     },
     "execution_count": 69,
     "metadata": {},
     "output_type": "execute_result"
    }
   ],
   "source": [
    "LL.reverseLL()"
   ]
  },
  {
   "cell_type": "markdown",
   "metadata": {},
   "source": [
    "#### 5. String pattern problem, remove the all the special characters or non alphanumeric and capitalize first letter of every words.\n",
    "1. Rule1 => replace * or / by a single space\n",
    "2. Rule2 => incase of two consequtive occurence of * and / replace those occurence with singel space and convert the next character to upper case\n",
    "3. Assumption => assume that there will not be any consequtive occurences of * or / and linkedlist will always end with an alphabet"
   ]
  },
  {
   "cell_type": "code",
   "execution_count": 106,
   "metadata": {},
   "outputs": [],
   "source": [
    "class Node:\n",
    "    def __init__(self,data):\n",
    "        self.data = data\n",
    "        self.next = None\n",
    "class LinkedList:\n",
    "    def __init__(self):\n",
    "        self.head = None\n",
    "    def printLL(self):\n",
    "        if self.head == None:\n",
    "            print(\"LinkedList is empty\")\n",
    "        else:\n",
    "            n = self.head\n",
    "            while n!= None:\n",
    "                print(n.data, end=\" \")\n",
    "                n = n.next\n",
    "    def add_begin(self,data):\n",
    "        new_node = Node(data)\n",
    "        new_node.next = self.head\n",
    "        self.head = new_node\n",
    "        \n",
    "    def reverseLL(self):\n",
    "        prev_node = None\n",
    "        curr_node = self.head\n",
    "\n",
    "        while curr_node != None:\n",
    "            # changing the node reference\n",
    "            next_node = curr_node.next\n",
    "            curr_node.next = prev_node\n",
    "            # incrementing prev and curr nodes\n",
    "            prev_node = curr_node\n",
    "            curr_node = next_node\n",
    "\n",
    "        # prev_node having the value of curr_node hence making this as a head node\n",
    "        self.head = prev_node\n",
    "        \n",
    "    def change_sent(self):\n",
    "        temp = self.head\n",
    "        while temp != None:\n",
    "            if temp.data == \"/\" or temp.data == \"*\":\n",
    "                temp.data = \" \"\n",
    "                if temp.next.data == \"/\" or temp.next.data == \"*\":\n",
    "                    temp.next.next.data = temp.next.next.data.upper()\n",
    "                    temp.next = temp.next.next\n",
    "            temp = temp.next\n",
    "        "
   ]
  },
  {
   "cell_type": "code",
   "execution_count": 113,
   "metadata": {},
   "outputs": [],
   "source": [
    "word_list = LinkedList()\n",
    "word_list.add_begin(\"T\")\n",
    "word_list.add_begin(\"h\")\n",
    "word_list.add_begin(\"e\")\n",
    "word_list.add_begin(\"/\")\n",
    "word_list.add_begin(\"*\")\n",
    "word_list.add_begin(\"s\")\n",
    "word_list.add_begin(\"k\")\n",
    "word_list.add_begin(\"y\")\n",
    "word_list.add_begin(\"*\")\n",
    "word_list.add_begin(\"i\")\n",
    "word_list.add_begin(\"s\")\n",
    "word_list.add_begin(\"/\")\n",
    "word_list.add_begin(\"/\")\n",
    "word_list.add_begin(\"b\")\n",
    "word_list.add_begin(\"l\")\n",
    "word_list.add_begin(\"u\")\n",
    "word_list.add_begin(\"e\")"
   ]
  },
  {
   "cell_type": "code",
   "execution_count": 114,
   "metadata": {},
   "outputs": [
    {
     "name": "stdout",
     "output_type": "stream",
     "text": [
      "e u l b / / s i * y k s * / e h T "
     ]
    }
   ],
   "source": [
    "word_list.printLL()"
   ]
  },
  {
   "cell_type": "code",
   "execution_count": 115,
   "metadata": {},
   "outputs": [],
   "source": [
    "word_list.reverseLL()"
   ]
  },
  {
   "cell_type": "code",
   "execution_count": 116,
   "metadata": {},
   "outputs": [
    {
     "name": "stdout",
     "output_type": "stream",
     "text": [
      "T h e / * s k y * i s / / b l u e "
     ]
    }
   ],
   "source": [
    "word_list.printLL()"
   ]
  },
  {
   "cell_type": "code",
   "execution_count": 117,
   "metadata": {},
   "outputs": [],
   "source": [
    "word_list.change_sent()"
   ]
  },
  {
   "cell_type": "code",
   "execution_count": 118,
   "metadata": {},
   "outputs": [
    {
     "name": "stdout",
     "output_type": "stream",
     "text": [
      "T h e   S k y   i s   B l u e "
     ]
    }
   ],
   "source": [
    "word_list.printLL()"
   ]
  },
  {
   "cell_type": "markdown",
   "metadata": {},
   "source": [
    "#### 6. Remove duplicates from from a sorted LinkedList(AlgoExpert)"
   ]
  },
  {
   "cell_type": "code",
   "execution_count": 126,
   "metadata": {},
   "outputs": [],
   "source": [
    "class Node:\n",
    "    def __init__(self,data):\n",
    "        self.data = data\n",
    "        self.next = None\n",
    "class LinkedList:\n",
    "    def __init__(self):\n",
    "        self.head = None\n",
    "    def printLL(self):\n",
    "        if self.head == None:\n",
    "            print(\"LinkedList is empty\")\n",
    "        else:\n",
    "            n = self.head\n",
    "            while n!= None:\n",
    "                print(n.data, end=\" \")\n",
    "                n = n.next\n",
    "    def add_begin(self,data):\n",
    "        new_node = Node(data)\n",
    "        new_node.next = self.head\n",
    "        self.head = new_node\n",
    "        \n",
    "    def remove_duplicates(self):\n",
    "        temp = self.head\n",
    "        while temp.next != None:\n",
    "            if temp.data == temp.next.data:\n",
    "                temp.next = temp.next.next\n",
    "            else:\n",
    "                temp = temp.next\n",
    "        "
   ]
  },
  {
   "cell_type": "code",
   "execution_count": 127,
   "metadata": {},
   "outputs": [
    {
     "name": "stdout",
     "output_type": "stream",
     "text": [
      "3 2 2 1 "
     ]
    }
   ],
   "source": [
    "LL = LinkedList()\n",
    "LL.add_begin(1)\n",
    "LL.add_begin(2)\n",
    "LL.add_begin(2)\n",
    "LL.add_begin(3)\n",
    "LL.printLL()"
   ]
  },
  {
   "cell_type": "code",
   "execution_count": 128,
   "metadata": {},
   "outputs": [],
   "source": [
    "LL.remove_duplicates()"
   ]
  },
  {
   "cell_type": "code",
   "execution_count": 129,
   "metadata": {},
   "outputs": [
    {
     "name": "stdout",
     "output_type": "stream",
     "text": [
      "3 2 1 "
     ]
    }
   ],
   "source": [
    "LL.printLL()"
   ]
  },
  {
   "cell_type": "code",
   "execution_count": null,
   "metadata": {},
   "outputs": [],
   "source": []
  }
 ],
 "metadata": {
  "colab": {
   "provenance": []
  },
  "kernelspec": {
   "display_name": "Python 3",
   "language": "python",
   "name": "python3"
  },
  "language_info": {
   "codemirror_mode": {
    "name": "ipython",
    "version": 3
   },
   "file_extension": ".py",
   "mimetype": "text/x-python",
   "name": "python",
   "nbconvert_exporter": "python",
   "pygments_lexer": "ipython3",
   "version": "3.8.8"
  }
 },
 "nbformat": 4,
 "nbformat_minor": 1
}
