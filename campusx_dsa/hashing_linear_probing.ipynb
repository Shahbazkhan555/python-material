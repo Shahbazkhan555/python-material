{
 "cells": [
  {
   "cell_type": "markdown",
   "id": "612f7c68",
   "metadata": {},
   "source": [
    "# Linear Probing\n",
    "### Note: we can do Quadratic Probing too with the same approach we just need modify a little rehash_function"
   ]
  },
  {
   "cell_type": "markdown",
   "id": "eb186e7d",
   "metadata": {},
   "source": [
    "### Operations to be perform \n",
    "1. PUT - pushing item(keys, values) inside the arrays\n",
    "2. GET - pulling item from the arrays\n",
    "3. HASH - getting the index of the item by calculating hash\n",
    "4. REHASH - recalculating the hash by adding 1\n",
    "#### Magic Methods\n",
    "5. __GETITEM__ - \n",
    "6. __SETITEM__ - you can access the item like in dictionary \n",
    "7. __STR__ - "
   ]
  },
  {
   "cell_type": "code",
   "execution_count": 116,
   "id": "accc2931",
   "metadata": {},
   "outputs": [],
   "source": [
    "class Dictionary:\n",
    "    \n",
    "    def __init__(self,size):\n",
    "        self.size = size\n",
    "        self.slots = [None] * self.size # this array for storing keys\n",
    "        self.data = [None] * self.size # this for storing values\n",
    "        \n",
    "     \n",
    "    # 1. find hash value\n",
    "    # 2. if index(hash) of keys_array(self.slots) is empty then on same index position of keys_array(self.slots) \n",
    "    #    and values_array(self.data) put keys and values\n",
    "    # 3. if index(hash) of keys_array(self.slots) == keys then update only value in values_array(self.data) else rehash\n",
    "    # 4. Rehash until index of keys_array(self.slots) equal to key or None\n",
    "    #    if None put key and values in respective array, if Not none update value in value_array\n",
    "    def put(self, key, value):\n",
    "        \n",
    "        hash_value = self.hash_function(key)\n",
    "        \n",
    "        if self.slots[hash_value] == None:\n",
    "            self.slots[hash_value] = key\n",
    "            self.data[hash_value] = value\n",
    "            \n",
    "        else:\n",
    "            if self.slots[hash_value] == key:\n",
    "                self.data[hash_value] = value\n",
    "            else:\n",
    "                new_hash_value = self.rehash_function(hash_value)\n",
    "        \n",
    "            \n",
    "            while self.slots[new_hash_value] != None and self.slots[new_hash_value] != key:\n",
    "                new_hash_value = self.rehash_function(new_hash_value)\n",
    "\n",
    "            if self.slots[new_hash_value] == None:\n",
    "                self.slots[new_hash_value] = key\n",
    "                self.data[new_hash_value] = value\n",
    "            else:\n",
    "                self.data[new_hash_value] = value\n",
    "            \n",
    "     \n",
    "    # 1. find hash value and store it in two variable, one will be fixed and onther varible will keep changing\n",
    "    # 2. rehash until you get None in keys_array(self.slots) and if you'll get key then return value from corresponding \n",
    "    #    value_array\n",
    "    # 3. in rehashing check if the rehashed index is equal to starting hash if True come out of the loop\n",
    "    # 4. else you got None \n",
    "    def get(self, key):\n",
    "        \n",
    "        starting_pos = self.hash_function(key)\n",
    "        current_pos = starting_pos\n",
    "        \n",
    "        while self.slots[current_pos] != None:\n",
    "            \n",
    "            if self.slots[current_pos] == key:\n",
    "                return self.data[current_pos]\n",
    "            \n",
    "            current_pos = self.rehash_function(current_pos)\n",
    "            \n",
    "            if current_pos == starting_pos:\n",
    "                return \"Not Found\"\n",
    "         \n",
    "        return \"None wala Not Found\"\n",
    "        \n",
    "    \n",
    "    # printing the dictionary\n",
    "    def __str__(self):\n",
    "        \n",
    "        for i in range(len(self.slots)):\n",
    "            if self.slots[i] != None:\n",
    "                print(self.slots[i], \" : \", self.data[i], end=\" \")\n",
    "                \n",
    "        return \"\"\n",
    "                \n",
    "    \n",
    "    # you can access the item like in dictionary eg: dict[\"key\"] (you'll get the item printed)\n",
    "    def __getitem__(self, key):\n",
    "        return self.get(key)\n",
    "    \n",
    "    \n",
    "    #you can put the item like in dictionary eg: dict[\"key\"] = value\n",
    "    def __setitem__(self, key, value):\n",
    "        self.put(key, value)\n",
    "\n",
    "        \n",
    "    # hashing     \n",
    "    def hash_function(self, key):\n",
    "        \n",
    "        return abs(hash(key)) % self.size\n",
    "    \n",
    "    \n",
    "    # rehashing by adding 1 with hashed key\n",
    "    def rehash_function(self, old_hash):\n",
    "        \n",
    "        return abs(hash(old_hash) + 1) % self.size"
   ]
  },
  {
   "cell_type": "code",
   "execution_count": 117,
   "id": "aa79dbae",
   "metadata": {},
   "outputs": [],
   "source": [
    "D = Dictionary(3)"
   ]
  },
  {
   "cell_type": "code",
   "execution_count": 118,
   "id": "35c353bd",
   "metadata": {},
   "outputs": [
    {
     "data": {
      "text/plain": [
       "[None, None, None]"
      ]
     },
     "execution_count": 118,
     "metadata": {},
     "output_type": "execute_result"
    }
   ],
   "source": [
    "D.slots"
   ]
  },
  {
   "cell_type": "code",
   "execution_count": 119,
   "id": "b3268857",
   "metadata": {
    "scrolled": true
   },
   "outputs": [
    {
     "data": {
      "text/plain": [
       "[None, None, None]"
      ]
     },
     "execution_count": 119,
     "metadata": {},
     "output_type": "execute_result"
    }
   ],
   "source": [
    "D.data"
   ]
  },
  {
   "cell_type": "code",
   "execution_count": 120,
   "id": "d4355c7e",
   "metadata": {},
   "outputs": [],
   "source": [
    "D.put(\"java\", 100)"
   ]
  },
  {
   "cell_type": "code",
   "execution_count": 121,
   "id": "48bbb3db",
   "metadata": {},
   "outputs": [
    {
     "name": "stdout",
     "output_type": "stream",
     "text": [
      "[None, 'java', None]\n",
      "[None, 100, None]\n"
     ]
    }
   ],
   "source": [
    "print(D.slots)\n",
    "print(D.data)"
   ]
  },
  {
   "cell_type": "code",
   "execution_count": 122,
   "id": "34ec32aa",
   "metadata": {},
   "outputs": [
    {
     "data": {
      "text/plain": [
       "100"
      ]
     },
     "execution_count": 122,
     "metadata": {},
     "output_type": "execute_result"
    }
   ],
   "source": [
    "D.get(\"java\")"
   ]
  },
  {
   "cell_type": "code",
   "execution_count": 123,
   "id": "5bf6cdc9",
   "metadata": {},
   "outputs": [],
   "source": [
    "D[\"python\"] = 12"
   ]
  },
  {
   "cell_type": "code",
   "execution_count": 124,
   "id": "f3c5f788",
   "metadata": {},
   "outputs": [
    {
     "name": "stdout",
     "output_type": "stream",
     "text": [
      "[None, 'java', 'python']\n",
      "[None, 100, 12]\n"
     ]
    }
   ],
   "source": [
    "print(D.slots)\n",
    "print(D.data)"
   ]
  },
  {
   "cell_type": "code",
   "execution_count": 125,
   "id": "c817c474",
   "metadata": {},
   "outputs": [
    {
     "data": {
      "text/plain": [
       "12"
      ]
     },
     "execution_count": 125,
     "metadata": {},
     "output_type": "execute_result"
    }
   ],
   "source": [
    "D[\"python\"]"
   ]
  },
  {
   "cell_type": "code",
   "execution_count": 126,
   "id": "e70cdc07",
   "metadata": {},
   "outputs": [
    {
     "data": {
      "text/plain": [
       "'None wala Not Found'"
      ]
     },
     "execution_count": 126,
     "metadata": {},
     "output_type": "execute_result"
    }
   ],
   "source": [
    "D[\"youu\"]"
   ]
  },
  {
   "cell_type": "code",
   "execution_count": 127,
   "id": "e3d32343",
   "metadata": {},
   "outputs": [
    {
     "name": "stdout",
     "output_type": "stream",
     "text": [
      "[None, 'java', 'python']\n",
      "[None, 100, 12]\n"
     ]
    }
   ],
   "source": [
    "print(D.slots)\n",
    "print(D.data)"
   ]
  },
  {
   "cell_type": "code",
   "execution_count": 128,
   "id": "fd610706",
   "metadata": {},
   "outputs": [],
   "source": [
    "D[\"php\"] = 70"
   ]
  },
  {
   "cell_type": "code",
   "execution_count": 129,
   "id": "952f83fb",
   "metadata": {},
   "outputs": [
    {
     "name": "stdout",
     "output_type": "stream",
     "text": [
      "php  :  70 java  :  100 python  :  12 \n"
     ]
    }
   ],
   "source": [
    "print(D)"
   ]
  },
  {
   "cell_type": "code",
   "execution_count": 130,
   "id": "28bee736",
   "metadata": {},
   "outputs": [
    {
     "name": "stdout",
     "output_type": "stream",
     "text": [
      "['php', 'java', 'python']\n",
      "[70, 100, 12]\n"
     ]
    }
   ],
   "source": [
    "print(D.slots)\n",
    "print(D.data)"
   ]
  },
  {
   "cell_type": "code",
   "execution_count": 115,
   "id": "56c6df98",
   "metadata": {},
   "outputs": [
    {
     "ename": "KeyboardInterrupt",
     "evalue": "",
     "output_type": "error",
     "traceback": [
      "\u001b[1;31m---------------------------------------------------------------------------\u001b[0m",
      "\u001b[1;31mKeyboardInterrupt\u001b[0m                         Traceback (most recent call last)",
      "\u001b[1;32m<ipython-input-115-e5992999cf33>\u001b[0m in \u001b[0;36m<module>\u001b[1;34m\u001b[0m\n\u001b[1;32m----> 1\u001b[1;33m \u001b[0mD\u001b[0m\u001b[1;33m[\u001b[0m\u001b[1;34m\"scala\"\u001b[0m\u001b[1;33m]\u001b[0m \u001b[1;33m=\u001b[0m \u001b[1;36m78\u001b[0m\u001b[1;33m\u001b[0m\u001b[1;33m\u001b[0m\u001b[0m\n\u001b[0m",
      "\u001b[1;32m<ipython-input-100-08fa3487bcd5>\u001b[0m in \u001b[0;36m__setitem__\u001b[1;34m(self, key, value)\u001b[0m\n\u001b[0;32m     77\u001b[0m     \u001b[1;31m#you can put the item like in dictionary eg: dict[\"key\"] = value\u001b[0m\u001b[1;33m\u001b[0m\u001b[1;33m\u001b[0m\u001b[1;33m\u001b[0m\u001b[0m\n\u001b[0;32m     78\u001b[0m     \u001b[1;32mdef\u001b[0m \u001b[0m__setitem__\u001b[0m\u001b[1;33m(\u001b[0m\u001b[0mself\u001b[0m\u001b[1;33m,\u001b[0m \u001b[0mkey\u001b[0m\u001b[1;33m,\u001b[0m \u001b[0mvalue\u001b[0m\u001b[1;33m)\u001b[0m\u001b[1;33m:\u001b[0m\u001b[1;33m\u001b[0m\u001b[1;33m\u001b[0m\u001b[0m\n\u001b[1;32m---> 79\u001b[1;33m         \u001b[0mself\u001b[0m\u001b[1;33m.\u001b[0m\u001b[0mput\u001b[0m\u001b[1;33m(\u001b[0m\u001b[0mkey\u001b[0m\u001b[1;33m,\u001b[0m \u001b[0mvalue\u001b[0m\u001b[1;33m)\u001b[0m\u001b[1;33m\u001b[0m\u001b[1;33m\u001b[0m\u001b[0m\n\u001b[0m\u001b[0;32m     80\u001b[0m \u001b[1;33m\u001b[0m\u001b[0m\n\u001b[0;32m     81\u001b[0m \u001b[1;33m\u001b[0m\u001b[0m\n",
      "\u001b[1;32m<ipython-input-100-08fa3487bcd5>\u001b[0m in \u001b[0;36mput\u001b[1;34m(self, key, value)\u001b[0m\n\u001b[0;32m     29\u001b[0m \u001b[1;33m\u001b[0m\u001b[0m\n\u001b[0;32m     30\u001b[0m             \u001b[1;32mwhile\u001b[0m \u001b[0mself\u001b[0m\u001b[1;33m.\u001b[0m\u001b[0mslots\u001b[0m\u001b[1;33m[\u001b[0m\u001b[0mnew_hash_value\u001b[0m\u001b[1;33m]\u001b[0m \u001b[1;33m!=\u001b[0m \u001b[1;32mNone\u001b[0m \u001b[1;32mand\u001b[0m \u001b[0mself\u001b[0m\u001b[1;33m.\u001b[0m\u001b[0mslots\u001b[0m\u001b[1;33m[\u001b[0m\u001b[0mnew_hash_value\u001b[0m\u001b[1;33m]\u001b[0m \u001b[1;33m!=\u001b[0m \u001b[0mkey\u001b[0m\u001b[1;33m:\u001b[0m\u001b[1;33m\u001b[0m\u001b[1;33m\u001b[0m\u001b[0m\n\u001b[1;32m---> 31\u001b[1;33m                 \u001b[0mnew_hash_value\u001b[0m \u001b[1;33m=\u001b[0m \u001b[0mself\u001b[0m\u001b[1;33m.\u001b[0m\u001b[0mrehash_function\u001b[0m\u001b[1;33m(\u001b[0m\u001b[0mnew_hash_value\u001b[0m\u001b[1;33m)\u001b[0m\u001b[1;33m\u001b[0m\u001b[1;33m\u001b[0m\u001b[0m\n\u001b[0m\u001b[0;32m     32\u001b[0m \u001b[1;33m\u001b[0m\u001b[0m\n\u001b[0;32m     33\u001b[0m             \u001b[1;32mif\u001b[0m \u001b[0mself\u001b[0m\u001b[1;33m.\u001b[0m\u001b[0mslots\u001b[0m\u001b[1;33m[\u001b[0m\u001b[0mnew_hash_value\u001b[0m\u001b[1;33m]\u001b[0m \u001b[1;33m==\u001b[0m \u001b[1;32mNone\u001b[0m\u001b[1;33m:\u001b[0m\u001b[1;33m\u001b[0m\u001b[1;33m\u001b[0m\u001b[0m\n",
      "\u001b[1;32m<ipython-input-100-08fa3487bcd5>\u001b[0m in \u001b[0;36mrehash_function\u001b[1;34m(self, key)\u001b[0m\n\u001b[0;32m     89\u001b[0m     \u001b[1;32mdef\u001b[0m \u001b[0mrehash_function\u001b[0m\u001b[1;33m(\u001b[0m\u001b[0mself\u001b[0m\u001b[1;33m,\u001b[0m \u001b[0mkey\u001b[0m\u001b[1;33m)\u001b[0m\u001b[1;33m:\u001b[0m\u001b[1;33m\u001b[0m\u001b[1;33m\u001b[0m\u001b[0m\n\u001b[0;32m     90\u001b[0m \u001b[1;33m\u001b[0m\u001b[0m\n\u001b[1;32m---> 91\u001b[1;33m         \u001b[1;32mreturn\u001b[0m \u001b[0mabs\u001b[0m\u001b[1;33m(\u001b[0m\u001b[0mhash\u001b[0m\u001b[1;33m(\u001b[0m\u001b[0mkey\u001b[0m\u001b[1;33m)\u001b[0m \u001b[1;33m+\u001b[0m \u001b[1;36m1\u001b[0m\u001b[1;33m)\u001b[0m \u001b[1;33m%\u001b[0m \u001b[0mself\u001b[0m\u001b[1;33m.\u001b[0m\u001b[0msize\u001b[0m\u001b[1;33m\u001b[0m\u001b[1;33m\u001b[0m\u001b[0m\n\u001b[0m",
      "\u001b[1;31mKeyboardInterrupt\u001b[0m: "
     ]
    }
   ],
   "source": [
    "# there's no none in array value and so it will keep looping into the loop, we'll sort this problem in CHAINING\n",
    "D[\"scala\"] = 78"
   ]
  },
  {
   "cell_type": "code",
   "execution_count": 131,
   "id": "235e14fe",
   "metadata": {},
   "outputs": [
    {
     "ename": "TypeError",
     "evalue": "unhashable type: 'list'",
     "output_type": "error",
     "traceback": [
      "\u001b[1;31m---------------------------------------------------------------------------\u001b[0m",
      "\u001b[1;31mTypeError\u001b[0m                                 Traceback (most recent call last)",
      "\u001b[1;32m<ipython-input-131-0463c6d128b9>\u001b[0m in \u001b[0;36m<module>\u001b[1;34m\u001b[0m\n\u001b[1;32m----> 1\u001b[1;33m \u001b[0mD\u001b[0m\u001b[1;33m[\u001b[0m\u001b[1;33m[\u001b[0m\u001b[1;36m1\u001b[0m\u001b[1;33m,\u001b[0m\u001b[1;36m3\u001b[0m\u001b[1;33m,\u001b[0m\u001b[1;36m4\u001b[0m\u001b[1;33m]\u001b[0m\u001b[1;33m]\u001b[0m \u001b[1;33m=\u001b[0m \u001b[1;34m\"hello\"\u001b[0m\u001b[1;33m\u001b[0m\u001b[1;33m\u001b[0m\u001b[0m\n\u001b[0m",
      "\u001b[1;32m<ipython-input-116-e0c8ebf2dbb7>\u001b[0m in \u001b[0;36m__setitem__\u001b[1;34m(self, key, value)\u001b[0m\n\u001b[0;32m     78\u001b[0m     \u001b[1;31m#you can put the item like in dictionary eg: dict[\"key\"] = value\u001b[0m\u001b[1;33m\u001b[0m\u001b[1;33m\u001b[0m\u001b[1;33m\u001b[0m\u001b[0m\n\u001b[0;32m     79\u001b[0m     \u001b[1;32mdef\u001b[0m \u001b[0m__setitem__\u001b[0m\u001b[1;33m(\u001b[0m\u001b[0mself\u001b[0m\u001b[1;33m,\u001b[0m \u001b[0mkey\u001b[0m\u001b[1;33m,\u001b[0m \u001b[0mvalue\u001b[0m\u001b[1;33m)\u001b[0m\u001b[1;33m:\u001b[0m\u001b[1;33m\u001b[0m\u001b[1;33m\u001b[0m\u001b[0m\n\u001b[1;32m---> 80\u001b[1;33m         \u001b[0mself\u001b[0m\u001b[1;33m.\u001b[0m\u001b[0mput\u001b[0m\u001b[1;33m(\u001b[0m\u001b[0mkey\u001b[0m\u001b[1;33m,\u001b[0m \u001b[0mvalue\u001b[0m\u001b[1;33m)\u001b[0m\u001b[1;33m\u001b[0m\u001b[1;33m\u001b[0m\u001b[0m\n\u001b[0m\u001b[0;32m     81\u001b[0m \u001b[1;33m\u001b[0m\u001b[0m\n\u001b[0;32m     82\u001b[0m \u001b[1;33m\u001b[0m\u001b[0m\n",
      "\u001b[1;32m<ipython-input-116-e0c8ebf2dbb7>\u001b[0m in \u001b[0;36mput\u001b[1;34m(self, key, value)\u001b[0m\n\u001b[0;32m     15\u001b[0m     \u001b[1;32mdef\u001b[0m \u001b[0mput\u001b[0m\u001b[1;33m(\u001b[0m\u001b[0mself\u001b[0m\u001b[1;33m,\u001b[0m \u001b[0mkey\u001b[0m\u001b[1;33m,\u001b[0m \u001b[0mvalue\u001b[0m\u001b[1;33m)\u001b[0m\u001b[1;33m:\u001b[0m\u001b[1;33m\u001b[0m\u001b[1;33m\u001b[0m\u001b[0m\n\u001b[0;32m     16\u001b[0m \u001b[1;33m\u001b[0m\u001b[0m\n\u001b[1;32m---> 17\u001b[1;33m         \u001b[0mhash_value\u001b[0m \u001b[1;33m=\u001b[0m \u001b[0mself\u001b[0m\u001b[1;33m.\u001b[0m\u001b[0mhash_function\u001b[0m\u001b[1;33m(\u001b[0m\u001b[0mkey\u001b[0m\u001b[1;33m)\u001b[0m\u001b[1;33m\u001b[0m\u001b[1;33m\u001b[0m\u001b[0m\n\u001b[0m\u001b[0;32m     18\u001b[0m \u001b[1;33m\u001b[0m\u001b[0m\n\u001b[0;32m     19\u001b[0m         \u001b[1;32mif\u001b[0m \u001b[0mself\u001b[0m\u001b[1;33m.\u001b[0m\u001b[0mslots\u001b[0m\u001b[1;33m[\u001b[0m\u001b[0mhash_value\u001b[0m\u001b[1;33m]\u001b[0m \u001b[1;33m==\u001b[0m \u001b[1;32mNone\u001b[0m\u001b[1;33m:\u001b[0m\u001b[1;33m\u001b[0m\u001b[1;33m\u001b[0m\u001b[0m\n",
      "\u001b[1;32m<ipython-input-116-e0c8ebf2dbb7>\u001b[0m in \u001b[0;36mhash_function\u001b[1;34m(self, key)\u001b[0m\n\u001b[0;32m     84\u001b[0m     \u001b[1;32mdef\u001b[0m \u001b[0mhash_function\u001b[0m\u001b[1;33m(\u001b[0m\u001b[0mself\u001b[0m\u001b[1;33m,\u001b[0m \u001b[0mkey\u001b[0m\u001b[1;33m)\u001b[0m\u001b[1;33m:\u001b[0m\u001b[1;33m\u001b[0m\u001b[1;33m\u001b[0m\u001b[0m\n\u001b[0;32m     85\u001b[0m \u001b[1;33m\u001b[0m\u001b[0m\n\u001b[1;32m---> 86\u001b[1;33m         \u001b[1;32mreturn\u001b[0m \u001b[0mabs\u001b[0m\u001b[1;33m(\u001b[0m\u001b[0mhash\u001b[0m\u001b[1;33m(\u001b[0m\u001b[0mkey\u001b[0m\u001b[1;33m)\u001b[0m\u001b[1;33m)\u001b[0m \u001b[1;33m%\u001b[0m \u001b[0mself\u001b[0m\u001b[1;33m.\u001b[0m\u001b[0msize\u001b[0m\u001b[1;33m\u001b[0m\u001b[1;33m\u001b[0m\u001b[0m\n\u001b[0m\u001b[0;32m     87\u001b[0m \u001b[1;33m\u001b[0m\u001b[0m\n\u001b[0;32m     88\u001b[0m \u001b[1;33m\u001b[0m\u001b[0m\n",
      "\u001b[1;31mTypeError\u001b[0m: unhashable type: 'list'"
     ]
    }
   ],
   "source": [
    "# we cannot calculate hash of list because it is mutable, only immutable data type could be hashed\n",
    "D[[1,3,4]] = \"hello\""
   ]
  },
  {
   "cell_type": "code",
   "execution_count": null,
   "id": "1cd79d07",
   "metadata": {},
   "outputs": [],
   "source": []
  }
 ],
 "metadata": {
  "kernelspec": {
   "display_name": "Python 3",
   "language": "python",
   "name": "python3"
  },
  "language_info": {
   "codemirror_mode": {
    "name": "ipython",
    "version": 3
   },
   "file_extension": ".py",
   "mimetype": "text/x-python",
   "name": "python",
   "nbconvert_exporter": "python",
   "pygments_lexer": "ipython3",
   "version": "3.8.8"
  }
 },
 "nbformat": 4,
 "nbformat_minor": 5
}
