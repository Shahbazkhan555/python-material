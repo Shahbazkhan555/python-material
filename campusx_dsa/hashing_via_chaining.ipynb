{
 "cells": [
  {
   "cell_type": "markdown",
   "id": "de9500b3",
   "metadata": {},
   "source": [
    "## Hashing via Chaining\n",
    "1. It will have a single array and in this every item will be a linked list. \n",
    "2. it will have both key and value in the same node. where in probing it has key in one node of array and value in other node of array\n",
    "3. by using using load factor searching a node will become O(n)"
   ]
  },
  {
   "cell_type": "markdown",
   "id": "d89a8894",
   "metadata": {},
   "source": [
    "#### Operations in LinkedList\n",
    "1. traverse()\n",
    "2. add_end()\n",
    "3. remove()\n",
    "4. search()\n",
    "5. delete_head()\n",
    "6. size()\n",
    "7. get_node_by_index()"
   ]
  },
  {
   "cell_type": "code",
   "execution_count": 9,
   "id": "c16e56dd",
   "metadata": {},
   "outputs": [],
   "source": [
    "class Node:\n",
    "    def __init__(self, key, value):\n",
    "        self.key = key\n",
    "        self.value = value\n",
    "        self.next = None"
   ]
  },
  {
   "cell_type": "code",
   "execution_count": 10,
   "id": "fdf2cbbf",
   "metadata": {},
   "outputs": [],
   "source": [
    "class LinkedList:\n",
    "    \n",
    "    def __init__(self):\n",
    "        self.head = None\n",
    "        \n",
    "    \n",
    "    def traverse(self):\n",
    "        \n",
    "        if self.head == None:\n",
    "            print(\"LinkedList is empty\")\n",
    "        else:\n",
    "            n = self.head\n",
    "            while n != None:\n",
    "                print(n.key, \"-->\", n.value, end=\" \")\n",
    "                n = n.next\n",
    "    \n",
    "    \n",
    "    def add_end(self, key, value):\n",
    "        \n",
    "        new_node = Node(key, value)\n",
    "        \n",
    "        if self.head == None:\n",
    "            self.head = new_node\n",
    "           \n",
    "        else:\n",
    "            n = self.head\n",
    "            while n.next != None:\n",
    "                n = n.next\n",
    "\n",
    "            n.next = new_node\n",
    "            \n",
    "    \n",
    "    # search the node by using key and return the index of the key\n",
    "    def search(self, key):\n",
    "        \n",
    "        n = self.head\n",
    "        pos = 0\n",
    "        \n",
    "        while n != None:\n",
    "            \n",
    "            if n.key == key:\n",
    "                return pos\n",
    "            \n",
    "            n = n.next\n",
    "            pos += 1\n",
    "            \n",
    "        return -1\n",
    "    \n",
    "    \n",
    "    def delete_head(self):\n",
    "        \n",
    "        if self.head == None:\n",
    "            return \"empty LinkedList\"\n",
    "        else:\n",
    "            self.head = self.head.next\n",
    "    \n",
    "    \n",
    "    # delete the node by using key\n",
    "    def remove(self, key):\n",
    "        \n",
    "        if self.head.key == key:\n",
    "            self.delete.head(key)\n",
    "            return\n",
    "        \n",
    "        if self.head == None:\n",
    "            return \"empty LinkedList\"\n",
    "        \n",
    "        else:\n",
    "            n = self.head\n",
    "            while n.next != None:\n",
    "                \n",
    "                if n.next.key == key:\n",
    "                    break\n",
    "                n = n.next\n",
    "                \n",
    "            if n.next == None:\n",
    "                return \"Not Found\"\n",
    "            else:\n",
    "                n.next = n.next.next\n",
    "                \n",
    "                \n",
    "    def size(self):\n",
    "        \n",
    "        n = self.head\n",
    "        counter = 0\n",
    "        \n",
    "        while n != None:\n",
    "            \n",
    "            counter += 1\n",
    "            n = n.next\n",
    "        \n",
    "        return counter\n",
    "    \n",
    "    \n",
    "    # search the node by using index as parameter\n",
    "    def get_node_by_index(self, index):\n",
    "        \n",
    "        n = self.head\n",
    "        counter = 0\n",
    "        \n",
    "        while n != None:\n",
    "            \n",
    "            if counter == index:\n",
    "                return n\n",
    "            \n",
    "            n = n.next\n",
    "            counter += 1"
   ]
  },
  {
   "cell_type": "code",
   "execution_count": 99,
   "id": "2f2ccc96",
   "metadata": {},
   "outputs": [],
   "source": [
    "L = LinkedList()"
   ]
  },
  {
   "cell_type": "code",
   "execution_count": 100,
   "id": "4d93f4c4",
   "metadata": {},
   "outputs": [],
   "source": [
    "L.add_end(\"python\", 23)"
   ]
  },
  {
   "cell_type": "code",
   "execution_count": 101,
   "id": "d250a149",
   "metadata": {},
   "outputs": [
    {
     "name": "stdout",
     "output_type": "stream",
     "text": [
      "python --> 23 "
     ]
    }
   ],
   "source": [
    "L.traverse()"
   ]
  },
  {
   "cell_type": "code",
   "execution_count": 102,
   "id": "0adeaf9a",
   "metadata": {},
   "outputs": [],
   "source": [
    "L.add_end(\"java\", 59)"
   ]
  },
  {
   "cell_type": "code",
   "execution_count": 103,
   "id": "d87c618c",
   "metadata": {},
   "outputs": [
    {
     "data": {
      "text/plain": [
       "2"
      ]
     },
     "execution_count": 103,
     "metadata": {},
     "output_type": "execute_result"
    }
   ],
   "source": [
    "L.size()"
   ]
  },
  {
   "cell_type": "code",
   "execution_count": 104,
   "id": "f62f73b1",
   "metadata": {},
   "outputs": [
    {
     "name": "stdout",
     "output_type": "stream",
     "text": [
      "python --> 23 java --> 59 "
     ]
    }
   ],
   "source": [
    "L.traverse()"
   ]
  },
  {
   "cell_type": "code",
   "execution_count": 105,
   "id": "48fb6dfb",
   "metadata": {},
   "outputs": [
    {
     "data": {
      "text/plain": [
       "<__main__.Node at 0x24f7b4532e0>"
      ]
     },
     "execution_count": 105,
     "metadata": {},
     "output_type": "execute_result"
    }
   ],
   "source": [
    "L.get_node_by_index(1)"
   ]
  },
  {
   "cell_type": "code",
   "execution_count": 106,
   "id": "18f34dd9",
   "metadata": {},
   "outputs": [
    {
     "data": {
      "text/plain": [
       "'java'"
      ]
     },
     "execution_count": 106,
     "metadata": {},
     "output_type": "execute_result"
    }
   ],
   "source": [
    "L.get_node_by_index(1).key"
   ]
  },
  {
   "cell_type": "code",
   "execution_count": 107,
   "id": "cf6bbf1b",
   "metadata": {},
   "outputs": [],
   "source": [
    "L.add_end(\"php\", 56)"
   ]
  },
  {
   "cell_type": "code",
   "execution_count": 108,
   "id": "f64d2e2d",
   "metadata": {},
   "outputs": [
    {
     "name": "stdout",
     "output_type": "stream",
     "text": [
      "python --> 23 java --> 59 php --> 56 "
     ]
    }
   ],
   "source": [
    "L.traverse()"
   ]
  },
  {
   "cell_type": "code",
   "execution_count": 110,
   "id": "d1e35990",
   "metadata": {},
   "outputs": [
    {
     "data": {
      "text/plain": [
       "'python'"
      ]
     },
     "execution_count": 110,
     "metadata": {},
     "output_type": "execute_result"
    }
   ],
   "source": [
    "L.print_head().key"
   ]
  },
  {
   "cell_type": "code",
   "execution_count": 111,
   "id": "c6c67ee6",
   "metadata": {},
   "outputs": [],
   "source": [
    "L.remove(\"php\")"
   ]
  },
  {
   "cell_type": "code",
   "execution_count": 112,
   "id": "9a00c264",
   "metadata": {},
   "outputs": [
    {
     "name": "stdout",
     "output_type": "stream",
     "text": [
      "python --> 23 java --> 59 "
     ]
    }
   ],
   "source": [
    "L.traverse()"
   ]
  },
  {
   "cell_type": "code",
   "execution_count": 113,
   "id": "dd00d720",
   "metadata": {},
   "outputs": [],
   "source": [
    "L.delete_head()"
   ]
  },
  {
   "cell_type": "code",
   "execution_count": 114,
   "id": "02a85566",
   "metadata": {},
   "outputs": [
    {
     "name": "stdout",
     "output_type": "stream",
     "text": [
      "java --> 59 "
     ]
    }
   ],
   "source": [
    "L.traverse()"
   ]
  },
  {
   "cell_type": "code",
   "execution_count": null,
   "id": "e6e09d92",
   "metadata": {},
   "outputs": [],
   "source": []
  },
  {
   "cell_type": "markdown",
   "id": "9d6e3b03",
   "metadata": {},
   "source": [
    "## Main code for Chaining\n"
   ]
  },
  {
   "cell_type": "markdown",
   "id": "1497e0bc",
   "metadata": {},
   "source": [
    "#### Operations to be perforemd\n",
    "1. make_array()\n",
    "2. get()\n",
    "3. put()\n",
    "4. rehash_function\n",
    "5. hash_function\n",
    "6. get_index_of_node\n",
    "7. __setitem__()\n",
    "8. __getitem__()\n",
    "9. __delitem__()\n",
    "10. __str__()\n",
    "11. __len__()"
   ]
  },
  {
   "cell_type": "code",
   "execution_count": 36,
   "id": "1cbf8158",
   "metadata": {},
   "outputs": [],
   "source": [
    "class Dictionary:\n",
    "    \n",
    "    def __init__(self,capacity):\n",
    "        self.capacity = capacity  # size of array \n",
    "        self.size = 0  # total no of nodes in the array\n",
    "        self.buckets = self.make_array(self.capacity)  # array of LinkedList\n",
    "        \n",
    "    \n",
    "    # creates array by using size of array as parameter\n",
    "    def make_array(self,capacity):\n",
    "        \n",
    "        L = []\n",
    "        for i in range(capacity):\n",
    "            L.append(LinkedList())\n",
    "        return L\n",
    "    \n",
    "    \n",
    "    # return node by using key as parameter\n",
    "    def get(self, key):\n",
    "        \n",
    "        # hashed(index) value for array of LL\n",
    "        bucket_index = self.hash_function(key)\n",
    "        \n",
    "        # \"self.buckets[bucket_index]\" this has become LL and performing LL operation on it.\n",
    "        # .search() return the index of the node in LL.\n",
    "        res = self.buckets[bucket_index].search(key)\n",
    "        \n",
    "        if res == -1:\n",
    "            return \"key is not found\"\n",
    "        else:\n",
    "            # get_node_by_index(): returns the node \n",
    "            node = self.buckets[bucket_index].get_node_by_index(res)\n",
    "            return node.value\n",
    "        \n",
    "    \n",
    "    # insetring a node or updating a node using key and value as parameter\n",
    "    def put(self,key,value):\n",
    "        \n",
    "        bucket_index = self.hash_function(key)\n",
    "        \n",
    "        # self.buckets[bucket_index].search(key): returns node index. this is what get_index_of_node doing here\n",
    "        node_index = self.get_index_of_node(bucket_index, key)\n",
    "        \n",
    "        if node_index == -1:\n",
    "            # if node not found in given LL insert at the end of the LL\n",
    "            self.buckets[bucket_index].add_end(key,value)\n",
    "            # increaseing size by one whenever a node inserted because have to calculate the total no of nodes.\n",
    "            self.size += 1 \n",
    "            \n",
    "            load_factor = self.size / self.capacity\n",
    "            print(load_factor)\n",
    "            \n",
    "            # if load_factor(lambda) is >= 2 create a new buckets(array) double the size old array(buckets).\n",
    "            # rehash all old array nodes and insert it in the newly created array\n",
    "            if load_factor >= 2:\n",
    "                self.rehash_function()\n",
    "                \n",
    "        else:\n",
    "            # update node whith there value\n",
    "            node = self.buckets[bucket_index].get_node_by_index(node_index)\n",
    "            node.value = value\n",
    "        \n",
    "    \n",
    "    # rehashing the all the nodes of the array of LL if load factor exeeded\n",
    "    def rehash_function(self):\n",
    "        \n",
    "        old_buckets = self.buckets\n",
    "        self.capacity = self.capacity * 2\n",
    "        self.size = 0\n",
    "        self.buckets = self.make_array(self.capacity)\n",
    "        \n",
    "        # taking all nodes from every LL from the array rehash it and put it in a newly created bucketes(array)\n",
    "        for i in old_buckets:\n",
    "            for j in range(i.size()):\n",
    "                node = i.get_node_by_index(j)\n",
    "                key_item = node.key\n",
    "                value_item =  node.value\n",
    "                self.put(key_item, value_item)\n",
    "        \n",
    "        \n",
    "    def hash_function(self, key):\n",
    "        \n",
    "        return abs(hash(key)) % self.capacity\n",
    "\n",
    "    \n",
    "    # returns the index of the node\n",
    "    def get_index_of_node(self,bucket_index, key):\n",
    "        \n",
    "        node_index = self.buckets[bucket_index].search(key)\n",
    "        \n",
    "        return node_index\n",
    "    \n",
    "    \n",
    "    # D[\"key\"] = value : we can insert item like we do in python dictionary\n",
    "    def __setitem__(self, key, value):\n",
    "        \n",
    "        self.put(key, value)\n",
    "        \n",
    "    \n",
    "    # D[\"key\"] : we can value of key like we code python dictionary\n",
    "    def __getitem__(self, key):\n",
    "        \n",
    "        return self.get(key)\n",
    "    \n",
    "    \n",
    "    # del D[\"key\"] : this will delete the particular item \n",
    "    def __delitem__(self,key):\n",
    "        \n",
    "        bucket_index = self.hash_function(key)\n",
    "        \n",
    "        self.buckets[bucket_index].remove(key)\n",
    "        \n",
    "        self.size -= 1\n",
    "        \n",
    "    \n",
    "    # print(D): we can use this to print all the nodes. basically traverse the array and print all the nodes\n",
    "    def __str__(self):\n",
    "        \n",
    "        for i in self.buckets:\n",
    "            i.traverse()\n",
    "            \n",
    "        return \"\"\n",
    "    \n",
    "    \n",
    "    \n",
    "    def __len__(self):\n",
    "        \n",
    "        return self.size"
   ]
  },
  {
   "cell_type": "code",
   "execution_count": 37,
   "id": "b6631bc6",
   "metadata": {},
   "outputs": [],
   "source": [
    "D = Dictionary(2)"
   ]
  },
  {
   "cell_type": "code",
   "execution_count": 38,
   "id": "158599e8",
   "metadata": {},
   "outputs": [
    {
     "name": "stdout",
     "output_type": "stream",
     "text": [
      "0.5\n"
     ]
    }
   ],
   "source": [
    "D.put(\"java\", 34)"
   ]
  },
  {
   "cell_type": "code",
   "execution_count": 39,
   "id": "453119fb",
   "metadata": {},
   "outputs": [
    {
     "data": {
      "text/plain": [
       "34"
      ]
     },
     "execution_count": 39,
     "metadata": {},
     "output_type": "execute_result"
    }
   ],
   "source": [
    "D.get(\"java\")"
   ]
  },
  {
   "cell_type": "code",
   "execution_count": 15,
   "id": "4f53dd10",
   "metadata": {},
   "outputs": [
    {
     "data": {
      "text/plain": [
       "'key is not found'"
      ]
     },
     "execution_count": 15,
     "metadata": {},
     "output_type": "execute_result"
    }
   ],
   "source": [
    "D.get(\"python\")"
   ]
  },
  {
   "cell_type": "code",
   "execution_count": 16,
   "id": "6c179b23",
   "metadata": {},
   "outputs": [
    {
     "name": "stdout",
     "output_type": "stream",
     "text": [
      "1.0\n"
     ]
    }
   ],
   "source": [
    "D.put(\"python\", 56)"
   ]
  },
  {
   "cell_type": "code",
   "execution_count": 17,
   "id": "30eac226",
   "metadata": {},
   "outputs": [
    {
     "data": {
      "text/plain": [
       "56"
      ]
     },
     "execution_count": 17,
     "metadata": {},
     "output_type": "execute_result"
    }
   ],
   "source": [
    "D[\"python\"]"
   ]
  },
  {
   "cell_type": "code",
   "execution_count": 18,
   "id": "0be47a30",
   "metadata": {},
   "outputs": [
    {
     "name": "stdout",
     "output_type": "stream",
     "text": [
      "LinkedList is empty\n",
      "java --> 34 python --> 56 \n"
     ]
    }
   ],
   "source": [
    "print(D)"
   ]
  },
  {
   "cell_type": "code",
   "execution_count": 19,
   "id": "0704f713",
   "metadata": {
    "scrolled": true
   },
   "outputs": [
    {
     "name": "stdout",
     "output_type": "stream",
     "text": [
      "1.5\n"
     ]
    }
   ],
   "source": [
    "D.put(\"phv\", 5403)"
   ]
  },
  {
   "cell_type": "code",
   "execution_count": 20,
   "id": "55f8f59e",
   "metadata": {},
   "outputs": [
    {
     "name": "stdout",
     "output_type": "stream",
     "text": [
      "2.0\n",
      "0.25\n",
      "0.5\n",
      "0.75\n",
      "1.0\n"
     ]
    }
   ],
   "source": [
    "D.put(\"php\", 23)"
   ]
  },
  {
   "cell_type": "code",
   "execution_count": 21,
   "id": "ec6076aa",
   "metadata": {},
   "outputs": [
    {
     "name": "stdout",
     "output_type": "stream",
     "text": [
      "4\n"
     ]
    }
   ],
   "source": [
    "print(D.size)"
   ]
  },
  {
   "cell_type": "code",
   "execution_count": 22,
   "id": "fa0e3c5b",
   "metadata": {},
   "outputs": [
    {
     "name": "stdout",
     "output_type": "stream",
     "text": [
      "1.25\n"
     ]
    }
   ],
   "source": [
    "D.put(\"Js\", 34)"
   ]
  },
  {
   "cell_type": "code",
   "execution_count": 23,
   "id": "84d4702c",
   "metadata": {},
   "outputs": [
    {
     "name": "stdout",
     "output_type": "stream",
     "text": [
      "5\n"
     ]
    }
   ],
   "source": [
    "print(D.size)"
   ]
  },
  {
   "cell_type": "code",
   "execution_count": 24,
   "id": "307f19c8",
   "metadata": {},
   "outputs": [
    {
     "name": "stdout",
     "output_type": "stream",
     "text": [
      "Js --> 34 java --> 34 phv --> 5403 python --> 56 php --> 23 \n"
     ]
    }
   ],
   "source": [
    "print(D)"
   ]
  },
  {
   "cell_type": "code",
   "execution_count": 25,
   "id": "813af2ed",
   "metadata": {},
   "outputs": [
    {
     "data": {
      "text/plain": [
       "<__main__.Dictionary at 0x18b335d4fd0>"
      ]
     },
     "execution_count": 25,
     "metadata": {},
     "output_type": "execute_result"
    }
   ],
   "source": []
  },
  {
   "cell_type": "code",
   "execution_count": 27,
   "id": "175dc89d",
   "metadata": {},
   "outputs": [
    {
     "name": "stdout",
     "output_type": "stream",
     "text": [
      "1.5\n"
     ]
    }
   ],
   "source": [
    "D[\"hello\"] = 55"
   ]
  },
  {
   "cell_type": "code",
   "execution_count": 28,
   "id": "452fcd89",
   "metadata": {},
   "outputs": [
    {
     "data": {
      "text/plain": [
       "55"
      ]
     },
     "execution_count": 28,
     "metadata": {},
     "output_type": "execute_result"
    }
   ],
   "source": [
    "D[\"hello\"]"
   ]
  },
  {
   "cell_type": "code",
   "execution_count": 29,
   "id": "38a57380",
   "metadata": {},
   "outputs": [],
   "source": [
    "del D[\"hello\"]"
   ]
  },
  {
   "cell_type": "code",
   "execution_count": 30,
   "id": "1a5fd5a3",
   "metadata": {},
   "outputs": [
    {
     "data": {
      "text/plain": [
       "'key is not found'"
      ]
     },
     "execution_count": 30,
     "metadata": {},
     "output_type": "execute_result"
    }
   ],
   "source": [
    "D[\"hello\"]"
   ]
  },
  {
   "cell_type": "code",
   "execution_count": 40,
   "id": "4cacced0",
   "metadata": {},
   "outputs": [
    {
     "data": {
      "text/plain": [
       "1"
      ]
     },
     "execution_count": 40,
     "metadata": {},
     "output_type": "execute_result"
    }
   ],
   "source": [
    "len(D)"
   ]
  },
  {
   "cell_type": "code",
   "execution_count": 41,
   "id": "1032afa2",
   "metadata": {},
   "outputs": [
    {
     "name": "stdout",
     "output_type": "stream",
     "text": [
      "LinkedList is empty\n",
      "java --> 34 \n"
     ]
    }
   ],
   "source": [
    "print(D)"
   ]
  },
  {
   "cell_type": "code",
   "execution_count": null,
   "id": "4e4da338",
   "metadata": {},
   "outputs": [],
   "source": []
  }
 ],
 "metadata": {
  "kernelspec": {
   "display_name": "Python 3",
   "language": "python",
   "name": "python3"
  },
  "language_info": {
   "codemirror_mode": {
    "name": "ipython",
    "version": 3
   },
   "file_extension": ".py",
   "mimetype": "text/x-python",
   "name": "python",
   "nbconvert_exporter": "python",
   "pygments_lexer": "ipython3",
   "version": "3.8.8"
  }
 },
 "nbformat": 4,
 "nbformat_minor": 5
}
