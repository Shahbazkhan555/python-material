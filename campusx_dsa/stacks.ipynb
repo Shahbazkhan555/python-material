{
 "cells": [
  {
   "cell_type": "markdown",
   "id": "8197e894",
   "metadata": {},
   "source": [
    "# Stacks"
   ]
  },
  {
   "cell_type": "markdown",
   "id": "61b6120c",
   "metadata": {},
   "source": [
    "#### stacks is a datastructure which uses a technique called LIFO (Last in First Out). it can be construct using LinkedList or Array."
   ]
  },
  {
   "cell_type": "markdown",
   "id": "ed2f770d",
   "metadata": {},
   "source": [
    "#### operations in Stackts\n",
    "1. Push => adding element on the top\n",
    "2. Pop => removing element from the top\n",
    "3. Peak => what is the top element\n",
    "4. Isempty => whether stack is empty or not\n",
    "5. size => number of item in Stack"
   ]
  },
  {
   "cell_type": "markdown",
   "id": "9f49fb0d",
   "metadata": {},
   "source": [
    "### Implementing in Stack using LinkedList"
   ]
  },
  {
   "cell_type": "code",
   "execution_count": 4,
   "id": "723c5ddf",
   "metadata": {},
   "outputs": [],
   "source": [
    "class Node:\n",
    "    def __init__(self,data):\n",
    "        self.data = data\n",
    "        self.next = None\n",
    "        \n",
    "        \n",
    "class Stack:\n",
    "    \n",
    "    def __init__(self):\n",
    "        self.top = None\n",
    "    \n",
    "    def traverse(self):\n",
    "        n = self.top\n",
    "        while n != None:\n",
    "            print(n.data)\n",
    "            n = n.next\n",
    "            \n",
    "    def push(self,data):\n",
    "        new_node = Node(data)\n",
    "        new_node.next = self.top\n",
    "        self.top = new_node\n",
    "    \n",
    "    def isEmpty(self):\n",
    "        return self.top == None\n",
    "    \n",
    "    def peek(self):\n",
    "        if self.isEmpty():\n",
    "            return \"Stack is empty\"\n",
    "        return self.top.data\n",
    "    \n",
    "    def pop(self):\n",
    "        if self.top == None:\n",
    "            print(\"Stack is empty\")\n",
    "        data = self.top.data\n",
    "        self.top = self.top.next\n",
    "        return data\n",
    "        \n",
    "    def size(self):\n",
    "        n = self.top\n",
    "        counter = 0\n",
    "        while n != None:\n",
    "            counter += 1\n",
    "            n = n.next\n",
    "        return counter"
   ]
  },
  {
   "cell_type": "code",
   "execution_count": null,
   "id": "833705c5",
   "metadata": {},
   "outputs": [],
   "source": []
  },
  {
   "cell_type": "code",
   "execution_count": 5,
   "id": "7e02b987",
   "metadata": {},
   "outputs": [],
   "source": [
    "s = Stack()"
   ]
  },
  {
   "cell_type": "code",
   "execution_count": 6,
   "id": "2e51b3ba",
   "metadata": {},
   "outputs": [
    {
     "data": {
      "text/plain": [
       "True"
      ]
     },
     "execution_count": 6,
     "metadata": {},
     "output_type": "execute_result"
    }
   ],
   "source": [
    "s.isEmpty()"
   ]
  },
  {
   "cell_type": "code",
   "execution_count": 92,
   "id": "194a25e3",
   "metadata": {},
   "outputs": [],
   "source": [
    "s.push(3)\n",
    "s.push(4)\n",
    "s.push(5)"
   ]
  },
  {
   "cell_type": "code",
   "execution_count": 93,
   "id": "0a9b4159",
   "metadata": {},
   "outputs": [
    {
     "data": {
      "text/plain": [
       "False"
      ]
     },
     "execution_count": 93,
     "metadata": {},
     "output_type": "execute_result"
    }
   ],
   "source": [
    "s.isEmpty()"
   ]
  },
  {
   "cell_type": "code",
   "execution_count": 85,
   "id": "af6f000b",
   "metadata": {},
   "outputs": [
    {
     "name": "stdout",
     "output_type": "stream",
     "text": [
      "5 4 3 "
     ]
    }
   ],
   "source": [
    "s.traverse()"
   ]
  },
  {
   "cell_type": "code",
   "execution_count": 94,
   "id": "21644923",
   "metadata": {},
   "outputs": [
    {
     "data": {
      "text/plain": [
       "3"
      ]
     },
     "execution_count": 94,
     "metadata": {},
     "output_type": "execute_result"
    }
   ],
   "source": [
    "s.size()"
   ]
  },
  {
   "cell_type": "code",
   "execution_count": 86,
   "id": "c59e8605",
   "metadata": {},
   "outputs": [
    {
     "data": {
      "text/plain": [
       "5"
      ]
     },
     "execution_count": 86,
     "metadata": {},
     "output_type": "execute_result"
    }
   ],
   "source": [
    "s.peek()"
   ]
  },
  {
   "cell_type": "code",
   "execution_count": 77,
   "id": "a4950414",
   "metadata": {},
   "outputs": [],
   "source": [
    "s.pop()"
   ]
  },
  {
   "cell_type": "code",
   "execution_count": 87,
   "id": "4f4c471e",
   "metadata": {},
   "outputs": [
    {
     "data": {
      "text/plain": [
       "<bound method Stack.traverse of <__main__.Stack object at 0x0000024CE2BE5DC0>>"
      ]
     },
     "execution_count": 87,
     "metadata": {},
     "output_type": "execute_result"
    }
   ],
   "source": [
    "s.traverse"
   ]
  },
  {
   "cell_type": "markdown",
   "id": "3548f1eb",
   "metadata": {},
   "source": [
    "### 1. Reverse a string using Stack"
   ]
  },
  {
   "cell_type": "code",
   "execution_count": 109,
   "id": "a1187606",
   "metadata": {},
   "outputs": [],
   "source": [
    "def reverse(text):\n",
    "    s = Stack()\n",
    "    res = \"\"\n",
    "    # storing in stack in h->e->l->l->o manner\n",
    "    for i in text:\n",
    "        s.push(i)\n",
    "    \n",
    "    # removinig stack in LIFO manner O->l->l->e->h and storing it into a variable res and returning it\n",
    "    while (not s.isEmpty()):\n",
    "        res = res + s.pop()\n",
    "    return res"
   ]
  },
  {
   "cell_type": "code",
   "execution_count": 110,
   "id": "4d24076e",
   "metadata": {},
   "outputs": [
    {
     "data": {
      "text/plain": [
       "'olleH'"
      ]
     },
     "execution_count": 110,
     "metadata": {},
     "output_type": "execute_result"
    }
   ],
   "source": [
    "reverse(\"Hello\")"
   ]
  },
  {
   "cell_type": "markdown",
   "id": "7c56ef57",
   "metadata": {},
   "source": [
    "### 2. String Editor using Stacks"
   ]
  },
  {
   "cell_type": "markdown",
   "id": "00535eea",
   "metadata": {},
   "source": [
    "##### there will be two parameter in funtions\n",
    "1. string (any text)\n",
    "2. pattern (in form of uurrur,  urr etc), u=> undo (erase the last operation). r=> redo ( perform the last erased operations)"
   ]
  },
  {
   "cell_type": "code",
   "execution_count": 7,
   "id": "ff89b65b",
   "metadata": {},
   "outputs": [],
   "source": [
    "def string_editor(text, pattern):\n",
    "    \n",
    "    u = Stack()\n",
    "    r = Stack()\n",
    "    \n",
    "    for i in text:\n",
    "        u.push(i)\n",
    "        \n",
    "    for i in pattern:\n",
    "        if i == \"u\":\n",
    "            data = u.pop()\n",
    "            r.push(data)\n",
    "        if i == \"r\":\n",
    "            data = r.pop()\n",
    "            u.push(data)\n",
    "    \n",
    "    res = \"\"\n",
    "    while not u.isEmpty():\n",
    "        res = u.pop() + res\n",
    "    \n",
    "    return res"
   ]
  },
  {
   "cell_type": "code",
   "execution_count": 11,
   "id": "259a088c",
   "metadata": {},
   "outputs": [
    {
     "data": {
      "text/plain": [
       "'kolkata'"
      ]
     },
     "execution_count": 11,
     "metadata": {},
     "output_type": "execute_result"
    }
   ],
   "source": [
    "string_editor(\"kolkata\", \"uuurururrr\")"
   ]
  },
  {
   "cell_type": "markdown",
   "id": "4c8a18a4",
   "metadata": {},
   "source": [
    "### 3. Celebrity problem using Stack"
   ]
  },
  {
   "cell_type": "code",
   "execution_count": 6,
   "id": "720fc74d",
   "metadata": {},
   "outputs": [],
   "source": [
    "L = [[0,0,1,1],\n",
    "     [0,0,1,0],\n",
    "     [0,0,0,0],\n",
    "     [0,0,1,0]]\n",
    "# a = 0(index) , b = 1(index), c = 2(index), d = 3(index)\n",
    "# celebrity is the one everyone knows him but he does not know anybody, here c = 2(index) is the celebrity"
   ]
  },
  {
   "cell_type": "code",
   "execution_count": 7,
   "id": "325c99cd",
   "metadata": {},
   "outputs": [],
   "source": [
    "def celebrity(L):\n",
    "    \n",
    "    s = Stack()\n",
    "    \n",
    "    for i in range(len(L)):\n",
    "        s.push(i)\n",
    "        \n",
    "    while s.size() >= 2: # at the end of the loop stack will have only one element\n",
    "        \n",
    "        i = s.pop()\n",
    "        j = s.pop()\n",
    "        \n",
    "        if L[i][j] == 0: # i does not know j\n",
    "            # j is not a celebrity\n",
    "            s.push(i)\n",
    "        else: # i knows who is j\n",
    "            # i is not a celebrity\n",
    "            s.push(j)\n",
    "            \n",
    "    celeb = s.pop()\n",
    "    \n",
    "    for i in range(len(L)): # checking all the rows and columns of celeb(2) \n",
    "        if i != celeb: # we not checking for L[2][2]\n",
    "            if L[i][celeb]==0 or L[celeb][i]==1: # if anyone doesnot know celeb or celeb knows anyone\n",
    "                return \"No one is a Celebrity\"\n",
    "    return \"The Celebrity is \", celeb"
   ]
  },
  {
   "cell_type": "code",
   "execution_count": 8,
   "id": "24257675",
   "metadata": {},
   "outputs": [
    {
     "data": {
      "text/plain": [
       "('The Celebrity is ', 2)"
      ]
     },
     "execution_count": 8,
     "metadata": {},
     "output_type": "execute_result"
    }
   ],
   "source": [
    "celebrity(L)"
   ]
  },
  {
   "cell_type": "markdown",
   "id": "039049de",
   "metadata": {},
   "source": [
    "### 4. Balanced bracket using Stacks"
   ]
  },
  {
   "cell_type": "code",
   "execution_count": 44,
   "id": "d245aa21",
   "metadata": {},
   "outputs": [],
   "source": [
    "# this answer works only on single type of bracket\n",
    "\n",
    "def bbracket(string):\n",
    "    \n",
    "    s = Stack()\n",
    "    \n",
    "    for i in string:\n",
    "        if i == \"(\":\n",
    "            temp = i\n",
    "            s.push(i)\n",
    "        elif i == \")\":\n",
    "            if s.peek() == temp:\n",
    "                s.pop()\n",
    "            else:\n",
    "                return \"Imbalanced\"\n",
    "            \n",
    "            \n",
    "        if i == \"{\":\n",
    "            temp = i\n",
    "            s.push(i)\n",
    "        elif i == \"}\":\n",
    "            if s.peek() == temp:\n",
    "                s.pop()\n",
    "            else:\n",
    "                return \"Imbalanced\"\n",
    "            \n",
    "        \n",
    "        if i == \"[\":\n",
    "            temp = i\n",
    "            s.push(i)\n",
    "        elif i == \"]\":\n",
    "            if s.peek() == temp:\n",
    "                s.pop()\n",
    "            else:\n",
    "                return \"Imbalanced\"\n",
    "            \n",
    "            \n",
    "    if s.isEmpty():\n",
    "        return \"Balanced\"\n",
    "    else:\n",
    "        return \"Imbalanced\""
   ]
  },
  {
   "cell_type": "code",
   "execution_count": 46,
   "id": "97a823cd",
   "metadata": {},
   "outputs": [
    {
     "data": {
      "text/plain": [
       "'Imbalanced'"
      ]
     },
     "execution_count": 46,
     "metadata": {},
     "output_type": "execute_result"
    }
   ],
   "source": [
    "bbracket(\"([[dsojd]dja;]\")"
   ]
  },
  {
   "cell_type": "code",
   "execution_count": null,
   "id": "9cd91eac",
   "metadata": {},
   "outputs": [],
   "source": []
  }
 ],
 "metadata": {
  "kernelspec": {
   "display_name": "Python 3",
   "language": "python",
   "name": "python3"
  },
  "language_info": {
   "codemirror_mode": {
    "name": "ipython",
    "version": 3
   },
   "file_extension": ".py",
   "mimetype": "text/x-python",
   "name": "python",
   "nbconvert_exporter": "python",
   "pygments_lexer": "ipython3",
   "version": "3.8.8"
  }
 },
 "nbformat": 4,
 "nbformat_minor": 5
}
