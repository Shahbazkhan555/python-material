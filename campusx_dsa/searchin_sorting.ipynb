{
 "cells": [
  {
   "cell_type": "markdown",
   "id": "7167fa81",
   "metadata": {},
   "source": [
    "# Searching and Sorting\n",
    "1. Linear Searching\n",
    "2. Binary\n",
    "\n",
    "3. Sleep Sort\n",
    "4. Monkey Sort\n",
    "5. Bubble Sort\n",
    "6. Selection\n",
    "7. Merge Sort\n",
    "8. Quick Sort\n",
    "9. Insertion Sort\n",
    "     "
   ]
  },
  {
   "cell_type": "markdown",
   "id": "c2e19ee6",
   "metadata": {},
   "source": [
    "# Searching "
   ]
  },
  {
   "cell_type": "markdown",
   "id": "48fd3d62",
   "metadata": {},
   "source": [
    "### 1. Linear Search\n",
    "##### It is also called as brute force search. It's time complexity is O(n) and does not require sorting to search an item"
   ]
  },
  {
   "cell_type": "code",
   "execution_count": 5,
   "id": "201dce5a",
   "metadata": {},
   "outputs": [],
   "source": [
    "def linear_search(arr, item):\n",
    "    \n",
    "    for i in range(len(arr)):\n",
    "         if arr[i] == item:\n",
    "                return \"Found\"\n",
    "        \n",
    "    return \"Not found\""
   ]
  },
  {
   "cell_type": "code",
   "execution_count": 9,
   "id": "637930e4",
   "metadata": {},
   "outputs": [
    {
     "data": {
      "text/plain": [
       "'Found'"
      ]
     },
     "execution_count": 9,
     "metadata": {},
     "output_type": "execute_result"
    }
   ],
   "source": [
    "linear_search([1,3,4,5,6,7,8], 3)"
   ]
  },
  {
   "cell_type": "code",
   "execution_count": 10,
   "id": "a19668d0",
   "metadata": {},
   "outputs": [
    {
     "data": {
      "text/plain": [
       "'Not found'"
      ]
     },
     "execution_count": 10,
     "metadata": {},
     "output_type": "execute_result"
    }
   ],
   "source": [
    "linear_search([1,3,4,5,6,7,8], 10)"
   ]
  },
  {
   "cell_type": "markdown",
   "id": "212473d7",
   "metadata": {},
   "source": [
    "### 2. Binary Search\n",
    "##### It requires to sort the array before searching an item. time complexity is O(log(n))."
   ]
  },
  {
   "cell_type": "code",
   "execution_count": 3,
   "id": "90d692ab",
   "metadata": {},
   "outputs": [],
   "source": [
    "# this is a recursive binary search\n",
    "def binary_search(arr, low, high, item):\n",
    "    \n",
    "    #print(\"low = \",low,\"high = \",high,end=' ')\n",
    "    \n",
    "    if low <= high:\n",
    "        \n",
    "        mid = (low + high) // 2\n",
    "        \n",
    "        #print(\"mid value is\",arr[mid])\n",
    "        \n",
    "        if arr[mid] == item:\n",
    "            return mid # returning the index of the item\n",
    "        elif arr[mid] > item:\n",
    "            return binary_search(arr, low, mid-1, item)\n",
    "        else:\n",
    "            return binary_search(arr, mid+1, high, item)\n",
    "            \n",
    "    else:\n",
    "        return -1"
   ]
  },
  {
   "cell_type": "code",
   "execution_count": 5,
   "id": "6b7c2790",
   "metadata": {},
   "outputs": [
    {
     "name": "stdout",
     "output_type": "stream",
     "text": [
      "low =  0 high =  8 mid value is 5\n",
      "low =  0 high =  3 mid value is 2\n",
      "low =  2 high =  3 mid value is 3\n"
     ]
    },
    {
     "data": {
      "text/plain": [
       "2"
      ]
     },
     "execution_count": 5,
     "metadata": {},
     "output_type": "execute_result"
    }
   ],
   "source": [
    "arr = [1,2,3,4,5,6,7,8,9]\n",
    "# returns the index of the element\n",
    "binary_search(arr, 0, len(arr)-1, 3)"
   ]
  },
  {
   "cell_type": "code",
   "execution_count": 24,
   "id": "e8ebf5c1",
   "metadata": {},
   "outputs": [
    {
     "data": {
      "text/plain": [
       "4"
      ]
     },
     "execution_count": 24,
     "metadata": {},
     "output_type": "execute_result"
    }
   ],
   "source": [
    "binary_search(arr, 0, len(arr)-1, 5)"
   ]
  },
  {
   "cell_type": "markdown",
   "id": "41920d7b",
   "metadata": {},
   "source": [
    "# Sorting"
   ]
  },
  {
   "cell_type": "markdown",
   "id": "cedf9b65",
   "metadata": {},
   "source": [
    "## 1. Monkey Sort\n",
    "A monkey sort is a particularly ineffective computer science sorting algorithm. The algorithm randomly arranges the collection of items and then checks if that collection is in sorted order. If it is not, then it repeats the algorithm until it identifies a random collection that is in sorted order."
   ]
  },
  {
   "cell_type": "code",
   "execution_count": 28,
   "id": "3b46e6e5",
   "metadata": {},
   "outputs": [],
   "source": [
    "def is_sorted(arr):\n",
    "    \n",
    "    sorted = True\n",
    "    \n",
    "    for i in range(len(arr)-1):\n",
    "        if arr[i] > arr[i+1]:\n",
    "            sorted = False\n",
    "            \n",
    "    return sorted"
   ]
  },
  {
   "cell_type": "code",
   "execution_count": 31,
   "id": "b16c8dc1",
   "metadata": {},
   "outputs": [
    {
     "data": {
      "text/plain": [
       "True"
      ]
     },
     "execution_count": 31,
     "metadata": {},
     "output_type": "execute_result"
    }
   ],
   "source": [
    "arr = [1,2,3,4,5,6,7,8,9]\n",
    "is_sorted(arr)"
   ]
  },
  {
   "cell_type": "code",
   "execution_count": 41,
   "id": "8e3bf5c8",
   "metadata": {},
   "outputs": [],
   "source": [
    "import random\n",
    "import time\n",
    "\n",
    "def monkey_sort(arr):\n",
    "    \n",
    "    while not is_sorted(arr):\n",
    "        #time.sleep(1)\n",
    "        random.shuffle(arr)\n",
    "        print(arr)\n",
    "    print(arr)"
   ]
  },
  {
   "cell_type": "code",
   "execution_count": 42,
   "id": "7f9df42a",
   "metadata": {},
   "outputs": [
    {
     "name": "stdout",
     "output_type": "stream",
     "text": [
      "[12, 56, 20, 11, 24, 34]\n",
      "[24, 12, 34, 11, 56, 20]\n",
      "[34, 56, 12, 24, 20, 11]\n",
      "[56, 11, 20, 24, 34, 12]\n",
      "[56, 11, 34, 24, 12, 20]\n",
      "[11, 56, 12, 34, 20, 24]\n",
      "[11, 12, 20, 24, 34, 56]\n",
      "[11, 12, 20, 24, 34, 56]\n"
     ]
    }
   ],
   "source": [
    "a = [12,24,11,56,34,20]\n",
    "monkey_sort(a)"
   ]
  },
  {
   "cell_type": "markdown",
   "id": "6969c2e6",
   "metadata": {},
   "source": [
    "## 2. Bubble Sort\n",
    "Bubble sort is a basic algorithm for arranging a string of numbers or other elements in the correct order. The method works by examining each set of adjacent elements in the string, from left to right, switching their positions if they are out of order."
   ]
  },
  {
   "cell_type": "code",
   "execution_count": 44,
   "id": "b692ddcd",
   "metadata": {},
   "outputs": [],
   "source": [
    "def bubble_sort(arr):\n",
    "    \n",
    "    # no of passes(loop) to perform it is always size-1\n",
    "    for i in range(len(arr) -1):\n",
    "        \n",
    "        flag = 1\n",
    "        \n",
    "        # this loop for comparison, subtracting i because ith elements are sorted and gone to end of the array so no comparision required\n",
    "        for j in range(len(arr) - 1 - i):\n",
    "            if arr[j] > arr[j+1]:\n",
    "                arr[j], arr[j+1] = arr[j+1], arr[j]\n",
    "                flag = 1\n",
    "        \n",
    "        # using flag to check any swap happened if not then the array is sorted\n",
    "        if flag == 0:\n",
    "            break\n",
    "            \n",
    "    return arr"
   ]
  },
  {
   "cell_type": "code",
   "execution_count": 45,
   "id": "6dc7d685",
   "metadata": {},
   "outputs": [
    {
     "data": {
      "text/plain": [
       "[11, 12, 20, 24, 34, 56]"
      ]
     },
     "execution_count": 45,
     "metadata": {},
     "output_type": "execute_result"
    }
   ],
   "source": [
    "arr = [12,24,11,56,34,20]\n",
    "bubble_sort(arr)"
   ]
  },
  {
   "cell_type": "markdown",
   "id": "127c4fcc",
   "metadata": {},
   "source": [
    "## 3. Selection Sort"
   ]
  },
  {
   "cell_type": "code",
   "execution_count": 1,
   "id": "61173c06",
   "metadata": {},
   "outputs": [],
   "source": [
    "def selection_sort(arr):\n",
    "    \n",
    "    # this loop for passes\n",
    "    for i in range(len(arr) - 1):\n",
    "        \n",
    "        min = i\n",
    "        \n",
    "        for j in range(i+1, len(arr)):\n",
    "            \n",
    "            if arr[j] < arr[min]:\n",
    "                min = j\n",
    "                \n",
    "        arr[min], arr[i] = arr[i], arr[min]\n",
    "        \n",
    "    return arr"
   ]
  },
  {
   "cell_type": "code",
   "execution_count": 2,
   "id": "9a177bbd",
   "metadata": {},
   "outputs": [
    {
     "data": {
      "text/plain": [
       "[11, 12, 23, 34, 56, 78, 100]"
      ]
     },
     "execution_count": 2,
     "metadata": {},
     "output_type": "execute_result"
    }
   ],
   "source": [
    "arr = [23,12,34,11,100,56,78]\n",
    "selection_sort(arr)"
   ]
  },
  {
   "cell_type": "markdown",
   "id": "fbd4f729",
   "metadata": {},
   "source": [
    "## 4. Merge Sort"
   ]
  },
  {
   "cell_type": "code",
   "execution_count": 6,
   "id": "15239cef",
   "metadata": {},
   "outputs": [],
   "source": [
    "def sorted_arr(arr1, arr2):\n",
    "    \n",
    "    i = j = 0\n",
    "    merged = []\n",
    "    \n",
    "    while i < len(arr1) and j < len(arr2):\n",
    "        \n",
    "        if arr1[i] < arr2[j]:\n",
    "            merged.append(arr1[i])\n",
    "            i += 1\n",
    "            \n",
    "        else:\n",
    "            merged.append(arr2[j])\n",
    "            j += 1\n",
    "            \n",
    "    while i < len(arr1):\n",
    "        merged.append(arr1[i])\n",
    "        i += 1\n",
    "        \n",
    "    while j < len(arr2):\n",
    "        merged.append(arr2[j])\n",
    "        j += 1\n",
    "            \n",
    "    return merged"
   ]
  },
  {
   "cell_type": "code",
   "execution_count": 7,
   "id": "c9b66a5c",
   "metadata": {},
   "outputs": [
    {
     "data": {
      "text/plain": [
       "[1, 2, 3, 4, 5, 7, 8, 9, 10]"
      ]
     },
     "execution_count": 7,
     "metadata": {},
     "output_type": "execute_result"
    }
   ],
   "source": [
    "arr1 = [1,2,4]\n",
    "arr2 = [3,5,7,8,9,10]\n",
    "sorted_arr(arr1,arr2)"
   ]
  },
  {
   "cell_type": "code",
   "execution_count": 10,
   "id": "9b7f4183",
   "metadata": {},
   "outputs": [],
   "source": [
    "def merge_sort(arr):\n",
    "    \n",
    "    if len(arr) == 1:\n",
    "        return arr\n",
    "    \n",
    "    mid = len(arr)//2\n",
    "    \n",
    "    left = arr[:mid]\n",
    "    right = arr[mid:]\n",
    "    \n",
    "    arr1 = merge_sort(left)\n",
    "    arr2 = merge_sort(right)\n",
    "    \n",
    "    return sorted_arr(arr1,arr2)"
   ]
  },
  {
   "cell_type": "code",
   "execution_count": 11,
   "id": "91555edb",
   "metadata": {},
   "outputs": [
    {
     "data": {
      "text/plain": [
       "[1, 3, 5, 6, 7, 8, 9, 34]"
      ]
     },
     "execution_count": 11,
     "metadata": {},
     "output_type": "execute_result"
    }
   ],
   "source": [
    "arr = [1,5,7,9,6,34,8,3]\n",
    "merge_sort(arr)"
   ]
  },
  {
   "cell_type": "markdown",
   "id": "bafe598d",
   "metadata": {},
   "source": [
    "## 5. Insertion Sort\n",
    "(Amulya Academy)\n"
   ]
  },
  {
   "cell_type": "code",
   "execution_count": 5,
   "id": "1c4a1f1b",
   "metadata": {},
   "outputs": [],
   "source": [
    "def insertion_sort(arr):\n",
    "    \n",
    "    for index in range(1, len(arr)):\n",
    "        current_element = arr[index]\n",
    "        pos = index\n",
    "        \n",
    "        while current_element < arr[pos-1] and pos > 0:\n",
    "            arr[pos] = arr[pos-1]\n",
    "            pos -= 1\n",
    "        arr[pos] = current_element\n",
    "        print(arr[pos])\n",
    "        \n",
    "    return arr"
   ]
  },
  {
   "cell_type": "code",
   "execution_count": 6,
   "id": "c6728d48",
   "metadata": {},
   "outputs": [
    {
     "name": "stdout",
     "output_type": "stream",
     "text": [
      "6\n",
      "3\n",
      "88\n",
      "8\n",
      "64\n",
      "4\n"
     ]
    },
    {
     "data": {
      "text/plain": [
       "[1, 3, 4, 6, 8, 64, 88]"
      ]
     },
     "execution_count": 6,
     "metadata": {},
     "output_type": "execute_result"
    }
   ],
   "source": [
    "arr = [1,6,3,88,8,64,4]\n",
    "insertion_sort(arr)"
   ]
  },
  {
   "cell_type": "markdown",
   "id": "8decb3c1",
   "metadata": {},
   "source": [
    "## 6. Quick Sort\n",
    "(Amulya Academy)"
   ]
  },
  {
   "cell_type": "code",
   "execution_count": 1,
   "id": "9310cca7",
   "metadata": {},
   "outputs": [],
   "source": [
    "def pivot_place(list1, first, last):\n",
    "    \n",
    "    # if we'll take first element of array as pivot, here we'll swap pivot with right element and return right \n",
    "    # if we'll take last element of array as pivot, here we'll swap pivot with left element and return left\n",
    "    pivot = list1[first]\n",
    "    left = first + 1\n",
    "    right = last\n",
    "    \n",
    "    while True:\n",
    "        \n",
    "        while left <= right and list1[left] <= pivot:\n",
    "            left += 1\n",
    "        while left <= right and list1[right] >= pivot:\n",
    "            right -= 1\n",
    "        if left > right:\n",
    "            break\n",
    "        else:\n",
    "            list1[left], list1[right] = list1[right], list1[left]\n",
    "    \n",
    "    list1[first], list1[right] = list1[right], list1[first]\n",
    "    \n",
    "    return right\n"
   ]
  },
  {
   "cell_type": "code",
   "execution_count": 2,
   "id": "77455f0e",
   "metadata": {},
   "outputs": [],
   "source": [
    "def quick_sort(list1, first, last):\n",
    "    \n",
    "    if first < last:\n",
    "        \n",
    "        p = pivot_place(list1, first, last)\n",
    "        quick_sort(list1, first, p-1)\n",
    "        quick_sort(list1, p+1, last)"
   ]
  },
  {
   "cell_type": "code",
   "execution_count": 3,
   "id": "82b38282",
   "metadata": {},
   "outputs": [
    {
     "name": "stdout",
     "output_type": "stream",
     "text": [
      "[1, 3, 4, 6, 9, 45, 65, 97]\n"
     ]
    }
   ],
   "source": [
    "list1 = [1,6,4,3,9,65,97,45]\n",
    "size = len(list1)\n",
    "quick_sort(list1,0,size-1)\n",
    "print(list1)"
   ]
  },
  {
   "cell_type": "code",
   "execution_count": 4,
   "id": "9a196b98",
   "metadata": {},
   "outputs": [],
   "source": [
    "# taking random element as pivot\n",
    "\n",
    "import random\n",
    "def pivot_place(list1, first, last):\n",
    "    \n",
    "    rindex = random.randint(first, last)\n",
    "    list1[rindex], list1[first] = list1[rindex], list1[first]\n",
    "    \n",
    "    pivot = list1[first]\n",
    "    left = first + 1\n",
    "    right = last\n",
    "    \n",
    "    while True:\n",
    "        \n",
    "        while left <= right and list1[left] <= pivot:\n",
    "            left += 1\n",
    "        while left <= right and list1[right] >= pivot:\n",
    "            right -= 1\n",
    "        if left > right:\n",
    "            break\n",
    "        else:\n",
    "            list1[left], list1[right] = list1[right], list1[left]\n",
    "    \n",
    "    list1[first], list1[right] = list1[right], list1[first]\n",
    "    \n",
    "    return right\n"
   ]
  },
  {
   "cell_type": "code",
   "execution_count": 5,
   "id": "71889f46",
   "metadata": {},
   "outputs": [],
   "source": [
    "def quick_sort(list1, first, last):\n",
    "    \n",
    "    if first < last:\n",
    "        \n",
    "        p = pivot_place(list1, first, last)\n",
    "        quick_sort(list1, first, p-1)\n",
    "        quick_sort(list1, p+1, last)"
   ]
  },
  {
   "cell_type": "code",
   "execution_count": 6,
   "id": "fd1d4e3f",
   "metadata": {},
   "outputs": [
    {
     "name": "stdout",
     "output_type": "stream",
     "text": [
      "[1, 3, 4, 6, 9, 45, 65, 97]\n"
     ]
    }
   ],
   "source": [
    "list1 = [1,6,4,3,9,65,97,45]\n",
    "size = len(list1)\n",
    "quick_sort(list1,0,size-1)\n",
    "print(list1)"
   ]
  },
  {
   "cell_type": "code",
   "execution_count": 10,
   "id": "6c3143c6",
   "metadata": {},
   "outputs": [],
   "source": [
    "# taking median element as pivot\n",
    "\n",
    "import statistics\n",
    "def pivot_place(list1, first, last):\n",
    "    \n",
    "    low = list1[first]\n",
    "    high = list1[last]\n",
    "    mid = low + high //2\n",
    "    \n",
    "    pivot_val = statistics.mean(low,list1[mid],high)\n",
    "    \n",
    "    if pivot_val == low:\n",
    "        pindex = first\n",
    "    elif pivot_val == high:\n",
    "        pindex = last\n",
    "    else:\n",
    "        pindex = mid\n",
    "    \n",
    "    list1[pindex], list1[first] = list1[first], list1[pindex]\n",
    "    \n",
    "    pivot = list1[first]\n",
    "    left = first + 1\n",
    "    right = last\n",
    "    \n",
    "    while True:\n",
    "        \n",
    "        while left <= right and list1[left] <= pivot:\n",
    "            left += 1\n",
    "        while left <= right and list1[right] >= pivot:\n",
    "            right -= 1\n",
    "        if left > right:\n",
    "            break\n",
    "        else:\n",
    "            list1[left], list1[right] = list1[right], list1[left]\n",
    "    \n",
    "    list1[first], list1[right] = list1[right], list1[first]\n",
    "    \n",
    "    return right"
   ]
  },
  {
   "cell_type": "code",
   "execution_count": 11,
   "id": "0012e182",
   "metadata": {},
   "outputs": [],
   "source": [
    "def quick_sort(list1, first, last):\n",
    "    \n",
    "    if first < last:\n",
    "        \n",
    "        p = pivot_place(list1, first, last)\n",
    "        quick_sort(list1, first, p-1)\n",
    "        quick_sort(list1, p+1, last)"
   ]
  },
  {
   "cell_type": "code",
   "execution_count": 12,
   "id": "155768af",
   "metadata": {},
   "outputs": [
    {
     "ename": "IndexError",
     "evalue": "list index out of range",
     "output_type": "error",
     "traceback": [
      "\u001b[1;31m---------------------------------------------------------------------------\u001b[0m",
      "\u001b[1;31mIndexError\u001b[0m                                Traceback (most recent call last)",
      "\u001b[1;32m<ipython-input-12-d58ccbce2a0f>\u001b[0m in \u001b[0;36m<module>\u001b[1;34m\u001b[0m\n\u001b[0;32m      1\u001b[0m \u001b[0mlist1\u001b[0m \u001b[1;33m=\u001b[0m \u001b[1;33m[\u001b[0m\u001b[1;36m1\u001b[0m\u001b[1;33m,\u001b[0m\u001b[1;36m6\u001b[0m\u001b[1;33m,\u001b[0m\u001b[1;36m4\u001b[0m\u001b[1;33m,\u001b[0m\u001b[1;36m3\u001b[0m\u001b[1;33m,\u001b[0m\u001b[1;36m9\u001b[0m\u001b[1;33m,\u001b[0m\u001b[1;36m65\u001b[0m\u001b[1;33m,\u001b[0m\u001b[1;36m97\u001b[0m\u001b[1;33m,\u001b[0m\u001b[1;36m45\u001b[0m\u001b[1;33m]\u001b[0m\u001b[1;33m\u001b[0m\u001b[1;33m\u001b[0m\u001b[0m\n\u001b[0;32m      2\u001b[0m \u001b[0msize\u001b[0m \u001b[1;33m=\u001b[0m \u001b[0mlen\u001b[0m\u001b[1;33m(\u001b[0m\u001b[0mlist1\u001b[0m\u001b[1;33m)\u001b[0m\u001b[1;33m\u001b[0m\u001b[1;33m\u001b[0m\u001b[0m\n\u001b[1;32m----> 3\u001b[1;33m \u001b[0mquick_sort\u001b[0m\u001b[1;33m(\u001b[0m\u001b[0mlist1\u001b[0m\u001b[1;33m,\u001b[0m\u001b[1;36m0\u001b[0m\u001b[1;33m,\u001b[0m\u001b[0msize\u001b[0m\u001b[1;33m-\u001b[0m\u001b[1;36m1\u001b[0m\u001b[1;33m)\u001b[0m\u001b[1;33m\u001b[0m\u001b[1;33m\u001b[0m\u001b[0m\n\u001b[0m\u001b[0;32m      4\u001b[0m \u001b[0mprint\u001b[0m\u001b[1;33m(\u001b[0m\u001b[0mlist1\u001b[0m\u001b[1;33m)\u001b[0m\u001b[1;33m\u001b[0m\u001b[1;33m\u001b[0m\u001b[0m\n",
      "\u001b[1;32m<ipython-input-11-6ad3b0eddfd1>\u001b[0m in \u001b[0;36mquick_sort\u001b[1;34m(list1, first, last)\u001b[0m\n\u001b[0;32m      3\u001b[0m     \u001b[1;32mif\u001b[0m \u001b[0mfirst\u001b[0m \u001b[1;33m<\u001b[0m \u001b[0mlast\u001b[0m\u001b[1;33m:\u001b[0m\u001b[1;33m\u001b[0m\u001b[1;33m\u001b[0m\u001b[0m\n\u001b[0;32m      4\u001b[0m \u001b[1;33m\u001b[0m\u001b[0m\n\u001b[1;32m----> 5\u001b[1;33m         \u001b[0mp\u001b[0m \u001b[1;33m=\u001b[0m \u001b[0mpivot_place\u001b[0m\u001b[1;33m(\u001b[0m\u001b[0mlist1\u001b[0m\u001b[1;33m,\u001b[0m \u001b[0mfirst\u001b[0m\u001b[1;33m,\u001b[0m \u001b[0mlast\u001b[0m\u001b[1;33m)\u001b[0m\u001b[1;33m\u001b[0m\u001b[1;33m\u001b[0m\u001b[0m\n\u001b[0m\u001b[0;32m      6\u001b[0m         \u001b[0mquick_sort\u001b[0m\u001b[1;33m(\u001b[0m\u001b[0mlist1\u001b[0m\u001b[1;33m,\u001b[0m \u001b[0mfirst\u001b[0m\u001b[1;33m,\u001b[0m \u001b[0mp\u001b[0m\u001b[1;33m-\u001b[0m\u001b[1;36m1\u001b[0m\u001b[1;33m)\u001b[0m\u001b[1;33m\u001b[0m\u001b[1;33m\u001b[0m\u001b[0m\n\u001b[0;32m      7\u001b[0m         \u001b[0mquick_sort\u001b[0m\u001b[1;33m(\u001b[0m\u001b[0mlist1\u001b[0m\u001b[1;33m,\u001b[0m \u001b[0mp\u001b[0m\u001b[1;33m+\u001b[0m\u001b[1;36m1\u001b[0m\u001b[1;33m,\u001b[0m \u001b[0mlast\u001b[0m\u001b[1;33m)\u001b[0m\u001b[1;33m\u001b[0m\u001b[1;33m\u001b[0m\u001b[0m\n",
      "\u001b[1;32m<ipython-input-10-d66ba65f0001>\u001b[0m in \u001b[0;36mpivot_place\u001b[1;34m(list1, first, last)\u001b[0m\n\u001b[0;32m      8\u001b[0m     \u001b[0mmid\u001b[0m \u001b[1;33m=\u001b[0m \u001b[0mlow\u001b[0m \u001b[1;33m+\u001b[0m \u001b[0mhigh\u001b[0m \u001b[1;33m//\u001b[0m\u001b[1;36m2\u001b[0m\u001b[1;33m\u001b[0m\u001b[1;33m\u001b[0m\u001b[0m\n\u001b[0;32m      9\u001b[0m \u001b[1;33m\u001b[0m\u001b[0m\n\u001b[1;32m---> 10\u001b[1;33m     \u001b[0mpivot_val\u001b[0m \u001b[1;33m=\u001b[0m \u001b[0mstatistics\u001b[0m\u001b[1;33m.\u001b[0m\u001b[0mmean\u001b[0m\u001b[1;33m(\u001b[0m\u001b[0mlow\u001b[0m\u001b[1;33m,\u001b[0m\u001b[0mlist1\u001b[0m\u001b[1;33m[\u001b[0m\u001b[0mmid\u001b[0m\u001b[1;33m]\u001b[0m\u001b[1;33m,\u001b[0m\u001b[0mhigh\u001b[0m\u001b[1;33m)\u001b[0m\u001b[1;33m\u001b[0m\u001b[1;33m\u001b[0m\u001b[0m\n\u001b[0m\u001b[0;32m     11\u001b[0m \u001b[1;33m\u001b[0m\u001b[0m\n\u001b[0;32m     12\u001b[0m     \u001b[1;32mif\u001b[0m \u001b[0mpivot_val\u001b[0m \u001b[1;33m==\u001b[0m \u001b[0mlow\u001b[0m\u001b[1;33m:\u001b[0m\u001b[1;33m\u001b[0m\u001b[1;33m\u001b[0m\u001b[0m\n",
      "\u001b[1;31mIndexError\u001b[0m: list index out of range"
     ]
    }
   ],
   "source": [
    "list1 = [1,6,4,3,9,65,97,45]\n",
    "size = len(list1)\n",
    "quick_sort(list1,0,size-1)\n",
    "print(list1)"
   ]
  },
  {
   "cell_type": "markdown",
   "id": "38c2e54c",
   "metadata": {},
   "source": [
    "## 7. Shell Short\n",
    "(amulya academy)"
   ]
  },
  {
   "cell_type": "code",
   "execution_count": 7,
   "id": "426a3874",
   "metadata": {},
   "outputs": [],
   "source": [
    "def shell_sort(alist):\n",
    "    gap = len(alist)//2\n",
    "    \n",
    "    while gap > 0:\n",
    "        \n",
    "        for index in range(gap, len(alist)):\n",
    "            current_element = alist[index]\n",
    "            pos = index\n",
    "            \n",
    "            while pos >= gap and current_element < alist[pos-gap]:\n",
    "                alist[pos] = alist[pos-gap]\n",
    "                pos = pos-gap\n",
    "                \n",
    "            alist[pos] = current_element\n",
    "        \n",
    "        gap = gap//2"
   ]
  },
  {
   "cell_type": "code",
   "execution_count": null,
   "id": "7e5b22c5",
   "metadata": {},
   "outputs": [],
   "source": [
    "alist = [54, 26, 93, 17, 77, 31, 44, 55, 20]\n"
   ]
  }
 ],
 "metadata": {
  "kernelspec": {
   "display_name": "Python 3",
   "language": "python",
   "name": "python3"
  },
  "language_info": {
   "codemirror_mode": {
    "name": "ipython",
    "version": 3
   },
   "file_extension": ".py",
   "mimetype": "text/x-python",
   "name": "python",
   "nbconvert_exporter": "python",
   "pygments_lexer": "ipython3",
   "version": "3.8.8"
  }
 },
 "nbformat": 4,
 "nbformat_minor": 5
}
