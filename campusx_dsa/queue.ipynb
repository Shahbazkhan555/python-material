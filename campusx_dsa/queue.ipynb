{
 "cells": [
  {
   "cell_type": "markdown",
   "id": "084b610f",
   "metadata": {},
   "source": [
    "# Queue"
   ]
  },
  {
   "cell_type": "markdown",
   "id": "d3d7b698",
   "metadata": {},
   "source": [
    "### Queue is a data linear data structure and it follows the technique called FIFO (First In First Out).\n",
    "the insertion will be from tail and deletion would be from head"
   ]
  },
  {
   "cell_type": "code",
   "execution_count": 1,
   "id": "45660b12",
   "metadata": {},
   "outputs": [],
   "source": [
    "class Node:\n",
    "    def __init__(self,data):\n",
    "        self.data = data\n",
    "        self.next = None"
   ]
  },
  {
   "cell_type": "code",
   "execution_count": 29,
   "id": "8b05130b",
   "metadata": {},
   "outputs": [],
   "source": [
    "class Queue:\n",
    "    \n",
    "    def __init__(self):\n",
    "        self.rear = None\n",
    "        self.front = None\n",
    "        \n",
    "    def enqueue(self,data): # adding a new Node\n",
    "        new_node = Node(data)\n",
    "        if self.rear == None:\n",
    "            self.rear = new_node\n",
    "            self.front = self.rear\n",
    "        else:\n",
    "            self.rear.next = new_node\n",
    "            self.rear = new_node\n",
    "            \n",
    "    def dequeue(self):\n",
    "        if self.front == None:\n",
    "            return \"Queue is empty\"\n",
    "        else:\n",
    "            self.front = self.front.next\n",
    "            \n",
    "    def traverse(self):\n",
    "        n = self.front\n",
    "        while n != None:\n",
    "            print(n.data, end=\" \")\n",
    "            n = n.next\n",
    "            \n",
    "    def isEmpty(self):\n",
    "        return self.front == None\n",
    "    \n",
    "    def size(self):\n",
    "        n = self.front\n",
    "        counter = 0\n",
    "        while n != None:\n",
    "            counter += 1\n",
    "            n = n.next\n",
    "        return counter\n",
    "    \n",
    "    def front_peak(self):\n",
    "        if self.front == None:\n",
    "            return \"Queue is Empty\"\n",
    "        else:\n",
    "            return self.front.data\n",
    "        \n",
    "    def rear_peak(self):\n",
    "        if self.rear == None:\n",
    "            return \"Queue is Empty\"\n",
    "        else:\n",
    "            return self.rear.data"
   ]
  },
  {
   "cell_type": "code",
   "execution_count": 30,
   "id": "9b2c7cb8",
   "metadata": {},
   "outputs": [],
   "source": [
    "q = Queue()\n"
   ]
  },
  {
   "cell_type": "code",
   "execution_count": 31,
   "id": "8bd58439",
   "metadata": {},
   "outputs": [],
   "source": [
    "q.enqueue(3)\n",
    "q.enqueue(4)\n",
    "q.enqueue(5)\n",
    "q.enqueue(6)"
   ]
  },
  {
   "cell_type": "code",
   "execution_count": 32,
   "id": "e780934a",
   "metadata": {},
   "outputs": [
    {
     "name": "stdout",
     "output_type": "stream",
     "text": [
      "3 4 5 6 "
     ]
    }
   ],
   "source": [
    "q.traverse()"
   ]
  },
  {
   "cell_type": "code",
   "execution_count": 33,
   "id": "065f76a5",
   "metadata": {},
   "outputs": [],
   "source": [
    "q.dequeue()"
   ]
  },
  {
   "cell_type": "code",
   "execution_count": 34,
   "id": "267a08c4",
   "metadata": {},
   "outputs": [
    {
     "name": "stdout",
     "output_type": "stream",
     "text": [
      "4 5 6 "
     ]
    }
   ],
   "source": [
    "q.traverse()"
   ]
  },
  {
   "cell_type": "code",
   "execution_count": 35,
   "id": "a61a2f6e",
   "metadata": {},
   "outputs": [
    {
     "data": {
      "text/plain": [
       "3"
      ]
     },
     "execution_count": 35,
     "metadata": {},
     "output_type": "execute_result"
    }
   ],
   "source": [
    "q.size()"
   ]
  },
  {
   "cell_type": "code",
   "execution_count": 36,
   "id": "c9173f61",
   "metadata": {},
   "outputs": [
    {
     "data": {
      "text/plain": [
       "6"
      ]
     },
     "execution_count": 36,
     "metadata": {},
     "output_type": "execute_result"
    }
   ],
   "source": [
    "q.rear_peak()"
   ]
  },
  {
   "cell_type": "code",
   "execution_count": 37,
   "id": "f1421457",
   "metadata": {},
   "outputs": [
    {
     "data": {
      "text/plain": [
       "4"
      ]
     },
     "execution_count": 37,
     "metadata": {},
     "output_type": "execute_result"
    }
   ],
   "source": [
    "q.front_peak()"
   ]
  },
  {
   "cell_type": "markdown",
   "id": "b51a8e93",
   "metadata": {},
   "source": [
    "### Implementation of Queue using 2 Stacks"
   ]
  },
  {
   "cell_type": "code",
   "execution_count": 9,
   "id": "43755a8e",
   "metadata": {},
   "outputs": [],
   "source": [
    "class Queue:\n",
    "    def __init__(self):\n",
    "        # python list is nothing but a stack\n",
    "        self.s1 = []\n",
    "        self.s2 = []\n",
    "        \n",
    "    def enqueue(self,data):        \n",
    "\n",
    "        # move all element from s1 to s2\n",
    "        while len(self.s1) != 0:\n",
    "            self.s2.append(self.s1[-1])\n",
    "            self.s1.pop()\n",
    "        \n",
    "        # pushing element to s1 when it is empty\n",
    "        self.s1.append(data)\n",
    "        \n",
    "        # move all elements from s1 to s2\n",
    "        while len(self.s2) != 0:\n",
    "            self.s1.append(self.s2[-1])\n",
    "            self.s2.pop()\n",
    "        \n",
    "    def dequeue(self):\n",
    "        if len(self.s1) == 0:\n",
    "            return \"empty Queue\"\n",
    "        x = self.s1[-1]\n",
    "        self.s1.pop()\n",
    "        return x"
   ]
  },
  {
   "cell_type": "code",
   "execution_count": 10,
   "id": "836df265",
   "metadata": {},
   "outputs": [],
   "source": [
    "q = Queue()"
   ]
  },
  {
   "cell_type": "code",
   "execution_count": 16,
   "id": "6dc37f23",
   "metadata": {},
   "outputs": [],
   "source": [
    "q.enqueue(1)\n",
    "q.enqueue(2)\n",
    "q.enqueue(3)"
   ]
  },
  {
   "cell_type": "code",
   "execution_count": 17,
   "id": "e37024e0",
   "metadata": {},
   "outputs": [
    {
     "data": {
      "text/plain": [
       "1"
      ]
     },
     "execution_count": 17,
     "metadata": {},
     "output_type": "execute_result"
    }
   ],
   "source": [
    "q.dequeue()"
   ]
  },
  {
   "cell_type": "code",
   "execution_count": null,
   "id": "fd6d2cd7",
   "metadata": {},
   "outputs": [],
   "source": []
  },
  {
   "cell_type": "code",
   "execution_count": null,
   "id": "d5be7aff",
   "metadata": {},
   "outputs": [],
   "source": []
  }
 ],
 "metadata": {
  "kernelspec": {
   "display_name": "Python 3",
   "language": "python",
   "name": "python3"
  },
  "language_info": {
   "codemirror_mode": {
    "name": "ipython",
    "version": 3
   },
   "file_extension": ".py",
   "mimetype": "text/x-python",
   "name": "python",
   "nbconvert_exporter": "python",
   "pygments_lexer": "ipython3",
   "version": "3.8.8"
  }
 },
 "nbformat": 4,
 "nbformat_minor": 5
}
