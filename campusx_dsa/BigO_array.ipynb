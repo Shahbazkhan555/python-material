{
 "cells": [
  {
   "cell_type": "markdown",
   "id": "c0450700",
   "metadata": {},
   "source": [
    "# Big O Notation"
   ]
  },
  {
   "cell_type": "markdown",
   "id": "4222aa55",
   "metadata": {},
   "source": [
    "### Practice Questions"
   ]
  },
  {
   "cell_type": "code",
   "execution_count": 2,
   "id": "646fc30c",
   "metadata": {},
   "outputs": [
    {
     "name": "stdout",
     "output_type": "stream",
     "text": [
      "10\n"
     ]
    }
   ],
   "source": [
    "lst = [1,2,3,4]\n",
    "lst_sum = 0\n",
    "for i in lst:\n",
    "    lst_sum += i\n",
    "print(lst_sum)"
   ]
  },
  {
   "cell_type": "code",
   "execution_count": 8,
   "id": "e9bf19c2",
   "metadata": {},
   "outputs": [],
   "source": [
    "# converting an integer to string\n",
    "def intToStr(num):\n",
    "    digit = \"0123456789\"\n",
    "    if num == 0:\n",
    "        return \"0\"\n",
    "    result = \"\"\n",
    "    while num > 0:\n",
    "        result = digit[num%10] + result\n",
    "        num = num // 10\n",
    "    return result"
   ]
  },
  {
   "cell_type": "code",
   "execution_count": 10,
   "id": "1b219428",
   "metadata": {},
   "outputs": [
    {
     "data": {
      "text/plain": [
       "'1243'"
      ]
     },
     "execution_count": 10,
     "metadata": {},
     "output_type": "execute_result"
    }
   ],
   "source": [
    "# time: log(n). because if inp=1234, loop iteration will be 4. if inp=12345, loop iteration will be 5.\n",
    "# input is multiplying and time is adding (increasing by 1)\n",
    "# remember if anything is  getting divided in loop generally it's log(n)\n",
    "intToStr(1243)"
   ]
  },
  {
   "cell_type": "code",
   "execution_count": null,
   "id": "0f25c3cb",
   "metadata": {},
   "outputs": [],
   "source": []
  },
  {
   "cell_type": "markdown",
   "id": "7c95366c",
   "metadata": {},
   "source": [
    "# LinkedList problems"
   ]
  },
  {
   "cell_type": "markdown",
   "id": "9ac282a9",
   "metadata": {},
   "source": []
  },
  {
   "cell_type": "code",
   "execution_count": 38,
   "id": "1bb0d2aa",
   "metadata": {},
   "outputs": [],
   "source": [
    "class Node:\n",
    "    def __init__(self,data):\n",
    "        self.data = data\n",
    "        self.next = None\n",
    "class LinkedList:\n",
    "    def __init__(self):\n",
    "        self.head = None\n",
    "    def printLL(self):\n",
    "        if self.head == None:\n",
    "            print(\"LinkedList is empty\")\n",
    "        else:\n",
    "            n = self.head\n",
    "            while n != None:\n",
    "                print(n.data, \" \", end=\" \")\n",
    "                n = n.next\n",
    "    def add_begin(self,data):\n",
    "        new_node = Node(data)\n",
    "        new_node.next = self.head\n",
    "        self.head = new_node\n",
    "        "
   ]
  },
  {
   "cell_type": "code",
   "execution_count": 39,
   "id": "975487aa",
   "metadata": {},
   "outputs": [],
   "source": [
    "LL = LinkedList()"
   ]
  },
  {
   "cell_type": "code",
   "execution_count": 40,
   "id": "fcb33885",
   "metadata": {},
   "outputs": [],
   "source": [
    "LL.add_begin(1)\n",
    "LL.add_begin(2)\n",
    "LL.add_begin(3)\n",
    "LL.add_begin(4)"
   ]
  },
  {
   "cell_type": "code",
   "execution_count": 41,
   "id": "a1397dec",
   "metadata": {},
   "outputs": [
    {
     "name": "stdout",
     "output_type": "stream",
     "text": [
      "4   3   2   1   "
     ]
    }
   ],
   "source": [
    "LL.printLL()"
   ]
  },
  {
   "cell_type": "markdown",
   "id": "e0b98357",
   "metadata": {},
   "source": [
    "### 1. Write a function where head and it's next reference is given to it. print the number 1234321 if linkedlist contains 1234 only"
   ]
  },
  {
   "cell_type": "code",
   "execution_count": 42,
   "id": "619d75e9",
   "metadata": {},
   "outputs": [],
   "source": [
    "def func(head):\n",
    "    if head == None:\n",
    "        return\n",
    "    if head.next.next != None:\n",
    "        print(head.data, end=\" \")\n",
    "        func(head.next)\n",
    "    print(head.data, end=\" \")"
   ]
  },
  {
   "cell_type": "code",
   "execution_count": null,
   "id": "745d471f",
   "metadata": {},
   "outputs": [],
   "source": [
    "func()"
   ]
  },
  {
   "cell_type": "markdown",
   "id": "05fab126",
   "metadata": {},
   "source": [
    "### 2. Write a python program to replace a maximum value in a linked list with the given value"
   ]
  },
  {
   "cell_type": "code",
   "execution_count": null,
   "id": "67bf32c1",
   "metadata": {},
   "outputs": [],
   "source": [
    "class Node:\n",
    "    def __init__(self,data):\n",
    "        self.data = data\n",
    "        self.next = None\n",
    "class LinkedList:\n",
    "    def __init__(self):\n",
    "        self.head = None\n",
    "    def printLL(self):\n",
    "        if self.head == None:\n",
    "            print(\"LinkedList is empty\")\n",
    "        else:\n",
    "            n = self.head\n",
    "            while n != None:\n",
    "                print(n.data, \" \", end=\" \")\n",
    "                n = n.next\n",
    "    def add_begin(self,data):\n",
    "        new_node = Node(data)\n",
    "        new_node.next = self.head\n",
    "        self.head = new_node\n",
    "    def replace_by_value(self,data):\n",
    "        new_node = Node(data)\n",
    "        max = 0\n",
    "        n = self.head\n",
    "        while n != None:\n",
    "            if n.data > max:\n",
    "                max = n.data\n",
    "            n = n.next\n",
    "        \n",
    "        "
   ]
  }
 ],
 "metadata": {
  "kernelspec": {
   "display_name": "Python 3",
   "language": "python",
   "name": "python3"
  },
  "language_info": {
   "codemirror_mode": {
    "name": "ipython",
    "version": 3
   },
   "file_extension": ".py",
   "mimetype": "text/x-python",
   "name": "python",
   "nbconvert_exporter": "python",
   "pygments_lexer": "ipython3",
   "version": "3.8.8"
  }
 },
 "nbformat": 4,
 "nbformat_minor": 5
}
