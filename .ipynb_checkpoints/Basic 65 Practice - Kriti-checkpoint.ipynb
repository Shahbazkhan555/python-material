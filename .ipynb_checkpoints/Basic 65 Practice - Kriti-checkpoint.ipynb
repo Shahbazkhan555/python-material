{
 "cells": [
  {
   "cell_type": "code",
   "execution_count": 2,
   "id": "d14e99cb",
   "metadata": {},
   "outputs": [
    {
     "name": "stdout",
     "output_type": "stream",
     "text": [
      "Hello, World!\n"
     ]
    }
   ],
   "source": [
    "print('Hello, World!')"
   ]
  },
  {
   "cell_type": "code",
   "execution_count": 5,
   "id": "3d228cbc",
   "metadata": {},
   "outputs": [
    {
     "name": "stdout",
     "output_type": "stream",
     "text": [
      "Enter an integer: 78\n",
      "You entered the number  78\n"
     ]
    }
   ],
   "source": [
    "num = int(input('Enter an integer: '))\n",
    "print('You entered the number ',num)"
   ]
  },
  {
   "cell_type": "code",
   "execution_count": 7,
   "id": "8a4c17d1",
   "metadata": {},
   "outputs": [
    {
     "name": "stdout",
     "output_type": "stream",
     "text": [
      "Enter a number to add: 5\n",
      "Enter another number to add: 12\n",
      "The added result is  17\n"
     ]
    }
   ],
   "source": [
    "num1 = int(input('Enter a number to add: '))\n",
    "num2 = int(input('Enter another number to add: '))\n",
    "print('The added result is ',num1+num2)"
   ]
  },
  {
   "cell_type": "code",
   "execution_count": 13,
   "id": "237dffd2",
   "metadata": {},
   "outputs": [
    {
     "name": "stdout",
     "output_type": "stream",
     "text": [
      "Enter a number to be divided: 19\n",
      "Enter another number to divided by: 4\n",
      "The quotient is  4.75\n",
      "The remainder is  3\n"
     ]
    }
   ],
   "source": [
    "divisor = int(input('Enter a number to be divided: '))\n",
    "dividend = int(input('Enter another number to divided by: '))\n",
    "print('The quotient is ',divisor/dividend)\n",
    "print('The remainder is ',divisor%dividend)"
   ]
  },
  {
   "cell_type": "code",
   "execution_count": 14,
   "id": "a2ba8fce",
   "metadata": {},
   "outputs": [
    {
     "name": "stdout",
     "output_type": "stream",
     "text": [
      "The size of an integer is  28\n",
      "The size of a floating point number is  24\n",
      "The size of a character is  54\n"
     ]
    }
   ],
   "source": [
    "import sys\n",
    "num = 56\n",
    "float_num = 3.2\n",
    "char = 'Kriti'\n",
    "print('The size of an integer is ',sys.getsizeof(num))\n",
    "print('The size of a floating point number is ',sys.getsizeof(float_num))\n",
    "print('The size of a character is ',sys.getsizeof(char))"
   ]
  },
  {
   "cell_type": "code",
   "execution_count": 16,
   "id": "9ac5f51b",
   "metadata": {},
   "outputs": [
    {
     "name": "stdout",
     "output_type": "stream",
     "text": [
      "Numbers before swapping are: a:10 and b:25\n",
      "Numbers after swapping are: a:25 and b:10\n"
     ]
    }
   ],
   "source": [
    "a = 10\n",
    "b = 25\n",
    "print(f'Numbers before swapping are: a:{a} and b:{b}')\n",
    "a,b = b,a\n",
    "print(f'Numbers after swapping are: a:{a} and b:{b}')"
   ]
  },
  {
   "cell_type": "code",
   "execution_count": 3,
   "id": "5a37a7cd",
   "metadata": {},
   "outputs": [
    {
     "name": "stdout",
     "output_type": "stream",
     "text": [
      "before swapping \n",
      "x: 10, y: 34\n",
      "after swapping \n",
      "x: 34, y: 10\n"
     ]
    }
   ],
   "source": [
    "x = 10\n",
    "y = 34\n",
    "print(f\"before swapping \\nx: {x}, y: {y}\")\n",
    "x = x+y\n",
    "y = x-y\n",
    "x = x-y\n",
    "print(f\"after swapping \\nx: {x}, y: {y}\")"
   ]
  },
  {
   "cell_type": "code",
   "execution_count": 4,
   "id": "263e4019",
   "metadata": {},
   "outputs": [
    {
     "data": {
      "text/plain": [
       "107"
      ]
     },
     "execution_count": 4,
     "metadata": {},
     "output_type": "execute_result"
    }
   ],
   "source": [
    "char = 'k'\n",
    "asci = ord(char)\n",
    "asci"
   ]
  },
  {
   "cell_type": "code",
   "execution_count": 6,
   "id": "d5098c73",
   "metadata": {},
   "outputs": [
    {
     "data": {
      "text/plain": [
       "'k'"
      ]
     },
     "execution_count": 6,
     "metadata": {},
     "output_type": "execute_result"
    }
   ],
   "source": [
    "chr(107)"
   ]
  },
  {
   "cell_type": "code",
   "execution_count": null,
   "id": "112278c5",
   "metadata": {},
   "outputs": [],
   "source": []
  },
  {
   "cell_type": "code",
   "execution_count": null,
   "id": "cdb9ae07",
   "metadata": {},
   "outputs": [],
   "source": []
  }
 ],
 "metadata": {
  "kernelspec": {
   "display_name": "Python 3",
   "language": "python",
   "name": "python3"
  },
  "language_info": {
   "codemirror_mode": {
    "name": "ipython",
    "version": 3
   },
   "file_extension": ".py",
   "mimetype": "text/x-python",
   "name": "python",
   "nbconvert_exporter": "python",
   "pygments_lexer": "ipython3",
   "version": "3.8.8"
  }
 },
 "nbformat": 4,
 "nbformat_minor": 5
}
